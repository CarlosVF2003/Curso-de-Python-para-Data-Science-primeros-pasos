{
  "nbformat": 4,
  "nbformat_minor": 0,
  "metadata": {
    "colab": {
      "provenance": [],
      "authorship_tag": "ABX9TyOxjnaV7YP2YJL8KW6sBG2v",
      "include_colab_link": true
    },
    "kernelspec": {
      "name": "python3",
      "display_name": "Python 3"
    },
    "language_info": {
      "name": "python"
    }
  },
  "cells": [
    {
      "cell_type": "markdown",
      "metadata": {
        "id": "view-in-github",
        "colab_type": "text"
      },
      "source": [
        "<a href=\"https://colab.research.google.com/github/CarlosVF2003/Curso-de-Python-para-Data-Science-primeros-pasos/blob/main/Ejercicios3.ipynb\" target=\"_parent\"><img src=\"https://colab.research.google.com/assets/colab-badge.svg\" alt=\"Open In Colab\"/></a>"
      ]
    },
    {
      "cell_type": "markdown",
      "source": [
        "# Ejercicios Propuestos 1"
      ],
      "metadata": {
        "id": "A0TmtDMM7COz"
      }
    },
    {
      "cell_type": "markdown",
      "source": [
        "**Calentamiento**\n",
        "\n",
        "1 - Escribe un código para instalar la versión 3.10.3 de la biblioteca matplotlib.\n",
        "\n",
        "2 - Escribe un código para importar la biblioteca numpy con el alias np.\n",
        "\n",
        "3 - Crea un programa que lea la siguiente lista de números y elija uno al azar.\n",
        "\n",
        "lista = [8, 12, 54, 23, 43, 1, 90, 87, 105, 77]\n",
        "\n",
        "\n",
        "4 - Crea un programa que genere aleatoriamente un número entero menor que 100.\n",
        "\n",
        "5 - Crea un programa que solicite a la persona usuaria ingresar dos números enteros y calcule la potencia del primer número elevado al segundo."
      ],
      "metadata": {
        "id": "DVGlf57p7GgV"
      }
    },
    {
      "cell_type": "code",
      "execution_count": null,
      "metadata": {
        "colab": {
          "base_uri": "https://localhost:8080/"
        },
        "id": "I6mH4bcB7B36",
        "outputId": "03b7796c-8b35-4bd6-9ee6-70eb86b7a487"
      },
      "outputs": [
        {
          "output_type": "stream",
          "name": "stdout",
          "text": [
            "Collecting matplotlib==3.10.3\n",
            "  Downloading matplotlib-3.10.3-cp311-cp311-manylinux_2_17_x86_64.manylinux2014_x86_64.whl.metadata (11 kB)\n",
            "Requirement already satisfied: contourpy>=1.0.1 in /usr/local/lib/python3.11/dist-packages (from matplotlib==3.10.3) (1.3.2)\n",
            "Requirement already satisfied: cycler>=0.10 in /usr/local/lib/python3.11/dist-packages (from matplotlib==3.10.3) (0.12.1)\n",
            "Requirement already satisfied: fonttools>=4.22.0 in /usr/local/lib/python3.11/dist-packages (from matplotlib==3.10.3) (4.57.0)\n",
            "Requirement already satisfied: kiwisolver>=1.3.1 in /usr/local/lib/python3.11/dist-packages (from matplotlib==3.10.3) (1.4.8)\n",
            "Requirement already satisfied: numpy>=1.23 in /usr/local/lib/python3.11/dist-packages (from matplotlib==3.10.3) (2.0.2)\n",
            "Requirement already satisfied: packaging>=20.0 in /usr/local/lib/python3.11/dist-packages (from matplotlib==3.10.3) (24.2)\n",
            "Requirement already satisfied: pillow>=8 in /usr/local/lib/python3.11/dist-packages (from matplotlib==3.10.3) (11.2.1)\n",
            "Requirement already satisfied: pyparsing>=2.3.1 in /usr/local/lib/python3.11/dist-packages (from matplotlib==3.10.3) (3.2.3)\n",
            "Requirement already satisfied: python-dateutil>=2.7 in /usr/local/lib/python3.11/dist-packages (from matplotlib==3.10.3) (2.9.0.post0)\n",
            "Requirement already satisfied: six>=1.5 in /usr/local/lib/python3.11/dist-packages (from python-dateutil>=2.7->matplotlib==3.10.3) (1.17.0)\n",
            "Downloading matplotlib-3.10.3-cp311-cp311-manylinux_2_17_x86_64.manylinux2014_x86_64.whl (8.6 MB)\n",
            "\u001b[2K   \u001b[90m━━━━━━━━━━━━━━━━━━━━━━━━━━━━━━━━━━━━━━━━\u001b[0m \u001b[32m8.6/8.6 MB\u001b[0m \u001b[31m93.0 MB/s\u001b[0m eta \u001b[36m0:00:00\u001b[0m\n",
            "\u001b[?25hInstalling collected packages: matplotlib\n",
            "  Attempting uninstall: matplotlib\n",
            "    Found existing installation: matplotlib 3.7.1\n",
            "    Uninstalling matplotlib-3.7.1:\n",
            "      Successfully uninstalled matplotlib-3.7.1\n",
            "Successfully installed matplotlib-3.10.3\n"
          ]
        }
      ],
      "source": [
        "'''\n",
        "1 - Escribe un código para instalar la versión 3.7.1 de la biblioteca matplotlib.\n",
        "'''\n",
        "!pip install matplotlib==3.10.3"
      ]
    },
    {
      "cell_type": "code",
      "source": [
        "'''\n",
        "2 - Escribe un código para importar la biblioteca numpy con el alias np.\n",
        "'''\n",
        "import numpy as np"
      ],
      "metadata": {
        "id": "8uiKQ05t7hRD"
      },
      "execution_count": null,
      "outputs": []
    },
    {
      "cell_type": "code",
      "source": [
        "'''\n",
        "3 - Crea un programa que lea la siguiente lista de números y elija uno al azar.\n",
        "\n",
        "lista = [8, 12, 54, 23, 43, 1, 90, 87, 105, 77]\n",
        "\n",
        "'''\n",
        "\n",
        "from random import choice\n",
        "\n",
        "lista = [8, 12, 54, 23, 43, 1, 90, 87, 105, 77]\n",
        "\n",
        "numero = choice(lista)\n",
        "\n",
        "numero"
      ],
      "metadata": {
        "colab": {
          "base_uri": "https://localhost:8080/"
        },
        "id": "T7CfX9kG7wi-",
        "outputId": "d2c08ba4-7690-440e-d62a-3546e11160a5"
      },
      "execution_count": null,
      "outputs": [
        {
          "output_type": "execute_result",
          "data": {
            "text/plain": [
              "23"
            ]
          },
          "metadata": {},
          "execution_count": 10
        }
      ]
    },
    {
      "cell_type": "code",
      "source": [
        "'''\n",
        "4 - Crea un programa que genere aleatoriamente un número entero menor que 100.\n",
        "'''\n",
        "\n",
        "import random\n",
        "\n",
        "numero_aleatorio = int(random.random()*100)-1\n",
        "numero_aleatorio"
      ],
      "metadata": {
        "colab": {
          "base_uri": "https://localhost:8080/"
        },
        "id": "Me5rXaFo8BPD",
        "outputId": "5c1c1a34-b5b6-4813-9805-c7f32e00b98d"
      },
      "execution_count": null,
      "outputs": [
        {
          "output_type": "execute_result",
          "data": {
            "text/plain": [
              "41"
            ]
          },
          "metadata": {},
          "execution_count": 31
        }
      ]
    },
    {
      "cell_type": "code",
      "source": [
        "'''\n",
        "5 - Crea un programa que solicite a la persona usuaria ingresar dos números enteros y\n",
        "calcule la potencia del primer número elevado al segundo.\n",
        "'''\n",
        "\n",
        "from math import pow\n",
        "\n",
        "a = int(input('Ingresar el primer numero: '))\n",
        "b = int(input('Ingresar el segundo numero: '))\n",
        "\n",
        "potencia = int(pow(a,b))\n",
        "potencia"
      ],
      "metadata": {
        "colab": {
          "base_uri": "https://localhost:8080/"
        },
        "id": "NHLtroSn9EsH",
        "outputId": "d9ca7428-692d-46ca-cfc2-8abc2d0d796f"
      },
      "execution_count": null,
      "outputs": [
        {
          "name": "stdout",
          "output_type": "stream",
          "text": [
            "Ingresar el primer numero: 3\n",
            "Ingresar el segundo numero: 2\n"
          ]
        },
        {
          "output_type": "execute_result",
          "data": {
            "text/plain": [
              "9"
            ]
          },
          "metadata": {},
          "execution_count": 2
        }
      ]
    },
    {
      "cell_type": "markdown",
      "source": [
        "**Aplicando a proyectos**\n",
        "\n",
        "6 - Se debe escribir un programa para sortear a un seguidor de una red social para ganar un premio. La lista de participantes está numerada y debemos elegir aleatoriamente un número según la cantidad de participantes. Pide a la persona usuaria que proporcione el número de participantes del sorteo y devuelve el número sorteado.\n",
        "\n",
        "7 - Has recibido una solicitud para generar números de token para acceder a la aplicación de una empresa. El token debe ser par y variar de 1000 a 9998. Escribe un código que solicite el nombre de la persona usuaria y muestre un mensaje junto a este token generado aleatoriamente.\n",
        "\n",
        "\n",
        "print(f\"Hola, {nombre_usuario}, tu token de acceso es {token_generado} ¡Bienvenido/a!\")\n",
        "\n",
        "\n",
        "8 - Para diversificar y atraer nuevos clientes, una lanchonete creó un ítem misterioso en su menú llamado \"ensalada de frutas sorpresa\". En este ítem, se eligen aleatoriamente 3 frutas de una lista de 12 para componer la ensalada de frutas del cliente. Crea el código que realice esta selección aleatoria según la lista dada.\n",
        "\n",
        "\n",
        "frutas = [\"manzana\", \"banana\", \"uva\", \"pera\", \"mango\", \"coco\", \"sandia\", \"fresa\", \"naranja\", \"maracuya\", \"kiwi\", \"cereza\"]\n",
        "\n",
        "\n",
        "9 - Has recibido un desafío para calcular la raíz cuadrada de una lista de números, identificando cuáles resultan en un número entero. La lista es la siguiente:\n",
        "\n",
        "\n",
        "numeros = [2, 8, 15, 23, 91, 112, 256]\n",
        "\n",
        "\n",
        "10 - Haz un programa para una tienda que vende césped para jardines. Esta tienda trabaja con jardines circulares y el precio del metro cuadrado de césped es de R$ 25,00. Pide a la persona usuaria el radio del área circular y devuelve el valor en reales de cuánto tendrá que pagar.\n",
        "\n"
      ],
      "metadata": {
        "id": "P5ibwzm2FOED"
      }
    },
    {
      "cell_type": "code",
      "source": [
        "'''\n",
        "6 - Se debe escribir un programa para sortear a un seguidor de una red social para ganar un premio.\n",
        "La lista de participantes está numerada y debemos elegir aleatoriamente un número según la cantidad\n",
        "de participantes. Pide a la persona usuaria que proporcione el número de participantes del sorteo y\n",
        "devuelve el número sorteado.\n",
        "'''\n",
        "\n",
        "import random\n",
        "\n",
        "a = int(input('Indica la cantidad de participantes: '))\n",
        "\n",
        "participante = int(random.uniform(1, a))\n",
        "participante"
      ],
      "metadata": {
        "id": "MvJ-u2F0Ff4T",
        "colab": {
          "base_uri": "https://localhost:8080/"
        },
        "outputId": "4396b22b-6b9d-4419-a5f4-9537408a9f9b"
      },
      "execution_count": null,
      "outputs": [
        {
          "name": "stdout",
          "output_type": "stream",
          "text": [
            "Indica la cantidad de participantes: 4\n"
          ]
        },
        {
          "output_type": "execute_result",
          "data": {
            "text/plain": [
              "2"
            ]
          },
          "metadata": {},
          "execution_count": 7
        }
      ]
    },
    {
      "cell_type": "code",
      "source": [
        "'''\n",
        "7 - Has recibido una solicitud para generar números de token para acceder a la aplicación de\n",
        "una empresa. El token debe ser par y variar de 1000 a 9998. Escribe un código que solicite el\n",
        "nombre de la persona usuaria y muestre un mensaje junto a este token generado aleatoriamente.\n",
        "\n",
        "print(f\"Hola, {nombre_usuario}, tu token de acceso es {token_generado} ¡Bienvenido/a!\")\n",
        "\n",
        "'''\n",
        "\n",
        "nombre_usuario = input('Ingresa tu usuario: ')\n",
        "\n",
        "token_generado = int(random.uniform(1000, 9998))\n",
        "\n",
        "while (token_generado % 2) != 0:\n",
        "  token_generado = int(random.uniform(1000, 9998))\n",
        "\n",
        "\n",
        "print(f\"Hola, {nombre_usuario}, tu token de acceso es {token_generado} ¡Bienvenido/a!\")"
      ],
      "metadata": {
        "colab": {
          "base_uri": "https://localhost:8080/"
        },
        "id": "FQjGzTXjsE3w",
        "outputId": "5c8eb710-031a-4303-e1e9-038fc90efa0c"
      },
      "execution_count": null,
      "outputs": [
        {
          "output_type": "stream",
          "name": "stdout",
          "text": [
            "Ingresa tu usuario: CVERA\n",
            "Hola, CVERA, tu token de acceso es 6982 ¡Bienvenido/a!\n"
          ]
        }
      ]
    },
    {
      "cell_type": "code",
      "source": [
        "'''\n",
        "8 - Para diversificar y atraer nuevos clientes, una lanchonete creó un ítem misterioso en su menú\n",
        "llamado \"ensalada de frutas sorpresa\". En este ítem, se eligen aleatoriamente 3 frutas de una lista\n",
        "de 12 para componer la ensalada de frutas del cliente. Crea el código que realice esta selección\n",
        "aleatoria según la lista dada.\n",
        "\n",
        "frutas = [\"manzana\", \"banana\", \"uva\", \"pera\", \"mango\", \"coco\", \"sandia\", \"fresa\", \"naranja\", \"maracuya\", \"kiwi\", \"cereza\"]\n",
        "\n",
        "'''\n",
        "\n",
        "from random import choice\n",
        "\n",
        "frutas = [\"manzana\", \"banana\", \"uva\", \"pera\", \"mango\", \"coco\", \"sandia\", \"fresa\", \"naranja\", \"maracuya\", \"kiwi\", \"cereza\"]\n",
        "ensalada_de_frutas_sorpresa = []\n",
        "\n",
        "for i in range(3):\n",
        "  ensalada_de_frutas_sorpresa.append(choice(frutas))\n",
        "\n",
        "\n",
        "print(f'La ensalda de frutas contendra {ensalada_de_frutas_sorpresa[0]}, {ensalada_de_frutas_sorpresa[1]} y {ensalada_de_frutas_sorpresa[2]}.')"
      ],
      "metadata": {
        "colab": {
          "base_uri": "https://localhost:8080/"
        },
        "id": "pa3U7qZBuG33",
        "outputId": "33315974-bf70-44ee-82bd-1ee4ab26ee6d"
      },
      "execution_count": null,
      "outputs": [
        {
          "output_type": "stream",
          "name": "stdout",
          "text": [
            "La ensalda de frutas contendra fresa, maracuya y kiwi.\n"
          ]
        }
      ]
    },
    {
      "cell_type": "code",
      "source": [
        "'''\n",
        "9 - Has recibido un desafío para calcular la raíz cuadrada de una lista de números, identificando\n",
        "cuáles resultan en un número entero. La lista es la siguiente:\n",
        "\n",
        "numeros = [2, 8, 15, 23, 91, 112, 256]\n",
        "\n",
        "'''\n",
        "\n",
        "from math import sqrt\n",
        "\n",
        "numeros = [2, 8, 15, 23, 91, 112, 256]\n",
        "\n",
        "enteros = []\n",
        "\n",
        "for i in range(7):\n",
        "\n",
        "  if(sqrt(numeros[i])/int(sqrt(numeros[i])) == 1):\n",
        "    enteros.append(numeros[i])\n",
        "\n",
        "print(f'Estos numeros son los que sur raiz es entera: {enteros}')"
      ],
      "metadata": {
        "id": "kf6McTw_u85v",
        "colab": {
          "base_uri": "https://localhost:8080/"
        },
        "outputId": "85df90e2-c2c2-472e-e491-d582662a4cb1"
      },
      "execution_count": null,
      "outputs": [
        {
          "output_type": "stream",
          "name": "stdout",
          "text": [
            "Estos numeros son los que sur raiz es entera: [256]\n"
          ]
        }
      ]
    },
    {
      "cell_type": "code",
      "source": [
        "'''\n",
        "10 - Haz un programa para una tienda que vende césped para jardines. Esta tienda trabaja con jardines circulares y el precio del metro cuadrado de césped es de R$ 25,00.\n",
        "Pide a la persona usuaria el radio del área circular y devuelve el valor en reales de cuánto tendrá que pagar.\n",
        "'''\n",
        "\n",
        "from math import pow\n",
        "\n",
        "from math import pi\n",
        "\n",
        "radio = float(input('Ingrese el radio del área circular a vender: '))\n",
        "\n",
        "area = pi*pow(radio,2)\n",
        "\n",
        "precio = area*25\n",
        "\n",
        "print(f'Se va tener que pagar R$ {precio:.2f}')"
      ],
      "metadata": {
        "id": "jqj-KydbNZ4b",
        "colab": {
          "base_uri": "https://localhost:8080/"
        },
        "outputId": "68838560-5b2e-4541-b46d-a0474d1157a5"
      },
      "execution_count": null,
      "outputs": [
        {
          "output_type": "stream",
          "name": "stdout",
          "text": [
            "Ingrese el radio del área circular a vender: 5\n",
            "Se va tener que pagar R$ 1963.50\n"
          ]
        }
      ]
    },
    {
      "cell_type": "markdown",
      "source": [
        "# Ejercicios Propuestos 2"
      ],
      "metadata": {
        "id": "_bnPWhvmPo64"
      }
    },
    {
      "cell_type": "markdown",
      "source": [
        "**Calentamiento**\n",
        "\n",
        "1 - Escribe un código que lee la lista siguiente y realiza:\n",
        "\n",
        "```\n",
        "lista = [16, 14, 63, 65, 17, 99, 70, 11, 20, 48, 79, 32, 17, 89, 12, 25, 66]\n",
        "# 1. Leer el tamaño de la lista\n",
        "# 2. Leer el valor máximo y mínimo\n",
        "# 3. Calcular la suma de los valores de la lista\n",
        "# 4. Mostrar un mensaje al final: La lista tiene `tamano` números, donde el mayor\n",
        "# es `mayor` y el menor es `menor`. La suma de los valores es `suma`.\n",
        "```\n",
        "\n",
        "2 - Escribe una función que genere la tabla de multiplicar de un número entero del 1 al 10, según la elección del usuario. Como ejemplo, para el número 7, la tabla de multiplicar se debe mostrar en el siguiente formato:\n",
        "\n",
        "```\n",
        "# Tabla del  7:\n",
        "# 7 x 0 = 0\n",
        "# 7 x 1 = 7\n",
        "# [...]\n",
        "# 7 x 10 = 70\n",
        "```\n",
        "\n",
        "3 - Crea una función que lea la siguiente lista y devuelva una nueva lista con los múltiplos de 3:\n",
        "\n",
        "```\n",
        "[97, 80, 94, 88, 80, 1, 16, 53, 62, 32, 24, 99]\n",
        "```\n",
        "\n",
        "4 - Crea una lista de los cuadrados de los números de la siguiente lista [1, 2, 3, 4, 5, 6, 7, 8, 9, 10]. Recuerda utilizar las funciones lambda y map() para calcular el cuadrado de cada elemento de la lista."
      ],
      "metadata": {
        "id": "kgxEkWfQZvtP"
      }
    },
    {
      "cell_type": "code",
      "source": [
        "'''\n",
        "1 - Escribe un código que lee la lista siguiente y realiza:\n",
        "lista = [16, 14, 63, 65, 17, 99, 70, 11, 20, 48, 79, 32, 17, 89, 12, 25, 66]\n",
        "# 1. Leer el tamaño de la lista\n",
        "# 2. Leer el valor máximo y mínimo\n",
        "# 3. Calcular la suma de los valores de la lista\n",
        "# 4. Mostrar un mensaje al final: La lista tiene `tamano` números, donde el mayor\n",
        "# es `mayor` y el menor es `menor`. La suma de los valores es `suma`.\n",
        "'''\n",
        "\n",
        "lista = [16, 14, 63, 65, 17, 99, 70, 11, 20, 48, 79, 32, 17, 89, 12, 25, 66]\n",
        "\n",
        "tamaño = len(lista)\n",
        "mayor = max(lista)\n",
        "menor = min(lista)\n",
        "suma = sum(lista)\n",
        "\n",
        "print(f'La lista tiene {tamaño} números, donde el mayor es {mayor} y el menor es {menor}. La suma de los valores es {suma}.')"
      ],
      "metadata": {
        "colab": {
          "base_uri": "https://localhost:8080/"
        },
        "id": "O0RUJbE3Z5-w",
        "outputId": "d78f7bd9-f83d-43f4-a6de-064586ef20db"
      },
      "execution_count": null,
      "outputs": [
        {
          "output_type": "stream",
          "name": "stdout",
          "text": [
            "La lista tiene 17 números, donde el mayor es 99 y el menor es 11. La suma de los valores es 743.\n"
          ]
        }
      ]
    },
    {
      "cell_type": "code",
      "source": [
        "'''\n",
        "2 - Escribe una función que genere la tabla de multiplicar de un número entero del 1 al 10, según la elección del usuario. Como ejemplo, para el número 7, la tabla de multiplicar se debe mostrar en el siguiente formato:\n",
        "\n",
        "# Tabla del  7:\n",
        "# 7 x 0 = 0\n",
        "# 7 x 1 = 7\n",
        "# [...]\n",
        "# 7 x 10 = 70\n",
        "'''\n",
        "\n",
        "def tabla_multiplicar(numero):\n",
        "  print(f'Tabla del {numero}:')\n",
        "  for i in range(11):\n",
        "    print(f'{numero} x {i} = {numero*i}')\n",
        "\n",
        "tabla_multiplicar(7)"
      ],
      "metadata": {
        "colab": {
          "base_uri": "https://localhost:8080/"
        },
        "id": "IuqxBnz1gCdv",
        "outputId": "a319da6c-170b-467d-84b3-4b0af8291796"
      },
      "execution_count": null,
      "outputs": [
        {
          "output_type": "stream",
          "name": "stdout",
          "text": [
            "Tabla del 7:\n",
            "7 x 0 = 0\n",
            "7 x 1 = 7\n",
            "7 x 2 = 14\n",
            "7 x 3 = 21\n",
            "7 x 4 = 28\n",
            "7 x 5 = 35\n",
            "7 x 6 = 42\n",
            "7 x 7 = 49\n",
            "7 x 8 = 56\n",
            "7 x 9 = 63\n",
            "7 x 10 = 70\n"
          ]
        }
      ]
    },
    {
      "cell_type": "code",
      "source": [
        "'''\n",
        "3 - Crea una función que lea la siguiente lista y devuelva una nueva lista con los múltiplos de 3:\n",
        "\n",
        "[97, 80, 94, 88, 80, 1, 16, 53, 62, 32, 24, 99]\n",
        "'''\n",
        "\n",
        "lista = [97, 80, 94, 88, 80, 1, 16, 53, 62, 32, 24, 99]\n",
        "\n",
        "multiplos_3 = []\n",
        "\n",
        "def multiplo_3(Lista):\n",
        "  for i in range(len(Lista)):\n",
        "    if(Lista[i]%3 == 0):\n",
        "      multiplos_3.append(Lista[i])\n",
        "\n",
        "multiplo_3(lista)\n",
        "print(f'Los multiplos de 3 son: {multiplos_3}')"
      ],
      "metadata": {
        "colab": {
          "base_uri": "https://localhost:8080/"
        },
        "id": "UfO-a0vrkJ34",
        "outputId": "089a13d7-1de3-4618-8186-23cf3d201e9f"
      },
      "execution_count": null,
      "outputs": [
        {
          "output_type": "stream",
          "name": "stdout",
          "text": [
            "Los multiplos de 3 son: [24, 99]\n"
          ]
        }
      ]
    },
    {
      "cell_type": "code",
      "source": [
        "'''\n",
        "4 - Crea una lista de los cuadrados de los números de la siguiente\n",
        "lista [1, 2, 3, 4, 5, 6, 7, 8, 9, 10]. Recuerda utilizar las funciones\n",
        "lambda y map() para calcular el cuadrado de cada elemento de la lista.\n",
        "'''\n",
        "\n",
        "lista = [1, 2, 3, 4, 5, 6, 7, 8, 9, 10]\n",
        "\n",
        "cuadrados = list(map(lambda x : x ** 2, lista))\n",
        "\n",
        "cuadrados"
      ],
      "metadata": {
        "colab": {
          "base_uri": "https://localhost:8080/"
        },
        "id": "IfGKewdJIovn",
        "outputId": "a85d0e6e-7139-4aa1-80ab-480dd052498a"
      },
      "execution_count": null,
      "outputs": [
        {
          "output_type": "execute_result",
          "data": {
            "text/plain": [
              "[1, 4, 9, 16, 25, 36, 49, 64, 81, 100]"
            ]
          },
          "metadata": {},
          "execution_count": 21
        }
      ]
    },
    {
      "cell_type": "markdown",
      "source": [
        "**Aplicando a proyectos**\n",
        "\n",
        "5 - Has sido contratado como científico(a) de datos de una asociación de skate. Para analizar las notas recibidas por los skaters en algunas competiciones a lo largo del año, necesitas crear un código que calcule la puntuación de los atletas. Para ello, tu código debe recibir 5 notas ingresadas por los jueces.\n",
        "\n",
        "6 - Para cumplir con una demanda de una institución educativa para el análisis del rendimiento de sus estudiantes, necesitas crear una función que reciba una lista de 4 notas y devuelva:\n",
        "\n",
        "```\n",
        "# mayor nota\n",
        "# menor nota\n",
        "# media\n",
        "# situación (Aprobado(a) o Reprobado(a))\n",
        "# Uso de la función\n",
        "# Mostrar: El estudiante obtuvo una media de `media`, con la mayor nota de `mayor` puntos y la menor nota de `menor` puntos y fue `situacion`.)\n",
        "```\n",
        "\n",
        "7 - Has recibido una demanda para tratar 2 listas con los nombres y apellidos de cada estudiante concatenándolos para presentar sus nombres completos en la forma Nombre Apellido. Las listas son:\n",
        "\n",
        "```\n",
        "nombres = [\"juan\", \"MaRia\", \"JOSÉ\"]\n",
        "apellidos = [\"SILVA\", \"sosa\", \"Tavares\"]\n",
        "\n",
        "# Normalizar nombres y apellidos y crear una nueva lista con los nombres completos\n",
        "# Puedes apoyarte en la función map()\n",
        "```\n",
        "\n",
        "8 - Como científico de datos en un equipo de fútbol, necesitas implementar nuevas formas de recopilación de datos sobre el rendimiento de los jugadores y del equipo en su conjunto. Tu primera acción es crear una forma de calcular la puntuación del equipo en el campeonato nacional a partir de los datos de goles marcados y recibidos en cada juego.\n",
        "\n",
        "Escribe una función llamada calcula_puntos() que recibe como parámetros dos listas de números enteros, representando los goles marcados y recibidos por el equipo en cada partido del campeonato. La función debe devolver la puntuación del equipo y el rendimiento en porcentaje, teniendo en cuenta que la victoria vale 3 puntos, el empate 1 punto y la derrota 0 puntos.\n",
        "\n",
        "Nota: si la cantidad de goles marcados en un partido es mayor que los recibidos, el equipo ganó. En caso de ser igual, el equipo empató, y si es menor, el equipo perdió. Para calcular el rendimiento, debemos hacer la razón entre la puntuación del equipo y la puntuación máxima que podría recibir.\n",
        "\n",
        "Para la prueba, utiliza las siguientes listas de goles marcados y recibidos:\n",
        "\n",
        "```\n",
        "goles_marcados = [2, 1, 3, 1, 0]\n",
        "goles_recibidos = [1, 2, 2, 1, 3]\n",
        "# Texto probablemente mostrado:\n",
        "# La puntuación del equipo fue `puntos` y su rendimiento fue `desempeno`%\"\n",
        "```\n",
        "\n",
        "9 - Te han desafiado a crear un código que calcule los gastos de un viaje a una de las cuatro ciudades desde Recife, siendo ellas: Salvador, Fortaleza, Natal y Aracaju.\n",
        "\n",
        "El costo diario del hotel es de 150 reales en todas ellas y el consumo de gasolina en el viaje en coche es de 14 km/l, siendo que el precio de la gasolina es de 5 reales por litro. Los gastos con paseos y alimentación a realizar en cada una de ellas por día serían [200, 400, 250, 300], respectivamente.\n",
        "\n",
        "Sabiendo que las distancias entre Recife y cada una de las ciudades son aproximadamente [850, 800, 300, 550] km, crea tres funciones: la primera función calcula los gastos de hotel (gasto_hotel), la segunda calcula los gastos de gasolina (gasto_gasolina) y la tercera los gastos de paseo y alimentación (gasto_paseo).\n",
        "\n",
        "Para probar, simula un viaje de 3 días a Salvador desde Recife. Considera el viaje de ida y vuelta en coche.\n",
        "\n",
        "```\n",
        "# Texto probablemente mostrado:\n",
        "# Con base en los gastos definidos, un viaje de [dias] días a [ciudad] desde\n",
        "# Recife costaría [gastos] reales.\n",
        "```\n",
        "\n",
        "10 - Has comenzado una pasantía en una empresa que trabaja con procesamiento de lenguaje natural (NLP). Tu líder te solicitó que crees un fragmento de código que reciba una frase escrita por el usuario y filtre solo las palabras con un tamaño mayor o igual a 5, mostrándolas en una lista. Esta demanda se centra en el análisis del patrón de comportamiento de las personas al escribir palabras de esta cantidad de caracteres o más.\n",
        "\n",
        "Consejo: utiliza las funciones lambda y filter() para filtrar estas palabras. Recordando que la función integrada filter() recibe una función (en nuestro caso, una función lambda) y filtra un iterable según la función. Para tratar la frase, utiliza replace() para cambiar ',' '.', '!' y '?' por espacio.\n",
        "\n",
        "Utiliza la frase \"Aprender Python aquí en Alura es muy bueno\" para probar el código."
      ],
      "metadata": {
        "id": "rBLsqMLlfFFd"
      }
    },
    {
      "cell_type": "code",
      "source": [
        "'''\n",
        "5 - Has sido contratado como científico(a) de datos de una asociación de skate. Para analizar\n",
        "las notas recibidas por los skaters en algunas competiciones a lo largo del año, necesitas crear\n",
        "un código que calcule la puntuación de los atletas. Para ello, tu código debe recibir 5 notas\n",
        "ingresadas por los jueces.\n",
        "'''\n",
        "\n",
        "notas = []\n",
        "\n",
        "def puntuacion():\n",
        "  for i in range(5):\n",
        "    notas.append(float(int(input(f'Ingrese la nota {i+1}: '))))\n",
        "  return sum(notas)/len(notas);\n",
        "\n",
        "puntaje = puntuacion()\n",
        "\n",
        "print(f'El puntaje del atleta es: {puntaje}')"
      ],
      "metadata": {
        "id": "6wn8s-ylfw4S",
        "colab": {
          "base_uri": "https://localhost:8080/"
        },
        "outputId": "69fc72d7-20d8-46b5-c1f9-7f58af89fdda"
      },
      "execution_count": null,
      "outputs": [
        {
          "output_type": "stream",
          "name": "stdout",
          "text": [
            "Ingrese la nota 1: 5\n",
            "Ingrese la nota 2: 6\n",
            "Ingrese la nota 3: 1\n",
            "Ingrese la nota 4: 2\n",
            "Ingrese la nota 5: 3\n",
            "El puntaje es: 3.4\n"
          ]
        }
      ]
    },
    {
      "cell_type": "code",
      "source": [
        "'''\n",
        "6 - Para cumplir con una demanda de una institución educativa para el análisis del rendimiento de\n",
        "sus estudiantes, necesitas crear una función que reciba una lista de 4 notas y devuelva:\n",
        "\n",
        "# mayor nota\n",
        "# menor nota\n",
        "# media\n",
        "# situación (Aprobado(a) o Reprobado(a))\n",
        "# Uso de la función\n",
        "# Mostrar: El estudiante obtuvo una media de `media`, con la mayor nota de `mayor` puntos y la\n",
        "menor nota de `menor` puntos y fue `situacion`.)\n",
        "'''\n",
        "\n",
        "lista = []\n",
        "\n",
        "def notas(Lista):\n",
        "  for i in range(4):\n",
        "    Lista.append(float(int(input(f'Ingrese la nota {i+1}: '))))\n",
        "  mayor = max(Lista)\n",
        "  menor = min(Lista)\n",
        "  media = sum(Lista)/len(Lista)\n",
        "  if(media >= 6):\n",
        "    situacion = 'Aprobado(a) '\n",
        "  else:\n",
        "    situacion = 'Reprobado(a)'\n",
        "  print(f'El estudiante obtuvo una media de {media}, con la mayor nota de {mayor} puntos y la menor nota de {menor} puntos y fue {situacion}.')\n",
        "\n",
        "notas(lista)"
      ],
      "metadata": {
        "colab": {
          "base_uri": "https://localhost:8080/"
        },
        "id": "7BDDtKzuoHkm",
        "outputId": "24ad9f32-82f9-44b4-de8f-c7a8bdee07bd"
      },
      "execution_count": null,
      "outputs": [
        {
          "output_type": "stream",
          "name": "stdout",
          "text": [
            "Ingrese la nota 1: 5\n",
            "Ingrese la nota 2: 4\n",
            "Ingrese la nota 3: 8\n",
            "Ingrese la nota 4: 2\n",
            "El estudiante obtuvo una media de 4.75, con la mayor nota de 8.0 puntos y la menor nota de 2.0 puntos y fue Reprobado(a).\n"
          ]
        }
      ]
    },
    {
      "cell_type": "code",
      "source": [
        "'''\n",
        "7 - Has recibido una demanda para tratar 2 listas con los nombres y apellidos de cada estudiante\n",
        "concatenándolos para presentar sus nombres completos en la forma Nombre Apellido.\n",
        "Las listas son:\n",
        "\n",
        "nombres = [\"juan\", \"MaRia\", \"JOSÉ\"]\n",
        "apellidos = [\"SILVA\", \"sosa\", \"Tavares\"]\n",
        "\n",
        "# Normalizar nombres y apellidos y crear una nueva lista con los nombres completos\n",
        "# Puedes apoyarte en la función map()\n",
        "'''\n",
        "\n",
        "nombres = [\"juan\", \"MaRia\", \"JOSÉ\"]\n",
        "apellidos = [\"SILVA\", \"sosa\", \"Tavares\"]\n",
        "\n",
        "normalizar = list(map(lambda nombre, apellido: nombre.capitalize() + \" \" + apellido.capitalize(), nombres, apellidos))\n",
        "print(normalizar)"
      ],
      "metadata": {
        "colab": {
          "base_uri": "https://localhost:8080/"
        },
        "id": "M3bsIYgns-yL",
        "outputId": "1fb579eb-e30f-461a-ed1a-f2716943f7c7"
      },
      "execution_count": null,
      "outputs": [
        {
          "output_type": "stream",
          "name": "stdout",
          "text": [
            "['Juan Silva', 'Maria Sosa', 'José Tavares']\n"
          ]
        }
      ]
    },
    {
      "cell_type": "code",
      "source": [
        "'''\n",
        "8 - Como científico de datos en un equipo de fútbol, necesitas implementar nuevas formas de\n",
        "recopilación de datos sobre el rendimiento de los jugadores y del equipo en su conjunto. Tu\n",
        "primera acción es crear una forma de calcular la puntuación del equipo en el campeonato nacional\n",
        "a partir de los datos de goles marcados y recibidos en cada juego.\n",
        "\n",
        "Escribe una función llamada calcula_puntos() que recibe como parámetros dos listas de números\n",
        "enteros, representando los goles marcados y recibidos por el equipo en cada partido del campeonato.\n",
        "La función debe devolver la puntuación del equipo y el rendimiento en porcentaje, teniendo en cuenta\n",
        "que la victoria vale 3 puntos, el empate 1 punto y la derrota 0 puntos.\n",
        "\n",
        "Nota: si la cantidad de goles marcados en un partido es mayor que los recibidos, el equipo ganó.\n",
        "En caso de ser igual, el equipo empató, y si es menor, el equipo perdió. Para calcular el\n",
        "rendimiento, debemos hacer la razón entre la puntuación del equipo y la puntuación máxima que\n",
        "podría recibir.\n",
        "\n",
        "Para la prueba, utiliza las siguientes listas de goles marcados y recibidos:\n",
        "\n",
        "goles_marcados = [2, 1, 3, 1, 0]\n",
        "goles_recibidos = [1, 2, 2, 1, 3]\n",
        "# Texto probablemente mostrado:\n",
        "# La puntuación del equipo fue `puntos` y su rendimiento fue `desempeno`%\"\n",
        "'''\n",
        "\n",
        "def calcula_puntos (lista_1,lista_2):\n",
        "  puntos = 0\n",
        "  pmax = len(lista_1)*3\n",
        "  for i in range(len(lista_1)):\n",
        "    if(lista_1[i] == lista_2[i]):\n",
        "      puntos += 1\n",
        "    elif(lista_1[i] > lista_2[i]):\n",
        "      puntos += 3\n",
        "  desempeno = (puntos/pmax)*100\n",
        "  print(f'La puntuación del equipo fue {puntos} y su rendimiento fue {desempeno:.2f}%\"')\n",
        "\n",
        "goles_marcados = [2, 1, 3, 1, 0]\n",
        "goles_recibidos = [1, 2, 2, 1, 3]\n",
        "\n",
        "calcula_puntos(goles_marcados,goles_recibidos)"
      ],
      "metadata": {
        "colab": {
          "base_uri": "https://localhost:8080/"
        },
        "id": "gGJ1t3pcxbG6",
        "outputId": "17a60d91-7f41-424f-9726-0784dc3a7643"
      },
      "execution_count": null,
      "outputs": [
        {
          "output_type": "stream",
          "name": "stdout",
          "text": [
            "La puntuación del equipo fue 7 y su rendimiento fue 46.67%\"\n"
          ]
        }
      ]
    },
    {
      "cell_type": "code",
      "source": [
        "'''\n",
        "9 - Te han desafiado a crear un código que calcule los gastos de un viaje a una de las cuatro\n",
        "ciudades desde Recife, siendo ellas: Salvador, Fortaleza, Natal y Aracaju.\n",
        "\n",
        "El costo diario del hotel es de 150 reales en todas ellas y el consumo de gasolina en el viaje\n",
        "en coche es de 14 km/l, siendo que el precio de la gasolina es de 5 reales por litro. Los gastos\n",
        "con paseos y alimentación a realizar en cada una de ellas por día serían [200, 400, 250, 300],\n",
        "respectivamente.\n",
        "\n",
        "Sabiendo que las distancias entre Recife y cada una de las ciudades son aproximadamente\n",
        "[850, 800, 300, 550] km, crea tres funciones: la primera función calcula los gastos de hotel\n",
        "(gasto_hotel), la segunda calcula los gastos de gasolina (gasto_gasolina) y\n",
        "la tercera los gastos de paseo y alimentación (gasto_paseo).\n",
        "\n",
        "Para probar, simula un viaje de 3 días a Salvador desde Recife. Considera el viaje de ida y\n",
        "vuelta en coche.\n",
        "\n",
        "# Texto probablemente mostrado:\n",
        "# Con base en los gastos definidos, un viaje de [dias] días a [ciudad] desde\n",
        "# Recife costaría [gastos] reales.\n",
        "'''\n",
        "\n",
        "costo_hotel = 150\n",
        "costo_gasolina = 5/14 #14km/l\n",
        "gastos = [200,400,250,300]\n",
        "distancias = [850, 800, 300, 550]\n",
        "ciudades = ['Salvador', 'Fortaleza', 'Natal', 'Aracaju']\n",
        "\n",
        "def gasto_hotel(dias):\n",
        "  gasto = costo_hotel*dias\n",
        "  return gasto\n",
        "def gasto_gasolina(ciudad):\n",
        "  gasto = 0\n",
        "  for i in range(len(ciudades)):\n",
        "    if (ciudades[i] == ciudad.capitalize()):\n",
        "      gasto = distancias[i]*2*costo_gasolina\n",
        "  return gasto\n",
        "def gasto_paseo(ciudad,dias):\n",
        "  gasto = 0\n",
        "  for i in range(len(ciudades)):\n",
        "    if (ciudades[i] == ciudad.capitalize()):\n",
        "      gasto = gastos[i]*dias\n",
        "  return gasto\n",
        "\n",
        "def gasto_total(dias,ciudad):\n",
        "  total_gasto = gasto_hotel(dias) + gasto_paseo(ciudad,dias) + gasto_gasolina(ciudad)\n",
        "  print(f'Con base en los gastos definidos, un viaje de {dias} días a {ciudad} desde')\n",
        "  print(f'Recife costaría {total_gasto:.2f} reales')\n",
        "\n",
        "gasto_total(3,'Salvador')"
      ],
      "metadata": {
        "colab": {
          "base_uri": "https://localhost:8080/"
        },
        "id": "6jnrSO86B0Ds",
        "outputId": "4b9468a5-e54a-47eb-d8da-a6194d9a7131"
      },
      "execution_count": null,
      "outputs": [
        {
          "output_type": "stream",
          "name": "stdout",
          "text": [
            "Con base en los gastos definidos, un viaje de 3 días a Salvador desde\n",
            "Recife costaría 1657.14 reales\n"
          ]
        }
      ]
    },
    {
      "cell_type": "code",
      "source": [
        "'''\n",
        "10 - Has comenzado una pasantía en una empresa que trabaja con procesamiento de lenguaje natural\n",
        "(NLP). Tu líder te solicitó que crees un fragmento de código que reciba una frase escrita por el\n",
        "usuario y filtre solo las palabras con un tamaño mayor o igual a 5, mostrándolas en una lista.\n",
        "Esta demanda se centra en el análisis del patrón de comportamiento de las personas al escribir\n",
        "palabras de esta cantidad de caracteres o más.\n",
        "\n",
        "Consejo: utiliza las funciones lambda y filter() para filtrar estas palabras. Recordando que la\n",
        "función integrada filter() recibe una función (en nuestro caso, una función lambda) y filtra un\n",
        "iterable según la función. Para tratar la frase, utiliza replace() para cambiar ',' '.', '!' y '?'\n",
        "por espacio.\n",
        "\n",
        "Utiliza la frase \"Aprender Python aquí en Alura es muy bueno\" para probar el código.\n",
        "'''\n",
        "frase = input('Introduce una frase: ')\n",
        "\n",
        "frase = frase.replace(',', ' ').replace('.', ' ').replace('!', ' ').replace('?', ' ')\n",
        "\n",
        "palabras = frase.split()\n",
        "\n",
        "palabras_filtradas = list(filter(lambda palabra: len(palabra) >= 5, palabras))\n",
        "\n",
        "palabras_filtradas"
      ],
      "metadata": {
        "colab": {
          "base_uri": "https://localhost:8080/"
        },
        "id": "KRWZ4L4FUK7H",
        "outputId": "63ac3f44-156f-4f7b-9cb0-0f33de26865f"
      },
      "execution_count": null,
      "outputs": [
        {
          "name": "stdout",
          "output_type": "stream",
          "text": [
            "Introduce una frase: Aprender Python aquí en Alura es muy bueno\n"
          ]
        },
        {
          "output_type": "execute_result",
          "data": {
            "text/plain": [
              "['Aprender', 'Python', 'Alura', 'bueno']"
            ]
          },
          "metadata": {},
          "execution_count": 51
        }
      ]
    },
    {
      "cell_type": "markdown",
      "source": [
        "# Ejercicios Propuestos 3"
      ],
      "metadata": {
        "id": "eDFIkzXWvKQK"
      }
    },
    {
      "cell_type": "markdown",
      "source": [
        "1 - Crea un código para imprimir la suma de los elementos de cada una de las listas contenidas en la siguiente lista:\n",
        "\n",
        "```\n",
        "lista_de_listas = [[4, 6, 5, 9], [1, 0, 7, 2], [3, 4, 1, 8]]\n",
        "```\n",
        "\n",
        "\n",
        "2 - Crea un código para generar una lista que almacene el tercer elemento de cada tupla contenida en la siguiente lista de tuplas:\n",
        "\n",
        "```\n",
        "lista_de_tuplas = [('Pedro', 1.74, 81), ('Júlia', 1.65, 67), ('Otávio', 1.81, 83)]\n",
        "```\n",
        "\n",
        "\n",
        "3 - A partir de la lista: ```lista = ['Pedro', 'Júlia', 'Otávio', 'Eduardo']```, crea un código para generar una lista de tuplas en la que cada tupla tenga el primer elemento como la posición del nombre en la lista original y el segundo elemento siendo el propio nombre.\n",
        "\n",
        "\n",
        "4 - Crea una lista usando la comprensión de listas (```list comprehension```) que almacene solo el valor numérico de cada tupla en caso de que el primer elemento sea 'Apartamento', a partir de la siguiente lista de tuplas:\n",
        "\n",
        "```\n",
        "alquiler = [('Apartamento', 1700), ('Apartamento', 1400), ('Casa', 2150), ('Apartamento', 1900), ('Casa', 1100)]\n",
        "```\n",
        "\n",
        "\n",
        "5 - Crea un diccionario usando la comprensión de diccionarios (```dict comprehension```) en el que las claves estén en la lista ```meses = ['Jan', 'Fev', 'Mar', 'Abr', 'Mai', 'Jun', 'Jul', 'Ago', 'Set', 'Out', 'Nov', 'Dez'] y los valores estén en gasto = [860, 490, 1010, 780, 900, 630, 590, 770, 620, 560, 840, 360].```\n",
        "\n",
        "\n",
        "6 - Una tienda tiene una base de datos con la información de venta de cada representante y de cada año y necesita filtrar solo los datos del año 2022 con ventas mayores a 6000. La tienda proporcionó una muestra con solo las columnas de los años y los valores de venta para que puedas ayudar a realizar la filtración de los datos a través de un código:\n",
        "\n",
        "```\n",
        "ventas = [('2023', 4093), ('2021', 4320), ('2021', 5959), ('2022', 8883), ('2023', 9859), ('2022', 5141), ('2022', 7688), ('2022', 9544), ('2023', 4794), ('2021', 7178), ('2022', 3030), ('2021', 7471), ('2022', 4226), ('2022', 8190), ('2021', 9680), ('2022', 5616)]\n",
        "```\n",
        "Crea una lista usando la comprensión de listas para filtrar los valores de 2022 que sean mayores a 6000.\n",
        "\n",
        "\n",
        "7 - Una clínica analiza datos de pacientes y almacena el valor numérico de la glucosa en una base de datos y le gustaría etiquetar los datos de la siguiente manera:\n",
        "\n",
        "Glucosa igual o inferior a 70: 'Hipoglicemia'\n",
        "Glucosa entre 70 y 99: 'Normal'\n",
        "Glucosa entre 100 y 125: 'Alterada'\n",
        "Glucosa superior a 125: 'Diabetes'\n",
        "La clínica proporcionó parte de los valores y tu tarea es crear una lista de tuplas usando la comprensión de listas que contenga la etiqueta y el valor de la glucemia en cada tupla.\n",
        "\n",
        "```\n",
        "glicemia = [129, 82, 60, 97, 101, 65, 62, 167, 87, 53, 58, 92, 66, 120, 109, 62, 86, 96, 103, 88, 155, 52, 89, 73]\n",
        "```\n",
        "\n",
        "\n",
        "8 - Un comercio electrónico tiene información de id de venta, cantidad vendida y precio del producto divididos en las siguientes listas:\n",
        "\n",
        "```\n",
        "id = [0, 1, 2, 3, 4, 5, 6, 7, 8, 9]\n",
        "cantidad = [15, 12, 1, 15, 2, 11, 2, 12, 2, 4]\n",
        "precio = [93.0, 102.0, 18.0, 41.0, 122.0, 14.0, 71.0, 48.0, 14.0, 144.0]\n",
        "```\n",
        "La plataforma necesita estructurar estos datos en una tabla que contenga el valor total de la venta, que se obtiene multiplicando la cantidad por el precio unitario. Además, la tabla debe contener un encabezado indicando las columnas: 'id', 'cantidad', 'precio' y 'total'.\n",
        "\n",
        "Crea una lista de tuplas en la que cada tupla tenga id, cantidad, precio y valor total, siendo la primera tupla el encabezado de la tabla.\n",
        "\n",
        "\n",
        "9 - Una empresa tiene sucursales distribuidas en los estados de la región Sudeste de Brasil. En una de las tablas de registro de las sucursales, hay una columna que contiene la información de a qué estado pertenece: ```estados =['CMX', 'OAX', 'PUE', 'PUE', 'CMX', 'PUE', 'OAX', 'OAX', 'OAX', 'CMX', 'CMX', 'PUE', 'OAX', 'CMX', 'VER', 'PUE', 'VER', 'CMX', 'PUE', 'CMX', 'OAX', 'CMX', 'PUE'].```\n",
        "\n",
        "La empresa siempre está abriendo nuevas sucursales, por lo que la tabla está constantemente recibiendo nuevos registros y al gerente le gustaría tener la información actualizada de la cantidad de sucursales en cada estado.\n",
        "\n",
        "A partir de la columna con la información de los estados, crea un diccionario utilizando la comprensión de diccionarios (```dict comprehension```) con la clave siendo el nombre de un estado y el valor siendo la cantidad de veces que aparece el estado en la lista.\n",
        "\n",
        "Consejo: Puedes hacer un paso intermedio para generar una lista de listas en la que cada una de las listas tenga el nombre de solo un estado con valores repetidos.\n",
        "\n",
        "\n",
        "10 - En esa misma tabla de registro de sucursales, hay una columna con la información de la cantidad de personas empleadas y el gerente quisiera tener un agrupamiento de la suma de esas personas para cada estado. Las informaciones contenidas en la tabla son:\n",
        "\n",
        "```\n",
        " empleados = [('CMX', 16), ('OAX', 8), ('PUE', 9), ('PUE', 6), ('CMX', 10), ('PUE', 4), ('OAX',9),  ('OAX', 7), ('OAX', 12), ('CMX', 7), ('CMX', 11), ('PUE',8), ('OAX',8), ('CMX',9), ('VER', 13), ('PUE', 5),  ('VER', 9), ('CMX', 12), ('PUE', 10), ('CMX', 7), ('OAX', 14), ('CMX', 10), ('PUE', 12)]\n",
        "```\n",
        "A partir de la lista de tuplas, crea un diccionario en el que las claves son los nombres de los estados únicos y los valores son las listas con el número de empleados referentes al estado. También crea un diccionario en el que las claves son los nombres de los estados y los valores son la suma de empleados por estado.\n"
      ],
      "metadata": {
        "id": "yOmHPVIKvLac"
      }
    },
    {
      "cell_type": "code",
      "source": [
        "'''\n",
        "1 - Crea un código para imprimir la suma de los elementos de cada una de las listas contenidas\n",
        "en la siguiente lista:\n",
        "\n",
        "lista_de_listas = [[4, 6, 5, 9], [1, 0, 7, 2], [3, 4, 1, 8]]\n",
        "'''\n",
        "\n",
        "lista_de_listas = [[4, 6, 5, 9], [1, 0, 7, 2], [3, 4, 1, 8]]\n",
        "\n",
        "suma = [sum(suma) for suma in lista_de_listas ]\n",
        "suma"
      ],
      "metadata": {
        "colab": {
          "base_uri": "https://localhost:8080/"
        },
        "id": "klsluTXswcUI",
        "outputId": "e1a3af10-e008-4278-b0e6-d32c3eea111e"
      },
      "execution_count": null,
      "outputs": [
        {
          "output_type": "execute_result",
          "data": {
            "text/plain": [
              "[24, 10, 16]"
            ]
          },
          "metadata": {},
          "execution_count": 6
        }
      ]
    },
    {
      "cell_type": "code",
      "source": [
        "'''\n",
        "2 - Crea un código para generar una lista que almacene el tercer elemento de cada tupla\n",
        "contenida en la siguiente lista de tuplas:\n",
        "\n",
        "lista_de_tuplas = [('Pedro', 1.74, 81), ('Júlia', 1.65, 67), ('Otávio', 1.81, 83)]\n",
        "'''\n",
        "\n",
        "lista_de_tuplas = [('Pedro', 1.74, 81), ('Júlia', 1.65, 67), ('Otávio', 1.81, 83)]\n",
        "\n",
        "edad = [edad[2] for edad in lista_de_tuplas]\n",
        "edad"
      ],
      "metadata": {
        "colab": {
          "base_uri": "https://localhost:8080/"
        },
        "id": "FERC3Qvkxt0n",
        "outputId": "c41d2806-1f69-4e4f-ed98-bd20097440b9"
      },
      "execution_count": null,
      "outputs": [
        {
          "output_type": "execute_result",
          "data": {
            "text/plain": [
              "[81, 67, 83]"
            ]
          },
          "metadata": {},
          "execution_count": 9
        }
      ]
    },
    {
      "cell_type": "code",
      "source": [
        "'''\n",
        "3 - A partir de la lista: lista = ['Pedro', 'Júlia', 'Otávio', 'Eduardo'], crea un código para\n",
        "generar una lista de tuplas en la que cada tupla tenga el primer elemento como la posición del\n",
        "nombre en la lista original y el segundo elemento siendo el propio nombre.\n",
        "'''\n",
        "\n",
        "lista = ['Pedro', 'Júlia', 'Otávio', 'Eduardo']\n",
        "\n",
        "posición = [lista.index(posición) for posición in lista]\n",
        "#posición = [1,2,3,4]\n",
        "\n",
        "lista_de_tuplas = list(zip(posición,lista))\n",
        "lista_de_tuplas"
      ],
      "metadata": {
        "colab": {
          "base_uri": "https://localhost:8080/"
        },
        "id": "JY6Liz-fyBEd",
        "outputId": "f61c613e-8638-4fbd-ae63-c662de3fb78c"
      },
      "execution_count": null,
      "outputs": [
        {
          "output_type": "execute_result",
          "data": {
            "text/plain": [
              "[(1, 'Pedro'), (2, 'Júlia'), (3, 'Otávio'), (4, 'Eduardo')]"
            ]
          },
          "metadata": {},
          "execution_count": 14
        }
      ]
    },
    {
      "cell_type": "code",
      "source": [
        "'''\n",
        "4 - Crea una lista usando la comprensión de listas (list comprehension) que almacene solo el valor\n",
        "numérico de cada tupla en caso de que el primer elemento sea 'Apartamento', a partir de la\n",
        "siguiente lista de tuplas:\n",
        "\n",
        "alquiler = [('Apartamento', 1700), ('Apartamento', 1400), ('Casa', 2150), ('Apartamento', 1900),\n",
        "('Casa', 1100)]\n",
        "'''\n",
        "\n",
        "alquiler = [('Apartamento', 1700),\n",
        "            ('Apartamento', 1400),\n",
        "            ('Casa', 2150),\n",
        "            ('Apartamento', 1900),\n",
        "            ('Casa', 1100)]\n",
        "\n",
        "numerico = [valor[1] for valor in alquiler if valor[0] == 'Apartamento']\n",
        "numerico"
      ],
      "metadata": {
        "colab": {
          "base_uri": "https://localhost:8080/"
        },
        "id": "BHYJwIB_zbMu",
        "outputId": "658ffce6-eef2-4381-c6b4-22bcb677c3eb"
      },
      "execution_count": null,
      "outputs": [
        {
          "output_type": "execute_result",
          "data": {
            "text/plain": [
              "[1700, 1400, 1900]"
            ]
          },
          "metadata": {},
          "execution_count": 15
        }
      ]
    },
    {
      "cell_type": "code",
      "source": [
        "'''\n",
        "5 - Crea un diccionario usando la comprensión de diccionarios (dict comprehension) en el que las\n",
        "claves estén en la lista meses = ['Jan', 'Fev', 'Mar', 'Abr', 'Mai', 'Jun', 'Jul', 'Ago', 'Set',\n",
        "'Out', 'Nov', 'Dez'] y los valores estén en gasto = [860, 490, 1010, 780, 900, 630, 590, 770, 620,\n",
        "560, 840, 360].\n",
        "'''\n",
        "\n",
        "meses = ['Jan', 'Fev', 'Mar', 'Abr', 'Mai', 'Jun', 'Jul', 'Ago', 'Set', 'Out', 'Nov', 'Dez']\n",
        "gasto = [860, 490, 1010, 780, 900, 630, 590, 770, 620, 560, 840, 360]\n",
        "\n",
        "gastos_mensuales = {mes: valor for mes, valor in zip(meses, gasto)}\n",
        "gastos_mensuales"
      ],
      "metadata": {
        "colab": {
          "base_uri": "https://localhost:8080/"
        },
        "id": "eGbqU0sVDt43",
        "outputId": "e1d6f028-ce41-4057-d0ed-b1555abb772b"
      },
      "execution_count": null,
      "outputs": [
        {
          "output_type": "execute_result",
          "data": {
            "text/plain": [
              "{'Jan': 860,\n",
              " 'Fev': 490,\n",
              " 'Mar': 1010,\n",
              " 'Abr': 780,\n",
              " 'Mai': 900,\n",
              " 'Jun': 630,\n",
              " 'Jul': 590,\n",
              " 'Ago': 770,\n",
              " 'Set': 620,\n",
              " 'Out': 560,\n",
              " 'Nov': 840,\n",
              " 'Dez': 360}"
            ]
          },
          "metadata": {},
          "execution_count": 1
        }
      ]
    },
    {
      "cell_type": "code",
      "source": [
        "'''\n",
        "6 - Una tienda tiene una base de datos con la información de venta de cada representante y de cada\n",
        "año y necesita filtrar solo los datos del año 2022 con ventas mayores a 6000. La tienda proporcionó\n",
        "una muestra con solo las columnas de los años y los valores de venta para que puedas ayudar a\n",
        "realizar la filtración de los datos a través de un código:\n",
        "\n",
        "ventas = [('2023', 4093), ('2021', 4320), ('2021', 5959), ('2022', 8883), ('2023', 9859),\n",
        "('2022', 5141), ('2022', 7688), ('2022', 9544), ('2023', 4794), ('2021', 7178), ('2022', 3030),\n",
        "('2021', 7471), ('2022', 4226), ('2022', 8190), ('2021', 9680), ('2022', 5616)]\n",
        "\n",
        "Crea una lista usando la comprensión de listas para filtrar los valores de 2022 que sean mayores a\n",
        "6000.\n",
        "'''\n",
        "\n",
        "ventas = [('2023', 4093), ('2021', 4320), ('2021', 5959), ('2022', 8883),\n",
        "          ('2023', 9859), ('2022', 5141), ('2022', 7688), ('2022', 9544),\n",
        "          ('2023', 4794), ('2021', 7178), ('2022', 3030), ('2021', 7471),\n",
        "          ('2022', 4226), ('2022', 8190), ('2021', 9680), ('2022', 5616)]\n",
        "\n",
        "valores_2022 = [valor[1] for valor in ventas if valor[0] == '2022' and valor[1] > 6000]\n",
        "valores_2022"
      ],
      "metadata": {
        "colab": {
          "base_uri": "https://localhost:8080/"
        },
        "id": "27WpVWjmEkjg",
        "outputId": "a7098a37-8ff3-4878-83fb-d73f767ccb73"
      },
      "execution_count": null,
      "outputs": [
        {
          "output_type": "execute_result",
          "data": {
            "text/plain": [
              "[8883, 7688, 9544, 8190]"
            ]
          },
          "metadata": {},
          "execution_count": 4
        }
      ]
    },
    {
      "cell_type": "code",
      "source": [
        "'''\n",
        "7 - Una clínica analiza datos de pacientes y almacena el valor numérico de la glucosa en una base\n",
        "de datos y le gustaría etiquetar los datos de la siguiente manera:\n",
        "\n",
        "Glucosa igual o inferior a 70: 'Hipoglicemia'\n",
        "Glucosa entre 70 y 99: 'Normal'\n",
        "Glucosa entre 100 y 125: 'Alterada'\n",
        "Glucosa superior a 125: 'Diabetes'\n",
        "La clínica proporcionó parte de los valores y tu tarea es crear una lista de tuplas usando la\n",
        "comprensión de listas que contenga la etiqueta y el valor de la glucemia en cada tupla.\n",
        "\n",
        "glicemia = [129, 82, 60, 97, 101, 65, 62, 167, 87, 53, 58, 92, 66, 120, 109, 62, 86, 96, 103,\n",
        "88, 155, 52, 89, 73]\n",
        "'''\n",
        "\n",
        "glicemia = [129, 82, 60, 97, 101, 65, 62, 167,\n",
        "            87, 53, 58, 92, 66, 120, 109, 62,\n",
        "            86, 96, 103, 88, 155, 52, 89, 73]\n",
        "\n",
        "glucosa = [(glucosa, 'Hipoglicemia' if glucosa <= 70 else 'Normal' if glucosa < 100 else 'Alterada' if glucosa < 125 else 'Diabetes') for glucosa in glicemia]\n",
        "glucosa"
      ],
      "metadata": {
        "colab": {
          "base_uri": "https://localhost:8080/"
        },
        "id": "h7W2poQDFVRZ",
        "outputId": "31889a53-1470-45b9-b8e2-1d28450ff030"
      },
      "execution_count": null,
      "outputs": [
        {
          "output_type": "execute_result",
          "data": {
            "text/plain": [
              "[(129, 'Diabetes'),\n",
              " (82, 'Normal'),\n",
              " (60, 'Hipoglicemia'),\n",
              " (97, 'Normal'),\n",
              " (101, 'Alterada'),\n",
              " (65, 'Hipoglicemia'),\n",
              " (62, 'Hipoglicemia'),\n",
              " (167, 'Diabetes'),\n",
              " (87, 'Normal'),\n",
              " (53, 'Hipoglicemia'),\n",
              " (58, 'Hipoglicemia'),\n",
              " (92, 'Normal'),\n",
              " (66, 'Hipoglicemia'),\n",
              " (120, 'Alterada'),\n",
              " (109, 'Alterada'),\n",
              " (62, 'Hipoglicemia'),\n",
              " (86, 'Normal'),\n",
              " (96, 'Normal'),\n",
              " (103, 'Alterada'),\n",
              " (88, 'Normal'),\n",
              " (155, 'Diabetes'),\n",
              " (52, 'Hipoglicemia'),\n",
              " (89, 'Normal'),\n",
              " (73, 'Normal')]"
            ]
          },
          "metadata": {},
          "execution_count": 7
        }
      ]
    },
    {
      "cell_type": "code",
      "source": [
        "'''\n",
        "8 - Un comercio electrónico tiene información de id de venta, cantidad vendida y precio del\n",
        "producto divididos en las siguientes listas:\n",
        "\n",
        "id = [0, 1, 2, 3, 4, 5, 6, 7, 8, 9]\n",
        "cantidad = [15, 12, 1, 15, 2, 11, 2, 12, 2, 4]\n",
        "precio = [93.0, 102.0, 18.0, 41.0, 122.0, 14.0, 71.0, 48.0, 14.0, 144.0]\n",
        "\n",
        "La plataforma necesita estructurar estos datos en una tabla que contenga el valor total de la\n",
        "venta, que se obtiene multiplicando la cantidad por el precio unitario. Además, la tabla debe\n",
        "contener un encabezado indicando las columnas: 'id', 'cantidad', 'precio' y 'total'.\n",
        "\n",
        "Crea una lista de tuplas en la que cada tupla tenga id, cantidad, precio y valor total, siendo\n",
        "la primera tupla el encabezado de la tabla.\n",
        "'''\n",
        "columnas = ['id', 'cantidad', 'precio', 'total']\n",
        "id = [0, 1, 2, 3, 4, 5, 6, 7, 8, 9]\n",
        "cantidad = [15, 12, 1, 15, 2, 11, 2, 12, 2, 4]\n",
        "precio = [93.0, 102.0, 18.0, 41.0, 122.0, 14.0, 71.0, 48.0, 14.0, 144.0]\n",
        "total = [precio*cantidad for precio, cantidad in zip(precio,cantidad)]\n",
        "lista = [tuple(columnas)] + list(zip(id, cantidad, precio , total))\n",
        "lista"
      ],
      "metadata": {
        "colab": {
          "base_uri": "https://localhost:8080/"
        },
        "id": "LzJtI982HZf9",
        "outputId": "80dd0f76-db7c-4830-a9b0-674ba726db3b"
      },
      "execution_count": null,
      "outputs": [
        {
          "output_type": "execute_result",
          "data": {
            "text/plain": [
              "[('id', 'cantidad', 'precio', 'total'),\n",
              " (0, 15, 93.0, 1395.0),\n",
              " (1, 12, 102.0, 1224.0),\n",
              " (2, 1, 18.0, 18.0),\n",
              " (3, 15, 41.0, 615.0),\n",
              " (4, 2, 122.0, 244.0),\n",
              " (5, 11, 14.0, 154.0),\n",
              " (6, 2, 71.0, 142.0),\n",
              " (7, 12, 48.0, 576.0),\n",
              " (8, 2, 14.0, 28.0),\n",
              " (9, 4, 144.0, 576.0)]"
            ]
          },
          "metadata": {},
          "execution_count": 22
        }
      ]
    },
    {
      "cell_type": "code",
      "source": [
        "'''\n",
        "9 - Una empresa tiene sucursales distribuidas en los estados de la región Sudeste de Brasil.\n",
        "En una de las tablas de registro de las sucursales, hay una columna que contiene la información\n",
        "de a qué estado pertenece:\n",
        "estados =['CMX', 'OAX', 'PUE', 'PUE', 'CMX', 'PUE', 'OAX', 'OAX', 'OAX', 'CMX', 'CMX', 'PUE',\n",
        "'OAX', 'CMX', 'VER', 'PUE', 'VER', 'CMX', 'PUE', 'CMX', 'OAX', 'CMX', 'PUE'].\n",
        "\n",
        "La empresa siempre está abriendo nuevas sucursales, por lo que la tabla está constantemente\n",
        "recibiendo nuevos registros y al gerente le gustaría tener la información actualizada de la\n",
        "cantidad de sucursales en cada estado.\n",
        "\n",
        "A partir de la columna con la información de los estados, crea un diccionario utilizando la\n",
        "comprensión de diccionarios (dict comprehension) con la clave siendo el nombre de un estado y\n",
        "el valor siendo la cantidad de veces que aparece el estado en la lista.\n",
        "\n",
        "Consejo: Puedes hacer un paso intermedio para generar una lista de listas en la que cada una de\n",
        "las listas tenga el nombre de solo un estado con valores repetidos.\n",
        "'''\n",
        "\n",
        "estados =['CMX', 'OAX', 'PUE', 'PUE', 'CMX', 'PUE', 'OAX', 'OAX', 'OAX', 'CMX', 'CMX', 'PUE',\n",
        "'OAX', 'CMX', 'VER', 'PUE', 'VER', 'CMX', 'PUE', 'CMX', 'OAX', 'CMX', 'PUE']\n",
        "\n",
        "contar = {valor:estados.count(valor) for valor in estados }\n",
        "contar"
      ],
      "metadata": {
        "colab": {
          "base_uri": "https://localhost:8080/"
        },
        "id": "aWVCuoweJGsy",
        "outputId": "96521a36-a952-43af-efcd-20dd2384f284"
      },
      "execution_count": null,
      "outputs": [
        {
          "output_type": "execute_result",
          "data": {
            "text/plain": [
              "{'CMX': 8, 'OAX': 6, 'PUE': 7, 'VER': 2}"
            ]
          },
          "metadata": {},
          "execution_count": 31
        }
      ]
    },
    {
      "cell_type": "code",
      "source": [
        "'''\n",
        "10 - En esa misma tabla de registro de sucursales, hay una columna con la información de la\n",
        "cantidad de personas empleadas y el gerente quisiera tener un agrupamiento de la suma de esas\n",
        "personas para cada estado. Las informaciones contenidas en la tabla son:\n",
        "\n",
        "empleados = [('CMX', 16), ('OAX', 8), ('PUE', 9), ('PUE', 6), ('CMX', 10), ('PUE', 4), ('OAX',9),\n",
        " ('OAX', 7), ('OAX', 12), ('CMX', 7), ('CMX', 11), ('PUE',8), ('OAX',8), ('CMX',9), ('VER', 13),\n",
        " ('PUE', 5),  ('VER', 9), ('CMX', 12), ('PUE', 10), ('CMX', 7), ('OAX', 14), ('CMX', 10),\n",
        " ('PUE', 12)]\n",
        "\n",
        "A partir de la lista de tuplas, crea un diccionario en el que las claves son los nombres de los\n",
        "estados únicos y los valores son las listas con el número de empleados referentes al estado.\n",
        "También crea un diccionario en el que las claves son los nombres de los estados y los valores son\n",
        "la suma de empleados por estado.\n",
        "'''\n",
        "\n",
        "empleados = [ ('CMX', 16), ('OAX', 8), ('PUE', 9), ('PUE', 6), ('CMX', 10), ('PUE', 4), ('OAX',9),\n",
        "              ('OAX', 7), ('OAX', 12), ('CMX', 7), ('CMX', 11), ('PUE',8), ('OAX',8), ('CMX',9),\n",
        "              ('VER', 13), ('PUE', 5),  ('VER', 9), ('CMX', 12), ('PUE', 10), ('CMX', 7), ('OAX', 14),\n",
        "              ('CMX', 10), ('PUE', 12)]\n",
        "\n",
        "agrupamiento = {estado: list(valor for e, valor in empleados if e == estado) for estado in set(e[0] for e in empleados)}\n",
        "suma = {estado: sum(valor for e, valor in empleados if e == estado) for estado in set(e[0] for e in empleados)}\n",
        "print(agrupamiento)\n",
        "print(suma)"
      ],
      "metadata": {
        "colab": {
          "base_uri": "https://localhost:8080/"
        },
        "id": "fC5OiwZVLJo5",
        "outputId": "a4caaaac-959c-44bb-81ea-b238a6d4742c"
      },
      "execution_count": null,
      "outputs": [
        {
          "output_type": "stream",
          "name": "stdout",
          "text": [
            "{'PUE': [9, 6, 4, 8, 5, 10, 12], 'CMX': [16, 10, 7, 11, 9, 12, 7, 10], 'VER': [13, 9], 'OAX': [8, 9, 7, 12, 8, 14]}\n",
            "{'PUE': 54, 'CMX': 82, 'VER': 22, 'OAX': 58}\n"
          ]
        }
      ]
    },
    {
      "cell_type": "markdown",
      "source": [
        "# Ejercicios Propuestos 4"
      ],
      "metadata": {
        "id": "rS5Ry583tq3G"
      }
    },
    {
      "cell_type": "markdown",
      "source": [
        "**Calentamiento**\n",
        "\n",
        "1 - Haz un programa que solicite a la persona usuaria ingresar dos números decimales y calcular la división entre estos números. El código debe incluir un manejo de error, indicando el tipo de error que se generó si la división no es posible.\n",
        "\n",
        "Prueba el programa con el segundo valor numérico de la entrada igual a 0. También prueba usando caracteres textuales en la entrada para verificar los tipos de errores que ocurren.\n",
        "\n",
        "2 - Haz un programa que solicite a la persona usuaria ingresar un texto que será una clave a buscar en el siguiente diccionario: ```edades = {'Júlia': 16, 'Carol': 23, 'Alberto': 19, 'Roberta': 17}```, almacenando el resultado del valor en una variable. El código debe incluir un manejo de error KeyError, imprimiendo la información 'Nombre no encontrado' en caso de error, e imprimir el valor si no ocurre ninguno.\n",
        "\n",
        "Prueba el programa con un nombre presente en una de las claves del diccionario y con uno que no esté en el diccionario para verificar el mensaje de error.\n",
        "\n",
        "3 - Crea una función que reciba una lista como parámetro y convierta todos los valores de la lista a flotantes. La función debe incluir un manejo de error indicando el tipo de error generado y devolver la lista si no ha ocurrido ningún error. Por último, debe tener la cláusula ```finally``` para imprimir el texto: 'Fin de la ejecución de la función'.\n",
        "\n",
        "4 - Crea una función que reciba dos listas como parámetros y agrupe los elementos uno a uno de las listas, formando una lista de tuplas de 3 elementos. El primer y segundo elemento de la tupla son los valores en la posición ```i``` de las listas y el tercer elemento es la suma de los valores en la posición ```i``` de las listas.\n",
        "\n",
        "La función debe incluir un manejo de error indicando el tipo de error generado y devolver como resultado la lista de tuplas. Si las listas enviadas como parámetro tienen tamaños diferentes, la función debe devolver un IndexError con la frase: 'La cantidad de elementos en cada lista es diferente.'.\n",
        "\n",
        "Datos para probar la función:\n",
        "\n",
        "Valores sin error:\n",
        "```\n",
        "lista1 = [4, 6, 7, 9, 10]\n",
        "lista2 = [-4, 6, 8, 7, 9]\n",
        "```\n",
        "\n",
        "Listas con tamaños diferentes:\n",
        "```\n",
        "lista1 = [4, 6, 7, 9, 10, 4]\n",
        "lista2 = [-4, 6, 8, 7, 9]\n",
        "```\n",
        "\n",
        "Listas con valores incoherentes:\n",
        "```\n",
        "lista1 = [4, 6, 7, 9, 'A']\n",
        "lista2 = [-4, 'E', 8, 7, 9]\n",
        "```"
      ],
      "metadata": {
        "id": "yPnbpsqsttTk"
      }
    },
    {
      "cell_type": "code",
      "source": [
        "'''\n",
        "1 - Haz un programa que solicite a la persona usuaria ingresar dos números decimales y calcular la\n",
        "división entre estos números. El código debe incluir un manejo de error, indicando el tipo de error\n",
        "que se generó si la división no es posible.\n",
        "\n",
        "Prueba el programa con el segundo valor numérico de la entrada igual a 0. También prueba usando\n",
        "caracteres textuales en la entrada para verificar los tipos de errores que ocurren.\n",
        "'''\n",
        "\n",
        "try:\n",
        "  n1 = float(input('Ingrese el 1er número: '))\n",
        "  n2 = float(input('Ingrese el 2do número: '))\n",
        "except Exception as e :\n",
        "  print(e)\n",
        "else:\n",
        "  print(f'La división de los numeros es: {n1/n2:.2f}')"
      ],
      "metadata": {
        "colab": {
          "base_uri": "https://localhost:8080/"
        },
        "id": "izSm6P-fuUQ9",
        "outputId": "d2bef04f-e678-48d3-da87-5c6d3b007040"
      },
      "execution_count": null,
      "outputs": [
        {
          "output_type": "stream",
          "name": "stdout",
          "text": [
            "Ingrese el 1er número: 10\n",
            "Ingrese el 2do número: 6\n",
            "La división de los numeros es: 1.67\n"
          ]
        }
      ]
    },
    {
      "cell_type": "code",
      "source": [
        "'''\n",
        "2 - Haz un programa que solicite a la persona usuaria ingresar un texto que será una clave a buscar\n",
        "en el siguiente diccionario: edades = {'Júlia': 16, 'Carol': 23, 'Alberto': 19, 'Roberta': 17},\n",
        "almacenando el resultado del valor en una variable. El código debe incluir un manejo de error\n",
        "KeyError, imprimiendo la información 'Nombre no encontrado' en caso de error, e imprimir el valor\n",
        "si no ocurre ninguno.\n",
        "\n",
        "Prueba el programa con un nombre presente en una de las claves del diccionario y con uno que no\n",
        "esté en el diccionario para verificar el mensaje de error.\n",
        "'''\n",
        "\n",
        "edades = {'Júlia': 16, 'Carol': 23, 'Alberto': 19, 'Roberta': 17}\n",
        "\n",
        "try:\n",
        "  nombre = input('Ingrese el clave: ')\n",
        "  edad = edades[nombre]\n",
        "except KeyError:\n",
        "  print('Nombre no encontrado')\n",
        "else:\n",
        "  print(f'La edad de {nombre} es {edad}')"
      ],
      "metadata": {
        "colab": {
          "base_uri": "https://localhost:8080/"
        },
        "id": "cXMnJh2ZxGSG",
        "outputId": "235d8efa-2879-4fe5-a627-0d5118b0e6e0"
      },
      "execution_count": null,
      "outputs": [
        {
          "output_type": "stream",
          "name": "stdout",
          "text": [
            "Ingrese el clave: Juan\n",
            "Nombre no encontrado\n"
          ]
        }
      ]
    },
    {
      "cell_type": "code",
      "source": [
        "'''\n",
        "3 - Crea una función que reciba una lista como parámetro y convierta todos los valores de la lista\n",
        "a flotantes. La función debe incluir un manejo de error indicando el tipo de error generado y\n",
        "devolver la lista si no ha ocurrido ningún error. Por último, debe tener la cláusula finally para\n",
        "imprimir el texto: 'Fin de la ejecución de la función'.\n",
        "'''\n",
        "\n",
        "def flotantes(lista):\n",
        "    nueva_lista = []\n",
        "    for elemento in lista:\n",
        "        try:\n",
        "            nueva_lista.append(float(elemento))\n",
        "        except Exception as e:\n",
        "            print(f\"Error al convertir '{elemento}': {e}\")\n",
        "        finally:\n",
        "            print(\"Fin de la ejecución de la función\")\n",
        "    return nueva_lista\n",
        "\n",
        "# Crear lista correctamente\n",
        "listo = [input(\"Ingrese un número: \") for _ in range(5)]\n",
        "\n",
        "# Ejecutar conversión y mostrar resultado\n",
        "resultado = flotantes(listo)\n",
        "print(\"Lista convertida:\", resultado)\n"
      ],
      "metadata": {
        "colab": {
          "base_uri": "https://localhost:8080/"
        },
        "id": "o7YnX9wuyici",
        "outputId": "0cefa6fe-ff0c-4ec7-c125-e58561d8f9eb"
      },
      "execution_count": null,
      "outputs": [
        {
          "output_type": "stream",
          "name": "stdout",
          "text": [
            "Ingrese un número: 1\n",
            "Ingrese un número: 5\n",
            "Ingrese un número: 2\n",
            "Ingrese un número: a\n",
            "Ingrese un número: 4\n",
            "Fin de la ejecución de la función\n",
            "Fin de la ejecución de la función\n",
            "Fin de la ejecución de la función\n",
            "Error al convertir 'a': could not convert string to float: 'a'\n",
            "Fin de la ejecución de la función\n",
            "Fin de la ejecución de la función\n",
            "Lista convertida: [1.0, 5.0, 2.0, 4.0]\n"
          ]
        }
      ]
    },
    {
      "cell_type": "code",
      "source": [
        "'''\n",
        "4 - Crea una función que reciba dos listas como parámetros y agrupe los elementos uno a uno de las\n",
        "listas, formando una lista de tuplas de 3 elementos. El primer y segundo elemento de la tupla son\n",
        "los valores en la posición i de las listas y el tercer elemento es la suma de los valores en la\n",
        "posición i de las listas.\n",
        "\n",
        "La función debe incluir un manejo de error indicando el tipo de error generado y devolver como\n",
        "resultado la lista de tuplas. Si las listas enviadas como parámetro tienen tamaños diferentes,\n",
        "la función debe devolver un IndexError con la frase: 'La cantidad de elementos en cada lista es\n",
        "diferente.'.\n",
        "\n",
        "Datos para probar la función:\n",
        "\n",
        "Valores sin error:\n",
        "\n",
        "lista1 = [4, 6, 7, 9, 10]\n",
        "lista2 = [-4, 6, 8, 7, 9]\n",
        "\n",
        "Listas con tamaños diferentes:\n",
        "\n",
        "lista1 = [4, 6, 7, 9, 10, 4]\n",
        "lista2 = [-4, 6, 8, 7, 9]\n",
        "\n",
        "Listas con valores incoherentes:\n",
        "\n",
        "lista1 = [4, 6, 7, 9, 'A']\n",
        "lista2 = [-4, 'E', 8, 7, 9]\n",
        "'''\n",
        "\n",
        "def agrupar(lista1,lista2):\n",
        "  suma = []\n",
        "  try:\n",
        "        if len(lista1) != len(lista2):\n",
        "            raise IndexError(\"La cantidad de elementos en cada lista es diferente.\")\n",
        "\n",
        "        suma = [lista1[i] + lista2[i] for i in range(len(lista1))]\n",
        "\n",
        "        tuplas = list(zip(lista1, lista2, suma))\n",
        "  except IndexError as e:\n",
        "        return e\n",
        "  except Exception as e:\n",
        "        return f\"Error inesperado: {e}\"\n",
        "  else:\n",
        "        return tuplas\n",
        "  finally:\n",
        "        print(\"Fin de la ejecución de la función\")\n",
        "\n",
        "'Valores sin error:'\n",
        "\n",
        "A = [4, 6, 7, 9, 10]\n",
        "B = [-4, 6, 8, 7, 9]\n",
        "\n",
        "'Listas con tamaños diferentes:'\n",
        "\n",
        "C = [4, 6, 7, 9, 10, 4]\n",
        "D = [-4, 6, 8, 7, 9]\n",
        "\n",
        "'Listas con valores incoherentes:'\n",
        "\n",
        "E = [4, 6, 7, 9, 'A']\n",
        "F = [-4, 'E', 8, 7, 9]\n",
        "\n",
        "sin_error = agrupar(A,B)\n",
        "tamaño_diferente = agrupar(C,D)\n",
        "valores_incoherentes = agrupar(E,F)\n",
        "\n",
        "print(sin_error)\n",
        "print(tamaño_diferente)\n",
        "print(valores_incoherentes)"
      ],
      "metadata": {
        "colab": {
          "base_uri": "https://localhost:8080/"
        },
        "id": "zIuiTb0j1M3o",
        "outputId": "8a3066b2-7988-41fd-ef6d-461a8c173786"
      },
      "execution_count": null,
      "outputs": [
        {
          "output_type": "stream",
          "name": "stdout",
          "text": [
            "Fin de la ejecución de la función\n",
            "Fin de la ejecución de la función\n",
            "Fin de la ejecución de la función\n",
            "[(4, -4, 0), (6, 6, 12), (7, 8, 15), (9, 7, 16), (10, 9, 19)]\n",
            "La cantidad de elementos en cada lista es diferente.\n",
            "Error inesperado: unsupported operand type(s) for +: 'int' and 'str'\n"
          ]
        }
      ]
    },
    {
      "cell_type": "markdown",
      "source": [
        "**Aplicando a proyectos**\n",
        "\n",
        "5 - Como desafío, se te ha asignado la tarea de desarrollar un código que contabiliza las puntuaciones de estudiantes de una institución educativa de acuerdo con sus respuestas en una prueba. Este código debe ser probado para un ejemplo de 3 estudiantes con una lista de listas en la que cada lista tiene las respuestas de 5 preguntas objetivas de cada estudiante. Cada pregunta vale un punto y las alternativas posibles son A, B, C o D.\n",
        "\n",
        "Si alguna alternativa en una de las pruebas no está entre las alternativas posibles, debes lanzar un ValueError con el mensaje \"La alternativa [alternativa] no es una opción de alternativa válida\". El cálculo de las 3 notas solo se realizará mediante las entradas con las alternativas A, B, C o D en todas las pruebas. Si no se lanza la excepción, se mostrará una lista con las notas en cada prueba.\n",
        "\n",
        "Datos para la prueba del código:\n",
        "\n",
        "Respuestas de la prueba:\n",
        "```\n",
        "respuestas = ['D', 'A', 'B', 'C', 'A']\n",
        "```\n",
        "A continuación, hay 2 listas de listas que puedes usar como prueba:\n",
        "\n",
        "Notas sin excepción:\n",
        "```\n",
        "tests_sin_ex = [['D', 'A', 'B', 'C', 'A'], ['C', 'A', 'A', 'C', 'A'], ['D', 'B', 'A', 'C', 'A']]\n",
        "```\n",
        "\n",
        "Notas con excepción:\n",
        "```\n",
        "tests_con_ex = [['D', 'A', 'B', 'C', 'A'], ['C', 'A', 'A', 'E', 'A'], ['D', 'B', 'A', 'C', 'A']]\n",
        "```\n",
        "\n",
        "6 - Estás trabajando con procesamiento de lenguaje natural (NLP) y, en esta ocasión, tu líder te pidió que crees un fragmento de código que reciba una lista con las palabras separadas de una frase generada por ChatGPT.\n",
        "\n",
        "Necesitas crear una función que evalúe cada palabra de este texto y verifique si el tratamiento para quitar los símbolos de puntuación (',', '.', '!' y '?') se realizó. De lo contrario, se lanzará una excepción del tipo ValueError señalando el primer caso en que se detectó el uso de una puntuación a través de la frase \"El texto presenta puntuaciones en la palabra \"[palabra]\"\". Esta solicitud se centra en el análisis del patrón de frases generadas por la inteligencia artificial.\n",
        "\n",
        "Datos para probar el código:\n",
        "\n",
        "Lista tratada:\n",
        "```\n",
        "lista_tratada = ['Python', 'es', 'un', 'lenguaje', 'de', 'programación', 'poderoso', 'versátil',\n",
        "                  'y', 'fácil', 'de', 'aprender', 'utilizado', 'en', 'diversos', 'campos', 'desde',\n",
        "                  'análisis', 'de', 'datos', 'hasta', 'inteligencia', 'artificial']\n",
        "```\n",
        "\n",
        "Lista no tratada:\n",
        "```\n",
        "lista_no_tratada = ['Python', 'es', 'un', 'lenguaje', 'de', 'programación', 'poderoso,', 'versátil',\n",
        "                  'y', 'fácil,', 'de', 'aprender', 'utilizado', 'en', 'diversos', 'campos,', 'desde',\n",
        "                  'análisis', 'de', 'datos', 'hasta', 'inteligencia', 'artificial!']\n",
        "```"
      ],
      "metadata": {
        "id": "RiZE1uKz7Hzd"
      }
    },
    {
      "cell_type": "code",
      "source": [
        "'''\n",
        "5 - Como desafío, se te ha asignado la tarea de desarrollar un código que contabiliza las\n",
        "puntuaciones de estudiantes de una institución educativa de acuerdo con sus respuestas en una\n",
        "prueba. Este código debe ser probado para un ejemplo de 3 estudiantes con una lista de listas en la\n",
        "que cada lista tiene las respuestas de 5 preguntas objetivas de cada estudiante. Cada pregunta\n",
        "vale un punto y las alternativas posibles son A, B, C o D.\n",
        "\n",
        "Si alguna alternativa en una de las pruebas no está entre las alternativas posibles, debes lanzar\n",
        "un ValueError con el mensaje \"La alternativa [alternativa] no es una opción de alternativa válida\".\n",
        "El cálculo de las 3 notas solo se realizará mediante las entradas con las alternativas A, B, C o D\n",
        "en todas las pruebas. Si no se lanza la excepción, se mostrará una lista con las notas en cada\n",
        "prueba.\n",
        "\n",
        "Datos para la prueba del código:\n",
        "\n",
        "Respuestas de la prueba:\n",
        "\n",
        "respuestas = ['D', 'A', 'B', 'C', 'A']\n",
        "\n",
        "A continuación, hay 2 listas de listas que puedes usar como prueba:\n",
        "\n",
        "Notas sin excepción:\n",
        "\n",
        "tests_sin_ex = [['D', 'A', 'B', 'C', 'A'], ['C', 'A', 'A', 'C', 'A'], ['D', 'B', 'A', 'C', 'A']]\n",
        "\n",
        "Notas con excepción:\n",
        "\n",
        "tests_con_ex = [['D', 'A', 'B', 'C', 'A'], ['C', 'A', 'A', 'E', 'A'], ['D', 'B', 'A', 'C', 'A']]\n",
        "'''\n",
        "\n",
        "def calcular_notas(tests, respuestas):\n",
        "    alternativas_validas = {'A', 'B', 'C', 'D'}\n",
        "    notas = []\n",
        "\n",
        "    for test in tests:\n",
        "        try:\n",
        "            for respuesta in test:\n",
        "                if respuesta not in alternativas_validas:\n",
        "                    raise ValueError(f\"La alternativa '{respuesta}' no es una opción de alternativa válida.\")\n",
        "\n",
        "            puntuacion = sum(1 for r_correcta, r_estudiante in zip(respuestas, test) if r_correcta == r_estudiante)\n",
        "            notas.append(puntuacion)\n",
        "\n",
        "        except ValueError as e:\n",
        "            print(e)\n",
        "            return None\n",
        "\n",
        "    return notas\n",
        "\n",
        "# Datos de prueba\n",
        "respuestas = ['D', 'A', 'B', 'C', 'A']\n",
        "tests_sin_ex = [['D', 'A', 'B', 'C', 'A'], ['C', 'A', 'A', 'C', 'A'], ['D', 'B', 'A', 'C', 'A']]\n",
        "tests_con_ex = [['D', 'A', 'B', 'C', 'A'], ['C', 'A', 'A', 'E', 'A'], ['D', 'B', 'A', 'C', 'A']]\n",
        "\n",
        "# Prueba\n",
        "print(\"Notas sin excepción:\", calcular_notas(tests_sin_ex, respuestas))\n",
        "print(\"Notas con excepción:\", calcular_notas(tests_con_ex, respuestas))"
      ],
      "metadata": {
        "colab": {
          "base_uri": "https://localhost:8080/"
        },
        "id": "WLv9Ecrl71nO",
        "outputId": "02a44234-8d14-46d8-e2de-61487ad881eb"
      },
      "execution_count": null,
      "outputs": [
        {
          "output_type": "stream",
          "name": "stdout",
          "text": [
            "Notas sin excepción: [5, 3, 3]\n",
            "La alternativa 'E' no es una opción de alternativa válida.\n",
            "Notas con excepción: None\n"
          ]
        }
      ]
    },
    {
      "cell_type": "code",
      "source": [
        "'''\n",
        "6 - Estás trabajando con procesamiento de lenguaje natural (NLP) y, en esta ocasión, tu líder te\n",
        "pidió que crees un fragmento de código que reciba una lista con las palabras separadas de una frase\n",
        "generada por ChatGPT.\n",
        "\n",
        "Necesitas crear una función que evalúe cada palabra de este texto y verifique si el tratamiento\n",
        "para quitar los símbolos de puntuación (',', '.', '!' y '?') se realizó. De lo contrario, se\n",
        "lanzará una excepción del tipo ValueError señalando el primer caso en que se detectó el uso de una\n",
        "puntuación a través de la frase \"El texto presenta puntuaciones en la palabra \"[palabra]\"\".\n",
        "Esta solicitud se centra en el análisis del patrón de frases generadas por la inteligencia\n",
        "artificial.\n",
        "\n",
        "Datos para probar el código:\n",
        "\n",
        "Lista tratada:\n",
        "\n",
        "lista_tratada = ['Python', 'es', 'un', 'lenguaje', 'de', 'programación', 'poderoso', 'versátil',\n",
        "                  'y', 'fácil', 'de', 'aprender', 'utilizado', 'en', 'diversos', 'campos', 'desde',\n",
        "                  'análisis', 'de', 'datos', 'hasta', 'inteligencia', 'artificial']\n",
        "\n",
        "Lista no tratada:\n",
        "\n",
        "lista_no_tratada = ['Python', 'es', 'un', 'lenguaje', 'de', 'programación', 'poderoso,', 'versátil',\n",
        "                  'y', 'fácil,', 'de', 'aprender', 'utilizado', 'en', 'diversos', 'campos,', 'desde',\n",
        "                  'análisis', 'de', 'datos', 'hasta', 'inteligencia', 'artificial!']\n",
        "'''\n",
        "\n",
        "'Lista tratada:'\n",
        "\n",
        "lista_tratada = ['Python', 'es', 'un', 'lenguaje', 'de', 'programación', 'poderoso', 'versátil',\n",
        "                  'y', 'fácil', 'de', 'aprender', 'utilizado', 'en', 'diversos', 'campos', 'desde',\n",
        "                  'análisis', 'de', 'datos', 'hasta', 'inteligencia', 'artificial']\n",
        "\n",
        "'Lista no tratada:'\n",
        "\n",
        "lista_no_tratada = ['Python', 'es', 'un', 'lenguaje', 'de', 'programación', 'poderoso,', 'versátil',\n",
        "                  'y', 'fácil,', 'de', 'aprender', 'utilizado', 'en', 'diversos', 'campos,', 'desde',\n",
        "                  'análisis', 'de', 'datos', 'hasta', 'inteligencia', 'artificial!']\n",
        "\n",
        "def evaluar(lista_palabras):\n",
        "    try:\n",
        "        for palabra in lista_palabras:\n",
        "            if any(puntuacion in palabra for puntuacion in [',', '.', '!', '?']):\n",
        "                raise ValueError(f\"El texto presenta puntuaciones en la palabra '{palabra}'.\")\n",
        "    except ValueError as e:\n",
        "        print(f\"Error: {e}\")\n",
        "\n",
        "evaluar(lista_tratada)\n",
        "evaluar(lista_no_tratada)"
      ],
      "metadata": {
        "colab": {
          "base_uri": "https://localhost:8080/"
        },
        "id": "-gf46X8V_SWt",
        "outputId": "8aa2dd94-e590-4ade-cb3f-245b550f2f0c"
      },
      "execution_count": null,
      "outputs": [
        {
          "output_type": "stream",
          "name": "stdout",
          "text": [
            "Error: El texto presenta puntuaciones en la palabra 'poderoso,'.\n"
          ]
        }
      ]
    }
  ]
}