{
  "nbformat": 4,
  "nbformat_minor": 0,
  "metadata": {
    "colab": {
      "provenance": [],
      "include_colab_link": true
    },
    "kernelspec": {
      "name": "python3",
      "display_name": "Python 3"
    },
    "language_info": {
      "name": "python"
    }
  },
  "cells": [
    {
      "cell_type": "markdown",
      "metadata": {
        "id": "view-in-github",
        "colab_type": "text"
      },
      "source": [
        "<a href=\"https://colab.research.google.com/github/CarlosVF2003/Curso-de-Python-para-Data-Science-primeros-pasos/blob/main/Python_Data_Science.ipynb\" target=\"_parent\"><img src=\"https://colab.research.google.com/assets/colab-badge.svg\" alt=\"Open In Colab\"/></a>"
      ]
    },
    {
      "cell_type": "markdown",
      "source": [
        "# Python para Data Science\n",
        "\n",
        "Notebook para el curso de Python para Data Science publicado en la plataforma de [Alura Latam](https://www.aluracursos.com/)"
      ],
      "metadata": {
        "id": "lQx6Mmv0OJyT"
      }
    },
    {
      "cell_type": "markdown",
      "source": [
        "# Introducción a Python\n",
        "¡Vamos a conocer Python, nuestro ambiente de estudio, y también generaremos nuestro primer código en este lenguaje!"
      ],
      "metadata": {
        "id": "7SiB6JIpYKmY"
      }
    },
    {
      "cell_type": "markdown",
      "source": [
        "## Google Colaboratory\n",
        "\n",
        "Ya aprendimos qué es [Python](https://www.python.org/) y ahora aprenderemos a usar nuestra herramienta de ejecución [Google Colaboratory](https://colab.research.google.com/) para programar en un notebook interactivo.\n",
        "\n",
        "Vamos a probar algunas funciones de este ambiente."
      ],
      "metadata": {
        "id": "Yugfb3fCOYY9"
      }
    },
    {
      "cell_type": "markdown",
      "source": [
        " **`>>> Usa esta celda para mover <<<`**"
      ],
      "metadata": {
        "id": "2iUHQsJasJAk"
      }
    },
    {
      "cell_type": "code",
      "source": [],
      "metadata": {
        "id": "ayLdRdEzx2GH"
      },
      "execution_count": null,
      "outputs": []
    },
    {
      "cell_type": "code",
      "source": [
        "estudiantes = [\n",
        "    {\"nombre\": \"Ana\", \"nota\": 8},\n",
        "    {\"nombre\": \"Luis\", \"nota\": 9}\n",
        "]"
      ],
      "metadata": {
        "id": "o7jrX_iKhdkU"
      },
      "execution_count": null,
      "outputs": []
    },
    {
      "cell_type": "markdown",
      "source": [
        "## ¡Hola mundo!\n",
        "\n",
        "Vamos a conocer un poco más de cerca nuestro notebook. Para ello ejecutaremos nuestro primer comando en Python: [`print()`](https://docs.python.org/3/library/functions.html#print)"
      ],
      "metadata": {
        "id": "aLSFP2V7XTfe"
      }
    },
    {
      "cell_type": "code",
      "source": [
        "print(\"Hola Mundo\")"
      ],
      "metadata": {
        "id": "0qZX8_ZQBYyk",
        "colab": {
          "base_uri": "https://localhost:8080/"
        },
        "outputId": "83b720da-7ad4-42cb-f7d1-961735f1ce1f"
      },
      "execution_count": null,
      "outputs": [
        {
          "output_type": "stream",
          "name": "stdout",
          "text": [
            "Hola Mundo\n"
          ]
        }
      ]
    },
    {
      "cell_type": "code",
      "source": [
        "print(\"Me llamo Carlos y tengo 21 años\")"
      ],
      "metadata": {
        "id": "GVY6Yqnpc6b0",
        "outputId": "ee2b2608-dc42-4bd0-c83e-3d589f383ec7",
        "colab": {
          "base_uri": "https://localhost:8080/"
        }
      },
      "execution_count": null,
      "outputs": [
        {
          "output_type": "stream",
          "name": "stdout",
          "text": [
            "Me llamo Carlos y tengo 21 años\n"
          ]
        }
      ]
    },
    {
      "cell_type": "code",
      "source": [
        "print(\"Escuela de Datos de Alura\")"
      ],
      "metadata": {
        "id": "9TiZBsvqdE7i",
        "outputId": "0b1df372-a8f9-4b69-ac07-8241b81f7460",
        "colab": {
          "base_uri": "https://localhost:8080/"
        }
      },
      "execution_count": null,
      "outputs": [
        {
          "output_type": "stream",
          "name": "stdout",
          "text": [
            "Escuela de Datos de Alura\n"
          ]
        }
      ]
    },
    {
      "cell_type": "code",
      "source": [
        "Nombre= \"Carlos\"\n",
        "Apellido= \"Vera\"\n",
        "print(Nombre,Apellido)"
      ],
      "metadata": {
        "id": "ntaRWe8GdKxv",
        "outputId": "ddf25e35-7c8a-4f67-cf08-493b9aa2da88",
        "colab": {
          "base_uri": "https://localhost:8080/"
        }
      },
      "execution_count": null,
      "outputs": [
        {
          "output_type": "stream",
          "name": "stdout",
          "text": [
            "Carlos Vera\n"
          ]
        }
      ]
    },
    {
      "cell_type": "code",
      "source": [
        "print(\"C\")\n",
        "print(\"A\")\n",
        "print(\"R\")\n",
        "print(\"L\")\n",
        "print(\"O\")\n",
        "print(\"S\")"
      ],
      "metadata": {
        "id": "Wewn84AOdc-A",
        "outputId": "9ca0700b-0a21-4669-923a-af0380e04a40",
        "colab": {
          "base_uri": "https://localhost:8080/"
        }
      },
      "execution_count": null,
      "outputs": [
        {
          "output_type": "stream",
          "name": "stdout",
          "text": [
            "C\n",
            "A\n",
            "R\n",
            "L\n",
            "O\n",
            "S\n"
          ]
        }
      ]
    },
    {
      "cell_type": "code",
      "source": [
        "print(28, 'febrero', 2003)"
      ],
      "metadata": {
        "id": "rQEHWdRNdnHl",
        "outputId": "7d04c06d-46c9-4854-f9cb-09b4411d1232",
        "colab": {
          "base_uri": "https://localhost:8080/"
        }
      },
      "execution_count": null,
      "outputs": [
        {
          "output_type": "stream",
          "name": "stdout",
          "text": [
            "28 febrero 2003\n"
          ]
        }
      ]
    },
    {
      "cell_type": "code",
      "source": [
        "print(\"Año actual:\", 2025)"
      ],
      "metadata": {
        "id": "9M3gha9xd519",
        "outputId": "71f98806-a8ca-421d-e7b2-9cfc3019c2a8",
        "colab": {
          "base_uri": "https://localhost:8080/"
        }
      },
      "execution_count": null,
      "outputs": [
        {
          "output_type": "stream",
          "name": "stdout",
          "text": [
            "Año actual: 2025\n"
          ]
        }
      ]
    },
    {
      "cell_type": "markdown",
      "source": [
        "# Manipulando los datos\n",
        "\n",
        "Vamos a aprender sobre las variables en Python, cómo declararlas y utilizarlas además de conocer otros comandos de este lenguaje. :D"
      ],
      "metadata": {
        "id": "iP8uWQmFYFRs"
      }
    },
    {
      "cell_type": "markdown",
      "source": [
        "## Variables\n",
        "\n",
        "En Data Science trabajamos con varios tipos de datos e informaciones, entonces es esencial saber cómo trabajar con las variables."
      ],
      "metadata": {
        "id": "sLNVmnTbag1Z"
      }
    },
    {
      "cell_type": "markdown",
      "source": [
        "Las variables en Python se crean cuando atribuimos un valor a ella.\n",
        "\n",
        "Para esto, colocamos el nombre de la variable, el signo de igual (`=`) y el valor que queremos atribuirle."
      ],
      "metadata": {
        "id": "lsCY0wahAbf6"
      }
    },
    {
      "cell_type": "code",
      "source": [
        "5"
      ],
      "metadata": {
        "id": "vsHh5buZADND",
        "outputId": "39c5577c-2f21-410c-dc9a-43f0eb28ffa8",
        "colab": {
          "base_uri": "https://localhost:8080/"
        }
      },
      "execution_count": null,
      "outputs": [
        {
          "output_type": "execute_result",
          "data": {
            "text/plain": [
              "5"
            ]
          },
          "metadata": {},
          "execution_count": 21
        }
      ]
    },
    {
      "cell_type": "code",
      "source": [
        "id(5)"
      ],
      "metadata": {
        "id": "sivPtqSjADQV",
        "outputId": "b10f9c15-7a71-40c9-c956-7d0e939fcdc2",
        "colab": {
          "base_uri": "https://localhost:8080/"
        }
      },
      "execution_count": null,
      "outputs": [
        {
          "output_type": "execute_result",
          "data": {
            "text/plain": [
              "10750984"
            ]
          },
          "metadata": {},
          "execution_count": 22
        }
      ]
    },
    {
      "cell_type": "code",
      "source": [
        "edad = 5"
      ],
      "metadata": {
        "id": "JC8jO47wADlm"
      },
      "execution_count": null,
      "outputs": []
    },
    {
      "cell_type": "code",
      "source": [
        "print(id(edad))\n",
        "print(id(5))"
      ],
      "metadata": {
        "id": "s-7rvbpUfPKo",
        "outputId": "20461b9f-fefb-444c-bb69-3f8b55a13b34",
        "colab": {
          "base_uri": "https://localhost:8080/"
        }
      },
      "execution_count": null,
      "outputs": [
        {
          "output_type": "stream",
          "name": "stdout",
          "text": [
            "10750984\n",
            "10750984\n"
          ]
        }
      ]
    },
    {
      "cell_type": "code",
      "source": [
        "numerocinco = 5"
      ],
      "metadata": {
        "id": "34kXnhBPfaYT"
      },
      "execution_count": null,
      "outputs": []
    },
    {
      "cell_type": "code",
      "source": [
        "id(numerocinco)"
      ],
      "metadata": {
        "id": "9GcQlBT_fc2D",
        "outputId": "14aa346a-cb3e-42c1-eae2-a48e8758110f",
        "colab": {
          "base_uri": "https://localhost:8080/"
        }
      },
      "execution_count": null,
      "outputs": [
        {
          "output_type": "execute_result",
          "data": {
            "text/plain": [
              "10750984"
            ]
          },
          "metadata": {},
          "execution_count": 26
        }
      ]
    },
    {
      "cell_type": "code",
      "source": [
        "nombre = 'Gabriel'"
      ],
      "metadata": {
        "id": "SaPR1pMbfnKo"
      },
      "execution_count": null,
      "outputs": []
    },
    {
      "cell_type": "code",
      "source": [
        "id('Gabriel')"
      ],
      "metadata": {
        "id": "blx4CZPufp63",
        "outputId": "a838bd5e-c81f-4880-a412-99f449b84351",
        "colab": {
          "base_uri": "https://localhost:8080/"
        }
      },
      "execution_count": null,
      "outputs": [
        {
          "output_type": "execute_result",
          "data": {
            "text/plain": [
              "132828952170800"
            ]
          },
          "metadata": {},
          "execution_count": 28
        }
      ]
    },
    {
      "cell_type": "code",
      "source": [
        "id(nombre)"
      ],
      "metadata": {
        "id": "qHQUouXPftVr",
        "outputId": "1b0cbb1f-a701-48b1-920c-f35cae6c81c2",
        "colab": {
          "base_uri": "https://localhost:8080/"
        }
      },
      "execution_count": null,
      "outputs": [
        {
          "output_type": "execute_result",
          "data": {
            "text/plain": [
              "132828952170800"
            ]
          },
          "metadata": {},
          "execution_count": 29
        }
      ]
    },
    {
      "cell_type": "markdown",
      "source": [
        "Existen algunos tipos de nomes que **no** podemos definir para las variables:\n",
        "\n",
        "- **Nombres que comiencen con números**\n",
        "  - Ejemplos: `10_notas`, `2_nombre_casa`, etc.\n",
        "- **Palabras separadas por espacio**\n",
        "  - Ejemplos: `Nombre escuela`, `notas estudiantes`, etc.\n",
        "- **Nombres de funciones de Python**\n",
        "  - Ejemplos: `print`, `type`, etc."
      ],
      "metadata": {
        "id": "om2N0jHKAzwL"
      }
    },
    {
      "cell_type": "markdown",
      "source": [
        "> Las letras mayúsculas y minúsculas generarán diferentes variables. La variable `edad` es diferente de `Edad` que a su vez es diferente de `EDAD`:\n",
        "``` Python\n",
        "edad = 1\n",
        "Edad = 2\n",
        "EDAD = 3\n",
        "_edad = 4\n",
        "_edad_ = 5\n",
        "print(edad, Edad, EDAD, _edad, _edad_)\n",
        "1 2 3 4 5\n",
        "```"
      ],
      "metadata": {
        "id": "A19vY2GVMujB"
      }
    },
    {
      "cell_type": "code",
      "source": [
        "#Comentario a una linea\n",
        "'''\n",
        "Comentario varias lineas\n",
        "ahh\n",
        "'''"
      ],
      "metadata": {
        "id": "5vurtbAxf-ff",
        "outputId": "f6620d37-5493-4e40-8ae7-818c818eb723",
        "colab": {
          "base_uri": "https://localhost:8080/",
          "height": 35
        }
      },
      "execution_count": null,
      "outputs": [
        {
          "output_type": "execute_result",
          "data": {
            "text/plain": [
              "'\\nComentario varias lineas\\nahh\\n'"
            ],
            "application/vnd.google.colaboratory.intrinsic+json": {
              "type": "string"
            }
          },
          "metadata": {},
          "execution_count": 30
        }
      ]
    },
    {
      "cell_type": "markdown",
      "source": [
        "# Encabezado de nivel 1\n",
        "## Encabezado de nivel 2\n",
        "### Encabezado de nivel 3\n",
        "**Texto en negritas**\n",
        "\n",
        "*Texto en cursiva*\n",
        "\n",
        "***Texto en negritas y cursiva***\n",
        "* Elemento 1\n",
        "* Elemento 2\n",
        "* Elemento 3\n",
        "1. Elemento 1\n",
        "2. Elemento 2\n",
        "3. Elemento 3\n",
        "\n",
        "[Página de Alura](https://www.aluracursos.com/)"
      ],
      "metadata": {
        "id": "wc6sRFVGgNLh"
      }
    },
    {
      "cell_type": "markdown",
      "source": [
        "## Tipos de variables\n",
        "\n",
        "Cada variable contiene una clase específica con respecto al tipo de objeto al cual esta hace referencia. Estas clases serán diferentes de acuerdo con el tipo de dato que le sea atribuido a una variable.\n",
        "\n",
        "Para conocer la clase de cada elemento usamos la función [`type()`](https://docs.python.org/3/library/functions.html#type)"
      ],
      "metadata": {
        "id": "UqhzuBhBHsps"
      }
    },
    {
      "cell_type": "code",
      "source": [
        "edad = 5"
      ],
      "metadata": {
        "id": "J5a9t73A_-PX"
      },
      "execution_count": null,
      "outputs": []
    },
    {
      "cell_type": "code",
      "source": [
        "type(edad)"
      ],
      "metadata": {
        "id": "rqmO1ew-_-So",
        "outputId": "ec9fa159-62be-4297-cbf1-30c09d9a2ee3",
        "colab": {
          "base_uri": "https://localhost:8080/"
        }
      },
      "execution_count": null,
      "outputs": [
        {
          "output_type": "execute_result",
          "data": {
            "text/plain": [
              "int"
            ]
          },
          "metadata": {},
          "execution_count": 32
        }
      ]
    },
    {
      "cell_type": "code",
      "source": [
        "promedio = 9.5\n",
        "type(promedio)"
      ],
      "metadata": {
        "id": "xkrPMkeY_-cP",
        "outputId": "de4dd4c1-aafb-4c49-f774-0d7e5878268a",
        "colab": {
          "base_uri": "https://localhost:8080/"
        }
      },
      "execution_count": null,
      "outputs": [
        {
          "output_type": "execute_result",
          "data": {
            "text/plain": [
              "float"
            ]
          },
          "metadata": {},
          "execution_count": 33
        }
      ]
    },
    {
      "cell_type": "code",
      "source": [
        "nombre = 'Alvaro'\n",
        "type(nombre)"
      ],
      "metadata": {
        "id": "0cQyrUUpg3xi",
        "outputId": "80144b88-89b2-4e1e-c408-265eaf7b6f7b",
        "colab": {
          "base_uri": "https://localhost:8080/"
        }
      },
      "execution_count": null,
      "outputs": [
        {
          "output_type": "execute_result",
          "data": {
            "text/plain": [
              "str"
            ]
          },
          "metadata": {},
          "execution_count": 34
        }
      ]
    },
    {
      "cell_type": "code",
      "source": [
        "v = True\n",
        "type(v)"
      ],
      "metadata": {
        "id": "RGY3nRIjg9hF",
        "outputId": "a4caee51-269a-4dc0-b26a-38bb68a79273",
        "colab": {
          "base_uri": "https://localhost:8080/"
        }
      },
      "execution_count": null,
      "outputs": [
        {
          "output_type": "execute_result",
          "data": {
            "text/plain": [
              "bool"
            ]
          },
          "metadata": {},
          "execution_count": 35
        }
      ]
    },
    {
      "cell_type": "markdown",
      "source": [
        "En un conjunto de datos escolares podemos tener varios tipos de informaciones. Supongamos que tenemos acceso a la ficha de datos del alumno *Penélope Camacho*, cómo transformamos este nombre en variables de Python?\n",
        "\n",
        "#### Ficha:\n",
        "\n",
        "- Nombre: Penélope Camacho\n",
        "- Edad: 11 años\n",
        "- Promedio del semestre: 9,75\n",
        "- Situación de aprobación: Verdadera (aprobado)"
      ],
      "metadata": {
        "id": "O-FxDumfWu0C"
      }
    },
    {
      "cell_type": "code",
      "source": [
        "nombre_estudiante = 'Penélope Camacho'\n",
        "edad_estudiante = 11\n",
        "promedio_estudiante = 9.75\n",
        "aprobado = True\n",
        "\n",
        "print(nombre_estudiante,edad_estudiante,promedio_estudiante,aprobado)\n",
        "print(type(nombre_estudiante),type(edad_estudiante),type(promedio_estudiante),type(aprobado))"
      ],
      "metadata": {
        "id": "FabQ7jQf_8Xt",
        "outputId": "0a61906a-8569-4f92-b3aa-c1482a682c36",
        "colab": {
          "base_uri": "https://localhost:8080/"
        }
      },
      "execution_count": null,
      "outputs": [
        {
          "output_type": "stream",
          "name": "stdout",
          "text": [
            "Penélope Camacho 11 9.75 True\n",
            "<class 'str'> <class 'int'> <class 'float'> <class 'bool'>\n"
          ]
        }
      ]
    },
    {
      "cell_type": "markdown",
      "source": [
        "## Variables numéricas\n",
        "\n",
        "Entre los tipos de datos numéricos vamos a enfocarnos en los tipos `entero` y `float`."
      ],
      "metadata": {
        "id": "KFq_8Sxf-OG0"
      }
    },
    {
      "cell_type": "markdown",
      "source": [
        "Tenemos una tabla de información sobre los diversos cargos, cantidad de personas empleadas y el salario correspondiente:\n",
        "\n",
        "|Cargo | Cantidad | Salario|\n",
        "|---|---|---|\n",
        "|Vigilante | 5 | 300 |\n",
        "|Docente | 16| 500|\n",
        "|Coordinador| 2 |600|\n",
        "\n",
        "Necesitamos trabajar con estos datos para obtener:\n",
        "\n",
        "- La cantidad total de empleados;\n",
        "- La diferencia entre el salario más bajo y más alto; y\n",
        "- El promedio ponderado de los salarios de los empleados de la escuela."
      ],
      "metadata": {
        "id": "8_HYUbkVYdQY"
      }
    },
    {
      "cell_type": "code",
      "source": [
        "c_vigilante = 5\n",
        "s_vigilante = 300\n",
        "\n",
        "c_docente = 16\n",
        "s_docente = 500\n",
        "\n",
        "c_coordinador = 2\n",
        "s_coordinador = 600"
      ],
      "metadata": {
        "id": "F_X-wxdm_5Ys"
      },
      "execution_count": null,
      "outputs": []
    },
    {
      "cell_type": "code",
      "source": [
        "total_empleados = c_vigilante + c_docente + c_coordinador\n",
        "total_empleados"
      ],
      "metadata": {
        "id": "gKmBbhII_5b9",
        "outputId": "300f48ab-3659-4fb4-a91d-bb5f153f3773",
        "colab": {
          "base_uri": "https://localhost:8080/"
        }
      },
      "execution_count": null,
      "outputs": [
        {
          "output_type": "execute_result",
          "data": {
            "text/plain": [
              "23"
            ]
          },
          "metadata": {},
          "execution_count": 40
        }
      ]
    },
    {
      "cell_type": "code",
      "source": [
        "diferencia_salario = s_coordinador - s_vigilante\n",
        "diferencia_salario"
      ],
      "metadata": {
        "id": "fIugsxNy_53j",
        "outputId": "eb6c9dd1-cef8-4a2f-f812-7adea1ba876e",
        "colab": {
          "base_uri": "https://localhost:8080/"
        }
      },
      "execution_count": null,
      "outputs": [
        {
          "output_type": "execute_result",
          "data": {
            "text/plain": [
              "300"
            ]
          },
          "metadata": {},
          "execution_count": 41
        }
      ]
    },
    {
      "cell_type": "code",
      "source": [
        "promedio_salarios = (c_vigilante*s_vigilante + c_docente*s_docente + c_coordinador*s_coordinador)/total_empleados\n",
        "promedio_salarios"
      ],
      "metadata": {
        "id": "aqv9Ag2PiBOV",
        "outputId": "e72791ba-ec99-42e3-f3f6-ee77472d130c",
        "colab": {
          "base_uri": "https://localhost:8080/"
        }
      },
      "execution_count": null,
      "outputs": [
        {
          "output_type": "execute_result",
          "data": {
            "text/plain": [
              "465.2173913043478"
            ]
          },
          "metadata": {},
          "execution_count": 42
        }
      ]
    },
    {
      "cell_type": "code",
      "source": [
        "type(promedio_salarios)"
      ],
      "metadata": {
        "id": "_RPTm8SEiWnv",
        "outputId": "5f59fe0c-b6d7-46a5-e413-1197c7f61ebf",
        "colab": {
          "base_uri": "https://localhost:8080/"
        }
      },
      "execution_count": null,
      "outputs": [
        {
          "output_type": "execute_result",
          "data": {
            "text/plain": [
              "float"
            ]
          },
          "metadata": {},
          "execution_count": 43
        }
      ]
    },
    {
      "cell_type": "markdown",
      "source": [
        "## Strings"
      ],
      "metadata": {
        "id": "yQy7b0ZWoD-P"
      }
    },
    {
      "cell_type": "markdown",
      "source": [
        "Strings hace referencia a un conjunto de caracteres formando un texto.\n",
        "\n",
        "Podemos crear Strings cuando atribuimos un dato a una variable entre comillas sencillas (`'`) o comillas dobles (`\"`)."
      ],
      "metadata": {
        "id": "vlo2-DXusv3s"
      }
    },
    {
      "cell_type": "code",
      "source": [
        "t = \"Alura\"\n",
        "type(t)"
      ],
      "metadata": {
        "id": "ityEWqvh_2wK",
        "outputId": "2970f8e8-b0e0-436c-d3a0-03fb9d4de75c",
        "colab": {
          "base_uri": "https://localhost:8080/"
        }
      },
      "execution_count": null,
      "outputs": [
        {
          "output_type": "execute_result",
          "data": {
            "text/plain": [
              "str"
            ]
          },
          "metadata": {},
          "execution_count": 45
        }
      ]
    },
    {
      "cell_type": "markdown",
      "source": [
        "Las variables textuales son objetos que poseen métodos que nos ayudan a formatear strings. Los métodos los podemos ejecutar al definir un objeto de acuerdo con la siguiente estructura:\n",
        "\n",
        "```\n",
        "objeto.metodo()\n",
        "```\n",
        "\n",
        "Existen métodos que no necesitan los `()`, siempre es una buena práctica verificar la documentación para cada caso."
      ],
      "metadata": {
        "id": "2e9UD_CCxqz_"
      }
    },
    {
      "cell_type": "markdown",
      "source": [
        "---\n",
        "**Situación:**\n",
        "\n",
        "Recibimos una variable con el nombre de una profesora de la escuela para añadirla a los registros. Sin embargo, necesitamos darle un tratamiento a este texto antes de insertarlo al sistema."
      ],
      "metadata": {
        "id": "p6aPmMGP4tf9"
      }
    },
    {
      "cell_type": "code",
      "source": [
        "texto = '  Micaela de los Sanyos '"
      ],
      "metadata": {
        "id": "icDWtYTjBO0n"
      },
      "execution_count": null,
      "outputs": []
    },
    {
      "cell_type": "markdown",
      "source": [
        "El objetivo final es que el nombre aparezca de la siguiente forma:\n",
        "\n",
        "```\n",
        "'MICAELA DE LOS SANTOS'\n",
        "```"
      ],
      "metadata": {
        "id": "Dg2ZXSZOGzjC"
      }
    },
    {
      "cell_type": "markdown",
      "source": [
        "### [`str.upper()` ](https://docs.python.org/3/library/stdtypes.html#str.upper)\n",
        "Convierte una string a mayúsculas."
      ],
      "metadata": {
        "id": "iVTAD8q702eN"
      }
    },
    {
      "cell_type": "code",
      "source": [
        "texto.upper()"
      ],
      "metadata": {
        "id": "wMVshJrY_ZXh",
        "outputId": "fcea8a7b-bdef-4f5f-f4f9-598f70af2a95",
        "colab": {
          "base_uri": "https://localhost:8080/",
          "height": 35
        }
      },
      "execution_count": null,
      "outputs": [
        {
          "output_type": "execute_result",
          "data": {
            "text/plain": [
              "'  MICAELA DE LOS SANYOS '"
            ],
            "application/vnd.google.colaboratory.intrinsic+json": {
              "type": "string"
            }
          },
          "metadata": {},
          "execution_count": 48
        }
      ]
    },
    {
      "cell_type": "markdown",
      "source": [
        "### [`str.lower()`](https://docs.python.org/3/library/stdtypes.html#str.lower)\n",
        "Convierte una string a minúsculas."
      ],
      "metadata": {
        "id": "hbDSBtMV1TpG"
      }
    },
    {
      "cell_type": "code",
      "source": [
        "texto.lower()"
      ],
      "metadata": {
        "id": "px3yEeNH_YK4",
        "outputId": "ba404c52-3c49-4d1d-be1b-981ecce58d70",
        "colab": {
          "base_uri": "https://localhost:8080/",
          "height": 35
        }
      },
      "execution_count": null,
      "outputs": [
        {
          "output_type": "execute_result",
          "data": {
            "text/plain": [
              "'  micaela de los sanyos '"
            ],
            "application/vnd.google.colaboratory.intrinsic+json": {
              "type": "string"
            }
          },
          "metadata": {},
          "execution_count": 49
        }
      ]
    },
    {
      "cell_type": "markdown",
      "source": [
        "### [`str.strip()`](https://docs.python.org/3/library/stdtypes.html#str.strip)\n",
        "Elimina los espacios en blanco al inicio y al final de una string."
      ],
      "metadata": {
        "id": "kz47eWM11gii"
      }
    },
    {
      "cell_type": "code",
      "source": [
        "texto.strip()"
      ],
      "metadata": {
        "id": "76dLgNa4_XAe",
        "outputId": "204fed6e-0bfd-43d8-ff3e-64d4040a8957",
        "colab": {
          "base_uri": "https://localhost:8080/",
          "height": 35
        }
      },
      "execution_count": null,
      "outputs": [
        {
          "output_type": "execute_result",
          "data": {
            "text/plain": [
              "'Micaela de los Sanyos'"
            ],
            "application/vnd.google.colaboratory.intrinsic+json": {
              "type": "string"
            }
          },
          "metadata": {},
          "execution_count": 50
        }
      ]
    },
    {
      "cell_type": "markdown",
      "source": [
        "### [`str.replace(antiguo, nuevo)`](https://docs.python.org/3/library/stdtypes.html#str.replace)\n",
        "\n",
        "Sustituye todas las ocurrencias del texto \"antiguo\" en la string por el  \"nuevo\"."
      ],
      "metadata": {
        "id": "m6notiyS1SCV"
      }
    },
    {
      "cell_type": "code",
      "source": [
        "texto.replace('y','t')"
      ],
      "metadata": {
        "id": "PNXAixtE_V6R",
        "outputId": "d509c528-3e1d-4cef-a6e2-36c08ab419ba",
        "colab": {
          "base_uri": "https://localhost:8080/",
          "height": 35
        }
      },
      "execution_count": null,
      "outputs": [
        {
          "output_type": "execute_result",
          "data": {
            "text/plain": [
              "'  Micaela de los Santos '"
            ],
            "application/vnd.google.colaboratory.intrinsic+json": {
              "type": "string"
            }
          },
          "metadata": {},
          "execution_count": 51
        }
      ]
    },
    {
      "cell_type": "code",
      "source": [
        "\n"
      ],
      "metadata": {
        "id": "NcTeygERjNbC",
        "outputId": "3174892c-97ed-4cbb-89bb-0a07c702fdd2",
        "colab": {
          "base_uri": "https://localhost:8080/"
        }
      },
      "execution_count": null,
      "outputs": [
        {
          "output_type": "stream",
          "name": "stdout",
          "text": [
            "MICAELA DE LOS SANTOS\n",
            "132828939027200 132828942869296\n"
          ]
        }
      ]
    },
    {
      "cell_type": "markdown",
      "source": [
        "### Observaciones\n",
        "\n",
        "1. Los métodos devuelven una **tranformación**, no son ejecutados directamente sobre la variable donde está almacenado el texto.\n",
        "\n",
        "2. Adicionalmente, podemos acumular la ejecución de los métodos."
      ],
      "metadata": {
        "id": "zukvEjhG2Rcn"
      }
    },
    {
      "cell_type": "code",
      "source": [
        "texto.strip().replace('y','t').upper()"
      ],
      "metadata": {
        "id": "JjkBRklr_T5n",
        "outputId": "f40c9ab8-51a9-4d75-ba42-17cde6366ccf",
        "colab": {
          "base_uri": "https://localhost:8080/",
          "height": 35
        }
      },
      "execution_count": null,
      "outputs": [
        {
          "output_type": "execute_result",
          "data": {
            "text/plain": [
              "'MICAELA DE LOS SANTOS'"
            ],
            "application/vnd.google.colaboratory.intrinsic+json": {
              "type": "string"
            }
          },
          "metadata": {},
          "execution_count": 54
        }
      ]
    },
    {
      "cell_type": "markdown",
      "source": [
        "Para que la transformación se pueda ejecutar debemos atribuir la salida de las transformaciones a las variables"
      ],
      "metadata": {
        "id": "1KbwfVut2h6I"
      }
    },
    {
      "cell_type": "code",
      "source": [
        "nuevo_texto = texto.strip().replace('y','t').upper()"
      ],
      "metadata": {
        "id": "ocPP-Jaj_SJI"
      },
      "execution_count": null,
      "outputs": []
    },
    {
      "cell_type": "code",
      "source": [
        "print(nuevo_texto)\n",
        "print(id(texto),id(nuevo_texto))"
      ],
      "metadata": {
        "id": "m1RvLGZZ_SP3",
        "outputId": "5f21da29-5186-4a76-91ee-5748bfa79ab1",
        "colab": {
          "base_uri": "https://localhost:8080/"
        }
      },
      "execution_count": null,
      "outputs": [
        {
          "output_type": "stream",
          "name": "stdout",
          "text": [
            "MICAELA DE LOS SANTOS\n"
          ]
        }
      ]
    },
    {
      "cell_type": "markdown",
      "source": [
        "## Capturando datos\n",
        "\n",
        "En algunas aplicaciones necesitamos capturar los valores del usuario de nuestro proyecto. En python, logramos capturar los datos del usuario a través del comando [`input()`](https://docs.python.org/3/library/functions.html#input).\n",
        "\n",
        "Para ejecutar la captura debemos atribuir el resultado de esta función a una variable."
      ],
      "metadata": {
        "id": "0h9Fh5G9kHCa"
      }
    },
    {
      "cell_type": "code",
      "source": [
        "nombre =input(\"Escribe tu nombre: \")"
      ],
      "metadata": {
        "id": "zbH_9i3q_PdY",
        "outputId": "8d69c554-6958-41f2-a630-848e686fe9e8",
        "colab": {
          "base_uri": "https://localhost:8080/"
        }
      },
      "execution_count": null,
      "outputs": [
        {
          "name": "stdout",
          "output_type": "stream",
          "text": [
            "Escribe tu nombre: Carlos\n"
          ]
        }
      ]
    },
    {
      "cell_type": "code",
      "source": [
        "type(nombre)"
      ],
      "metadata": {
        "id": "JZy1Q9Tl_PgL",
        "outputId": "fd6b2536-e7be-4af0-c09f-3da200d7992d",
        "colab": {
          "base_uri": "https://localhost:8080/"
        }
      },
      "execution_count": null,
      "outputs": [
        {
          "output_type": "execute_result",
          "data": {
            "text/plain": [
              "str"
            ]
          },
          "metadata": {},
          "execution_count": 59
        }
      ]
    },
    {
      "cell_type": "code",
      "source": [
        "ano_admision =input('Digita el año de admisión: ')"
      ],
      "metadata": {
        "id": "8V79HBVRkXnM",
        "outputId": "08a60b66-ced3-46b4-ff82-ea2b5707985c",
        "colab": {
          "base_uri": "https://localhost:8080/"
        }
      },
      "execution_count": null,
      "outputs": [
        {
          "name": "stdout",
          "output_type": "stream",
          "text": [
            "Digita el año de admisión: 2023\n"
          ]
        }
      ]
    },
    {
      "cell_type": "code",
      "source": [
        "type(ano_admision)"
      ],
      "metadata": {
        "id": "8CnVd47GkeY2",
        "outputId": "1b01fd96-2a87-43de-9abb-f368bca35a1a",
        "colab": {
          "base_uri": "https://localhost:8080/"
        }
      },
      "execution_count": null,
      "outputs": [
        {
          "output_type": "execute_result",
          "data": {
            "text/plain": [
              "str"
            ]
          },
          "metadata": {},
          "execution_count": 61
        }
      ]
    },
    {
      "cell_type": "code",
      "source": [
        "ano_salida =input('Digita el año de salida: ')"
      ],
      "metadata": {
        "id": "z8JzBfcdkiw5",
        "outputId": "6fb09ab0-e66f-4793-ab54-a98f6afa81aa",
        "colab": {
          "base_uri": "https://localhost:8080/"
        }
      },
      "execution_count": null,
      "outputs": [
        {
          "name": "stdout",
          "output_type": "stream",
          "text": [
            "Digita el año de salida: 2025\n"
          ]
        }
      ]
    },
    {
      "cell_type": "code",
      "source": [
        "type(ano_salida)"
      ],
      "metadata": {
        "id": "aN6X6Asxkm6q",
        "outputId": "2aa30f64-d964-489f-8b28-89a467c630f5",
        "colab": {
          "base_uri": "https://localhost:8080/"
        }
      },
      "execution_count": null,
      "outputs": [
        {
          "output_type": "execute_result",
          "data": {
            "text/plain": [
              "str"
            ]
          },
          "metadata": {},
          "execution_count": 63
        }
      ]
    },
    {
      "cell_type": "code",
      "source": [
        "ano_salida + ano_admision"
      ],
      "metadata": {
        "id": "v7gEzvvQkpc3",
        "outputId": "e7921609-9eae-4452-e7d2-bcac0686f900",
        "colab": {
          "base_uri": "https://localhost:8080/",
          "height": 35
        }
      },
      "execution_count": null,
      "outputs": [
        {
          "output_type": "execute_result",
          "data": {
            "text/plain": [
              "'20252023'"
            ],
            "application/vnd.google.colaboratory.intrinsic+json": {
              "type": "string"
            }
          },
          "metadata": {},
          "execution_count": 64
        }
      ]
    },
    {
      "cell_type": "markdown",
      "source": [
        "La salida de este comando siempre será una *string*. Esto quiere decir que aunque capturemos un valor de variable numérica, este será de tipo string.\n",
        "\n",
        "Entonces, será necesario **convertir el resultado cuando no se desea utilizar el valor como tipo string**."
      ],
      "metadata": {
        "id": "7z7hcLCk_aCY"
      }
    },
    {
      "cell_type": "markdown",
      "source": [
        "Existen funciones para la conversión de valores:\n",
        "\n",
        "- Enteros: [`int(dato_para_conversion)`](https://docs.python.org/3/library/functions.html#int)\n",
        "- Coma flotante: [`float(dato_para_conversion)`](https://docs.python.org/3/library/functions.html#float)\n",
        "- String: [`str(dato_para_conversion)`](https://docs.python.org/3/library/functions.html#func-str)\n",
        "- Booleano: [`bool(dato_para_conversion)`](https://docs.python.org/3/library/functions.html#bool)"
      ],
      "metadata": {
        "id": "TOlegATj1Jfp"
      }
    },
    {
      "cell_type": "code",
      "source": [
        "ano_admision =int(input('Digita el año de admisión: '))\n",
        "type(ano_admision)"
      ],
      "metadata": {
        "id": "M2ueeH6l_NMe",
        "outputId": "fd20cdc0-b101-4f41-bbf2-763757bf347e",
        "colab": {
          "base_uri": "https://localhost:8080/"
        }
      },
      "execution_count": null,
      "outputs": [
        {
          "name": "stdout",
          "output_type": "stream",
          "text": [
            "Digita el año de admisión: 2023\n"
          ]
        },
        {
          "output_type": "execute_result",
          "data": {
            "text/plain": [
              "int"
            ]
          },
          "metadata": {},
          "execution_count": 67
        }
      ]
    },
    {
      "cell_type": "code",
      "source": [
        "nota_admision =float(input('Digita la nota de admisión: '))\n",
        "type(nota_admision)"
      ],
      "metadata": {
        "id": "xfWwuViK_NUn",
        "outputId": "282861bc-093e-4988-e6e6-518b1b4bf6c4",
        "colab": {
          "base_uri": "https://localhost:8080/"
        }
      },
      "execution_count": null,
      "outputs": [
        {
          "name": "stdout",
          "output_type": "stream",
          "text": [
            "Digita la nota de admisión: 12.3\n"
          ]
        },
        {
          "output_type": "execute_result",
          "data": {
            "text/plain": [
              "float"
            ]
          },
          "metadata": {},
          "execution_count": 68
        }
      ]
    },
    {
      "cell_type": "markdown",
      "source": [
        "Trataremos de representar mejor ahora el resultado de la transformación que obtuvimos. Nosotros podemos formatear y presentar nuestro resultado mezclando strings con valores no textuales.\n",
        "\n",
        "Para ello utilizamos la estructura de formatación `f` con strings."
      ],
      "metadata": {
        "id": "yNI2-XTbB3aS"
      }
    },
    {
      "cell_type": "code",
      "source": [
        "print(f'\\tEl año de admisión fue: {ano_admision} \\n\\tLa nota de admisión fue: {nota_admision}')"
      ],
      "metadata": {
        "id": "keJjA5N9_K5i",
        "outputId": "50f77907-d350-4566-f949-d79b27c8c2d6",
        "colab": {
          "base_uri": "https://localhost:8080/"
        }
      },
      "execution_count": null,
      "outputs": [
        {
          "output_type": "stream",
          "name": "stdout",
          "text": [
            "\tEl año de admisión fue: 2023 \n",
            "\tLa nota de admisión fue: 12.3\n"
          ]
        }
      ]
    },
    {
      "cell_type": "code",
      "source": [
        "nombre = \"Ana María\"\n",
        "edad = 17\n",
        "print(f\"El nombre de la alumna es {nombre} y su edad es {edad} años.\")"
      ],
      "metadata": {
        "id": "1FOiDoyylyA9",
        "outputId": "5096340f-80e6-4f33-e807-57eee82c7e54",
        "colab": {
          "base_uri": "https://localhost:8080/"
        }
      },
      "execution_count": null,
      "outputs": [
        {
          "output_type": "stream",
          "name": "stdout",
          "text": [
            "El nombre de la alumna es Ana María y su edad es 17 años.\n"
          ]
        }
      ]
    },
    {
      "cell_type": "code",
      "source": [
        "nombre_alumno = 'Penélope Camacho'\n",
        "print('Nombre del alumno: %s' %(nombre_alumno))"
      ],
      "metadata": {
        "id": "tdm9uEejlvN6",
        "outputId": "6ed361b7-6239-4c59-a965-8f30d0d9f925",
        "colab": {
          "base_uri": "https://localhost:8080/"
        }
      },
      "execution_count": null,
      "outputs": [
        {
          "output_type": "stream",
          "name": "stdout",
          "text": [
            "Nombre del alumno: Penélope Camacho\n"
          ]
        }
      ]
    },
    {
      "cell_type": "code",
      "source": [
        "nombre_alumno = 'Penélope Camacho'\n",
        "edad_alumno = 11\n",
        "media_alumno = 9.95\n",
        "print('Nombre del alumno es %s, tiene %d años y su media es %f.' %(nombre_alumno, edad_alumno, media_alumno))"
      ],
      "metadata": {
        "id": "4UAwRccul0CF",
        "outputId": "df0d14f6-0b55-4a52-d81c-04046b83588c",
        "colab": {
          "base_uri": "https://localhost:8080/"
        }
      },
      "execution_count": null,
      "outputs": [
        {
          "output_type": "stream",
          "name": "stdout",
          "text": [
            "Nombre del alumno es Penélope Camacho, tiene 11 años y su media es 9.950000.\n"
          ]
        }
      ]
    },
    {
      "cell_type": "code",
      "source": [
        "print('Nombre del alumno es %s, tiene %d años y su media es %.2f.' %(nombre_alumno, edad_alumno, media_alumno))"
      ],
      "metadata": {
        "id": "sOv-vrjwl9kw",
        "outputId": "45c5e611-97a3-424e-bb50-b2d2d76ba3b2",
        "colab": {
          "base_uri": "https://localhost:8080/"
        }
      },
      "execution_count": null,
      "outputs": [
        {
          "output_type": "stream",
          "name": "stdout",
          "text": [
            "Nombre del alumno es Penélope Camacho, tiene 11 años y su media es 9.95.\n"
          ]
        }
      ]
    },
    {
      "cell_type": "code",
      "source": [
        "x = True\n",
        "print(\"Valor de x: %s\" % str(x))"
      ],
      "metadata": {
        "id": "VSLsr6d3mHF0",
        "outputId": "3637c246-e1d5-408a-af9e-c15281d0c233",
        "colab": {
          "base_uri": "https://localhost:8080/"
        }
      },
      "execution_count": null,
      "outputs": [
        {
          "output_type": "stream",
          "name": "stdout",
          "text": [
            "Valor de x: True\n"
          ]
        }
      ]
    },
    {
      "cell_type": "code",
      "source": [
        "nombre_alumno = 'Penélope Camacho'\n",
        "print('Nombre del alumno: {}'.format(nombre_alumno))"
      ],
      "metadata": {
        "id": "9vHQRerCmNV3",
        "outputId": "6fa12820-064a-41fe-8097-3aa8500a62f8",
        "colab": {
          "base_uri": "https://localhost:8080/"
        }
      },
      "execution_count": null,
      "outputs": [
        {
          "output_type": "stream",
          "name": "stdout",
          "text": [
            "Nombre del alumno: Penélope Camacho\n"
          ]
        }
      ]
    },
    {
      "cell_type": "code",
      "source": [
        "nombre_alumno = 'Fabricio Daniel'\n",
        "edad_alumno = 15\n",
        "media_alumno = 9.95\n",
        "print('Nombre del alumno es {}, tiene {} años y su media es {}.' .format(nombre_alumno, edad_alumno, media_alumno))"
      ],
      "metadata": {
        "id": "aY0r1XvZmQ_r",
        "outputId": "101a08e1-411c-4352-d7b1-dd66ad1f4210",
        "colab": {
          "base_uri": "https://localhost:8080/"
        }
      },
      "execution_count": null,
      "outputs": [
        {
          "output_type": "stream",
          "name": "stdout",
          "text": [
            "Nombre del alumno es Fabricio Daniel, tiene 15 años y su media es 9.95.\n"
          ]
        }
      ]
    },
    {
      "cell_type": "code",
      "source": [
        "print(\"Estudiar es un esfuerzo constante,\\nEs como cultivar una planta,\\nNecesitamos dedicación y paciencia,\\nPara ver madurar el fruto.\")"
      ],
      "metadata": {
        "id": "cuJJZ8gSmTXh",
        "outputId": "3b83d6bb-5bde-46f2-fb03-90e1c38ccbba",
        "colab": {
          "base_uri": "https://localhost:8080/"
        }
      },
      "execution_count": null,
      "outputs": [
        {
          "output_type": "stream",
          "name": "stdout",
          "text": [
            "Estudiar es un esfuerzo constante,\n",
            "Es como cultivar una planta,\n",
            "Necesitamos dedicación y paciencia,\n",
            "Para ver madurar el fruto.\n"
          ]
        }
      ]
    },
    {
      "cell_type": "code",
      "source": [
        "print('Cantidad\\tCalidad\\n5 muestras\\tAlta\\n3 muestras\\tBaja')"
      ],
      "metadata": {
        "id": "W0qwSqt9mVPd",
        "outputId": "105a6e52-490a-4de4-a675-f0689a0d19cb",
        "colab": {
          "base_uri": "https://localhost:8080/"
        }
      },
      "execution_count": null,
      "outputs": [
        {
          "output_type": "stream",
          "name": "stdout",
          "text": [
            "Cantidad\tCalidad\n",
            "5 muestras\tAlta\n",
            "3 muestras\tBaja\n"
          ]
        }
      ]
    },
    {
      "cell_type": "code",
      "source": [
        "print(\"Ruta del archivo: C:\\\\archivos\\\\documento.csv\")"
      ],
      "metadata": {
        "id": "UB-2ZigEmZr8",
        "outputId": "bd770878-5a90-4107-8fe1-996cccb71e21",
        "colab": {
          "base_uri": "https://localhost:8080/"
        }
      },
      "execution_count": null,
      "outputs": [
        {
          "output_type": "stream",
          "name": "stdout",
          "text": [
            "Ruta del archivo: C:\\archivos\\documento.csv\n"
          ]
        }
      ]
    },
    {
      "cell_type": "code",
      "source": [
        "print(\"Una vez oí: \\\"Los frutos del conocimiento son los más dulces y duraderos de todos.\\\"\")"
      ],
      "metadata": {
        "id": "Guna9KOHmafk",
        "outputId": "69493072-22e3-458c-a570-a057d3fc3fdd",
        "colab": {
          "base_uri": "https://localhost:8080/"
        }
      },
      "execution_count": null,
      "outputs": [
        {
          "output_type": "stream",
          "name": "stdout",
          "text": [
            "Una vez oí: \"Los frutos del conocimiento son los más dulces y duraderos de todos.\"\n"
          ]
        }
      ]
    },
    {
      "cell_type": "code",
      "source": [
        "print('Mi profesora una vez dijo: \\'Estudiar es la clave del éxito.\\'')"
      ],
      "metadata": {
        "id": "jcFdNqrUmgEf",
        "outputId": "857f47b1-156f-4146-b0ee-e8a6ec83df2e",
        "colab": {
          "base_uri": "https://localhost:8080/"
        }
      },
      "execution_count": null,
      "outputs": [
        {
          "output_type": "stream",
          "name": "stdout",
          "text": [
            "Mi profesora una vez dijo: 'Estudiar es la clave del éxito.'\n"
          ]
        }
      ]
    },
    {
      "cell_type": "markdown",
      "source": [
        "# Estructuras condicionales"
      ],
      "metadata": {
        "id": "NwRaiHHHhhyl"
      }
    },
    {
      "cell_type": "code",
      "source": [
        "# Nota de aprobación entre 7 y 10 == nota de aprobación >= 7\n",
        "# Nota de reprobación es menor a 7 == nota de reprobación < 7\n",
        "\n",
        "'''\n",
        "Si la nota es mayor o igual a 7 entonces el estudiando aprueba\n",
        "Si no , la persona reprueba\n",
        "'''"
      ],
      "metadata": {
        "id": "pa4gLncu-mvU",
        "outputId": "6b8a27d1-1cb5-400a-bb2c-005f1c7b5fa7",
        "colab": {
          "base_uri": "https://localhost:8080/"
        }
      },
      "execution_count": null,
      "outputs": [
        {
          "output_type": "stream",
          "name": "stdout",
          "text": [
            "El nombre de la alumna es Ana María y su edad es 17 años.\n"
          ]
        }
      ]
    },
    {
      "cell_type": "markdown",
      "source": [
        "## `IF` y `ELSE`\n",
        "\n",
        "Los comandos `if` y `else` son dos estructuras condicionales. El comando `if` ejecutará el bloque de comandos en caso de que la condición citada sea  **verdadera**. El comando `else` ejecutará el bloque de comandos en el caso de que la condicional de `if` sea **falsa**."
      ],
      "metadata": {
        "id": "qXZqg9aYEhAh"
      }
    },
    {
      "cell_type": "markdown",
      "source": [
        "El comando `if` es una palabra clave en Python que significa \"si\". Este se emplea para conformar la estructura condicional, que te permite verificar si una determinada condición es verdadera o falsa e, inmediatamente después, ejecute un bloque de código específico dependiendo del resultado de la verificación. La sintaxis para usar el comando `if` es:\n",
        "\n",
        "\n",
        "\n",
        "```\n",
        "if condicion:\n",
        "    # Realiza algo\n",
        "```\n",
        "\n"
      ],
      "metadata": {
        "id": "EIhlqHXd2Gil"
      }
    },
    {
      "cell_type": "code",
      "source": [
        "if 2 < 7:\n",
        "  print('La condición es verdadera')"
      ],
      "metadata": {
        "id": "S2S6XAFz-czM",
        "colab": {
          "base_uri": "https://localhost:8080/"
        },
        "outputId": "02d7fd72-335a-4a9f-f60f-9fbce8067599"
      },
      "execution_count": null,
      "outputs": [
        {
          "output_type": "stream",
          "name": "stdout",
          "text": [
            "La condición es verdadera\n"
          ]
        }
      ]
    },
    {
      "cell_type": "code",
      "source": [
        "if 2 > 7:\n",
        "  print('La condición es verdadera')\n",
        "print('Fin consulta')"
      ],
      "metadata": {
        "id": "YHkwMMyY-c1r",
        "colab": {
          "base_uri": "https://localhost:8080/"
        },
        "outputId": "9b6d8c64-19c0-49e6-c50f-fa2e4c165bea"
      },
      "execution_count": null,
      "outputs": [
        {
          "output_type": "stream",
          "name": "stdout",
          "text": [
            "Fin consulta\n"
          ]
        }
      ]
    },
    {
      "cell_type": "markdown",
      "source": [
        "Ya el comando `else` en Python se usa en junción con la palabra clave `if` para formar una estructura condicional. la sintaxis para usar el `else` es:\n",
        "\n",
        "```\n",
        "if condicion:\n",
        "    # Código en caso de que sea verdad\n",
        "elif otra_condicion:  \n",
        "    # Código en caso de que la primera condición sea falsa y esta sea verdadera\n",
        "else:\n",
        "    # Código en caso de que ninguna de las condiciones anteriores sea verdadera\n",
        "```\n",
        "\n",
        "el comando `else` se ejecuta cuando la condición verificada por el `if` es evaluada como `False`."
      ],
      "metadata": {
        "id": "27RW2v_sIKct"
      }
    },
    {
      "cell_type": "code",
      "source": [
        "if 2 > 7:\n",
        "  print('La condición es verdadera')\n",
        "else:\n",
        "  print('La condición es falsa')\n",
        "print('Fin consulta')"
      ],
      "metadata": {
        "id": "ZTfNJd_f-aOq",
        "colab": {
          "base_uri": "https://localhost:8080/"
        },
        "outputId": "aeb4d793-2013-4be6-f555-fbfe56b0ca98"
      },
      "execution_count": null,
      "outputs": [
        {
          "output_type": "stream",
          "name": "stdout",
          "text": [
            "La condición es falsa\n",
            "Fin consulta\n"
          ]
        }
      ]
    },
    {
      "cell_type": "code",
      "source": [
        "edad_maria = int(input('Ingrese la edad de María: '))\n",
        "edad_beatriz = int(input('Ingrese la edad de Beatriz: '))\n",
        "\n",
        "if edad_maria > edad_beatriz:\n",
        "  print('María es mayor que Beatriz.')"
      ],
      "metadata": {
        "id": "LPOb5MkV-btq",
        "colab": {
          "base_uri": "https://localhost:8080/"
        },
        "outputId": "8372a1fc-84d4-4a01-a2cf-8cc503a5e868"
      },
      "execution_count": null,
      "outputs": [
        {
          "output_type": "stream",
          "name": "stdout",
          "text": [
            "Ingrese la edad de María: 10\n",
            "Ingrese la edad de Beatriz: 5\n",
            "María es mayor que Beatriz.\n"
          ]
        }
      ]
    },
    {
      "cell_type": "code",
      "source": [
        "edad_maria = int(input('Ingrese la edad de María: '))\n",
        "edad_beatriz = int(input('Ingrese la edad de Beatriz: '))\n",
        "\n",
        "if edad_maria < edad_beatriz:\n",
        "  print('María es menor que Beatriz.')"
      ],
      "metadata": {
        "colab": {
          "base_uri": "https://localhost:8080/"
        },
        "id": "5k3vdWTent8A",
        "outputId": "c077d67e-c1af-4042-c097-80239ba7351c"
      },
      "execution_count": null,
      "outputs": [
        {
          "output_type": "stream",
          "name": "stdout",
          "text": [
            "Ingrese la edad de María: 5\n",
            "Ingrese la edad de Beatriz: 10\n",
            "María es menor que Beatriz.\n"
          ]
        }
      ]
    },
    {
      "cell_type": "code",
      "source": [
        "empleados_empresa_1 = int(input('Ingrese la cantidad de empleados de la empresa 1: '))\n",
        "empleados_empresa_2 = int(input('Ingrese la cantidad de empleados de la empresa 2: '))\n",
        "\n",
        "if empleados_empresa_1 <= empleados_empresa_2:\n",
        "  print('La empresa 1 tiene una cantidad de empleados menor o igual a la empresa 2.')"
      ],
      "metadata": {
        "colab": {
          "base_uri": "https://localhost:8080/"
        },
        "id": "mHV_Hl44n0Rt",
        "outputId": "8db2174e-82f5-4507-ec23-7328546b1df6"
      },
      "execution_count": null,
      "outputs": [
        {
          "name": "stdout",
          "output_type": "stream",
          "text": [
            "Ingrese la cantidad de empleados de la empresa 1: 15\n",
            "Ingrese la cantidad de empleados de la empresa 2: 12\n"
          ]
        }
      ]
    },
    {
      "cell_type": "code",
      "source": [
        "libro_1 = input('Ingrese el título del 1° libro: ')\n",
        "libro_2 = input('Ingrese el título del 2° libro: ')\n",
        "\n",
        "if libro_1 == libro_2:\n",
        "  print('Los libros tienen el mismo título.')"
      ],
      "metadata": {
        "colab": {
          "base_uri": "https://localhost:8080/"
        },
        "id": "85YJ0ZTYn2Mp",
        "outputId": "1b6aeaaa-6431-4def-fae0-b8d437b0d4cd"
      },
      "execution_count": null,
      "outputs": [
        {
          "output_type": "stream",
          "name": "stdout",
          "text": [
            "Ingrese el título del 1° libro: miau\n",
            "Ingrese el título del 2° libro: miau\n",
            "Los libros tienen el mismo título.\n"
          ]
        }
      ]
    },
    {
      "cell_type": "code",
      "source": [
        "libro_1 = input('Ingrese el título del 1° libro: ')\n",
        "libro_2 = input('Ingrese el título del 2° libro: ')\n",
        "\n",
        "if libro_1 != libro_2:\n",
        "  print('Los libros tienen títulos diferentes.')"
      ],
      "metadata": {
        "colab": {
          "base_uri": "https://localhost:8080/"
        },
        "id": "PGj0BGRdn5eM",
        "outputId": "75399a15-4836-45c9-eb50-7c3177fab745"
      },
      "execution_count": null,
      "outputs": [
        {
          "output_type": "stream",
          "name": "stdout",
          "text": [
            "Ingrese el título del 1° libro: Harry popoter\n",
            "Ingrese el título del 2° libro: Harry pother\n",
            "Los libros tienen títulos diferentes.\n"
          ]
        }
      ]
    },
    {
      "cell_type": "markdown",
      "source": [
        "---\n",
        "**Situación:**\n",
        "\n",
        "Recibiremos el promedio de la nota de los estudiantes y necesitamos de un algoritmo que ejecute el análisis y determine si el estudiante fue **Aprobado** o **Reprobado**, mostrando un mensaje del resultado. Para ser aprobado, el promedio necesita ser igual o superior a 7.0."
      ],
      "metadata": {
        "id": "BqORg85XX-Nl"
      }
    },
    {
      "cell_type": "code",
      "source": [
        "nota = float(input('Digita la nota: '))\n",
        "\n",
        "if nota >= 7:\n",
        "  print('Aprobo')\n",
        "else:\n",
        "  print('Reprobo')"
      ],
      "metadata": {
        "id": "UukCN4AQ-YYW",
        "colab": {
          "base_uri": "https://localhost:8080/"
        },
        "outputId": "f613c49b-7f18-482f-efa3-3f3c8491f09b"
      },
      "execution_count": null,
      "outputs": [
        {
          "output_type": "stream",
          "name": "stdout",
          "text": [
            "Digita la nota: 2\n",
            "Reprobo\n"
          ]
        }
      ]
    },
    {
      "cell_type": "markdown",
      "source": [
        "Ahora, nuestra institución educativa estableció que las personas que tengan el promedio entre 5.0 y 7.0 pueden participar del curso de **Recuperación** durante las vacaciones para lograr aprobar.\n",
        "\n",
        "Entonces podemos apoyarnos en un conjunto de `if`s para poder estructurar esta nueva condición."
      ],
      "metadata": {
        "id": "bD9O17HB6LUo"
      }
    },
    {
      "cell_type": "code",
      "source": [
        "nota = float(input('Digita la nota: '))\n",
        "\n",
        "if nota >= 7:\n",
        "  print('Aprobo')\n",
        "if 7 > nota >= 5:\n",
        "  print('Recuperación')\n",
        "if nota < 5:\n",
        "  print('Reprobo')"
      ],
      "metadata": {
        "id": "X0o8FW1H-YkA",
        "colab": {
          "base_uri": "https://localhost:8080/"
        },
        "outputId": "d4270b72-d3a9-435d-864d-5436a37e3819"
      },
      "execution_count": null,
      "outputs": [
        {
          "output_type": "stream",
          "name": "stdout",
          "text": [
            "Digita la nota: 5\n",
            "Recuperación\n"
          ]
        }
      ]
    },
    {
      "cell_type": "markdown",
      "source": [
        "Observa que en casos con 3 situaciones como este necesitamos definir bien nuestras condiciones. Pues, si realizamos una condición con `else` al final, este irá a considerar solamente la condición `if` inmediatamente anterior para generar la salida en caso de que el resultado de su operación lógica sea **falso** dando como resultado, dos o más ejecuciones.\n",
        "\n",
        "Por ejemplo:"
      ],
      "metadata": {
        "id": "D5e2mByjvycO"
      }
    },
    {
      "cell_type": "code",
      "source": [
        "nota = float(input('Digita la nota: '))\n",
        "\n",
        "if nota >= 7:\n",
        "  print('Aprobo')\n",
        "if 7 > nota >= 5:\n",
        "  print('Recuperación')\n",
        "else:\n",
        "  print('Reprobo')"
      ],
      "metadata": {
        "id": "C21JmOuK-VU8"
      },
      "execution_count": null,
      "outputs": []
    },
    {
      "cell_type": "markdown",
      "source": [
        "## `ELIF`\n",
        "\n",
        "El comando `elif` es una palabra clave en Python que significa \"si no, si\" y lo podemos considerar una *contracción* entre `else` e `if`. Se utiliza en conjunto con la palabra clave `if` para formar una estructura condicional en cadena."
      ],
      "metadata": {
        "id": "04T5g-7h4zWx"
      }
    },
    {
      "cell_type": "markdown",
      "source": [
        "la sintaxis para utilizar el comando `elif` es:\n",
        "\n",
        "```\n",
        "if condicion1:\n",
        "    # Realiza algo\n",
        "elif condicion2:\n",
        "    # Realiza otra cosa\n",
        "elif condicion3:\n",
        "    # Realiza otra cosa\n",
        "else:\n",
        "    # Realiza algo diferente\n",
        "```\n",
        "\n",
        "El comando `elif` permite que puedas verificar varias condiciones en cadena, economizando espacio en tu código. Si la primera condición se evalúa como `False`, el interpretador de Python evaluará la próxima condición con el `elif`. Ello continuará hasta que una condición sea evaluada como `True` o hasta que el `else` sea alcazado. Si ninguna de las condiciones es evaluada como `True`, la ejecución del código del comando `else` será iniciada."
      ],
      "metadata": {
        "id": "rNBHr5mm1Lm6"
      }
    },
    {
      "cell_type": "markdown",
      "source": [
        "Vamos a emplear el mismo caso anterior:"
      ],
      "metadata": {
        "id": "MVoykFbB4bd4"
      }
    },
    {
      "cell_type": "code",
      "source": [
        "nota = float(input('Digita la nota: '))\n",
        "\n",
        "if nota >= 7:\n",
        "  print('Aprobo')\n",
        "elif 7 > nota >= 5:\n",
        "  print('Recuperación')\n",
        "else:\n",
        "  print('Reprobo')"
      ],
      "metadata": {
        "id": "QFamB78s-TW_",
        "colab": {
          "base_uri": "https://localhost:8080/"
        },
        "outputId": "9f8aa072-cafd-4f04-edd7-757b94dfae59"
      },
      "execution_count": null,
      "outputs": [
        {
          "output_type": "stream",
          "name": "stdout",
          "text": [
            "Digita la nota: 9\n",
            "Aprobo\n"
          ]
        }
      ]
    },
    {
      "cell_type": "markdown",
      "source": [
        "## Operadores\n",
        "\n",
        "Durante la construcción de comandos a veces necesitamos de una elaboración mayor de la expresión condicional, necesitando que algunos operadores lógicos se encuentren integrados."
      ],
      "metadata": {
        "id": "Tf1wSOem6iwZ"
      }
    },
    {
      "cell_type": "markdown",
      "source": [
        "### `AND`, `OR`, `NOT`\n",
        "\n",
        "Los operadores lógicos `and`, `or` y `not` son usados para combinar expresiones lógicas en Python. Ellos son usados frecuentemente en conjunto con el comando `if` para crear estructuras condicionales más complejas.\n"
      ],
      "metadata": {
        "id": "GFIZnRWXGPWO"
      }
    },
    {
      "cell_type": "markdown",
      "source": [
        "- `AND` es usado para verificar si dos condiciones son verdaderas. La expresión lógica¹ `x and y` se evalúa como `True` tan solo si **ambas condiciones `x` y `y` son verdaderas**, y como `False` en caso contrario.\n",
        "\n",
        "- `OR` es usado para verificar si al menos una de las condiciones es verdadera. La expresión lógica `x or y` se evalúa como `True` **si al menos una de las condiciones `x` o `y` es verdadera**, y como `False` si ambas condiciones son falsas.\n",
        "\n",
        "- `NOT` es usado para **negar una condición**. La expresión lógica `not x` es evaluada como `True` si la condición x es falsa, y como `False` si la condición x es verdadera.\n",
        "\n",
        "¹ Una expresión lógica es una declaración que puede ser evaluada como verdadera o falsa. Ella se compone por operandos lógicos² y por operadores lógicos³, que son usados ​​para combinar varias expresiones lógicas en una única expresión.\n",
        "\n",
        "² Los operandos lógicos son los elementos que son comparados o evaluados en una expresión lógica. Ellos son generalmente valores verdaderos o falsos, pero también pueden ser expresiones lógicas más complejas. En Python, los operandos lógicos son los valores `True` y `False`.\n",
        "\n",
        "³ Los operadores lógicos son ls símbolos o palabras clave que son usados ​​para combinar varias expresiones lógicas en una única expresión. En Python, los operadores lógicos son `and`, `or` y `not`, bien como las palabras clave `if`, `elif` e `else`."
      ],
      "metadata": {
        "id": "Z_dgAoHXJbzB"
      }
    },
    {
      "cell_type": "markdown",
      "source": [
        "> Operadores lógicos más comunes\n",
        "\n",
        "|a|b|AND|OR|NOT|\n",
        "|-|-|-|-|-|\n",
        "|0|0|0|0|1\n",
        "|0|1|0|1|-\n",
        "|1|0|0|1|-\n",
        "|1|1|1|1|0\n"
      ],
      "metadata": {
        "id": "2E5aUogf-49u"
      }
    },
    {
      "cell_type": "code",
      "source": [
        "v = True\n",
        "f = False"
      ],
      "metadata": {
        "id": "DFKmpvmS-Pa6"
      },
      "execution_count": null,
      "outputs": []
    },
    {
      "cell_type": "code",
      "source": [
        "if v and v:\n",
        "  print('La condición es verdadera')\n",
        "else:\n",
        "    print('La condición es falsa')"
      ],
      "metadata": {
        "id": "W5BIrpOD-PeI",
        "colab": {
          "base_uri": "https://localhost:8080/"
        },
        "outputId": "f6bb7441-adc7-4683-9851-992e9d255826"
      },
      "execution_count": null,
      "outputs": [
        {
          "output_type": "stream",
          "name": "stdout",
          "text": [
            "La condición es verdadera\n"
          ]
        }
      ]
    },
    {
      "cell_type": "code",
      "source": [
        "if f and f:\n",
        "  print('La condición es verdadera')\n",
        "else:\n",
        "    print('La condición es falsa')"
      ],
      "metadata": {
        "colab": {
          "base_uri": "https://localhost:8080/"
        },
        "id": "-ncAEhsUqMm-",
        "outputId": "6d91e8df-33ab-4e97-bccb-794e932cbff9"
      },
      "execution_count": null,
      "outputs": [
        {
          "output_type": "stream",
          "name": "stdout",
          "text": [
            "La condición es falsa\n"
          ]
        }
      ]
    },
    {
      "cell_type": "code",
      "source": [
        "if v and f:\n",
        "  print('La condición es verdadera')\n",
        "else:\n",
        "    print('La condición es falsa')"
      ],
      "metadata": {
        "colab": {
          "base_uri": "https://localhost:8080/"
        },
        "id": "MUAs3zQgqO3y",
        "outputId": "90196fab-f00c-40c8-b691-2666c86ec66b"
      },
      "execution_count": null,
      "outputs": [
        {
          "output_type": "stream",
          "name": "stdout",
          "text": [
            "La condición es falsa\n"
          ]
        }
      ]
    },
    {
      "cell_type": "code",
      "source": [
        "if v or v:\n",
        "  print('La condición es verdadera')\n",
        "else:\n",
        "    print('La condición es falsa')"
      ],
      "metadata": {
        "colab": {
          "base_uri": "https://localhost:8080/"
        },
        "id": "Uub-J560qRj1",
        "outputId": "f900c88c-4d77-43ee-fde5-1195a797fbe9"
      },
      "execution_count": null,
      "outputs": [
        {
          "output_type": "stream",
          "name": "stdout",
          "text": [
            "La condición es verdadera\n"
          ]
        }
      ]
    },
    {
      "cell_type": "code",
      "source": [
        "if f or f:\n",
        "  print('La condición es verdadera')\n",
        "else:\n",
        "    print('La condición es falsa')"
      ],
      "metadata": {
        "id": "fpDhYxq4-PiM",
        "colab": {
          "base_uri": "https://localhost:8080/"
        },
        "outputId": "88bd065b-d5c9-4671-c8f3-5fb2f19f4905"
      },
      "execution_count": null,
      "outputs": [
        {
          "output_type": "stream",
          "name": "stdout",
          "text": [
            "La condición es falsa\n"
          ]
        }
      ]
    },
    {
      "cell_type": "code",
      "source": [
        "if v or f:\n",
        "  print('La condición es verdadera')\n",
        "else:\n",
        "    print('La condición es falsa')"
      ],
      "metadata": {
        "colab": {
          "base_uri": "https://localhost:8080/"
        },
        "id": "_3lrzTaXqS8j",
        "outputId": "af31eac5-5172-4aee-85be-d9de3da13144"
      },
      "execution_count": null,
      "outputs": [
        {
          "output_type": "stream",
          "name": "stdout",
          "text": [
            "La condición es verdadera\n"
          ]
        }
      ]
    },
    {
      "cell_type": "code",
      "source": [
        "if not v:\n",
        "  print('La condición es verdadera')\n",
        "else:\n",
        "    print('La condición es falsa')"
      ],
      "metadata": {
        "colab": {
          "base_uri": "https://localhost:8080/"
        },
        "id": "DLSbVKVWqVNp",
        "outputId": "95eb910c-7095-4b43-8733-ab8249283a68"
      },
      "execution_count": null,
      "outputs": [
        {
          "output_type": "stream",
          "name": "stdout",
          "text": [
            "La condición es falsa\n"
          ]
        }
      ]
    },
    {
      "cell_type": "code",
      "source": [
        "if not f:\n",
        "  print('La condición es verdadera')\n",
        "else:\n",
        "    print('La condición es falsa')"
      ],
      "metadata": {
        "colab": {
          "base_uri": "https://localhost:8080/"
        },
        "id": "e2vR2Ywpqc0r",
        "outputId": "2cc2a991-34df-4bec-9593-992b1bec45f6"
      },
      "execution_count": null,
      "outputs": [
        {
          "output_type": "stream",
          "name": "stdout",
          "text": [
            "La condición es verdadera\n"
          ]
        }
      ]
    },
    {
      "cell_type": "markdown",
      "source": [
        "### `IN`\n",
        "\n",
        "Es usado para verificar si un elemento está presente en una lista, tupla u otra colección de conjunto. La expresión `x in y` se evalúa como `True` si el elemento `x` esta presente na variávelen la variable de conjunto `y`, y como `False` en caso contrario."
      ],
      "metadata": {
        "id": "w7EXG1dhWtja"
      }
    },
    {
      "cell_type": "markdown",
      "source": [
        "Podemos verificarlo con variables de texto.\n",
        "\n",
        "---\n",
        "\n",
        "**Situación:**\n",
        "\n",
        "En la escuela nos entregaron una lista con nombres de estudiantes que fueron aprobados según el promedio del semestre, pero es necesario verificar si algunos nombres están en esa lista para confirmar que los datos estén correctos.\n",
        "\n",
        "La lista distribuida puede ser observada a continuación:\n",
        "\n",
        "```\n",
        "lista = 'Juan Pérez, María González, Pedro Rodríguez, Ana López, Carlos Martínez,\n",
        "    Laura Sánchez, José García, Elena Fernández, Luis Morales, Carmen Torres,\n",
        "    David Ruiz, Isabel Ramírez, Javier Díaz, Sara Herrera, Miguel Castro,\n",
        "    Patricia Ortega, Francisco Vargas, Marta Jiménez, Manuel Medina, Rosa Molina,\n",
        "    Alejandro Silva, Silvia Ruiz, Andrés Torres, Natalia Soto, Diego Guerrero,\n",
        "    Paula Ríos, Ricardo Navarro, Alicia Cordero, Carlos Vidal, Lorena Gómez'\n",
        "```\n",
        "\n",
        "Los nombres que necesitas verificar son los siguientes:\n",
        "\n",
        "```\n",
        "nombre_1 = 'Miguel Castro'\n",
        "nombre_2 = 'Marcelo Noguera'\n",
        "```"
      ],
      "metadata": {
        "id": "enJNp6JenQbq"
      }
    },
    {
      "cell_type": "code",
      "source": [
        "lista = 'Juan Pérez, María González, Pedro Rodríguez, Ana López, Carlos Martínez, Laura Sánchez, José García, Elena Fernández, Luis Morales, Carmen Torres, David Ruiz, Isabel Ramírez, Javier Díaz, Sara Herrera, Miguel Castro,Patricia Ortega, Francisco Vargas, Marta Jiménez, Manuel Medina, Rosa Molina,Alejandro Silva, Silvia Ruiz, Andrés Torres, Natalia Soto, Diego Guerrero,Paula Ríos, Ricardo Navarro, Alicia Cordero, Carlos Vidal, Lorena Gómez'"
      ],
      "metadata": {
        "id": "gPPN9BCT-Mki"
      },
      "execution_count": null,
      "outputs": []
    },
    {
      "cell_type": "code",
      "source": [
        "nombre_1 = 'Miguel Castro'\n",
        "nombre_2 = 'Marcelo Noguera'"
      ],
      "metadata": {
        "id": "GINbG3Fa-Mnb"
      },
      "execution_count": null,
      "outputs": []
    },
    {
      "cell_type": "code",
      "source": [
        "if nombre_1 in lista:\n",
        "  print('Estudiante aprobo')\n",
        "else:\n",
        "  print('Estudiante reprobo')"
      ],
      "metadata": {
        "id": "hk-RhNRT-Mp7",
        "colab": {
          "base_uri": "https://localhost:8080/"
        },
        "outputId": "6ca45f56-c7e9-4d3e-f3f8-b9c312a6cb3e"
      },
      "execution_count": null,
      "outputs": [
        {
          "output_type": "stream",
          "name": "stdout",
          "text": [
            "Estudiante aprobo\n"
          ]
        }
      ]
    },
    {
      "cell_type": "code",
      "source": [
        "if nombre_2 in lista:\n",
        "  print('Estudiante aprobo')\n",
        "else:\n",
        "  print('Estudiante reprobo')"
      ],
      "metadata": {
        "colab": {
          "base_uri": "https://localhost:8080/"
        },
        "id": "8zlG1CHIq9FS",
        "outputId": "5ca1dc77-91bd-4adb-8cb8-48da3eafb81a"
      },
      "execution_count": null,
      "outputs": [
        {
          "output_type": "stream",
          "name": "stdout",
          "text": [
            "Estudiante reprobo\n"
          ]
        }
      ]
    },
    {
      "cell_type": "markdown",
      "source": [
        "# Estructuras de repetición"
      ],
      "metadata": {
        "id": "aL1vJPewvwvz"
      }
    },
    {
      "cell_type": "markdown",
      "source": [
        "Cuando tenemos que ejecutar un mismo bloque de comandos durante varias ocasiones no es nada práctico hacerlo a mano.\n",
        "\n",
        "**Situación**: Nos fue solicitado obtener e imprimir el promedio de 2 notas de **3 estudantes**:"
      ],
      "metadata": {
        "id": "VcPfCa8d-84t"
      }
    },
    {
      "cell_type": "code",
      "source": [
        "nota_1 = float(input('Digite la primera nota: '))\n",
        "nota_2 = float(input('Digite la segunda nota: '))\n",
        "print(f'El promedio del estudiante 1 es: {(nota_1 + nota_2)/2}')\n",
        "\n",
        "nota_1 = float(input('Digite la primera nota: '))\n",
        "nota_2 = float(input('Digite la segunda nota: '))\n",
        "print(f'El promedio del estudiante 2 es: {(nota_1 + nota_2)/2}')\n",
        "\n",
        "nota_1 = float(input('Digite la primera nota: '))\n",
        "nota_2 = float(input('Digite la segunda nota: '))\n",
        "print(f'El promedio del estudiante 3 es: {(nota_1 + nota_2)/2}')"
      ],
      "metadata": {
        "id": "xcx21IGT9qA0",
        "colab": {
          "base_uri": "https://localhost:8080/"
        },
        "outputId": "c313d111-41d2-46d1-9b9f-fa0fee0d799e"
      },
      "execution_count": null,
      "outputs": [
        {
          "output_type": "stream",
          "name": "stdout",
          "text": [
            "Digite la primera nota: 14\n",
            "Digite la segunda nota: 16\n",
            "El promedio del estudiante 1 es: 15.0\n",
            "Digite la primera nota: 14\n",
            "Digite la segunda nota: 7\n",
            "El promedio del estudiante 2 es: 10.5\n",
            "Digite la primera nota: 15\n",
            "Digite la segunda nota: 10\n",
            "El promedio del estudiante 3 es: 12.5\n"
          ]
        }
      ]
    },
    {
      "cell_type": "code",
      "source": [],
      "metadata": {
        "colab": {
          "base_uri": "https://localhost:8080/"
        },
        "id": "MYJ1UVrsR6JQ",
        "outputId": "f15382ab-0099-4b2e-c28f-77298573ba2c"
      },
      "execution_count": null,
      "outputs": [
        {
          "output_type": "stream",
          "name": "stdout",
          "text": [
            "1\n",
            "2\n",
            "3\n",
            "4\n",
            "5\n",
            "6\n",
            "7\n",
            "8\n",
            "9\n",
            "10\n"
          ]
        }
      ]
    },
    {
      "cell_type": "markdown",
      "source": [
        "Ahora imaginemos una situación en que no son tan solo 3 estudiantes, sino 100 estudiantes. No sería nada interesante repetir el mismo código 100 veces, sino **ejecutar el mismo código 100 veces**.\n",
        "\n",
        "¡Esta estructura la logramos construir con lazos de repetición!"
      ],
      "metadata": {
        "id": "9puIuvUbFSFX"
      }
    },
    {
      "cell_type": "markdown",
      "source": [
        "## `WHILE`"
      ],
      "metadata": {
        "id": "uLO9-aE4-wx8"
      }
    },
    {
      "cell_type": "markdown",
      "source": [
        "El lazo `while` es una estructura de control de repetición en Python que permite ejecutar un bloque de código repetidamente mientras que una determinada condición sea verdadera. Su estructura es:\n",
        "\n",
        "\n",
        "\n",
        "```\n",
        "while condicion:\n",
        "    # bloque de codigo\n",
        "```\n",
        "\n",
        "Vamos a construir un ejemplo con un contador de 1 hasta 10.\n"
      ],
      "metadata": {
        "id": "rXZxDMiqHxm9"
      }
    },
    {
      "cell_type": "code",
      "source": [
        "contador = 1\n",
        "while contador <=10:\n",
        "  print(contador)\n",
        "  contador += 1"
      ],
      "metadata": {
        "id": "Hd0ZSWxD9wCD"
      },
      "execution_count": null,
      "outputs": []
    },
    {
      "cell_type": "markdown",
      "source": [
        "Ahora vamos a colectar las notas y promedios de cada alumno dentro del lazo `while`. Haremos un ejemplo con 3 promedios."
      ],
      "metadata": {
        "id": "W4KZPBJuIrut"
      }
    },
    {
      "cell_type": "code",
      "source": [
        "alumnos = 3\n",
        "i = 1\n",
        "while( i <= alumnos):\n",
        "  nota_1 = float(input('Digite la primera nota: '))\n",
        "  nota_2 = float(input('Digite la segunda nota: '))\n",
        "  print(f'El promedio del estudiante {i }  es: {(nota_1 + nota_2)/2}')\n",
        "  i += 1"
      ],
      "metadata": {
        "id": "9T5eCLFx9wk6"
      },
      "execution_count": null,
      "outputs": []
    },
    {
      "cell_type": "markdown",
      "source": [
        "## `FOR`"
      ],
      "metadata": {
        "id": "WgAIaENMMfCP"
      }
    },
    {
      "cell_type": "markdown",
      "source": [
        "El lazo `for` es un tipo de estructura de control de flujo en Python que permite iterar sobre un conjunto de elementos. Su estructura es:\n",
        "\n",
        "\n",
        "\n",
        "```\n",
        "for elemento in conjunto:\n",
        "    # codigo a ser ejecutado para cada elemento\n",
        "```\n",
        "\n",
        "El lazo `for` itera sobre cada elemento del conjunto especificado y ejecuta el bloque de código dentro del lazo para cada elemento. Cuando el lazo llega al final del conjunto, este se interrumpe y el programa continúa la ejecución después del lazo.\n",
        "\n"
      ],
      "metadata": {
        "id": "HxrSZoRAMh-x"
      }
    },
    {
      "cell_type": "markdown",
      "source": [
        "El conjunto lo podemos generar con la función incorporada [`range()`](https://docs.python.org/3/library/functions.html#func-range). Se trata de una función capaz de generar una secuencia de números enteros. La estructura de esta función es:\n",
        "\n",
        "```\n",
        "range(inicio, fin, paso)\n",
        "```\n",
        "\n",
        "Según la documentación, `range()` genera una secuencia de números enteros a partir del valor del parámetro `inicio` hasta el valor del parámetro `fin`, de acuerdo con el valor del parámetro `paso`. Si `inicio` no es especificado, el valor por defecto es `0`. Si `paso` no es especificado, el valor por defecto es `1`.\n",
        "\n",
        "\n"
      ],
      "metadata": {
        "id": "6VgjyoQtPHBM"
      }
    },
    {
      "cell_type": "markdown",
      "source": [
        "Vamos a recrear el mismo contador `while` con el lazo `for`."
      ],
      "metadata": {
        "id": "ryn0hfdlUwC8"
      }
    },
    {
      "cell_type": "code",
      "source": [
        "for n in range(1,11):\n",
        "  print(n)"
      ],
      "metadata": {
        "id": "KkL1wUIj9jL4",
        "colab": {
          "base_uri": "https://localhost:8080/"
        },
        "outputId": "26352814-6e46-4cd8-fbdf-5c6405ddfdae"
      },
      "execution_count": null,
      "outputs": [
        {
          "output_type": "stream",
          "name": "stdout",
          "text": [
            "1\n",
            "2\n",
            "3\n",
            "4\n",
            "5\n",
            "6\n",
            "7\n",
            "8\n",
            "9\n",
            "10\n"
          ]
        }
      ]
    },
    {
      "cell_type": "code",
      "source": [
        "for e in range(1,4):\n",
        "  nota_1 = float(input('Digite la primera nota: '))\n",
        "  nota_2 = float(input('Digite la segunda nota: '))\n",
        "  print(f'El promedio del estudiante {i }  es: {(nota_1 + nota_2)/2}')\n",
        "  i += 1"
      ],
      "metadata": {
        "id": "uXIZnLSr9jOu",
        "colab": {
          "base_uri": "https://localhost:8080/"
        },
        "outputId": "8c70ba3e-a9eb-4229-e0dd-84447a2abb1a"
      },
      "execution_count": null,
      "outputs": [
        {
          "output_type": "stream",
          "name": "stdout",
          "text": [
            "Digite la primera nota: 10\n",
            "Digite la segunda nota: 2\n",
            "El promedio del estudiante 3  es: 6.0\n",
            "Digite la primera nota: 14\n",
            "Digite la segunda nota: 17\n",
            "El promedio del estudiante 4  es: 15.5\n",
            "Digite la primera nota: 14\n",
            "Digite la segunda nota: 14\n",
            "El promedio del estudiante 5  es: 14.0\n"
          ]
        }
      ]
    },
    {
      "cell_type": "markdown",
      "source": [
        "# Estructuras de datos"
      ],
      "metadata": {
        "id": "8noP8OJ0Vhux"
      }
    },
    {
      "cell_type": "markdown",
      "source": [
        "Un conjunto de elementos es una colección de items, que son almacenados juntos de manera organizada. Algunos ejemplos de conjuntos de elementos en Python son las listas, los strings y los diccionarios."
      ],
      "metadata": {
        "id": "xpEUkefTu8fY"
      }
    },
    {
      "cell_type": "markdown",
      "source": [
        "## Listas"
      ],
      "metadata": {
        "id": "THSg4KYLwxIb"
      }
    },
    {
      "cell_type": "markdown",
      "source": [
        "Las listas pueden almacenar una colección de items en orden. Ellas son delimitadas por corchetes `[]` y sus elementos son separados por comas.\n",
        "\n",
        "Estas pueden almacenar cualquier tipo de items, incluyendo números, strings, objetos, otras listas, entre otros. También nos permiten almacenar items de tipos de datos diferentes juntos en una única lista."
      ],
      "metadata": {
        "id": "dzpsiqrOyJcK"
      }
    },
    {
      "cell_type": "code",
      "source": [
        "lista = ['Penélope Camacho',9.5,9.0,9.7,True]\n",
        "lista"
      ],
      "metadata": {
        "id": "DO3TBj7nAYeG",
        "colab": {
          "base_uri": "https://localhost:8080/"
        },
        "outputId": "975fd211-f6a0-48d2-bbe0-5cff823ea880"
      },
      "execution_count": null,
      "outputs": [
        {
          "output_type": "execute_result",
          "data": {
            "text/plain": [
              "['Penélope Camacho', 9.5, 9.0, 9.7, True]"
            ]
          },
          "metadata": {},
          "execution_count": 1
        }
      ]
    },
    {
      "cell_type": "code",
      "source": [
        "type(lista)"
      ],
      "metadata": {
        "id": "DO2ubP9N9D_2",
        "colab": {
          "base_uri": "https://localhost:8080/"
        },
        "outputId": "01ad925c-02e4-40a7-9407-a84da2bc340b"
      },
      "execution_count": null,
      "outputs": [
        {
          "output_type": "execute_result",
          "data": {
            "text/plain": [
              "list"
            ]
          },
          "metadata": {},
          "execution_count": 2
        }
      ]
    },
    {
      "cell_type": "markdown",
      "source": [
        "Las listas son organizadas en Python porque **cada elemento de la lista tiene un índice que indica su posición al interior de la lista**. Los índices comienzan en 0 van hasta el tamaño de la lista menos 1."
      ],
      "metadata": {
        "id": "qUz3sJNl6LgK"
      }
    },
    {
      "cell_type": "markdown",
      "source": [
        "Tenemos entonces 5 elementos con índices que varían de 0 a 4, ordenadamente:\n",
        "\n",
        "```\n",
        "#             [0]           [1]   [2]   [3]    [4]\n",
        "lista = ['Penélope Camacho', 9.5 , 9.0 , 9.7 , True]\n",
        "```\n",
        "\n",
        "En Python tenemos también los índices **negativos** que se inician en el último elemento con el valor de `-1` y avanzan en el universo de los negativos hasta llegar al 1° elemento:\n",
        "\n",
        "```\n",
        "#             [-5]         [-4]  [-3]  [-2]   [-1]\n",
        "lista = ['Penélope Camacho', 9.5 , 9.0 , 9.7 , True]\n",
        "```\n",
        "\n",
        "Logramos seleccionar separadamente cada elemento a través de sus respectivos índices. Colocando el nombre de la lista y en seguida el índice que será seleccionado."
      ],
      "metadata": {
        "id": "rLf-Qg526hFD"
      }
    },
    {
      "cell_type": "code",
      "source": [
        "type(lista[0])"
      ],
      "metadata": {
        "id": "4hco1Zqy88Kw",
        "colab": {
          "base_uri": "https://localhost:8080/",
          "height": 35
        },
        "outputId": "bcf5901f-6d11-4bbc-e994-0b19279500fb"
      },
      "execution_count": null,
      "outputs": [
        {
          "output_type": "execute_result",
          "data": {
            "text/plain": [
              "'Penélope Camacho'"
            ],
            "application/vnd.google.colaboratory.intrinsic+json": {
              "type": "string"
            }
          },
          "metadata": {},
          "execution_count": 3
        }
      ]
    },
    {
      "cell_type": "code",
      "source": [
        "type(lista[1])"
      ],
      "metadata": {
        "id": "M8lH0I2288Ph",
        "colab": {
          "base_uri": "https://localhost:8080/"
        },
        "outputId": "d0ed789f-3d80-4eb9-84cd-01af237ed3e3"
      },
      "execution_count": null,
      "outputs": [
        {
          "output_type": "execute_result",
          "data": {
            "text/plain": [
              "float"
            ]
          },
          "metadata": {},
          "execution_count": 4
        }
      ]
    },
    {
      "cell_type": "code",
      "source": [
        "type(lista[-1])"
      ],
      "metadata": {
        "colab": {
          "base_uri": "https://localhost:8080/"
        },
        "id": "XGbI5FRuRPZY",
        "outputId": "655d1c34-5b1c-413b-b778-55ffb2ae2a91"
      },
      "execution_count": null,
      "outputs": [
        {
          "output_type": "execute_result",
          "data": {
            "text/plain": [
              "bool"
            ]
          },
          "metadata": {},
          "execution_count": 5
        }
      ]
    },
    {
      "cell_type": "markdown",
      "source": [
        "Una forma más dinámica de trabajar item a item en una lista es utilizando un lazo `for` para leer un elemento a la vez."
      ],
      "metadata": {
        "id": "6TaE1ijmBTCd"
      }
    },
    {
      "cell_type": "code",
      "source": [
        "for elemento in lista:\n",
        "  print(elemento)"
      ],
      "metadata": {
        "id": "rBx4Yu1786Sy",
        "colab": {
          "base_uri": "https://localhost:8080/"
        },
        "outputId": "1c6dd228-0f71-42fa-c3e5-d4b8ae4e0ffa"
      },
      "execution_count": null,
      "outputs": [
        {
          "output_type": "stream",
          "name": "stdout",
          "text": [
            "Penélope Camacho\n",
            "9.5\n",
            "9.0\n",
            "9.7\n",
            "True\n"
          ]
        }
      ]
    },
    {
      "cell_type": "markdown",
      "source": [
        "**Situación**: La nota `9.0` de Penélope necesita ser ajustada pues ganó 1 punto en su última nota por participación en clase. Entonces es necesario realizar un cambio en el índice `2` de `9.0` a `10.0`."
      ],
      "metadata": {
        "id": "Dh1_HnIVvucY"
      }
    },
    {
      "cell_type": "code",
      "source": [
        "lista[2] = 10.0"
      ],
      "metadata": {
        "id": "bVPoZg668z3T"
      },
      "execution_count": null,
      "outputs": []
    },
    {
      "cell_type": "code",
      "source": [
        "lista"
      ],
      "metadata": {
        "id": "Jo_PBQ0g8z7D",
        "colab": {
          "base_uri": "https://localhost:8080/"
        },
        "outputId": "7e81c037-147c-450f-ad25-b6c42b2e0911"
      },
      "execution_count": null,
      "outputs": [
        {
          "output_type": "execute_result",
          "data": {
            "text/plain": [
              "['Penélope Camacho', 9.5, 10.0, 9.7, True]"
            ]
          },
          "metadata": {},
          "execution_count": 8
        }
      ]
    },
    {
      "cell_type": "markdown",
      "source": [
        "También podemos calcular el promedio del estudiante a partir de los datos que tenemos."
      ],
      "metadata": {
        "id": "53XduzXkycAf"
      }
    },
    {
      "cell_type": "code",
      "source": [
        "promedio = (lista[1] + lista[2] + lista[3])/3\n",
        "promedio"
      ],
      "metadata": {
        "id": "SIH61Rrb8yv4",
        "colab": {
          "base_uri": "https://localhost:8080/"
        },
        "outputId": "ba8f0eae-fbc8-4fcd-ddf0-3f0a1ecd8cfc"
      },
      "execution_count": null,
      "outputs": [
        {
          "output_type": "execute_result",
          "data": {
            "text/plain": [
              "9.733333333333333"
            ]
          },
          "metadata": {},
          "execution_count": 9
        }
      ]
    },
    {
      "cell_type": "markdown",
      "source": [
        "## Manipulación de listas\n",
        "\n",
        "Las listas son muy útiles en Python porque nos permiten almacenar y acceder a una colección de items de manera organizada y rápida. Estas también ofrecen muchos métodos útiles para manipular los itens almacenados, como adicionar, remover, clasificar y buscar elementos."
      ],
      "metadata": {
        "id": "d-iYr10-y4qw"
      }
    },
    {
      "cell_type": "markdown",
      "source": [
        "#### Cantidad de elementos\n",
        "\n",
        "Usamos la función [`len()`](https://docs.python.org/3/library/functions.html#len) para descubrir la cantidad de elementos de un conjunto."
      ],
      "metadata": {
        "id": "ZLqx9A97XVB_"
      }
    },
    {
      "cell_type": "code",
      "source": [
        "len(lista)"
      ],
      "metadata": {
        "id": "6q1Tmm7P8wQf",
        "colab": {
          "base_uri": "https://localhost:8080/"
        },
        "outputId": "45ca1c5f-a5d1-4cea-9fd9-9ed7bcf0ada2"
      },
      "execution_count": null,
      "outputs": [
        {
          "output_type": "execute_result",
          "data": {
            "text/plain": [
              "5"
            ]
          },
          "metadata": {},
          "execution_count": 10
        }
      ]
    },
    {
      "cell_type": "markdown",
      "source": [
        "#### Partición\n",
        "\n",
        "La partición de listas por indexación en Python es una técnica muy útil para seleccionar un subconjunto de elementos de una lista. Esta se realiza usando la sintaxis `lista[inicio:fin]`, donde `inicio` es el índice del primer elemento que será incluído en la partición `fin` es el índice del primer elemento que será excluído de la partición."
      ],
      "metadata": {
        "id": "Z5tpstlHJss3"
      }
    },
    {
      "cell_type": "code",
      "source": [
        "lista[0:2]"
      ],
      "metadata": {
        "id": "NctvJTTU8uV9",
        "colab": {
          "base_uri": "https://localhost:8080/"
        },
        "outputId": "9c739248-4e73-4925-e9c0-62fff2023ae4"
      },
      "execution_count": null,
      "outputs": [
        {
          "output_type": "execute_result",
          "data": {
            "text/plain": [
              "['Penélope Camacho', 9.5]"
            ]
          },
          "metadata": {},
          "execution_count": 13
        }
      ]
    },
    {
      "cell_type": "code",
      "source": [
        "lista[:3]"
      ],
      "metadata": {
        "id": "bQZUwldj8uY2",
        "colab": {
          "base_uri": "https://localhost:8080/"
        },
        "outputId": "0f0c5e3a-3dc9-4d5f-9436-e61e6f0329e1"
      },
      "execution_count": null,
      "outputs": [
        {
          "output_type": "execute_result",
          "data": {
            "text/plain": [
              "['Penélope Camacho', 9.5, 10.0]"
            ]
          },
          "metadata": {},
          "execution_count": 14
        }
      ]
    },
    {
      "cell_type": "code",
      "source": [
        "lista[3:]"
      ],
      "metadata": {
        "colab": {
          "base_uri": "https://localhost:8080/"
        },
        "id": "LKP91fNTSJfT",
        "outputId": "6f86d57f-8e62-4f91-f5c3-9bceb11ca9a8"
      },
      "execution_count": null,
      "outputs": [
        {
          "output_type": "execute_result",
          "data": {
            "text/plain": [
              "[9.7, True]"
            ]
          },
          "metadata": {},
          "execution_count": 15
        }
      ]
    },
    {
      "cell_type": "code",
      "source": [
        "lista[:]"
      ],
      "metadata": {
        "colab": {
          "base_uri": "https://localhost:8080/"
        },
        "id": "52omJqi9SNVC",
        "outputId": "a9ef6520-e85e-4971-c476-04f3f194a6cc"
      },
      "execution_count": null,
      "outputs": [
        {
          "output_type": "execute_result",
          "data": {
            "text/plain": [
              "['Penélope Camacho', 9.5, 10.0, 9.7, True]"
            ]
          },
          "metadata": {},
          "execution_count": 16
        }
      ]
    },
    {
      "cell_type": "markdown",
      "source": [
        "#### [`append()`](https://docs.python.org/3/tutorial/datastructures.html#:~:text=of%20list%20objects%3A-,list.append(x),-Add%20an%20item)\n",
        "\n",
        "Añade un elemento al final de la lista."
      ],
      "metadata": {
        "id": "O0RRyabkRzZC"
      }
    },
    {
      "cell_type": "code",
      "source": [
        "lista.append(promedio)"
      ],
      "metadata": {
        "id": "_Q0oODwa8spC"
      },
      "execution_count": null,
      "outputs": []
    },
    {
      "cell_type": "code",
      "source": [
        "lista"
      ],
      "metadata": {
        "id": "RM894r2M8sse",
        "colab": {
          "base_uri": "https://localhost:8080/"
        },
        "outputId": "6bb3c289-2e9c-4c9b-96d0-ed01715447bb"
      },
      "execution_count": null,
      "outputs": [
        {
          "output_type": "execute_result",
          "data": {
            "text/plain": [
              "['Penélope Camacho', 9.5, 10.0, 9.7, True, 9.733333333333333]"
            ]
          },
          "metadata": {},
          "execution_count": 18
        }
      ]
    },
    {
      "cell_type": "markdown",
      "source": [
        "#### [`extend()`](https://docs.python.org/3/tutorial/datastructures.html#:~:text=list.extend(iterable))\n",
        "\n",
        "Añade varios elementos al final de la lista.\n",
        "\n",
        "Añadiremos las notas `[10.0,8.0,9.0]` En la lista de Penélope Camacho."
      ],
      "metadata": {
        "id": "uQV91XMsUOJD"
      }
    },
    {
      "cell_type": "code",
      "source": [
        "lista.extend([10.0,8.0,9.0])"
      ],
      "metadata": {
        "id": "6Zk2MpMw8rQc"
      },
      "execution_count": null,
      "outputs": []
    },
    {
      "cell_type": "code",
      "source": [
        "lista"
      ],
      "metadata": {
        "id": "NnoKkoWb8rTQ",
        "colab": {
          "base_uri": "https://localhost:8080/"
        },
        "outputId": "15cc1df0-2148-4226-f9d9-06f3e5a36dcc"
      },
      "execution_count": null,
      "outputs": [
        {
          "output_type": "execute_result",
          "data": {
            "text/plain": [
              "['Penélope Camacho', 9.5, 10.0, 9.7, True, 9.733333333333333, 10.0, 8.0, 9.0]"
            ]
          },
          "metadata": {},
          "execution_count": 20
        }
      ]
    },
    {
      "cell_type": "markdown",
      "source": [
        "*A continuación te mostraremos lo que no puede realizarse con* `append`."
      ],
      "metadata": {
        "id": "IVJvkTwNUk6M"
      }
    },
    {
      "cell_type": "code",
      "source": [
        "lista.append([10.0,8.0,9.0])"
      ],
      "metadata": {
        "id": "u3Eub2ZL8pp3"
      },
      "execution_count": null,
      "outputs": []
    },
    {
      "cell_type": "code",
      "source": [
        "lista"
      ],
      "metadata": {
        "id": "tsKK5Ne58pvN",
        "colab": {
          "base_uri": "https://localhost:8080/"
        },
        "outputId": "f7676607-3c34-465f-8ab1-0df97dd7753d"
      },
      "execution_count": null,
      "outputs": [
        {
          "output_type": "execute_result",
          "data": {
            "text/plain": [
              "['Penélope Camacho',\n",
              " 9.5,\n",
              " 10.0,\n",
              " 9.7,\n",
              " True,\n",
              " 9.733333333333333,\n",
              " 10.0,\n",
              " 8.0,\n",
              " 9.0,\n",
              " [10.0, 8.0, 9.0]]"
            ]
          },
          "metadata": {},
          "execution_count": 22
        }
      ]
    },
    {
      "cell_type": "markdown",
      "source": [
        "#### [`remove()`](https://docs.python.org/3/tutorial/datastructures.html#:~:text=append(x).-,list.remove(x),-Remove%20the%20first)\n",
        "\n",
        "Remueve un elemento específico de la lista."
      ],
      "metadata": {
        "id": "dPGM5gpyUX1z"
      }
    },
    {
      "cell_type": "code",
      "source": [
        "lista.remove([10.0,8.0,9.0])"
      ],
      "metadata": {
        "id": "mmboODPc8nd5"
      },
      "execution_count": null,
      "outputs": []
    },
    {
      "cell_type": "code",
      "source": [
        "lista"
      ],
      "metadata": {
        "id": "T_w6vVgV8nh_",
        "colab": {
          "base_uri": "https://localhost:8080/"
        },
        "outputId": "098af515-7864-4d3c-f44f-5f35d8a89f7d"
      },
      "execution_count": null,
      "outputs": [
        {
          "output_type": "execute_result",
          "data": {
            "text/plain": [
              "['Penélope Camacho', 9.5, 10.0, 9.7, True, 9.733333333333333, 10.0, 8.0, 9.0]"
            ]
          },
          "metadata": {},
          "execution_count": 24
        }
      ]
    },
    {
      "cell_type": "markdown",
      "source": [
        "## Diccionario"
      ],
      "metadata": {
        "id": "Rc22Vc08YDZ2"
      }
    },
    {
      "cell_type": "markdown",
      "source": [
        "Los diccionarios son un tipo de estructura de datos que almacenan pares de *llave-valor*. Estos son delimitados por llaves `{}` y los pares *llave-valor* son separados por comas.\n",
        "\n",
        "```\n",
        "diccionario = {llave: valor}\n",
        "```\n",
        "\n",
        "La **llave** es un elemento único que identifica a un valor en el diccionario, mientras que el **valor** es el item que será almacenado para la llave. Las llaves y sus respectivos valores se pueden emplear para **cualquier tipo de dato**.\n",
        "\n",
        "Los diccionarios son útiles para almacenar y acceder a los datos de manera organizada y rápida. Se trata de un tipo de conjunto de elementos en Python, pues almacenan una colección de items."
      ],
      "metadata": {
        "id": "PJ-cCKPjeWxL"
      }
    },
    {
      "cell_type": "code",
      "source": [
        "diccionario ={'llave_1':1,\n",
        "              'llave_2':2}\n",
        "diccionario"
      ],
      "metadata": {
        "id": "NDHhzooE8ld5",
        "colab": {
          "base_uri": "https://localhost:8080/"
        },
        "outputId": "7e0574a2-fd0a-42bc-af6c-f9027371a044"
      },
      "execution_count": null,
      "outputs": [
        {
          "output_type": "execute_result",
          "data": {
            "text/plain": [
              "{'llave_1': 1, 'llave_2': 2}"
            ]
          },
          "metadata": {},
          "execution_count": 26
        }
      ]
    },
    {
      "cell_type": "code",
      "source": [
        "type(diccionario)"
      ],
      "metadata": {
        "id": "AVOzqzy-8lhh",
        "colab": {
          "base_uri": "https://localhost:8080/"
        },
        "outputId": "8b80b0f0-3f61-4631-f50a-fca0f9688032"
      },
      "execution_count": null,
      "outputs": [
        {
          "output_type": "execute_result",
          "data": {
            "text/plain": [
              "dict"
            ]
          },
          "metadata": {},
          "execution_count": 27
        }
      ]
    },
    {
      "cell_type": "markdown",
      "source": [
        "---\n",
        "**Situación:**\n",
        "\n",
        "Vamos a crear un conjunto de datos con las informaciones de matrícula de un estudiante. Los datos son los siguientes:\n",
        "\n",
        "- matrícula: 2000168933\n",
        "- día de registro: 25\n",
        "- mes de registro: 10\n",
        "- grupo: 2E"
      ],
      "metadata": {
        "id": "_JbQ3KMKfkXU"
      }
    },
    {
      "cell_type": "code",
      "source": [
        "estudiante ={\n",
        "              'matricula' : 2000168933,\n",
        "              'dia de registro' : 25,\n",
        "              'mes de registro' : 10,\n",
        "              'grupo' : '2E'\n",
        "            }\n",
        "\n",
        "estudiante"
      ],
      "metadata": {
        "id": "0lfOu_c38jED",
        "colab": {
          "base_uri": "https://localhost:8080/"
        },
        "outputId": "64632503-e6a5-4820-b7ee-cb2d622c3397"
      },
      "execution_count": null,
      "outputs": [
        {
          "output_type": "execute_result",
          "data": {
            "text/plain": [
              "{'matricula': 2000168933,\n",
              " 'dia de registro': 25,\n",
              " 'mes de registro': 10,\n",
              " 'grupo': '2E'}"
            ]
          },
          "metadata": {},
          "execution_count": 28
        }
      ]
    },
    {
      "cell_type": "code",
      "source": [
        "estudiante['matricula']"
      ],
      "metadata": {
        "id": "XIuqpTTy8jHV",
        "colab": {
          "base_uri": "https://localhost:8080/"
        },
        "outputId": "5205a875-17cd-4676-a4aa-91dfea7ba49c"
      },
      "execution_count": null,
      "outputs": [
        {
          "output_type": "execute_result",
          "data": {
            "text/plain": [
              "2000168933"
            ]
          },
          "metadata": {},
          "execution_count": 30
        }
      ]
    },
    {
      "cell_type": "code",
      "source": [
        "estudiante['grupo']"
      ],
      "metadata": {
        "colab": {
          "base_uri": "https://localhost:8080/",
          "height": 35
        },
        "id": "z9p5QBFPTdn_",
        "outputId": "b091f7e6-7333-48cb-bea5-4768ad6e01f0"
      },
      "execution_count": null,
      "outputs": [
        {
          "output_type": "execute_result",
          "data": {
            "text/plain": [
              "'2E'"
            ],
            "application/vnd.google.colaboratory.intrinsic+json": {
              "type": "string"
            }
          },
          "metadata": {},
          "execution_count": 31
        }
      ]
    },
    {
      "cell_type": "markdown",
      "source": [
        "Es posible sustituir los valores dentro de una llave. Por ejemplo, recibimos la información de que el grupo del estudiante que registramos cambio a `'2G'` y ahora necesitamos cambiar el valor de la llave `'grupo'`."
      ],
      "metadata": {
        "id": "8ex5pt2ykDd2"
      }
    },
    {
      "cell_type": "code",
      "source": [
        "estudiante['grupo'] = '2G'"
      ],
      "metadata": {
        "id": "kQGlp36b8fyP"
      },
      "execution_count": null,
      "outputs": []
    },
    {
      "cell_type": "code",
      "source": [
        "estudiante"
      ],
      "metadata": {
        "id": "DnfH_qHi8f17"
      },
      "execution_count": null,
      "outputs": []
    },
    {
      "cell_type": "markdown",
      "source": [
        "También podemos añadir otros datos al diccionario. Vamos a añadir la información sobre la modalidad de estudio, nuestro estudiante estudiará inicialemente en la modalidad EAD.\n",
        "\n",
        "Definiremos una llave llamada `'modalidad'` con el valor `'EAD'`."
      ],
      "metadata": {
        "id": "wB0qRb56mQvv"
      }
    },
    {
      "cell_type": "code",
      "source": [
        "estudiante['modalidad'] = 'EAD'"
      ],
      "metadata": {
        "id": "EeLYdlIm8d8a"
      },
      "execution_count": null,
      "outputs": []
    },
    {
      "cell_type": "code",
      "source": [
        "estudiante"
      ],
      "metadata": {
        "id": "olDIavsm8d_o",
        "colab": {
          "base_uri": "https://localhost:8080/"
        },
        "outputId": "3c6a49c7-fc06-4a66-fa51-9fbe3d3abad8"
      },
      "execution_count": null,
      "outputs": [
        {
          "output_type": "execute_result",
          "data": {
            "text/plain": [
              "{'matricula': 2000168933,\n",
              " 'dia de registro': 25,\n",
              " 'mes de registro': 10,\n",
              " 'grupo': '2G',\n",
              " 'modalidad': 'EAD'}"
            ]
          },
          "metadata": {},
          "execution_count": 35
        }
      ]
    },
    {
      "cell_type": "markdown",
      "source": [
        "## Profundizando en diccionarios"
      ],
      "metadata": {
        "id": "LJ3o_inroxg_"
      }
    },
    {
      "cell_type": "markdown",
      "source": [
        "#### [`pop()`](https://python-reference.readthedocs.io/en/latest/docs/dict/pop.html)\n",
        "Remueve un item de un diccionario y lo representa en la salida."
      ],
      "metadata": {
        "id": "2N3GLlkSpBiu"
      }
    },
    {
      "cell_type": "code",
      "source": [
        "estudiante.pop('grupo')"
      ],
      "metadata": {
        "id": "ZsSCZx6G8b-T",
        "colab": {
          "base_uri": "https://localhost:8080/",
          "height": 35
        },
        "outputId": "06320805-1eb0-4b34-e7ca-a4ab984cfd3b"
      },
      "execution_count": null,
      "outputs": [
        {
          "output_type": "execute_result",
          "data": {
            "text/plain": [
              "'2G'"
            ],
            "application/vnd.google.colaboratory.intrinsic+json": {
              "type": "string"
            }
          },
          "metadata": {},
          "execution_count": 36
        }
      ]
    },
    {
      "cell_type": "code",
      "source": [
        "estudiante"
      ],
      "metadata": {
        "id": "7lQ8_jpi8cBR",
        "colab": {
          "base_uri": "https://localhost:8080/"
        },
        "outputId": "5c751c3b-d3e1-4971-e7db-5386036def3b"
      },
      "execution_count": null,
      "outputs": [
        {
          "output_type": "execute_result",
          "data": {
            "text/plain": [
              "{'matricula': 2000168933,\n",
              " 'dia de registro': 25,\n",
              " 'mes de registro': 10,\n",
              " 'modalidad': 'EAD'}"
            ]
          },
          "metadata": {},
          "execution_count": 37
        }
      ]
    },
    {
      "cell_type": "markdown",
      "source": [
        "#### [`items()`](https://python-reference.readthedocs.io/en/latest/docs/dict/items.html)\n",
        "Retorna una lista de pares `llave-valor` del diccionario."
      ],
      "metadata": {
        "id": "sYZGvJJYrW_y"
      }
    },
    {
      "cell_type": "code",
      "source": [
        "estudiante.items()"
      ],
      "metadata": {
        "id": "ncdycLV08an7",
        "colab": {
          "base_uri": "https://localhost:8080/"
        },
        "outputId": "0e0b2837-50eb-4a7a-f27b-51bb189871cf"
      },
      "execution_count": null,
      "outputs": [
        {
          "output_type": "execute_result",
          "data": {
            "text/plain": [
              "dict_items([('matricula', 2000168933), ('dia de registro', 25), ('mes de registro', 10), ('modalidad', 'EAD')])"
            ]
          },
          "metadata": {},
          "execution_count": 38
        }
      ]
    },
    {
      "cell_type": "markdown",
      "source": [
        "#### [`keys()`](https://python-reference.readthedocs.io/en/latest/docs/dict/keys.html)\n",
        "Retorna una lista de las llaves del diccionario."
      ],
      "metadata": {
        "id": "Lb0utNFGrZBY"
      }
    },
    {
      "cell_type": "code",
      "source": [
        "estudiante.keys()"
      ],
      "metadata": {
        "id": "eZo0biaM8ZVs",
        "colab": {
          "base_uri": "https://localhost:8080/"
        },
        "outputId": "9906b7e1-556c-488b-e011-2e01d1c337a6"
      },
      "execution_count": null,
      "outputs": [
        {
          "output_type": "execute_result",
          "data": {
            "text/plain": [
              "dict_keys(['matricula', 'dia de registro', 'mes de registro', 'modalidad'])"
            ]
          },
          "metadata": {},
          "execution_count": 39
        }
      ]
    },
    {
      "cell_type": "markdown",
      "source": [
        "#### [`values()`](https://python-reference.readthedocs.io/en/latest/docs/dict/values.html)\n",
        "Retorna una lista de los valores del diccionario."
      ],
      "metadata": {
        "id": "qKyu3bf9rbtX"
      }
    },
    {
      "cell_type": "code",
      "source": [
        "estudiante.values()"
      ],
      "metadata": {
        "id": "-NxRT9C18Yvo",
        "colab": {
          "base_uri": "https://localhost:8080/"
        },
        "outputId": "d1aef66f-e4d6-43fa-f6d2-a48d80ec7904"
      },
      "execution_count": null,
      "outputs": [
        {
          "output_type": "execute_result",
          "data": {
            "text/plain": [
              "dict_values([2000168933, 25, 10, 'EAD'])"
            ]
          },
          "metadata": {},
          "execution_count": 40
        }
      ]
    },
    {
      "cell_type": "markdown",
      "source": [
        "### Lectura de valores con el lazo `for`"
      ],
      "metadata": {
        "id": "e3XVjR8Frp75"
      }
    },
    {
      "cell_type": "code",
      "source": [
        "for llave in estudiante.keys():\n",
        "  print(llave)"
      ],
      "metadata": {
        "id": "NYcjU-Ip8Xan",
        "colab": {
          "base_uri": "https://localhost:8080/"
        },
        "outputId": "c34cb781-f391-447f-b726-eb43e4f904e4"
      },
      "execution_count": null,
      "outputs": [
        {
          "output_type": "stream",
          "name": "stdout",
          "text": [
            "matricula\n",
            "dia de registro\n",
            "mes de registro\n",
            "modalidad\n"
          ]
        }
      ]
    },
    {
      "cell_type": "code",
      "source": [
        "for llave,valor in estudiante.items():\n",
        "  print(llave,'-->', valor)"
      ],
      "metadata": {
        "id": "aAnpP1Wv8XfJ",
        "colab": {
          "base_uri": "https://localhost:8080/"
        },
        "outputId": "0154a3ab-721f-4cfe-dc13-889230c05e1b"
      },
      "execution_count": null,
      "outputs": [
        {
          "output_type": "stream",
          "name": "stdout",
          "text": [
            "matricula --> 2000168933\n",
            "dia de registro --> 25\n",
            "mes de registro --> 10\n",
            "modalidad --> EAD\n"
          ]
        }
      ]
    }
  ]
}