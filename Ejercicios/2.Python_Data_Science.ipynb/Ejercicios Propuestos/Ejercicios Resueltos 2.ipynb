{
  "cells": [
    {
      "cell_type": "markdown",
      "metadata": {
        "colab_type": "text",
        "id": "view-in-github"
      },
      "source": [
        "<a href=\"https://colab.research.google.com/github/CarlosVF2003/Curso-de-Python-para-Data-Science-primeros-pasos/blob/main/Ejercicios3.ipynb\" target=\"_parent\"><img src=\"https://colab.research.google.com/assets/colab-badge.svg\" alt=\"Open In Colab\"/></a>"
      ]
    },
    {
      "cell_type": "markdown",
      "metadata": {
        "id": "_bnPWhvmPo64"
      },
      "source": [
        "# Ejercicios Propuestos 2"
      ]
    },
    {
      "cell_type": "markdown",
      "metadata": {
        "id": "kgxEkWfQZvtP"
      },
      "source": [
        "**Calentamiento**\n",
        "\n",
        "1 - Escribe un código que lee la lista siguiente y realiza:\n",
        "\n",
        "```\n",
        "lista = [16, 14, 63, 65, 17, 99, 70, 11, 20, 48, 79, 32, 17, 89, 12, 25, 66]\n",
        "# 1. Leer el tamaño de la lista\n",
        "# 2. Leer el valor máximo y mínimo\n",
        "# 3. Calcular la suma de los valores de la lista\n",
        "# 4. Mostrar un mensaje al final: La lista tiene `tamano` números, donde el mayor\n",
        "# es `mayor` y el menor es `menor`. La suma de los valores es `suma`.\n",
        "```\n",
        "\n",
        "2 - Escribe una función que genere la tabla de multiplicar de un número entero del 1 al 10, según la elección del usuario. Como ejemplo, para el número 7, la tabla de multiplicar se debe mostrar en el siguiente formato:\n",
        "\n",
        "```\n",
        "# Tabla del  7:\n",
        "# 7 x 0 = 0\n",
        "# 7 x 1 = 7\n",
        "# [...]\n",
        "# 7 x 10 = 70\n",
        "```\n",
        "\n",
        "3 - Crea una función que lea la siguiente lista y devuelva una nueva lista con los múltiplos de 3:\n",
        "\n",
        "```\n",
        "[97, 80, 94, 88, 80, 1, 16, 53, 62, 32, 24, 99]\n",
        "```\n",
        "\n",
        "4 - Crea una lista de los cuadrados de los números de la siguiente lista [1, 2, 3, 4, 5, 6, 7, 8, 9, 10]. Recuerda utilizar las funciones lambda y map() para calcular el cuadrado de cada elemento de la lista."
      ]
    },
    {
      "cell_type": "code",
      "execution_count": null,
      "metadata": {
        "colab": {
          "base_uri": "https://localhost:8080/"
        },
        "id": "O0RUJbE3Z5-w",
        "outputId": "d78f7bd9-f83d-43f4-a6de-064586ef20db"
      },
      "outputs": [
        {
          "name": "stdout",
          "output_type": "stream",
          "text": [
            "La lista tiene 17 números, donde el mayor es 99 y el menor es 11. La suma de los valores es 743.\n"
          ]
        }
      ],
      "source": [
        "'''\n",
        "1 - Escribe un código que lee la lista siguiente y realiza:\n",
        "lista = [16, 14, 63, 65, 17, 99, 70, 11, 20, 48, 79, 32, 17, 89, 12, 25, 66]\n",
        "# 1. Leer el tamaño de la lista\n",
        "# 2. Leer el valor máximo y mínimo\n",
        "# 3. Calcular la suma de los valores de la lista\n",
        "# 4. Mostrar un mensaje al final: La lista tiene `tamano` números, donde el mayor\n",
        "# es `mayor` y el menor es `menor`. La suma de los valores es `suma`.\n",
        "'''\n",
        "\n",
        "lista = [16, 14, 63, 65, 17, 99, 70, 11, 20, 48, 79, 32, 17, 89, 12, 25, 66]\n",
        "\n",
        "tamaño = len(lista)\n",
        "mayor = max(lista)\n",
        "menor = min(lista)\n",
        "suma = sum(lista)\n",
        "\n",
        "print(f'La lista tiene {tamaño} números, donde el mayor es {mayor} y el menor es {menor}. La suma de los valores es {suma}.')"
      ]
    },
    {
      "cell_type": "code",
      "execution_count": null,
      "metadata": {
        "colab": {
          "base_uri": "https://localhost:8080/"
        },
        "id": "IuqxBnz1gCdv",
        "outputId": "a319da6c-170b-467d-84b3-4b0af8291796"
      },
      "outputs": [
        {
          "name": "stdout",
          "output_type": "stream",
          "text": [
            "Tabla del 7:\n",
            "7 x 0 = 0\n",
            "7 x 1 = 7\n",
            "7 x 2 = 14\n",
            "7 x 3 = 21\n",
            "7 x 4 = 28\n",
            "7 x 5 = 35\n",
            "7 x 6 = 42\n",
            "7 x 7 = 49\n",
            "7 x 8 = 56\n",
            "7 x 9 = 63\n",
            "7 x 10 = 70\n"
          ]
        }
      ],
      "source": [
        "'''\n",
        "2 - Escribe una función que genere la tabla de multiplicar de un número entero del 1 al 10, según la elección del usuario. Como ejemplo, para el número 7, la tabla de multiplicar se debe mostrar en el siguiente formato:\n",
        "\n",
        "# Tabla del  7:\n",
        "# 7 x 0 = 0\n",
        "# 7 x 1 = 7\n",
        "# [...]\n",
        "# 7 x 10 = 70\n",
        "'''\n",
        "\n",
        "def tabla_multiplicar(numero):\n",
        "  print(f'Tabla del {numero}:')\n",
        "  for i in range(11):\n",
        "    print(f'{numero} x {i} = {numero*i}')\n",
        "\n",
        "tabla_multiplicar(7)"
      ]
    },
    {
      "cell_type": "code",
      "execution_count": null,
      "metadata": {
        "colab": {
          "base_uri": "https://localhost:8080/"
        },
        "id": "UfO-a0vrkJ34",
        "outputId": "089a13d7-1de3-4618-8186-23cf3d201e9f"
      },
      "outputs": [
        {
          "name": "stdout",
          "output_type": "stream",
          "text": [
            "Los multiplos de 3 son: [24, 99]\n"
          ]
        }
      ],
      "source": [
        "'''\n",
        "3 - Crea una función que lea la siguiente lista y devuelva una nueva lista con los múltiplos de 3:\n",
        "\n",
        "[97, 80, 94, 88, 80, 1, 16, 53, 62, 32, 24, 99]\n",
        "'''\n",
        "\n",
        "lista = [97, 80, 94, 88, 80, 1, 16, 53, 62, 32, 24, 99]\n",
        "\n",
        "multiplos_3 = []\n",
        "\n",
        "def multiplo_3(Lista):\n",
        "  for i in range(len(Lista)):\n",
        "    if(Lista[i]%3 == 0):\n",
        "      multiplos_3.append(Lista[i])\n",
        "\n",
        "multiplo_3(lista)\n",
        "print(f'Los multiplos de 3 son: {multiplos_3}')"
      ]
    },
    {
      "cell_type": "code",
      "execution_count": null,
      "metadata": {
        "colab": {
          "base_uri": "https://localhost:8080/"
        },
        "id": "IfGKewdJIovn",
        "outputId": "a85d0e6e-7139-4aa1-80ab-480dd052498a"
      },
      "outputs": [
        {
          "data": {
            "text/plain": [
              "[1, 4, 9, 16, 25, 36, 49, 64, 81, 100]"
            ]
          },
          "execution_count": 21,
          "metadata": {},
          "output_type": "execute_result"
        }
      ],
      "source": [
        "'''\n",
        "4 - Crea una lista de los cuadrados de los números de la siguiente\n",
        "lista [1, 2, 3, 4, 5, 6, 7, 8, 9, 10]. Recuerda utilizar las funciones\n",
        "lambda y map() para calcular el cuadrado de cada elemento de la lista.\n",
        "'''\n",
        "\n",
        "lista = [1, 2, 3, 4, 5, 6, 7, 8, 9, 10]\n",
        "\n",
        "cuadrados = list(map(lambda x : x ** 2, lista))\n",
        "\n",
        "cuadrados"
      ]
    },
    {
      "cell_type": "markdown",
      "metadata": {
        "id": "rBLsqMLlfFFd"
      },
      "source": [
        "**Aplicando a proyectos**\n",
        "\n",
        "5 - Has sido contratado como científico(a) de datos de una asociación de skate. Para analizar las notas recibidas por los skaters en algunas competiciones a lo largo del año, necesitas crear un código que calcule la puntuación de los atletas. Para ello, tu código debe recibir 5 notas ingresadas por los jueces.\n",
        "\n",
        "6 - Para cumplir con una demanda de una institución educativa para el análisis del rendimiento de sus estudiantes, necesitas crear una función que reciba una lista de 4 notas y devuelva:\n",
        "\n",
        "```\n",
        "# mayor nota\n",
        "# menor nota\n",
        "# media\n",
        "# situación (Aprobado(a) o Reprobado(a))\n",
        "# Uso de la función\n",
        "# Mostrar: El estudiante obtuvo una media de `media`, con la mayor nota de `mayor` puntos y la menor nota de `menor` puntos y fue `situacion`.)\n",
        "```\n",
        "\n",
        "7 - Has recibido una demanda para tratar 2 listas con los nombres y apellidos de cada estudiante concatenándolos para presentar sus nombres completos en la forma Nombre Apellido. Las listas son:\n",
        "\n",
        "```\n",
        "nombres = [\"juan\", \"MaRia\", \"JOSÉ\"]\n",
        "apellidos = [\"SILVA\", \"sosa\", \"Tavares\"]\n",
        "\n",
        "# Normalizar nombres y apellidos y crear una nueva lista con los nombres completos\n",
        "# Puedes apoyarte en la función map()\n",
        "```\n",
        "\n",
        "8 - Como científico de datos en un equipo de fútbol, necesitas implementar nuevas formas de recopilación de datos sobre el rendimiento de los jugadores y del equipo en su conjunto. Tu primera acción es crear una forma de calcular la puntuación del equipo en el campeonato nacional a partir de los datos de goles marcados y recibidos en cada juego.\n",
        "\n",
        "Escribe una función llamada calcula_puntos() que recibe como parámetros dos listas de números enteros, representando los goles marcados y recibidos por el equipo en cada partido del campeonato. La función debe devolver la puntuación del equipo y el rendimiento en porcentaje, teniendo en cuenta que la victoria vale 3 puntos, el empate 1 punto y la derrota 0 puntos.\n",
        "\n",
        "Nota: si la cantidad de goles marcados en un partido es mayor que los recibidos, el equipo ganó. En caso de ser igual, el equipo empató, y si es menor, el equipo perdió. Para calcular el rendimiento, debemos hacer la razón entre la puntuación del equipo y la puntuación máxima que podría recibir.\n",
        "\n",
        "Para la prueba, utiliza las siguientes listas de goles marcados y recibidos:\n",
        "\n",
        "```\n",
        "goles_marcados = [2, 1, 3, 1, 0]\n",
        "goles_recibidos = [1, 2, 2, 1, 3]\n",
        "# Texto probablemente mostrado:\n",
        "# La puntuación del equipo fue `puntos` y su rendimiento fue `desempeno`%\"\n",
        "```\n",
        "\n",
        "9 - Te han desafiado a crear un código que calcule los gastos de un viaje a una de las cuatro ciudades desde Recife, siendo ellas: Salvador, Fortaleza, Natal y Aracaju.\n",
        "\n",
        "El costo diario del hotel es de 150 reales en todas ellas y el consumo de gasolina en el viaje en coche es de 14 km/l, siendo que el precio de la gasolina es de 5 reales por litro. Los gastos con paseos y alimentación a realizar en cada una de ellas por día serían [200, 400, 250, 300], respectivamente.\n",
        "\n",
        "Sabiendo que las distancias entre Recife y cada una de las ciudades son aproximadamente [850, 800, 300, 550] km, crea tres funciones: la primera función calcula los gastos de hotel (gasto_hotel), la segunda calcula los gastos de gasolina (gasto_gasolina) y la tercera los gastos de paseo y alimentación (gasto_paseo).\n",
        "\n",
        "Para probar, simula un viaje de 3 días a Salvador desde Recife. Considera el viaje de ida y vuelta en coche.\n",
        "\n",
        "```\n",
        "# Texto probablemente mostrado:\n",
        "# Con base en los gastos definidos, un viaje de [dias] días a [ciudad] desde\n",
        "# Recife costaría [gastos] reales.\n",
        "```\n",
        "\n",
        "10 - Has comenzado una pasantía en una empresa que trabaja con procesamiento de lenguaje natural (NLP). Tu líder te solicitó que crees un fragmento de código que reciba una frase escrita por el usuario y filtre solo las palabras con un tamaño mayor o igual a 5, mostrándolas en una lista. Esta demanda se centra en el análisis del patrón de comportamiento de las personas al escribir palabras de esta cantidad de caracteres o más.\n",
        "\n",
        "Consejo: utiliza las funciones lambda y filter() para filtrar estas palabras. Recordando que la función integrada filter() recibe una función (en nuestro caso, una función lambda) y filtra un iterable según la función. Para tratar la frase, utiliza replace() para cambiar ',' '.', '!' y '?' por espacio.\n",
        "\n",
        "Utiliza la frase \"Aprender Python aquí en Alura es muy bueno\" para probar el código."
      ]
    },
    {
      "cell_type": "code",
      "execution_count": null,
      "metadata": {
        "colab": {
          "base_uri": "https://localhost:8080/"
        },
        "id": "6wn8s-ylfw4S",
        "outputId": "69fc72d7-20d8-46b5-c1f9-7f58af89fdda"
      },
      "outputs": [
        {
          "name": "stdout",
          "output_type": "stream",
          "text": [
            "Ingrese la nota 1: 5\n",
            "Ingrese la nota 2: 6\n",
            "Ingrese la nota 3: 1\n",
            "Ingrese la nota 4: 2\n",
            "Ingrese la nota 5: 3\n",
            "El puntaje es: 3.4\n"
          ]
        }
      ],
      "source": [
        "'''\n",
        "5 - Has sido contratado como científico(a) de datos de una asociación de skate. Para analizar\n",
        "las notas recibidas por los skaters en algunas competiciones a lo largo del año, necesitas crear\n",
        "un código que calcule la puntuación de los atletas. Para ello, tu código debe recibir 5 notas\n",
        "ingresadas por los jueces.\n",
        "'''\n",
        "\n",
        "notas = []\n",
        "\n",
        "def puntuacion():\n",
        "  for i in range(5):\n",
        "    notas.append(float(int(input(f'Ingrese la nota {i+1}: '))))\n",
        "  return sum(notas)/len(notas);\n",
        "\n",
        "puntaje = puntuacion()\n",
        "\n",
        "print(f'El puntaje del atleta es: {puntaje}')"
      ]
    },
    {
      "cell_type": "code",
      "execution_count": null,
      "metadata": {
        "colab": {
          "base_uri": "https://localhost:8080/"
        },
        "id": "7BDDtKzuoHkm",
        "outputId": "24ad9f32-82f9-44b4-de8f-c7a8bdee07bd"
      },
      "outputs": [
        {
          "name": "stdout",
          "output_type": "stream",
          "text": [
            "Ingrese la nota 1: 5\n",
            "Ingrese la nota 2: 4\n",
            "Ingrese la nota 3: 8\n",
            "Ingrese la nota 4: 2\n",
            "El estudiante obtuvo una media de 4.75, con la mayor nota de 8.0 puntos y la menor nota de 2.0 puntos y fue Reprobado(a).\n"
          ]
        }
      ],
      "source": [
        "'''\n",
        "6 - Para cumplir con una demanda de una institución educativa para el análisis del rendimiento de\n",
        "sus estudiantes, necesitas crear una función que reciba una lista de 4 notas y devuelva:\n",
        "\n",
        "# mayor nota\n",
        "# menor nota\n",
        "# media\n",
        "# situación (Aprobado(a) o Reprobado(a))\n",
        "# Uso de la función\n",
        "# Mostrar: El estudiante obtuvo una media de `media`, con la mayor nota de `mayor` puntos y la\n",
        "menor nota de `menor` puntos y fue `situacion`.)\n",
        "'''\n",
        "\n",
        "lista = []\n",
        "\n",
        "def notas(Lista):\n",
        "  for i in range(4):\n",
        "    Lista.append(float(int(input(f'Ingrese la nota {i+1}: '))))\n",
        "  mayor = max(Lista)\n",
        "  menor = min(Lista)\n",
        "  media = sum(Lista)/len(Lista)\n",
        "  if(media >= 6):\n",
        "    situacion = 'Aprobado(a) '\n",
        "  else:\n",
        "    situacion = 'Reprobado(a)'\n",
        "  print(f'El estudiante obtuvo una media de {media}, con la mayor nota de {mayor} puntos y la menor nota de {menor} puntos y fue {situacion}.')\n",
        "\n",
        "notas(lista)"
      ]
    },
    {
      "cell_type": "code",
      "execution_count": null,
      "metadata": {
        "colab": {
          "base_uri": "https://localhost:8080/"
        },
        "id": "M3bsIYgns-yL",
        "outputId": "1fb579eb-e30f-461a-ed1a-f2716943f7c7"
      },
      "outputs": [
        {
          "name": "stdout",
          "output_type": "stream",
          "text": [
            "['Juan Silva', 'Maria Sosa', 'José Tavares']\n"
          ]
        }
      ],
      "source": [
        "'''\n",
        "7 - Has recibido una demanda para tratar 2 listas con los nombres y apellidos de cada estudiante\n",
        "concatenándolos para presentar sus nombres completos en la forma Nombre Apellido.\n",
        "Las listas son:\n",
        "\n",
        "nombres = [\"juan\", \"MaRia\", \"JOSÉ\"]\n",
        "apellidos = [\"SILVA\", \"sosa\", \"Tavares\"]\n",
        "\n",
        "# Normalizar nombres y apellidos y crear una nueva lista con los nombres completos\n",
        "# Puedes apoyarte en la función map()\n",
        "'''\n",
        "\n",
        "nombres = [\"juan\", \"MaRia\", \"JOSÉ\"]\n",
        "apellidos = [\"SILVA\", \"sosa\", \"Tavares\"]\n",
        "\n",
        "normalizar = list(map(lambda nombre, apellido: nombre.capitalize() + \" \" + apellido.capitalize(), nombres, apellidos))\n",
        "print(normalizar)"
      ]
    },
    {
      "cell_type": "code",
      "execution_count": null,
      "metadata": {
        "colab": {
          "base_uri": "https://localhost:8080/"
        },
        "id": "gGJ1t3pcxbG6",
        "outputId": "17a60d91-7f41-424f-9726-0784dc3a7643"
      },
      "outputs": [
        {
          "name": "stdout",
          "output_type": "stream",
          "text": [
            "La puntuación del equipo fue 7 y su rendimiento fue 46.67%\"\n"
          ]
        }
      ],
      "source": [
        "'''\n",
        "8 - Como científico de datos en un equipo de fútbol, necesitas implementar nuevas formas de\n",
        "recopilación de datos sobre el rendimiento de los jugadores y del equipo en su conjunto. Tu\n",
        "primera acción es crear una forma de calcular la puntuación del equipo en el campeonato nacional\n",
        "a partir de los datos de goles marcados y recibidos en cada juego.\n",
        "\n",
        "Escribe una función llamada calcula_puntos() que recibe como parámetros dos listas de números\n",
        "enteros, representando los goles marcados y recibidos por el equipo en cada partido del campeonato.\n",
        "La función debe devolver la puntuación del equipo y el rendimiento en porcentaje, teniendo en cuenta\n",
        "que la victoria vale 3 puntos, el empate 1 punto y la derrota 0 puntos.\n",
        "\n",
        "Nota: si la cantidad de goles marcados en un partido es mayor que los recibidos, el equipo ganó.\n",
        "En caso de ser igual, el equipo empató, y si es menor, el equipo perdió. Para calcular el\n",
        "rendimiento, debemos hacer la razón entre la puntuación del equipo y la puntuación máxima que\n",
        "podría recibir.\n",
        "\n",
        "Para la prueba, utiliza las siguientes listas de goles marcados y recibidos:\n",
        "\n",
        "goles_marcados = [2, 1, 3, 1, 0]\n",
        "goles_recibidos = [1, 2, 2, 1, 3]\n",
        "# Texto probablemente mostrado:\n",
        "# La puntuación del equipo fue `puntos` y su rendimiento fue `desempeno`%\"\n",
        "'''\n",
        "\n",
        "def calcula_puntos (lista_1,lista_2):\n",
        "  puntos = 0\n",
        "  pmax = len(lista_1)*3\n",
        "  for i in range(len(lista_1)):\n",
        "    if(lista_1[i] == lista_2[i]):\n",
        "      puntos += 1\n",
        "    elif(lista_1[i] > lista_2[i]):\n",
        "      puntos += 3\n",
        "  desempeno = (puntos/pmax)*100\n",
        "  print(f'La puntuación del equipo fue {puntos} y su rendimiento fue {desempeno:.2f}%\"')\n",
        "\n",
        "goles_marcados = [2, 1, 3, 1, 0]\n",
        "goles_recibidos = [1, 2, 2, 1, 3]\n",
        "\n",
        "calcula_puntos(goles_marcados,goles_recibidos)"
      ]
    },
    {
      "cell_type": "code",
      "execution_count": null,
      "metadata": {
        "colab": {
          "base_uri": "https://localhost:8080/"
        },
        "id": "6jnrSO86B0Ds",
        "outputId": "4b9468a5-e54a-47eb-d8da-a6194d9a7131"
      },
      "outputs": [
        {
          "name": "stdout",
          "output_type": "stream",
          "text": [
            "Con base en los gastos definidos, un viaje de 3 días a Salvador desde\n",
            "Recife costaría 1657.14 reales\n"
          ]
        }
      ],
      "source": [
        "'''\n",
        "9 - Te han desafiado a crear un código que calcule los gastos de un viaje a una de las cuatro\n",
        "ciudades desde Recife, siendo ellas: Salvador, Fortaleza, Natal y Aracaju.\n",
        "\n",
        "El costo diario del hotel es de 150 reales en todas ellas y el consumo de gasolina en el viaje\n",
        "en coche es de 14 km/l, siendo que el precio de la gasolina es de 5 reales por litro. Los gastos\n",
        "con paseos y alimentación a realizar en cada una de ellas por día serían [200, 400, 250, 300],\n",
        "respectivamente.\n",
        "\n",
        "Sabiendo que las distancias entre Recife y cada una de las ciudades son aproximadamente\n",
        "[850, 800, 300, 550] km, crea tres funciones: la primera función calcula los gastos de hotel\n",
        "(gasto_hotel), la segunda calcula los gastos de gasolina (gasto_gasolina) y\n",
        "la tercera los gastos de paseo y alimentación (gasto_paseo).\n",
        "\n",
        "Para probar, simula un viaje de 3 días a Salvador desde Recife. Considera el viaje de ida y\n",
        "vuelta en coche.\n",
        "\n",
        "# Texto probablemente mostrado:\n",
        "# Con base en los gastos definidos, un viaje de [dias] días a [ciudad] desde\n",
        "# Recife costaría [gastos] reales.\n",
        "'''\n",
        "\n",
        "costo_hotel = 150\n",
        "costo_gasolina = 5/14 #14km/l\n",
        "gastos = [200,400,250,300]\n",
        "distancias = [850, 800, 300, 550]\n",
        "ciudades = ['Salvador', 'Fortaleza', 'Natal', 'Aracaju']\n",
        "\n",
        "def gasto_hotel(dias):\n",
        "  gasto = costo_hotel*dias\n",
        "  return gasto\n",
        "def gasto_gasolina(ciudad):\n",
        "  gasto = 0\n",
        "  for i in range(len(ciudades)):\n",
        "    if (ciudades[i] == ciudad.capitalize()):\n",
        "      gasto = distancias[i]*2*costo_gasolina\n",
        "  return gasto\n",
        "def gasto_paseo(ciudad,dias):\n",
        "  gasto = 0\n",
        "  for i in range(len(ciudades)):\n",
        "    if (ciudades[i] == ciudad.capitalize()):\n",
        "      gasto = gastos[i]*dias\n",
        "  return gasto\n",
        "\n",
        "def gasto_total(dias,ciudad):\n",
        "  total_gasto = gasto_hotel(dias) + gasto_paseo(ciudad,dias) + gasto_gasolina(ciudad)\n",
        "  print(f'Con base en los gastos definidos, un viaje de {dias} días a {ciudad} desde')\n",
        "  print(f'Recife costaría {total_gasto:.2f} reales')\n",
        "\n",
        "gasto_total(3,'Salvador')"
      ]
    },
    {
      "cell_type": "code",
      "execution_count": null,
      "metadata": {
        "colab": {
          "base_uri": "https://localhost:8080/"
        },
        "id": "KRWZ4L4FUK7H",
        "outputId": "63ac3f44-156f-4f7b-9cb0-0f33de26865f"
      },
      "outputs": [
        {
          "name": "stdout",
          "output_type": "stream",
          "text": [
            "Introduce una frase: Aprender Python aquí en Alura es muy bueno\n"
          ]
        },
        {
          "data": {
            "text/plain": [
              "['Aprender', 'Python', 'Alura', 'bueno']"
            ]
          },
          "execution_count": 51,
          "metadata": {},
          "output_type": "execute_result"
        }
      ],
      "source": [
        "'''\n",
        "10 - Has comenzado una pasantía en una empresa que trabaja con procesamiento de lenguaje natural\n",
        "(NLP). Tu líder te solicitó que crees un fragmento de código que reciba una frase escrita por el\n",
        "usuario y filtre solo las palabras con un tamaño mayor o igual a 5, mostrándolas en una lista.\n",
        "Esta demanda se centra en el análisis del patrón de comportamiento de las personas al escribir\n",
        "palabras de esta cantidad de caracteres o más.\n",
        "\n",
        "Consejo: utiliza las funciones lambda y filter() para filtrar estas palabras. Recordando que la\n",
        "función integrada filter() recibe una función (en nuestro caso, una función lambda) y filtra un\n",
        "iterable según la función. Para tratar la frase, utiliza replace() para cambiar ',' '.', '!' y '?'\n",
        "por espacio.\n",
        "\n",
        "Utiliza la frase \"Aprender Python aquí en Alura es muy bueno\" para probar el código.\n",
        "'''\n",
        "frase = input('Introduce una frase: ')\n",
        "\n",
        "frase = frase.replace(',', ' ').replace('.', ' ').replace('!', ' ').replace('?', ' ')\n",
        "\n",
        "palabras = frase.split()\n",
        "\n",
        "palabras_filtradas = list(filter(lambda palabra: len(palabra) >= 5, palabras))\n",
        "\n",
        "palabras_filtradas"
      ]
    }
  ],
  "metadata": {
    "colab": {
      "authorship_tag": "ABX9TyOxjnaV7YP2YJL8KW6sBG2v",
      "include_colab_link": true,
      "provenance": []
    },
    "kernelspec": {
      "display_name": "Python 3",
      "name": "python3"
    },
    "language_info": {
      "name": "python"
    }
  },
  "nbformat": 4,
  "nbformat_minor": 0
}
