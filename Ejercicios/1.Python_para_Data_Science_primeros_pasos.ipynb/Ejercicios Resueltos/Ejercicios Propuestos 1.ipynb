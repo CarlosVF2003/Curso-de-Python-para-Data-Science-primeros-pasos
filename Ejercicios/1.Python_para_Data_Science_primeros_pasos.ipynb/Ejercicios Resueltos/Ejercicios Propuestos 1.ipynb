{
  "cells": [
    {
      "cell_type": "markdown",
      "metadata": {
        "colab_type": "text",
        "id": "view-in-github"
      },
      "source": [
        "<a href=\"https://colab.research.google.com/github/CarlosVF2003/Curso-de-Python-para-Data-Science-primeros-pasos/blob/main/Ejercicios%20Propuestos%201.ipynb\" target=\"_parent\"><img src=\"https://colab.research.google.com/assets/colab-badge.svg\" alt=\"Open In Colab\"/></a>"
      ]
    },
    {
      "cell_type": "markdown",
      "metadata": {
        "id": "MB38zxdkNPZ_"
      },
      "source": [
        "# Ejercicios Propuestos 1\n",
        "\n"
      ]
    },
    {
      "cell_type": "markdown",
      "metadata": {
        "id": "JOGGfuCxNXx_"
      },
      "source": [
        "**Recopilación y muestra de datos**\n",
        "\n",
        "1 - Crea un programa que solicite al usuario que escriba su nombre y luego imprima \"Hola, [nombre].\"\n",
        "\n",
        "2 - Crea un programa que solicite al usuario que escriba su nombre y edad, y luego imprima \"Hola, [nombre], tienes [edad] años.\"\n",
        "\n",
        "3 - Crea un programa que solicite al usuario que escriba su nombre, edad y altura en metros, y luego imprima \"Hola, [nombre], tienes [edad] años y mides [altura] metros.\"\n"
      ]
    },
    {
      "cell_type": "code",
      "execution_count": null,
      "metadata": {
        "colab": {
          "base_uri": "https://localhost:8080/"
        },
        "id": "y0HWtZ18NM-v",
        "outputId": "92f2125c-3cff-4d97-fa76-feff33cf3185"
      },
      "outputs": [
        {
          "name": "stdout",
          "output_type": "stream",
          "text": [
            "Ingrese el nombre de usuario: Carlos\n",
            "Hola Carlos\n"
          ]
        }
      ],
      "source": [
        "'''\n",
        "Crea un programa que solicite al usuario que escriba su nombre y luego imprima \"Hola, [nombre]\"\n",
        "'''\n",
        "nombre = input(\"Ingrese el nombre de usuario: \")\n",
        "\n",
        "print(f'Hola {nombre}')"
      ]
    },
    {
      "cell_type": "code",
      "execution_count": null,
      "metadata": {
        "colab": {
          "base_uri": "https://localhost:8080/"
        },
        "id": "E45f1b-BOIus",
        "outputId": "a9cad91a-4521-442b-942e-4a0a2263bedc"
      },
      "outputs": [
        {
          "name": "stdout",
          "output_type": "stream",
          "text": [
            "Ingrese el nombre de usuario: Carlos\n",
            "Ingrese la edad del usuario: 21\n",
            "Hola, Carlos, tienes 21 años\n"
          ]
        }
      ],
      "source": [
        "'''\n",
        "Crea un programa que solicite al usuario que escriba su nombre y edad, y\n",
        "luego imprima \"Hola, [nombre], tienes [edad] años.\"\n",
        "'''\n",
        "nombre = input(\"Ingrese el nombre de usuario: \")\n",
        "edad = input(\"Ingrese la edad del usuario: \")\n",
        "\n",
        "print(f'Hola, {nombre}, tienes {edad} años')"
      ]
    },
    {
      "cell_type": "code",
      "execution_count": null,
      "metadata": {
        "colab": {
          "base_uri": "https://localhost:8080/"
        },
        "id": "dLHB_v_XOYlF",
        "outputId": "51eb6ac6-1b19-45a9-c48a-1f4a3d42b91b"
      },
      "outputs": [
        {
          "name": "stdout",
          "output_type": "stream",
          "text": [
            "Ingrese el nombre de usuario: Carlos\n",
            "Ingrese la edad del usuario: 21\n",
            "Ingrese la altura del usuario: 1.69\n",
            "Hola, Carlos, tienes 21 años y mides 1.69 metros\n"
          ]
        }
      ],
      "source": [
        "'''\n",
        "Crea un programa que solicite al usuario que escriba su nombre, edad y\n",
        "altura en metros, y luego imprima \"Hola, [nombre], tienes [edad] años y mides [altura] metros.\"\n",
        "'''\n",
        "nombre = input(\"Ingrese el nombre de usuario: \")\n",
        "edad = input(\"Ingrese la edad del usuario: \")\n",
        "altura = input(\"Ingrese la altura del usuario: \")\n",
        "\n",
        "print(f'Hola, {nombre}, tienes {edad} años y mides {altura} metros')"
      ]
    },
    {
      "cell_type": "markdown",
      "metadata": {
        "id": "ArYNYOhUNszj"
      },
      "source": [
        "**Calculadora con operadores**\n",
        "\n",
        "4 - Crea un programa que solicite dos valores numéricos al usuario y luego imprima la suma de ambos valores.\n",
        "\n",
        "5 - Crea un programa que solicite tres valores numéricos al usuario y luego imprima la suma de los tres valores.\n",
        "\n",
        "6 - Crea un programa que solicite dos valores numéricos al usuario y luego imprima la resta del primero menos el segundo valor.\n",
        "\n",
        "7 - Crea un programa que solicite dos valores numéricos al usuario y luego imprima la multiplicación de los dos valores.\n",
        "\n",
        "8 - Crea un programa que solicite dos valores numéricos, un numerador y un denominador, y realice la división entre los dos valores. Asegúrate de que el valor del denominador no sea igual a 0.\n",
        "\n",
        "9 - Crea un programa que solicite dos valores numéricos, un operador y una potencia, y realice la exponenciación entre estos dos valores.\n",
        "\n",
        "10 - Crea un programa que solicite dos valores numéricos, un numerador y un denominador, y realice la división entera entre los dos valores. Asegúrate de que el valor del denominador no sea igual a 0.\n",
        "\n",
        "11 - Crea un programa que solicite dos valores numéricos, un numerador y un denominador, y devuelva el resto de la división entre los dos valores. Asegúrate de que el valor del denominador no sea igual a 0.\n",
        "\n",
        "12 - Crea un código que solicite las 3 notas de un estudiante e imprima el promedio de las notas.\n",
        "\n",
        "13 - Crea un código que calcule e imprima el promedio ponderado de los números 5, 12, 20 y 15 con pesos respectivamente iguales a 1, 2, 3 y 4.\n"
      ]
    },
    {
      "cell_type": "code",
      "execution_count": null,
      "metadata": {
        "colab": {
          "base_uri": "https://localhost:8080/"
        },
        "id": "b9Aasx7qNu9g",
        "outputId": "10417e7a-2619-4da3-cc93-852eea5c2092"
      },
      "outputs": [
        {
          "name": "stdout",
          "output_type": "stream",
          "text": [
            "Ingrese el primer valor numérico: 21\n",
            "Ingrese el segundo valor numérico: 03\n",
            "La suma de los valores es 24\n"
          ]
        }
      ],
      "source": [
        "'''\n",
        "Crea un programa que solicite dos valores numéricos al usuario y luego\n",
        "imprima la suma de ambos valores.\n",
        "'''\n",
        "num1 = int(input('Ingrese el primer valor numérico: '))\n",
        "num2 = int(input('Ingrese el segundo valor numérico: '))\n",
        "print(f'La suma de los valores es {num1 + num2}')"
      ]
    },
    {
      "cell_type": "code",
      "execution_count": null,
      "metadata": {
        "colab": {
          "base_uri": "https://localhost:8080/"
        },
        "id": "icMOVP34PBYq",
        "outputId": "ee7ea56d-05cc-4138-ae0f-cd1a9642b7f4"
      },
      "outputs": [
        {
          "name": "stdout",
          "output_type": "stream",
          "text": [
            "Ingrese el primer valor numérico: 22\n",
            "Ingrese el segundo valor numérico: 03\n",
            "Ingrese el tercer valor numérico: 08\n",
            "La suma de los valores es 33\n"
          ]
        }
      ],
      "source": [
        "'''\n",
        "Crea un programa que solicite tres valores numéricos al usuario y luego\n",
        "imprima la suma de los tres valores.\n",
        "'''\n",
        "num1 = int(input('Ingrese el primer valor numérico: '))\n",
        "num2 = int(input('Ingrese el segundo valor numérico: '))\n",
        "num3 = int(input('Ingrese el tercer valor numérico: '))\n",
        "\n",
        "print(f'La suma de los valores es {num1 + num2 + num3}')"
      ]
    },
    {
      "cell_type": "code",
      "execution_count": null,
      "metadata": {
        "colab": {
          "base_uri": "https://localhost:8080/"
        },
        "id": "H6h3-sHDPKAm",
        "outputId": "f68ef9d4-1e82-446e-a0a3-c9aa66b151bf"
      },
      "outputs": [
        {
          "name": "stdout",
          "output_type": "stream",
          "text": [
            "Ingrese el primer valor numérico: 22\n",
            "Ingrese el segundo valor numérico: 03\n",
            "La resta de los valores es 19\n"
          ]
        }
      ],
      "source": [
        "'''\n",
        "Crea un programa que solicite dos valores numéricos al usuario y luego\n",
        "imprima la resta del primero menos el segundo valor.\n",
        "'''\n",
        "num1 = int(input('Ingrese el primer valor numérico: '))\n",
        "num2 = int(input('Ingrese el segundo valor numérico: '))\n",
        "\n",
        "print(f'La resta de los valores es {num1 - num2}')"
      ]
    },
    {
      "cell_type": "code",
      "execution_count": null,
      "metadata": {
        "colab": {
          "base_uri": "https://localhost:8080/"
        },
        "id": "zIbQ0CXHPP0e",
        "outputId": "1867f0a6-a70b-4a1a-c077-ed74719f2986"
      },
      "outputs": [
        {
          "name": "stdout",
          "output_type": "stream",
          "text": [
            "Ingrese el primer valor numérico: 03\n",
            "Ingrese el segundo valor numérico: 05\n",
            "La multiplicación de los valores es 15\n"
          ]
        }
      ],
      "source": [
        "'''\n",
        "Crea un programa que solicite dos valores numéricos al usuario y luego\n",
        "imprima la multiplicación de los dos valores.\n",
        "'''\n",
        "num1 = int(input('Ingrese el primer valor numérico: '))\n",
        "num2 = int(input('Ingrese el segundo valor numérico: '))\n",
        "\n",
        "print(f'La multiplicación de los valores es {num1 * num2}')"
      ]
    },
    {
      "cell_type": "code",
      "execution_count": null,
      "metadata": {
        "colab": {
          "base_uri": "https://localhost:8080/"
        },
        "id": "EWXOaTOOPXFf",
        "outputId": "6b36c14d-2347-4237-e46e-43255a9f23d3"
      },
      "outputs": [
        {
          "name": "stdout",
          "output_type": "stream",
          "text": [
            "Ingrese el numerador: 15\n",
            "Ingrese el denominador: 3\n",
            "La división de los valores es 5.0\n"
          ]
        }
      ],
      "source": [
        "'''\n",
        "Crea un programa que solicite dos valores numéricos, un numerador y un denominador,\n",
        "y realice la división entre los dos valores. Asegúrate de que el valor del\n",
        "denominador no sea igual a 0.\n",
        "'''\n",
        "numerador = int(input('Ingrese el numerador: '))\n",
        "denominador = int(input('Ingrese el denominador: '))\n",
        "\n",
        "while(denominador == 0):\n",
        "    denominador = int(input('Ingrese un denominador diferente de 0: '))\n",
        "\n",
        "print(f'La división de los valores es {(numerador / denominador)}')"
      ]
    },
    {
      "cell_type": "code",
      "execution_count": null,
      "metadata": {
        "colab": {
          "base_uri": "https://localhost:8080/"
        },
        "id": "DN0ATSd4QmRC",
        "outputId": "1d3deb97-0ea6-4338-9ba6-8b0a802cde64"
      },
      "outputs": [
        {
          "name": "stdout",
          "output_type": "stream",
          "text": [
            "Ingrese el valor del operador: 2\n",
            "Ingrese el valor de la potencia: 5\n",
            "El número 2 elevado a 5 es 32\n"
          ]
        }
      ],
      "source": [
        "'''\n",
        "Crea un programa que solicite dos valores numéricos, un operador y una potencia,\n",
        "y realice la exponenciación entre estos dos valores.\n",
        "'''\n",
        "operador = int(input('Ingrese el valor del operador: '))\n",
        "potencia = int(input('Ingrese el valor de la potencia: '))\n",
        "\n",
        "print(f'El número {operador} elevado a {potencia} es {operador**potencia}')"
      ]
    },
    {
      "cell_type": "code",
      "execution_count": null,
      "metadata": {
        "colab": {
          "base_uri": "https://localhost:8080/"
        },
        "id": "Qp1bNsLvRE4Z",
        "outputId": "3d9e51ea-897c-4eab-cd34-74a0dcce033b"
      },
      "outputs": [
        {
          "name": "stdout",
          "output_type": "stream",
          "text": [
            "Ingrese el numerador: 162\n",
            "Ingrese el denominador: 7\n",
            "La división de los valores es 23\n"
          ]
        }
      ],
      "source": [
        "'''\n",
        "Crea un programa que solicite dos valores numéricos, un numerador y un denominador,\n",
        "y realice la división entera entre los dos valores. Asegúrate de que el valor del\n",
        "denominador no sea igual a 0.\n",
        "'''\n",
        "numerador = int(input('Ingrese el numerador: '))\n",
        "denominador = int(input('Ingrese el denominador: '))\n",
        "\n",
        "while(denominador == 0):\n",
        "    denominador = int(input('Ingrese un denominador diferente de 0: '))\n",
        "\n",
        "print(f'La división de los valores es {numerador // denominador}')"
      ]
    },
    {
      "cell_type": "code",
      "execution_count": null,
      "metadata": {
        "colab": {
          "base_uri": "https://localhost:8080/"
        },
        "id": "K-YzFKfKRLL5",
        "outputId": "e499c4c7-7ae0-40ca-9375-435fe5094247"
      },
      "outputs": [
        {
          "name": "stdout",
          "output_type": "stream",
          "text": [
            "Ingrese el numerador: 162\n",
            "Ingrese el denominador: 7\n",
            "La división de los valores es 1\n"
          ]
        }
      ],
      "source": [
        "'''\n",
        "Crea un programa que solicite dos valores numéricos, un numerador y un denominador,\n",
        "y devuelva el resto de la división entre los dos valores. Asegúrate de que el valor del\n",
        "denominador no sea igual a 0.\n",
        "'''\n",
        "numerador = int(input('Ingrese el numerador: '))\n",
        "denominador = int(input('Ingrese el denominador: '))\n",
        "\n",
        "while(denominador == 0):\n",
        "    denominador = int(input('Ingrese un denominador diferente de 0: '))\n",
        "\n",
        "print(f'La división de los valores es {numerador % denominador}')"
      ]
    },
    {
      "cell_type": "code",
      "execution_count": null,
      "metadata": {
        "colab": {
          "base_uri": "https://localhost:8080/"
        },
        "id": "cxnOcuPNSIqn",
        "outputId": "36fe37c2-5ede-45b6-cdbd-a18e5d9fca3f"
      },
      "outputs": [
        {
          "name": "stdout",
          "output_type": "stream",
          "text": [
            "Ingresa la nota 1 del estudiante: 18\n",
            "Ingresa la nota 2 del estudiante: 16\n",
            "Ingresa la nota 3 del estudiante: 14\n",
            "El promedio de notas del estudiante es 16.0\n"
          ]
        }
      ],
      "source": [
        "'''\n",
        "Crea un código que calcule e imprima el promedio ponderado de los números 5, 12, 20 y 15\n",
        "con pesos respectivamente iguales a 1, 2, 3 y 4.\n",
        "'''\n",
        "nota_1 = float(input('Ingresa la nota 1 del estudiante: '))\n",
        "nota_2 = float(input('Ingresa la nota 2 del estudiante: '))\n",
        "nota_3 = float(input('Ingresa la nota 3 del estudiante: '))\n",
        "\n",
        "promedio_notas = (nota_1 + nota_2 + nota_3)/3\n",
        "\n",
        "print(f'El promedio de notas del estudiante es {promedio_notas}')"
      ]
    },
    {
      "cell_type": "code",
      "execution_count": null,
      "metadata": {
        "colab": {
          "base_uri": "https://localhost:8080/"
        },
        "id": "q-eavIbKTB4N",
        "outputId": "cb43aaa2-6dc5-4813-8943-060acdfd5a0c"
      },
      "outputs": [
        {
          "name": "stdout",
          "output_type": "stream",
          "text": [
            "El promedio ponderado de las notas es: 14.9\n"
          ]
        }
      ],
      "source": [
        "'''\n",
        "Crea un código que solicite las 3 notas de un estudiante e imprima el promedio de las notas.\n",
        "'''\n",
        "i = 0\n",
        "suma = 0\n",
        "sum_pesos = 0\n",
        "\n",
        "notas = [5,12,20,15]\n",
        "pesos = [1,2,3,4]\n",
        "\n",
        "cantidad_notas = int(len(notas))\n",
        "\n",
        "while (i < cantidad_notas):\n",
        "    suma += notas[i]*pesos[i]\n",
        "    sum_pesos += pesos[i]\n",
        "    i += 1\n",
        "\n",
        "promedio_ponderado = suma/sum_pesos\n",
        "\n",
        "print(f'El promedio ponderado de las notas es: {promedio_ponderado}')"
      ]
    },
    {
      "cell_type": "markdown",
      "metadata": {
        "id": "iGN1raQHNudu"
      },
      "source": [
        "\n",
        "**Editando textos**\n",
        "\n",
        "14 - Crea una variable llamada \"frase\" y asígnale una cadena de texto de tu elección. Luego, imprime la frase en pantalla.\n",
        "\n",
        "15 - Crea un código que solicite una frase y luego imprima la frase en pantalla.\n",
        "\n",
        "16 - Crea un código que solicite una frase al usuario y luego imprima la misma frase ingresada pero en mayúsculas.\n",
        "\n",
        "17 - Crea un código que solicite una frase al usuario y luego imprima la misma frase ingresada pero en minúsculas.\n",
        "\n",
        "18 - Crea una variable llamada \"frase\" y asígnale una cadena de texto de tu elección. Luego, imprime la frase sin espacios en blanco al principio y al final.\n",
        "\n",
        "19 - Crea un código que solicite una frase al usuario y luego imprima la misma frase sin espacios en blanco al principio y al final.\n",
        "\n",
        "20 - Crea un código que solicite una frase al usuario y luego imprima la misma frase sin espacios en blanco al principio y al final, además de convertirla a minúsculas.\n",
        "\n",
        "21 - Crea un código que solicite una frase al usuario y luego imprima la misma frase con todas las vocales \"e\" reemplazadas por la letra \"f\".\n",
        "\n",
        "22 - Crea un código que solicite una frase al usuario y luego imprima la misma frase con todas las vocales \"a\" reemplazadas por el carácter \"@\".\n",
        "\n",
        "23 - Crea un código que solicite una frase al usuario y luego imprima la misma frase con todas las consonantes \"s\" reemplazadas por el carácter \"$\"."
      ]
    },
    {
      "cell_type": "code",
      "execution_count": null,
      "metadata": {
        "colab": {
          "base_uri": "https://localhost:8080/"
        },
        "id": "tP-8tI4NXkjV",
        "outputId": "7d367231-d713-410f-8c98-3cd0e4ce99b5"
      },
      "outputs": [
        {
          "name": "stdout",
          "output_type": "stream",
          "text": [
            "¡Hola Python!\n"
          ]
        }
      ],
      "source": [
        "'''\n",
        "Crea una variable llamada \"frase\" y asígnale una cadena de texto de tu elección.\n",
        "Luego, imprime la frase en pantalla.'\n",
        "'''\n",
        "frase = '¡Hola Python!'\n",
        "print(frase)"
      ]
    },
    {
      "cell_type": "code",
      "execution_count": null,
      "metadata": {
        "colab": {
          "base_uri": "https://localhost:8080/"
        },
        "id": "4TNPayWchnqw",
        "outputId": "b2b5eb3a-f078-4691-ecb0-dd767aa6ff27"
      },
      "outputs": [
        {
          "name": "stdout",
          "output_type": "stream",
          "text": [
            "Ingrese una frase: ¡Hola a todos!\n",
            "¡Hola a todos!\n"
          ]
        }
      ],
      "source": [
        "'''\n",
        "Crea un código que solicite una frase y luego imprima la frase en pantalla.\n",
        "'''\n",
        "frase = input('Ingrese una frase: ')\n",
        "print(frase )"
      ]
    },
    {
      "cell_type": "code",
      "execution_count": null,
      "metadata": {
        "colab": {
          "base_uri": "https://localhost:8080/"
        },
        "id": "dtXXcceKh1Dn",
        "outputId": "2fbbed5a-e61b-4e03-dd10-7eb53511040a"
      },
      "outputs": [
        {
          "name": "stdout",
          "output_type": "stream",
          "text": [
            "Ingrese una frase: Conviertiendo todo a mayuscula\n",
            "CONVIERTIENDO TODO A MAYUSCULA\n"
          ]
        }
      ],
      "source": [
        "'''\n",
        "Crea un código que solicite una frase al usuario y luego imprima la misma\n",
        "frase ingresada pero en mayúsculas.\n",
        "'''\n",
        "frase = input('Ingrese una frase: ').upper()\n",
        "print(frase )"
      ]
    },
    {
      "cell_type": "code",
      "execution_count": null,
      "metadata": {
        "colab": {
          "base_uri": "https://localhost:8080/"
        },
        "id": "c30Ph6uXiR27",
        "outputId": "2b717a2b-ac4b-4b63-f6c1-6f797a93e93e"
      },
      "outputs": [
        {
          "name": "stdout",
          "output_type": "stream",
          "text": [
            "Ingrese una frase: Convirtiendo todo a minuscula\n",
            "convirtiendo todo a minuscula\n"
          ]
        }
      ],
      "source": [
        "'''\n",
        "Crea un código que solicite una frase al usuario y luego imprima la misma\n",
        "frase ingresada pero en minúsculas.\n",
        "'''\n",
        "frase = input('Ingrese una frase: ').lower()\n",
        "print(frase )"
      ]
    },
    {
      "cell_type": "code",
      "execution_count": null,
      "metadata": {
        "colab": {
          "base_uri": "https://localhost:8080/"
        },
        "id": "_l6J9SNUiYW6",
        "outputId": "2a417768-ad71-4f4e-a67e-7a92f2798f65"
      },
      "outputs": [
        {
          "name": "stdout",
          "output_type": "stream",
          "text": [
            "Un gran poder con lleva una gran responsabilidad\n"
          ]
        }
      ],
      "source": [
        "'''\n",
        "Crea una variable llamada \"frase\" y asígnale una cadena de texto de tu elección.\n",
        "Luego, imprime la frase sin espacios en blanco al principio y al final.\n",
        "'''\n",
        "frase = ' Un gran poder con lleva una gran responsabilidad '\n",
        "print(frase.strip())"
      ]
    },
    {
      "cell_type": "code",
      "execution_count": null,
      "metadata": {
        "colab": {
          "base_uri": "https://localhost:8080/"
        },
        "id": "wRHU_ZiHi2OU",
        "outputId": "4828c505-f2d2-407d-bf30-fdc20998f0ae"
      },
      "outputs": [
        {
          "name": "stdout",
          "output_type": "stream",
          "text": [
            "Ingrese una frase:  Sin espacios en el final e inicio                   \n",
            "Sin espacios en el final e inicio\n"
          ]
        }
      ],
      "source": [
        "'''\n",
        "Crea un código que solicite una frase al usuario y luego imprima la misma frase\n",
        "sin espacios en blanco al principio y al final.\n",
        "'''\n",
        "frase = input('Ingrese una frase: ').strip()\n",
        "print(frase)"
      ]
    },
    {
      "cell_type": "code",
      "execution_count": null,
      "metadata": {
        "colab": {
          "base_uri": "https://localhost:8080/"
        },
        "id": "Oj1Sykb1jGr5",
        "outputId": "a45807df-72af-496e-fdfa-344bd6ab4d26"
      },
      "outputs": [
        {
          "name": "stdout",
          "output_type": "stream",
          "text": [
            "Ingrese una frase:  Sin espacios y con minusculas          \n",
            "sin espacios y con minusculas\n"
          ]
        }
      ],
      "source": [
        "'''\n",
        "Crea un código que solicite una frase al usuario y luego imprima la misma frase\n",
        "sin espacios en blanco al principio y al final, además de convertirla a minúsculas.\n",
        "'''\n",
        "frase = input('Ingrese una frase: ').strip().lower()\n",
        "print(frase)"
      ]
    },
    {
      "cell_type": "code",
      "execution_count": null,
      "metadata": {
        "colab": {
          "base_uri": "https://localhost:8080/"
        },
        "id": "_1xAvqV-jQ-t",
        "outputId": "592651fc-1dd9-4a50-b027-d14d85afcdc7"
      },
      "outputs": [
        {
          "name": "stdout",
          "output_type": "stream",
          "text": [
            "Ingrese una frase: Reemplazando la e por la letra f \n",
            "Rffmplazando la f por la lftra f \n"
          ]
        }
      ],
      "source": [
        "'''\n",
        "Crea un código que solicite una frase al usuario y luego imprima la misma frase\n",
        "con todas las vocales \"e\" reemplazadas por la letra \"f\".\n",
        "'''\n",
        "frase = input('Ingrese una frase: ').replace('e','f')\n",
        "'''.replace('E','F')'''\n",
        "print(frase)"
      ]
    },
    {
      "cell_type": "code",
      "execution_count": null,
      "metadata": {
        "colab": {
          "base_uri": "https://localhost:8080/"
        },
        "id": "wXXiqOVyjoYv",
        "outputId": "0825ce91-5fdd-4de9-de1f-53d7b33ded59"
      },
      "outputs": [
        {
          "name": "stdout",
          "output_type": "stream",
          "text": [
            "Ingrese una frase: Reemplazando la letra a por la arroba\n",
            "Reempl@z@ndo l@ letr@ @ por l@ @rrob@\n"
          ]
        }
      ],
      "source": [
        "'''\n",
        "Crea un código que solicite una frase al usuario y luego imprima la misma frase\n",
        "con todas las vocales \"a\" reemplazadas por el carácter \"@\".\n",
        "'''\n",
        "frase = input('Ingrese una frase: ').replace('a',chr(64))\n",
        "'''.replace('A',chr(64))'''\n",
        "print(frase)"
      ]
    },
    {
      "cell_type": "code",
      "execution_count": null,
      "metadata": {
        "colab": {
          "base_uri": "https://localhost:8080/"
        },
        "id": "DyeLOn1bkQ9L",
        "outputId": "aefcb707-ba1b-46b2-e34f-61ae94e1a826"
      },
      "outputs": [
        {
          "name": "stdout",
          "output_type": "stream",
          "text": [
            "Ingrese una frase: Reemplazando la consonante s por el signo de dolar\n",
            "Reemplazando la con$onante $ por el $igno de dolar\n"
          ]
        }
      ],
      "source": [
        "'''\n",
        "Crea un código que solicite una frase al usuario y luego imprima la misma frase\n",
        "con todas las consonantes \"s\" reemplazadas por el carácter \"$\".\n",
        "'''\n",
        "frase = input('Ingrese una frase: ').replace('s',chr(36))\n",
        "'''.replace('S',chr(36))'''\n",
        "print(frase)"
      ]
    }
  ],
  "metadata": {
    "colab": {
      "include_colab_link": true,
      "provenance": []
    },
    "kernelspec": {
      "display_name": "Python 3",
      "name": "python3"
    },
    "language_info": {
      "name": "python"
    }
  },
  "nbformat": 4,
  "nbformat_minor": 0
}
