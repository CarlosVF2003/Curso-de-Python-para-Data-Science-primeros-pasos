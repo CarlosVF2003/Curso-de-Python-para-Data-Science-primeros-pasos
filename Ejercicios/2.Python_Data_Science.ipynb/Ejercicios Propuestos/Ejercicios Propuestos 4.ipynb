{
  "cells": [
    {
      "cell_type": "markdown",
      "metadata": {
        "colab_type": "text",
        "id": "view-in-github"
      },
      "source": [
        "<a href=\"https://colab.research.google.com/github/CarlosVF2003/Curso-de-Python-para-Data-Science-primeros-pasos/blob/main/Ejercicios3.ipynb\" target=\"_parent\"><img src=\"https://colab.research.google.com/assets/colab-badge.svg\" alt=\"Open In Colab\"/></a>"
      ]
    },
    {
      "cell_type": "markdown",
      "metadata": {
        "id": "rS5Ry583tq3G"
      },
      "source": [
        "# Ejercicios Propuestos 4"
      ]
    },
    {
      "cell_type": "markdown",
      "metadata": {
        "id": "yPnbpsqsttTk"
      },
      "source": [
        "**Calentamiento**\n",
        "\n",
        "1 - Haz un programa que solicite a la persona usuaria ingresar dos números decimales y calcular la división entre estos números. El código debe incluir un manejo de error, indicando el tipo de error que se generó si la división no es posible.\n",
        "\n",
        "Prueba el programa con el segundo valor numérico de la entrada igual a 0. También prueba usando caracteres textuales en la entrada para verificar los tipos de errores que ocurren.\n",
        "\n",
        "2 - Haz un programa que solicite a la persona usuaria ingresar un texto que será una clave a buscar en el siguiente diccionario: ```edades = {'Júlia': 16, 'Carol': 23, 'Alberto': 19, 'Roberta': 17}```, almacenando el resultado del valor en una variable. El código debe incluir un manejo de error KeyError, imprimiendo la información 'Nombre no encontrado' en caso de error, e imprimir el valor si no ocurre ninguno.\n",
        "\n",
        "Prueba el programa con un nombre presente en una de las claves del diccionario y con uno que no esté en el diccionario para verificar el mensaje de error.\n",
        "\n",
        "3 - Crea una función que reciba una lista como parámetro y convierta todos los valores de la lista a flotantes. La función debe incluir un manejo de error indicando el tipo de error generado y devolver la lista si no ha ocurrido ningún error. Por último, debe tener la cláusula ```finally``` para imprimir el texto: 'Fin de la ejecución de la función'.\n",
        "\n",
        "4 - Crea una función que reciba dos listas como parámetros y agrupe los elementos uno a uno de las listas, formando una lista de tuplas de 3 elementos. El primer y segundo elemento de la tupla son los valores en la posición ```i``` de las listas y el tercer elemento es la suma de los valores en la posición ```i``` de las listas.\n",
        "\n",
        "La función debe incluir un manejo de error indicando el tipo de error generado y devolver como resultado la lista de tuplas. Si las listas enviadas como parámetro tienen tamaños diferentes, la función debe devolver un IndexError con la frase: 'La cantidad de elementos en cada lista es diferente.'.\n",
        "\n",
        "Datos para probar la función:\n",
        "\n",
        "Valores sin error:\n",
        "```\n",
        "lista1 = [4, 6, 7, 9, 10]\n",
        "lista2 = [-4, 6, 8, 7, 9]\n",
        "```\n",
        "\n",
        "Listas con tamaños diferentes:\n",
        "```\n",
        "lista1 = [4, 6, 7, 9, 10, 4]\n",
        "lista2 = [-4, 6, 8, 7, 9]\n",
        "```\n",
        "\n",
        "Listas con valores incoherentes:\n",
        "```\n",
        "lista1 = [4, 6, 7, 9, 'A']\n",
        "lista2 = [-4, 'E', 8, 7, 9]\n",
        "```"
      ]
    },
    {
      "cell_type": "code",
      "execution_count": null,
      "metadata": {
        "colab": {
          "base_uri": "https://localhost:8080/"
        },
        "id": "izSm6P-fuUQ9",
        "outputId": "d2bef04f-e678-48d3-da87-5c6d3b007040"
      },
      "outputs": [
        {
          "name": "stdout",
          "output_type": "stream",
          "text": [
            "Ingrese el 1er número: 10\n",
            "Ingrese el 2do número: 6\n",
            "La división de los numeros es: 1.67\n"
          ]
        }
      ],
      "source": [
        "'''\n",
        "1 - Haz un programa que solicite a la persona usuaria ingresar dos números decimales y calcular la\n",
        "división entre estos números. El código debe incluir un manejo de error, indicando el tipo de error\n",
        "que se generó si la división no es posible.\n",
        "\n",
        "Prueba el programa con el segundo valor numérico de la entrada igual a 0. También prueba usando\n",
        "caracteres textuales en la entrada para verificar los tipos de errores que ocurren.\n",
        "'''\n"
      ]
    },
    {
      "cell_type": "code",
      "execution_count": null,
      "metadata": {
        "colab": {
          "base_uri": "https://localhost:8080/"
        },
        "id": "cXMnJh2ZxGSG",
        "outputId": "235d8efa-2879-4fe5-a627-0d5118b0e6e0"
      },
      "outputs": [
        {
          "name": "stdout",
          "output_type": "stream",
          "text": [
            "Ingrese el clave: Juan\n",
            "Nombre no encontrado\n"
          ]
        }
      ],
      "source": [
        "'''\n",
        "2 - Haz un programa que solicite a la persona usuaria ingresar un texto que será una clave a buscar\n",
        "en el siguiente diccionario: edades = {'Júlia': 16, 'Carol': 23, 'Alberto': 19, 'Roberta': 17},\n",
        "almacenando el resultado del valor en una variable. El código debe incluir un manejo de error\n",
        "KeyError, imprimiendo la información 'Nombre no encontrado' en caso de error, e imprimir el valor\n",
        "si no ocurre ninguno.\n",
        "\n",
        "Prueba el programa con un nombre presente en una de las claves del diccionario y con uno que no\n",
        "esté en el diccionario para verificar el mensaje de error.\n",
        "'''\n"
      ]
    },
    {
      "cell_type": "code",
      "execution_count": null,
      "metadata": {
        "colab": {
          "base_uri": "https://localhost:8080/"
        },
        "id": "o7YnX9wuyici",
        "outputId": "0cefa6fe-ff0c-4ec7-c125-e58561d8f9eb"
      },
      "outputs": [
        {
          "name": "stdout",
          "output_type": "stream",
          "text": [
            "Ingrese un número: 1\n",
            "Ingrese un número: 5\n",
            "Ingrese un número: 2\n",
            "Ingrese un número: a\n",
            "Ingrese un número: 4\n",
            "Fin de la ejecución de la función\n",
            "Fin de la ejecución de la función\n",
            "Fin de la ejecución de la función\n",
            "Error al convertir 'a': could not convert string to float: 'a'\n",
            "Fin de la ejecución de la función\n",
            "Fin de la ejecución de la función\n",
            "Lista convertida: [1.0, 5.0, 2.0, 4.0]\n"
          ]
        }
      ],
      "source": [
        "'''\n",
        "3 - Crea una función que reciba una lista como parámetro y convierta todos los valores de la lista\n",
        "a flotantes. La función debe incluir un manejo de error indicando el tipo de error generado y\n",
        "devolver la lista si no ha ocurrido ningún error. Por último, debe tener la cláusula finally para\n",
        "imprimir el texto: 'Fin de la ejecución de la función'.\n",
        "'''\n"
      ]
    },
    {
      "cell_type": "code",
      "execution_count": null,
      "metadata": {
        "colab": {
          "base_uri": "https://localhost:8080/"
        },
        "id": "zIuiTb0j1M3o",
        "outputId": "8a3066b2-7988-41fd-ef6d-461a8c173786"
      },
      "outputs": [
        {
          "name": "stdout",
          "output_type": "stream",
          "text": [
            "Fin de la ejecución de la función\n",
            "Fin de la ejecución de la función\n",
            "Fin de la ejecución de la función\n",
            "[(4, -4, 0), (6, 6, 12), (7, 8, 15), (9, 7, 16), (10, 9, 19)]\n",
            "La cantidad de elementos en cada lista es diferente.\n",
            "Error inesperado: unsupported operand type(s) for +: 'int' and 'str'\n"
          ]
        }
      ],
      "source": [
        "'''\n",
        "4 - Crea una función que reciba dos listas como parámetros y agrupe los elementos uno a uno de las\n",
        "listas, formando una lista de tuplas de 3 elementos. El primer y segundo elemento de la tupla son\n",
        "los valores en la posición i de las listas y el tercer elemento es la suma de los valores en la\n",
        "posición i de las listas.\n",
        "\n",
        "La función debe incluir un manejo de error indicando el tipo de error generado y devolver como\n",
        "resultado la lista de tuplas. Si las listas enviadas como parámetro tienen tamaños diferentes,\n",
        "la función debe devolver un IndexError con la frase: 'La cantidad de elementos en cada lista es\n",
        "diferente.'.\n",
        "\n",
        "Datos para probar la función:\n",
        "\n",
        "Valores sin error:\n",
        "\n",
        "lista1 = [4, 6, 7, 9, 10]\n",
        "lista2 = [-4, 6, 8, 7, 9]\n",
        "\n",
        "Listas con tamaños diferentes:\n",
        "\n",
        "lista1 = [4, 6, 7, 9, 10, 4]\n",
        "lista2 = [-4, 6, 8, 7, 9]\n",
        "\n",
        "Listas con valores incoherentes:\n",
        "\n",
        "lista1 = [4, 6, 7, 9, 'A']\n",
        "lista2 = [-4, 'E', 8, 7, 9]\n",
        "'''\n"
      ]
    },
    {
      "cell_type": "markdown",
      "metadata": {
        "id": "RiZE1uKz7Hzd"
      },
      "source": [
        "**Aplicando a proyectos**\n",
        "\n",
        "5 - Como desafío, se te ha asignado la tarea de desarrollar un código que contabiliza las puntuaciones de estudiantes de una institución educativa de acuerdo con sus respuestas en una prueba. Este código debe ser probado para un ejemplo de 3 estudiantes con una lista de listas en la que cada lista tiene las respuestas de 5 preguntas objetivas de cada estudiante. Cada pregunta vale un punto y las alternativas posibles son A, B, C o D.\n",
        "\n",
        "Si alguna alternativa en una de las pruebas no está entre las alternativas posibles, debes lanzar un ValueError con el mensaje \"La alternativa [alternativa] no es una opción de alternativa válida\". El cálculo de las 3 notas solo se realizará mediante las entradas con las alternativas A, B, C o D en todas las pruebas. Si no se lanza la excepción, se mostrará una lista con las notas en cada prueba.\n",
        "\n",
        "Datos para la prueba del código:\n",
        "\n",
        "Respuestas de la prueba:\n",
        "```\n",
        "respuestas = ['D', 'A', 'B', 'C', 'A']\n",
        "```\n",
        "A continuación, hay 2 listas de listas que puedes usar como prueba:\n",
        "\n",
        "Notas sin excepción:\n",
        "```\n",
        "tests_sin_ex = [['D', 'A', 'B', 'C', 'A'], ['C', 'A', 'A', 'C', 'A'], ['D', 'B', 'A', 'C', 'A']]\n",
        "```\n",
        "\n",
        "Notas con excepción:\n",
        "```\n",
        "tests_con_ex = [['D', 'A', 'B', 'C', 'A'], ['C', 'A', 'A', 'E', 'A'], ['D', 'B', 'A', 'C', 'A']]\n",
        "```\n",
        "\n",
        "6 - Estás trabajando con procesamiento de lenguaje natural (NLP) y, en esta ocasión, tu líder te pidió que crees un fragmento de código que reciba una lista con las palabras separadas de una frase generada por ChatGPT.\n",
        "\n",
        "Necesitas crear una función que evalúe cada palabra de este texto y verifique si el tratamiento para quitar los símbolos de puntuación (',', '.', '!' y '?') se realizó. De lo contrario, se lanzará una excepción del tipo ValueError señalando el primer caso en que se detectó el uso de una puntuación a través de la frase \"El texto presenta puntuaciones en la palabra \"[palabra]\"\". Esta solicitud se centra en el análisis del patrón de frases generadas por la inteligencia artificial.\n",
        "\n",
        "Datos para probar el código:\n",
        "\n",
        "Lista tratada:\n",
        "```\n",
        "lista_tratada = ['Python', 'es', 'un', 'lenguaje', 'de', 'programación', 'poderoso', 'versátil',\n",
        "                  'y', 'fácil', 'de', 'aprender', 'utilizado', 'en', 'diversos', 'campos', 'desde',\n",
        "                  'análisis', 'de', 'datos', 'hasta', 'inteligencia', 'artificial']\n",
        "```\n",
        "\n",
        "Lista no tratada:\n",
        "```\n",
        "lista_no_tratada = ['Python', 'es', 'un', 'lenguaje', 'de', 'programación', 'poderoso,', 'versátil',\n",
        "                  'y', 'fácil,', 'de', 'aprender', 'utilizado', 'en', 'diversos', 'campos,', 'desde',\n",
        "                  'análisis', 'de', 'datos', 'hasta', 'inteligencia', 'artificial!']\n",
        "```"
      ]
    },
    {
      "cell_type": "code",
      "execution_count": null,
      "metadata": {
        "colab": {
          "base_uri": "https://localhost:8080/"
        },
        "id": "WLv9Ecrl71nO",
        "outputId": "02a44234-8d14-46d8-e2de-61487ad881eb"
      },
      "outputs": [
        {
          "name": "stdout",
          "output_type": "stream",
          "text": [
            "Notas sin excepción: [5, 3, 3]\n",
            "La alternativa 'E' no es una opción de alternativa válida.\n",
            "Notas con excepción: None\n"
          ]
        }
      ],
      "source": [
        "'''\n",
        "5 - Como desafío, se te ha asignado la tarea de desarrollar un código que contabiliza las\n",
        "puntuaciones de estudiantes de una institución educativa de acuerdo con sus respuestas en una\n",
        "prueba. Este código debe ser probado para un ejemplo de 3 estudiantes con una lista de listas en la\n",
        "que cada lista tiene las respuestas de 5 preguntas objetivas de cada estudiante. Cada pregunta\n",
        "vale un punto y las alternativas posibles son A, B, C o D.\n",
        "\n",
        "Si alguna alternativa en una de las pruebas no está entre las alternativas posibles, debes lanzar\n",
        "un ValueError con el mensaje \"La alternativa [alternativa] no es una opción de alternativa válida\".\n",
        "El cálculo de las 3 notas solo se realizará mediante las entradas con las alternativas A, B, C o D\n",
        "en todas las pruebas. Si no se lanza la excepción, se mostrará una lista con las notas en cada\n",
        "prueba.\n",
        "\n",
        "Datos para la prueba del código:\n",
        "\n",
        "Respuestas de la prueba:\n",
        "\n",
        "respuestas = ['D', 'A', 'B', 'C', 'A']\n",
        "\n",
        "A continuación, hay 2 listas de listas que puedes usar como prueba:\n",
        "\n",
        "Notas sin excepción:\n",
        "\n",
        "tests_sin_ex = [['D', 'A', 'B', 'C', 'A'], ['C', 'A', 'A', 'C', 'A'], ['D', 'B', 'A', 'C', 'A']]\n",
        "\n",
        "Notas con excepción:\n",
        "\n",
        "tests_con_ex = [['D', 'A', 'B', 'C', 'A'], ['C', 'A', 'A', 'E', 'A'], ['D', 'B', 'A', 'C', 'A']]\n",
        "'''\n"
      ]
    },
    {
      "cell_type": "code",
      "execution_count": null,
      "metadata": {
        "colab": {
          "base_uri": "https://localhost:8080/"
        },
        "id": "-gf46X8V_SWt",
        "outputId": "8aa2dd94-e590-4ade-cb3f-245b550f2f0c"
      },
      "outputs": [
        {
          "name": "stdout",
          "output_type": "stream",
          "text": [
            "Error: El texto presenta puntuaciones en la palabra 'poderoso,'.\n"
          ]
        }
      ],
      "source": [
        "'''\n",
        "6 - Estás trabajando con procesamiento de lenguaje natural (NLP) y, en esta ocasión, tu líder te\n",
        "pidió que crees un fragmento de código que reciba una lista con las palabras separadas de una frase\n",
        "generada por ChatGPT.\n",
        "\n",
        "Necesitas crear una función que evalúe cada palabra de este texto y verifique si el tratamiento\n",
        "para quitar los símbolos de puntuación (',', '.', '!' y '?') se realizó. De lo contrario, se\n",
        "lanzará una excepción del tipo ValueError señalando el primer caso en que se detectó el uso de una\n",
        "puntuación a través de la frase \"El texto presenta puntuaciones en la palabra \"[palabra]\"\".\n",
        "Esta solicitud se centra en el análisis del patrón de frases generadas por la inteligencia\n",
        "artificial.\n",
        "\n",
        "Datos para probar el código:\n",
        "\n",
        "Lista tratada:\n",
        "\n",
        "lista_tratada = ['Python', 'es', 'un', 'lenguaje', 'de', 'programación', 'poderoso', 'versátil',\n",
        "                  'y', 'fácil', 'de', 'aprender', 'utilizado', 'en', 'diversos', 'campos', 'desde',\n",
        "                  'análisis', 'de', 'datos', 'hasta', 'inteligencia', 'artificial']\n",
        "\n",
        "Lista no tratada:\n",
        "\n",
        "lista_no_tratada = ['Python', 'es', 'un', 'lenguaje', 'de', 'programación', 'poderoso,', 'versátil',\n",
        "                  'y', 'fácil,', 'de', 'aprender', 'utilizado', 'en', 'diversos', 'campos,', 'desde',\n",
        "                  'análisis', 'de', 'datos', 'hasta', 'inteligencia', 'artificial!']\n",
        "'''\n"
      ]
    }
  ],
  "metadata": {
    "colab": {
      "authorship_tag": "ABX9TyOxjnaV7YP2YJL8KW6sBG2v",
      "include_colab_link": true,
      "provenance": []
    },
    "kernelspec": {
      "display_name": "Python 3",
      "name": "python3"
    },
    "language_info": {
      "name": "python"
    }
  },
  "nbformat": 4,
  "nbformat_minor": 0
}
