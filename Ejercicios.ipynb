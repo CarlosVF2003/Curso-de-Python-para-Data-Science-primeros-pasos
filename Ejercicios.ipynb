{
  "nbformat": 4,
  "nbformat_minor": 0,
  "metadata": {
    "colab": {
      "provenance": [],
      "authorship_tag": "ABX9TyN3rzNm2nY/NXz6iWnWGytA",
      "include_colab_link": true
    },
    "kernelspec": {
      "name": "python3",
      "display_name": "Python 3"
    },
    "language_info": {
      "name": "python"
    }
  },
  "cells": [
    {
      "cell_type": "markdown",
      "metadata": {
        "id": "view-in-github",
        "colab_type": "text"
      },
      "source": [
        "<a href=\"https://colab.research.google.com/github/CarlosVF2003/Curso-de-Python-para-Data-Science-primeros-pasos/blob/main/Ejercicios.ipynb\" target=\"_parent\"><img src=\"https://colab.research.google.com/assets/colab-badge.svg\" alt=\"Open In Colab\"/></a>"
      ]
    },
    {
      "cell_type": "markdown",
      "source": [
        "# Ejercio 1\n",
        "\n",
        "\n"
      ],
      "metadata": {
        "id": "MB38zxdkNPZ_"
      }
    },
    {
      "cell_type": "markdown",
      "source": [
        "**Recopilación y muestra de datos**\n",
        "\n",
        "1 - Crea un programa que solicite al usuario que escriba su nombre y luego imprima \"Hola, [nombre].\"\n",
        "\n",
        "2 - Crea un programa que solicite al usuario que escriba su nombre y edad, y luego imprima \"Hola, [nombre], tienes [edad] años.\"\n",
        "\n",
        "3 - Crea un programa que solicite al usuario que escriba su nombre, edad y altura en metros, y luego imprima \"Hola, [nombre], tienes [edad] años y mides [altura] metros.\"\n"
      ],
      "metadata": {
        "id": "JOGGfuCxNXx_"
      }
    },
    {
      "cell_type": "code",
      "execution_count": 1,
      "metadata": {
        "colab": {
          "base_uri": "https://localhost:8080/"
        },
        "id": "y0HWtZ18NM-v",
        "outputId": "b6be2ce9-ecd0-4d5d-a113-2d147ba83f37"
      },
      "outputs": [
        {
          "output_type": "stream",
          "name": "stdout",
          "text": [
            "Ingrese el nombre de usuario: Carlos\n",
            "Hola Carlos\n"
          ]
        }
      ],
      "source": [
        "'''\n",
        "Crea un programa que solicite al usuario que escriba su nombre y luego imprima \"Hola, [nombre]\"\n",
        "'''\n",
        "nombre = input(\"Ingrese el nombre de usuario: \")\n",
        "\n",
        "print(f'Hola {nombre}')"
      ]
    },
    {
      "cell_type": "code",
      "source": [
        "'''\n",
        "Crea un programa que solicite al usuario que escriba su nombre y edad, y\n",
        "luego imprima \"Hola, [nombre], tienes [edad] años.\"\n",
        "'''\n",
        "nombre = input(\"Ingrese el nombre de usuario: \")\n",
        "edad = input(\"Ingrese la edad del usuario: \")\n",
        "\n",
        "print(f'Hola, {nombre}, tienes {edad} años')"
      ],
      "metadata": {
        "colab": {
          "base_uri": "https://localhost:8080/"
        },
        "id": "E45f1b-BOIus",
        "outputId": "ec5ec3e5-e6a0-432e-d316-5bb6c847da2b"
      },
      "execution_count": 2,
      "outputs": [
        {
          "output_type": "stream",
          "name": "stdout",
          "text": [
            "Ingrese el nombre de usuario: Carlos\n",
            "Ingrese la edad del usuario: 21\n",
            "Hola, Carlos, tienes 21 años\n"
          ]
        }
      ]
    },
    {
      "cell_type": "code",
      "source": [
        "'''\n",
        "Crea un programa que solicite al usuario que escriba su nombre, edad y\n",
        "altura en metros, y luego imprima \"Hola, [nombre], tienes [edad] años y mides [altura] metros.\"\n",
        "'''\n",
        "nombre = input(\"Ingrese el nombre de usuario: \")\n",
        "edad = input(\"Ingrese la edad del usuario: \")\n",
        "altura = input(\"Ingrese la altura del usuario: \")\n",
        "\n",
        "print(f'Hola, {nombre}, tienes {edad} años y mides {altura} metros')"
      ],
      "metadata": {
        "colab": {
          "base_uri": "https://localhost:8080/"
        },
        "id": "dLHB_v_XOYlF",
        "outputId": "ad27f97a-da4e-449d-8e3f-64b553997e63"
      },
      "execution_count": 3,
      "outputs": [
        {
          "output_type": "stream",
          "name": "stdout",
          "text": [
            "Ingrese el nombre de usuario: Carlos\n",
            "Ingrese la edad del usuario: 21\n",
            "Ingrese la altura del usuario: 2\n",
            "Hola, Carlos, tienes 21 años y mides 2 metros\n"
          ]
        }
      ]
    },
    {
      "cell_type": "markdown",
      "source": [
        "**Calculadora con operadores**\n",
        "\n",
        "4 - Crea un programa que solicite dos valores numéricos al usuario y luego imprima la suma de ambos valores.\n",
        "\n",
        "5 - Crea un programa que solicite tres valores numéricos al usuario y luego imprima la suma de los tres valores.\n",
        "\n",
        "6 - Crea un programa que solicite dos valores numéricos al usuario y luego imprima la resta del primero menos el segundo valor.\n",
        "\n",
        "7 - Crea un programa que solicite dos valores numéricos al usuario y luego imprima la multiplicación de los dos valores.\n",
        "\n",
        "8 - Crea un programa que solicite dos valores numéricos, un numerador y un denominador, y realice la división entre los dos valores. Asegúrate de que el valor del denominador no sea igual a 0.\n",
        "\n",
        "9 - Crea un programa que solicite dos valores numéricos, un operador y una potencia, y realice la exponenciación entre estos dos valores.\n",
        "\n",
        "10 - Crea un programa que solicite dos valores numéricos, un numerador y un denominador, y realice la división entera entre los dos valores. Asegúrate de que el valor del denominador no sea igual a 0.\n",
        "\n",
        "11 - Crea un programa que solicite dos valores numéricos, un numerador y un denominador, y devuelva el resto de la división entre los dos valores. Asegúrate de que el valor del denominador no sea igual a 0.\n",
        "\n",
        "12 - Crea un código que solicite las 3 notas de un estudiante e imprima el promedio de las notas.\n",
        "\n",
        "13 - Crea un código que calcule e imprima el promedio ponderado de los números 5, 12, 20 y 15 con pesos respectivamente iguales a 1, 2, 3 y 4.\n"
      ],
      "metadata": {
        "id": "ArYNYOhUNszj"
      }
    },
    {
      "cell_type": "code",
      "source": [
        "'''\n",
        "Crea un programa que solicite dos valores numéricos al usuario y luego\n",
        "imprima la suma de ambos valores.\n",
        "'''\n",
        "num1 = int(input('Ingrese el primer valor numérico: '))\n",
        "num2 = int(input('Ingrese el segundo valor numérico: '))\n",
        "print(f'La suma de los valores es {num1 + num2}')"
      ],
      "metadata": {
        "colab": {
          "base_uri": "https://localhost:8080/"
        },
        "id": "b9Aasx7qNu9g",
        "outputId": "6e025b3f-d714-4def-aa17-47199819115c"
      },
      "execution_count": 4,
      "outputs": [
        {
          "output_type": "stream",
          "name": "stdout",
          "text": [
            "Ingrese el primer valor numérico: 10\n",
            "Ingrese el segundo valor numérico: 2\n",
            "La suma de los valores es 12\n"
          ]
        }
      ]
    },
    {
      "cell_type": "code",
      "source": [
        "'''\n",
        "Crea un programa que solicite tres valores numéricos al usuario y luego\n",
        "imprima la suma de los tres valores.\n",
        "'''\n",
        "num1 = int(input('Ingrese el primer valor numérico: '))\n",
        "num2 = int(input('Ingrese el segundo valor numérico: '))\n",
        "num3 = int(input('Ingrese el tercer valor numérico: '))\n",
        "\n",
        "print(f'La suma de los valores es {num1 + num2 + num3}')"
      ],
      "metadata": {
        "colab": {
          "base_uri": "https://localhost:8080/"
        },
        "id": "icMOVP34PBYq",
        "outputId": "78eae981-ea16-46a8-9821-d4067299020e"
      },
      "execution_count": 5,
      "outputs": [
        {
          "output_type": "stream",
          "name": "stdout",
          "text": [
            "Ingrese el primer valor numérico: 1\n",
            "Ingrese el segundo valor numérico: 2\n",
            "Ingrese el tercer valor numérico: 3\n",
            "La suma de los valores es 6\n"
          ]
        }
      ]
    },
    {
      "cell_type": "code",
      "source": [
        "'''\n",
        "Crea un programa que solicite dos valores numéricos al usuario y luego\n",
        "imprima la resta del primero menos el segundo valor.\n",
        "'''\n",
        "num1 = int(input('Ingrese el primer valor numérico: '))\n",
        "num2 = int(input('Ingrese el segundo valor numérico: '))\n",
        "\n",
        "print(f'La resta de los valores es {num1 - num2}')"
      ],
      "metadata": {
        "colab": {
          "base_uri": "https://localhost:8080/"
        },
        "id": "H6h3-sHDPKAm",
        "outputId": "51fe7930-46fb-4fad-dfbf-5cb7d406540f"
      },
      "execution_count": 6,
      "outputs": [
        {
          "output_type": "stream",
          "name": "stdout",
          "text": [
            "Ingrese el primer valor numérico: 2\n",
            "Ingrese el segundo valor numérico: 1\n",
            "La suma de los valores es 1\n"
          ]
        }
      ]
    },
    {
      "cell_type": "code",
      "source": [
        "'''\n",
        "Crea un programa que solicite dos valores numéricos al usuario y luego\n",
        "imprima la multiplicación de los dos valores.\n",
        "'''\n",
        "num1 = int(input('Ingrese el primer valor numérico: '))\n",
        "num2 = int(input('Ingrese el segundo valor numérico: '))\n",
        "\n",
        "print(f'La multiplicación de los valores es {num1 * num2}')"
      ],
      "metadata": {
        "colab": {
          "base_uri": "https://localhost:8080/"
        },
        "outputId": "5cb834da-fa27-406b-a3bc-c28de23c728b",
        "id": "zIbQ0CXHPP0e"
      },
      "execution_count": 7,
      "outputs": [
        {
          "output_type": "stream",
          "name": "stdout",
          "text": [
            "Ingrese el primer valor numérico: 2\n",
            "Ingrese el segundo valor numérico: 8\n",
            "La suma de los valores es 16\n"
          ]
        }
      ]
    },
    {
      "cell_type": "code",
      "source": [
        "'''\n",
        "Crea un programa que solicite dos valores numéricos, un numerador y un denominador,\n",
        "y realice la división entre los dos valores. Asegúrate de que el valor del\n",
        "denominador no sea igual a 0.\n",
        "'''\n",
        "numerador = int(input('Ingrese el numerador: '))\n",
        "denominador = int(input('Ingrese el denominador: '))\n",
        "\n",
        "while(denominador == 0):\n",
        "    denominador = int(input('Ingrese un denominador diferente de 0: '))\n",
        "\n",
        "print(f'La división de los valores es {(numerador / denominador)}')"
      ],
      "metadata": {
        "colab": {
          "base_uri": "https://localhost:8080/"
        },
        "id": "EWXOaTOOPXFf",
        "outputId": "b33e0348-5057-48d6-802a-ddc6a673f705"
      },
      "execution_count": 15,
      "outputs": [
        {
          "output_type": "stream",
          "name": "stdout",
          "text": [
            "Ingrese el numerador: 10\n",
            "Ingrese el denominador: 4\n",
            "La división de los valores es 2\n"
          ]
        }
      ]
    },
    {
      "cell_type": "code",
      "source": [
        "'''\n",
        "Crea un programa que solicite dos valores numéricos, un operador y una potencia,\n",
        "y realice la exponenciación entre estos dos valores.\n",
        "'''\n",
        "operador = int(input('Ingrese el valor del operador: '))\n",
        "potencia = int(input('Ingrese el valor de la potencia: '))\n",
        "\n",
        "print(f'El número {operador} elevado a {potencia} es {operador**potencia}')"
      ],
      "metadata": {
        "colab": {
          "base_uri": "https://localhost:8080/"
        },
        "id": "DN0ATSd4QmRC",
        "outputId": "2eeb2c63-239e-41de-d5cc-66e1797c2ed9"
      },
      "execution_count": 18,
      "outputs": [
        {
          "output_type": "stream",
          "name": "stdout",
          "text": [
            "Ingrese el valor del operador: 2\n",
            "Ingrese el valor de la potencia: 2\n",
            "El número 2 elevado a 2 es 4\n"
          ]
        }
      ]
    },
    {
      "cell_type": "code",
      "source": [
        "'''\n",
        "Crea un programa que solicite dos valores numéricos, un numerador y un denominador,\n",
        "y realice la división entera entre los dos valores. Asegúrate de que el valor del\n",
        "denominador no sea igual a 0.\n",
        "'''\n",
        "numerador = int(input('Ingrese el numerador: '))\n",
        "denominador = int(input('Ingrese el denominador: '))\n",
        "\n",
        "while(denominador == 0):\n",
        "    denominador = int(input('Ingrese un denominador diferente de 0: '))\n",
        "\n",
        "print(f'La división de los valores es {numerador // denominador}')"
      ],
      "metadata": {
        "colab": {
          "base_uri": "https://localhost:8080/"
        },
        "id": "Qp1bNsLvRE4Z",
        "outputId": "8542ca9b-3b19-45a1-85dc-079e30b7def7"
      },
      "execution_count": 19,
      "outputs": [
        {
          "output_type": "stream",
          "name": "stdout",
          "text": [
            "Ingrese el numerador: 10\n",
            "Ingrese el denominador: 6\n",
            "La división de los valores es 1\n"
          ]
        }
      ]
    },
    {
      "cell_type": "code",
      "source": [
        "'''\n",
        "Crea un programa que solicite dos valores numéricos, un numerador y un denominador,\n",
        "y devuelva el resto de la división entre los dos valores. Asegúrate de que el valor del\n",
        "denominador no sea igual a 0.\n",
        "'''\n",
        "numerador = int(input('Ingrese el numerador: '))\n",
        "denominador = int(input('Ingrese el denominador: '))\n",
        "\n",
        "while(denominador == 0):\n",
        "    denominador = int(input('Ingrese un denominador diferente de 0: '))\n",
        "\n",
        "print(f'La división de los valores es {numerador % denominador}')"
      ],
      "metadata": {
        "colab": {
          "base_uri": "https://localhost:8080/"
        },
        "id": "K-YzFKfKRLL5",
        "outputId": "117197ba-60db-49b8-f364-7b1efff29cd8"
      },
      "execution_count": 21,
      "outputs": [
        {
          "output_type": "stream",
          "name": "stdout",
          "text": [
            "Ingrese el numerador: 10\n",
            "Ingrese el denominador: 6\n",
            "La división de los valores es 4\n"
          ]
        }
      ]
    },
    {
      "cell_type": "code",
      "source": [
        "'''\n",
        "Crea un código que calcule e imprima el promedio ponderado de los números 5, 12, 20 y 15\n",
        "con pesos respectivamente iguales a 1, 2, 3 y 4.\n",
        "'''\n",
        "nota_1 = float(input('Ingresa la nota 1 del estudiante: '))\n",
        "nota_2 = float(input('Ingresa la nota 2 del estudiante: '))\n",
        "nota_3 = float(input('Ingresa la nota 3 del estudiante: '))\n",
        "\n",
        "promedio_notas = (nota_1 + nota_2 + nota_3)/3\n",
        "\n",
        "print(f'El promedio de notas del estudiante es {promedio_notas}')"
      ],
      "metadata": {
        "colab": {
          "base_uri": "https://localhost:8080/"
        },
        "id": "cxnOcuPNSIqn",
        "outputId": "c334876b-f947-4ffe-af4c-20e14a65adb8"
      },
      "execution_count": 27,
      "outputs": [
        {
          "output_type": "stream",
          "name": "stdout",
          "text": [
            "Ingresa la nota 1 del estudiante: 18\n",
            "Ingresa la nota 2 del estudiante: 12\n",
            "Ingresa la nota 3 del estudiante: 19\n",
            "El promedio de notas del estudiante es 16.333333333333332\n"
          ]
        }
      ]
    },
    {
      "cell_type": "code",
      "source": [
        "'''\n",
        "Crea un código que solicite las 3 notas de un estudiante e imprima el promedio de las notas.\n",
        "'''\n",
        "i = 0\n",
        "suma = 0\n",
        "sum_pesos = 0\n",
        "\n",
        "notas = [5,12,20,15]\n",
        "pesos = [1,2,3,4]\n",
        "\n",
        "cantidad_notas = int(len(notas))\n",
        "\n",
        "while (i < cantidad_notas):\n",
        "    suma += notas[i]*pesos[i]\n",
        "    sum_pesos += pesos[i]\n",
        "    i += 1\n",
        "\n",
        "promedio_ponderado = suma/sum_pesos\n",
        "\n",
        "print(f'El promedio ponderado de las notas es: {promedio_ponderado}')"
      ],
      "metadata": {
        "colab": {
          "base_uri": "https://localhost:8080/"
        },
        "id": "q-eavIbKTB4N",
        "outputId": "766be41f-2bb9-46db-e78b-68052a110ab0"
      },
      "execution_count": 58,
      "outputs": [
        {
          "output_type": "stream",
          "name": "stdout",
          "text": [
            "El promedio ponderado de las notas es: 14.9\n"
          ]
        }
      ]
    },
    {
      "cell_type": "markdown",
      "source": [
        "\n",
        "**Editando textos**\n",
        "\n",
        "14 - Crea una variable llamada \"frase\" y asígnale una cadena de texto de tu elección. Luego, imprime la frase en pantalla.\n",
        "\n",
        "15 - Crea un código que solicite una frase y luego imprima la frase en pantalla.\n",
        "\n",
        "16 - Crea un código que solicite una frase al usuario y luego imprima la misma frase ingresada pero en mayúsculas.\n",
        "\n",
        "17 - Crea un código que solicite una frase al usuario y luego imprima la misma frase ingresada pero en minúsculas.\n",
        "\n",
        "18 - Crea una variable llamada \"frase\" y asígnale una cadena de texto de tu elección. Luego, imprime la frase sin espacios en blanco al principio y al final.\n",
        "\n",
        "19 - Crea un código que solicite una frase al usuario y luego imprima la misma frase sin espacios en blanco al principio y al final.\n",
        "\n",
        "20 - Crea un código que solicite una frase al usuario y luego imprima la misma frase sin espacios en blanco al principio y al final, además de convertirla a minúsculas.\n",
        "\n",
        "21 - Crea un código que solicite una frase al usuario y luego imprima la misma frase con todas las vocales \"e\" reemplazadas por la letra \"f\".\n",
        "\n",
        "22 - Crea un código que solicite una frase al usuario y luego imprima la misma frase con todas las vocales \"a\" reemplazadas por el carácter \"@\".\n",
        "\n",
        "23 - Crea un código que solicite una frase al usuario y luego imprima la misma frase con todas las consonantes \"s\" reemplazadas por el carácter \"$\"."
      ],
      "metadata": {
        "id": "iGN1raQHNudu"
      }
    },
    {
      "cell_type": "code",
      "source": [
        "'''\n",
        "Crea una variable llamada \"frase\" y asígnale una cadena de texto de tu elección.\n",
        "Luego, imprime la frase en pantalla.'\n",
        "'''\n",
        "frase = '¡Hola Python!'\n",
        "print(frase)"
      ],
      "metadata": {
        "colab": {
          "base_uri": "https://localhost:8080/"
        },
        "id": "tP-8tI4NXkjV",
        "outputId": "88c86165-bea6-41d1-fe04-5275c23a09b2"
      },
      "execution_count": 59,
      "outputs": [
        {
          "output_type": "stream",
          "name": "stdout",
          "text": [
            "UREKA\n"
          ]
        }
      ]
    },
    {
      "cell_type": "code",
      "source": [
        "'''\n",
        "Crea un código que solicite una frase y luego imprima la frase en pantalla.\n",
        "'''\n",
        "frase = input('Ingrese una frase: ')\n",
        "print(frase )"
      ],
      "metadata": {
        "colab": {
          "base_uri": "https://localhost:8080/"
        },
        "id": "4TNPayWchnqw",
        "outputId": "5c0781cb-b733-409f-d162-5c385f728715"
      },
      "execution_count": 60,
      "outputs": [
        {
          "output_type": "stream",
          "name": "stdout",
          "text": [
            "Ingrese una frase: WILL\n",
            "WILL\n"
          ]
        }
      ]
    },
    {
      "cell_type": "code",
      "source": [
        "'''\n",
        "Crea un código que solicite una frase al usuario y luego imprima la misma\n",
        "frase ingresada pero en mayúsculas.\n",
        "'''\n",
        "frase = input('Ingrese una frase: ').upper()\n",
        "print(frase )"
      ],
      "metadata": {
        "colab": {
          "base_uri": "https://localhost:8080/"
        },
        "id": "dtXXcceKh1Dn",
        "outputId": "524587ed-930e-4877-8b32-2ef475617379"
      },
      "execution_count": 62,
      "outputs": [
        {
          "output_type": "stream",
          "name": "stdout",
          "text": [
            "Ingrese una frase: Wija\n",
            "WIJA\n"
          ]
        }
      ]
    },
    {
      "cell_type": "code",
      "source": [
        "'''\n",
        "Crea un código que solicite una frase al usuario y luego imprima la misma\n",
        "frase ingresada pero en minúsculas.\n",
        "'''\n",
        "frase = input('Ingrese una frase: ').lower()\n",
        "print(frase )"
      ],
      "metadata": {
        "colab": {
          "base_uri": "https://localhost:8080/"
        },
        "id": "c30Ph6uXiR27",
        "outputId": "f7c10cdd-c710-45e7-bc2f-fb8659e95d47"
      },
      "execution_count": 63,
      "outputs": [
        {
          "output_type": "stream",
          "name": "stdout",
          "text": [
            "Ingrese una frase: Wija\n",
            "wija\n"
          ]
        }
      ]
    },
    {
      "cell_type": "code",
      "source": [
        "'''\n",
        "Crea una variable llamada \"frase\" y asígnale una cadena de texto de tu elección.\n",
        "Luego, imprime la frase sin espacios en blanco al principio y al final.\n",
        "'''\n",
        "frase = ' Un gran poder con lleva una gran responsabilidad '\n",
        "print(frase.strip())"
      ],
      "metadata": {
        "colab": {
          "base_uri": "https://localhost:8080/"
        },
        "id": "_l6J9SNUiYW6",
        "outputId": "e8a68fd7-35e3-4304-9132-75b2a2eb39f5"
      },
      "execution_count": 64,
      "outputs": [
        {
          "output_type": "stream",
          "name": "stdout",
          "text": [
            "Un gran poder con lleva una gran responsabilidad\n"
          ]
        }
      ]
    },
    {
      "cell_type": "code",
      "source": [
        "'''\n",
        "Crea un código que solicite una frase al usuario y luego imprima la misma frase\n",
        "sin espacios en blanco al principio y al final.\n",
        "'''\n",
        "frase = input('Ingrese una frase: ').strip()\n",
        "print(frase)"
      ],
      "metadata": {
        "colab": {
          "base_uri": "https://localhost:8080/"
        },
        "id": "wRHU_ZiHi2OU",
        "outputId": "cd87d317-c74b-444a-8a3f-4c18e304f507"
      },
      "execution_count": 66,
      "outputs": [
        {
          "output_type": "stream",
          "name": "stdout",
          "text": [
            "Ingrese una frase:  Viva la life\n",
            "Viva la life\n"
          ]
        }
      ]
    },
    {
      "cell_type": "code",
      "source": [
        "'''\n",
        "Crea un código que solicite una frase al usuario y luego imprima la misma frase\n",
        "sin espacios en blanco al principio y al final, además de convertirla a minúsculas.\n",
        "'''\n",
        "frase = input('Ingrese una frase: ').strip().lower()\n",
        "print(frase)"
      ],
      "metadata": {
        "colab": {
          "base_uri": "https://localhost:8080/"
        },
        "id": "Oj1Sykb1jGr5",
        "outputId": "04b0bdda-e03d-4968-df39-24adb135d10c"
      },
      "execution_count": 67,
      "outputs": [
        {
          "output_type": "stream",
          "name": "stdout",
          "text": [
            "Ingrese una frase:  Vivan los perritos y gatitos  \n",
            "vivan los perritos y gatitos\n"
          ]
        }
      ]
    },
    {
      "cell_type": "code",
      "source": [
        "'''\n",
        "Crea un código que solicite una frase al usuario y luego imprima la misma frase\n",
        "con todas las vocales \"e\" reemplazadas por la letra \"f\".\n",
        "'''\n",
        "frase = input('Ingrese una frase: ').replace('e','f')\n",
        "'''.replace('E','F')'''\n",
        "print(frase)"
      ],
      "metadata": {
        "colab": {
          "base_uri": "https://localhost:8080/"
        },
        "id": "_1xAvqV-jQ-t",
        "outputId": "862ce650-8bc0-4dfd-dec8-b1f7b4aad6c5"
      },
      "execution_count": 72,
      "outputs": [
        {
          "output_type": "stream",
          "name": "stdout",
          "text": [
            "Ingrese una frase: Elena enamorada de Ernesto en enero\n",
            "Elfna fnamorada df Ernfsto fn fnfro\n"
          ]
        }
      ]
    },
    {
      "cell_type": "code",
      "source": [
        "'''\n",
        "Crea un código que solicite una frase al usuario y luego imprima la misma frase\n",
        "con todas las vocales \"a\" reemplazadas por el carácter \"@\".\n",
        "'''\n",
        "frase = input('Ingrese una frase: ').replace('a',chr(64))\n",
        "'''.replace('A',chr(64))'''\n",
        "print(frase)"
      ],
      "metadata": {
        "colab": {
          "base_uri": "https://localhost:8080/"
        },
        "id": "wXXiqOVyjoYv",
        "outputId": "fd0bb611-9f2a-4c2c-f522-864061d456dd"
      },
      "execution_count": 73,
      "outputs": [
        {
          "output_type": "stream",
          "name": "stdout",
          "text": [
            "Ingrese una frase: Arturo ama a las amas de Artemisa\n",
            "Arturo @m@ @ l@s @m@s de Artemis@\n"
          ]
        }
      ]
    },
    {
      "cell_type": "code",
      "source": [
        "'''\n",
        "Crea un código que solicite una frase al usuario y luego imprima la misma frase\n",
        "con todas las consonantes \"s\" reemplazadas por el carácter \"$\".\n",
        "'''\n",
        "frase = input('Ingrese una frase: ').replace('s',chr(36))\n",
        "'''.replace('S',chr(36))'''\n",
        "print(frase)"
      ],
      "metadata": {
        "colab": {
          "base_uri": "https://localhost:8080/"
        },
        "id": "DyeLOn1bkQ9L",
        "outputId": "a0c80d5a-a15f-489c-946b-4378027f14b3"
      },
      "execution_count": 74,
      "outputs": [
        {
          "output_type": "stream",
          "name": "stdout",
          "text": [
            "Ingrese una frase: Solcito solazo solecito\n",
            "Solcito $olazo $olecito\n"
          ]
        }
      ]
    }
  ]
}