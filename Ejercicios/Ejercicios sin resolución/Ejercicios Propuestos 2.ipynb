{
  "cells": [
    {
      "cell_type": "markdown",
      "metadata": {
        "colab_type": "text",
        "id": "view-in-github"
      },
      "source": [
        "<a href=\"https://colab.research.google.com/github/CarlosVF2003/Curso-de-Python-para-Data-Science-primeros-pasos/blob/main/Ejercicios%20Propuestos%202.ipynb\" target=\"_parent\"><img src=\"https://colab.research.google.com/assets/colab-badge.svg\" alt=\"Open In Colab\"/></a>"
      ]
    },
    {
      "cell_type": "markdown",
      "metadata": {
        "id": "_dcVkqlfrOGf"
      },
      "source": [
        "# Ejercios Propuestos 2"
      ]
    },
    {
      "cell_type": "markdown",
      "metadata": {
        "id": "EU49TkC8rPae"
      },
      "source": [
        "**Entrenando la programación**\n",
        "\n",
        "1 - Escribe un programa que pida a la persona usuaria que proporcione dos números y muestre el número más grande.\n",
        "\n",
        "2 - Escribe un programa que solicite el porcentaje de crecimiento de producción de una empresa e informe si hubo un crecimiento (porcentaje positivo) o una disminución (porcentaje negativo).\n",
        "\n",
        "3 - Escribe un programa que determine si una letra proporcionada por la persona usuaria es una vocal o una consonante.\n",
        "\n",
        "4 - Escribe un programa que lea valores promedio de precios de un modelo de automóvil durante 3 años consecutivos y muestre el valor más alto y más bajo entre esos tres años.\n",
        "\n",
        "5 - Escribe un programa que pregunte sobre el precio de tres productos e indique cuál es el producto más barato para comprar.\n",
        "\n",
        "6 - Escribe un programa que lea tres números y los muestre en orden descendente.\n",
        "\n",
        "7 -Escribe un programa que pregunte en qué turno estudia la persona usuaria (\"mañana\", \"tarde\" o \"noche\") y muestre el mensaje \"¡Buenos Días!\", \"¡Buenas Tardes!\", \"¡Buenas Noches!\" o \"Valor Inválido!\", según el caso.\n",
        "\n",
        "8 - Escribe un programa que solicite un número entero a la persona usuaria y determine si es par o impar. Pista: Puedes usar el operador módulo (%).\n",
        "\n",
        "9 - Escribe un programa que pida un número a la persona usuaria y le informe si es entero o decimal."
      ]
    },
    {
      "cell_type": "code",
      "execution_count": null,
      "metadata": {
        "colab": {
          "base_uri": "https://localhost:8080/"
        },
        "id": "KjTQWbp5rNmc",
        "outputId": "26034fea-ca3f-40cc-8685-2e5cfc9b47f5"
      },
      "outputs": [
        {
          "name": "stdout",
          "output_type": "stream",
          "text": [
            "Ingrese un número: 2\n",
            "Ingrese un número: 10\n",
            "10\n"
          ]
        }
      ],
      "source": [
        "'''\n",
        "Escribe un programa que pida a la persona usuaria que proporcione dos números y\n",
        "muestre el número más grande.\n",
        "'''\n"
      ]
    },
    {
      "cell_type": "code",
      "execution_count": null,
      "metadata": {
        "colab": {
          "base_uri": "https://localhost:8080/"
        },
        "id": "p8SefcnG4ued",
        "outputId": "db2bbb16-ff95-45dc-a7bc-6fc619ab67d9"
      },
      "outputs": [
        {
          "name": "stdout",
          "output_type": "stream",
          "text": [
            "¿Cual es el porcentaje de crecimiento de producción?5%\n",
            "Hubo crecimiento de producción\n"
          ]
        }
      ],
      "source": [
        "'''\n",
        "Escribe un programa que solicite el porcentaje de crecimiento de producción\n",
        "de una empresa e informe si hubo un crecimiento (porcentaje positivo) o una disminución (porcentaje negativo).\n",
        "'''\n"
      ]
    },
    {
      "cell_type": "code",
      "execution_count": null,
      "metadata": {
        "colab": {
          "base_uri": "https://localhost:8080/"
        },
        "id": "DgV6KtPL7Wqe",
        "outputId": "de59a3d8-33ad-4175-c470-1c451c788b5e"
      },
      "outputs": [
        {
          "name": "stdout",
          "output_type": "stream",
          "text": [
            "Ingrese una letra: #\n",
            "No es ni vocal ni consonante\n"
          ]
        }
      ],
      "source": [
        "'''\n",
        "Escribe un programa que determine si una letra proporcionada por la persona\n",
        "usuaria es una vocal o una consonante.\n",
        "'''\n"
      ]
    },
    {
      "cell_type": "code",
      "execution_count": null,
      "metadata": {
        "colab": {
          "base_uri": "https://localhost:8080/"
        },
        "id": "6gXG4SH78Swe",
        "outputId": "a39b5272-1d36-47ef-96fb-62609ea290d9"
      },
      "outputs": [
        {
          "name": "stdout",
          "output_type": "stream",
          "text": [
            "el valor más alto es 22000 y el valor más bajo es 21000\n"
          ]
        }
      ],
      "source": [
        "'''\n",
        "Escribe un programa que lea valores promedio de precios de un modelo de automóvil\n",
        "durante 3 años consecutivos y muestre el valor más alto y más bajo entre esos tres años.\n",
        "'''\n"
      ]
    },
    {
      "cell_type": "code",
      "execution_count": null,
      "metadata": {
        "colab": {
          "base_uri": "https://localhost:8080/"
        },
        "id": "rz3raH_UAnXe",
        "outputId": "1f1bbb43-da1c-45a2-8393-252cd42a2718"
      },
      "outputs": [
        {
          "name": "stdout",
          "output_type": "stream",
          "text": [
            "Ingresa precio del primer producto: 74\n",
            "Ingresa precio del segundo producto: 199\n",
            "Ingresa precio del tercer producto: 24\n",
            "El producto más barato es producto_3\n"
          ]
        }
      ],
      "source": [
        "'''\n",
        "Escribe un programa que pregunte sobre el precio de tres productos e indique cuál\n",
        "es el producto más barato para comprar.\n",
        "'''\n"
      ]
    },
    {
      "cell_type": "code",
      "execution_count": null,
      "metadata": {
        "colab": {
          "base_uri": "https://localhost:8080/"
        },
        "id": "RS7QP2BiJ1Xh",
        "outputId": "a4fdaef3-d587-4210-f2c0-52cfcbf6b61c"
      },
      "outputs": [
        {
          "name": "stdout",
          "output_type": "stream",
          "text": [
            "(7, 10, 11)\n"
          ]
        }
      ],
      "source": [
        "'''\n",
        "Escribe un programa que lea tres números y los muestre en orden descendente.\n",
        "'''\n"
      ]
    },
    {
      "cell_type": "code",
      "execution_count": null,
      "metadata": {
        "colab": {
          "base_uri": "https://localhost:8080/"
        },
        "id": "iYSwt9YeLD5q",
        "outputId": "ba615e64-ad3e-4bf3-eb92-311e62babfd2"
      },
      "outputs": [
        {
          "name": "stdout",
          "output_type": "stream",
          "text": [
            "¿En que turno estudias? (\"mañana\", \"tarde\" o \"noche\"): mañana\n",
            "¡Buenos Días!\n"
          ]
        }
      ],
      "source": [
        "'''\n",
        "Escribe un programa que pregunte en qué turno estudia la persona usuaria\n",
        "(\"mañana\", \"tarde\" o \"noche\") y muestre el mensaje\n",
        "\"¡Buenos Días!\", \"¡Buenas Tardes!\", \"¡Buenas Noches!\" o \"Valor Inválido!\", según el caso.\n",
        "'''\n"
      ]
    },
    {
      "cell_type": "code",
      "execution_count": null,
      "metadata": {
        "colab": {
          "base_uri": "https://localhost:8080/"
        },
        "id": "ec8X5iuCLszL",
        "outputId": "b62f742d-095d-4f3b-b0de-c3bbf71497cb"
      },
      "outputs": [
        {
          "name": "stdout",
          "output_type": "stream",
          "text": [
            "Ingrese un número: 88\n",
            "El número es par\n"
          ]
        }
      ],
      "source": [
        "'''\n",
        "Escribe un programa que solicite un número entero a la persona usuaria y\n",
        "determine si es par o impar. Pista: Puedes usar el operador módulo (%).\n",
        "'''\n"
      ]
    },
    {
      "cell_type": "code",
      "execution_count": null,
      "metadata": {
        "colab": {
          "base_uri": "https://localhost:8080/"
        },
        "id": "6o27uyLaUmaK",
        "outputId": "c29ae77e-4b4b-4855-f486-04a90ad435b1"
      },
      "outputs": [
        {
          "name": "stdout",
          "output_type": "stream",
          "text": [
            "Ingrese un número: 5.0\n",
            "El número es entero\n"
          ]
        }
      ],
      "source": [
        "'''\n",
        "Escribe un programa que pida un número a la persona usuaria y le informe si es entero o decimal.\n",
        "'''\n"
      ]
    },
    {
      "cell_type": "markdown",
      "metadata": {
        "id": "7Rj1vzNfrYsg"
      },
      "source": [
        "**Momento de los proyectos**\n",
        "\n",
        "10 - Un programa debe ser escrito para leer dos números y luego preguntar a la persona usuaria qué operación desea realizar. El resultado de la operación debe incluir información sobre el número, si es par o impar, positivo o negativo, e entero o decimal.\n",
        "\n",
        "11 - Escribe un programa que pida a la persona usuaria tres números que representan los lados de un triángulo. El programa debe informar si los valores pueden utilizarse para formar un triángulo y, en caso afirmativo, si es equilátero, isósceles o escaleno. Ten en cuenta algunas sugerencias:\n",
        "\n",
        "Tres lados forman un triángulo cuando la suma de cualesquiera dos lados es mayor que el tercero;\n",
        "*  Triángulo Equilátero: tres lados iguales;\n",
        "*  Triángulo Isósceles: dos lados iguales;\n",
        "*  Triángulo Escaleno: tres lados diferentes.\n",
        "\n",
        "12 - Un establecimiento está vendiendo combustibles con descuentos variables. Para el etanol, si la cantidad comprada es de hasta 15 litros, el descuento será del 2% por litro. En caso contrario, será del 4% por litro. Para el diésel, si la cantidad comprada es de hasta 15 litros, el descuento será del 3% por litro. En caso contrario, será del 5% por litro. El precio por litro de diésel es de R USD 2,00 y el precio por litro de etanol es de R USD 1,70. Escribe un programa que lea la cantidad de litros vendidos y el tipo de combustible (E para etanol y D para diésel) y calcule el valor a pagar por el cliente. Ten en cuenta algunas sugerencias:\n",
        "\n",
        "*  El valor del descuento será el producto del precio por litro, la cantidad de litros y el valor del descuento.\n",
        "*  El valor a pagar por un cliente será el resultado de la multiplicación del precio por litro por la cantidad de litros menos el valor del descuento resultante del cálculo.\n",
        "\n",
        "13 - En una empresa de venta de bienes raíces, debes crear un código que analice los datos de ventas anuales para ayudar a la dirección en la toma de decisiones. El código debe recopilar los datos de cantidad de ventas durante los años 2022 y 2023 y calcular la variación porcentual. A partir del valor de la variación, se deben proporcionar las siguientes sugerencias:\n",
        "\n",
        "*  Para una variación superior al 20%: bonificación para el equipo de ventas.\n",
        "*  Para una variación entre el 2% y el 20%: pequeña bonificación para el equipo de ventas.\n",
        "*  Para una variación entre el 2% y el -10%: planificación de políticas de incentivo a las ventas.\n",
        "*  Para bonificaciones inferiores al -10%: recorte de gastos."
      ]
    },
    {
      "cell_type": "code",
      "execution_count": null,
      "metadata": {
        "colab": {
          "base_uri": "https://localhost:8080/"
        },
        "id": "h_QSWQN0rYYI",
        "outputId": "cd5cc84a-def1-4d20-f367-96bc10e26e03"
      },
      "outputs": [
        {
          "name": "stdout",
          "output_type": "stream",
          "text": [
            "Ingrese el numero: 5\n",
            "Ingrese el numero: 2\n",
            "¿Que operación desea realizar? (Suma, Resta, Multiplicación, División, Potenciación)potenciación\n",
            "El resultado de la potenciación es 25.0, el cual es un numero entero, positivo y impar\n"
          ]
        }
      ],
      "source": [
        "'''\n",
        "Un programa debe ser escrito para leer dos números y luego preguntar a la persona\n",
        "usuaria qué operación desea realizar. El resultado de la operación debe incluir\n",
        "información sobre el número, si es par o impar, positivo o negativo, e entero o decimal.\n",
        "'''\n"
      ]
    },
    {
      "cell_type": "code",
      "execution_count": null,
      "metadata": {
        "colab": {
          "base_uri": "https://localhost:8080/"
        },
        "id": "rXM-4rmgYx02",
        "outputId": "ccb9f8df-a924-403a-e7fa-4e33e86a0314"
      },
      "outputs": [
        {
          "name": "stdout",
          "output_type": "stream",
          "text": [
            "Ingresar lado 1: 4\n",
            "Ingresar lado 2: 8\n",
            "Ingresar lado 3: 5\n",
            "Se forma un Triangulo Escaleno\n"
          ]
        }
      ],
      "source": [
        "'''\n",
        "Escribe un programa que pida a la persona usuaria tres números que representan los lados de un triángulo.\n",
        "El programa debe informar si los valores pueden utilizarse para formar un triángulo y, en caso afirmativo,\n",
        "si es equilátero, isósceles o escaleno. Ten en cuenta algunas sugerencias:\n",
        "\n",
        "Tres lados forman un triángulo cuando la suma de cualesquiera dos lados es mayor que el tercero;\n",
        "\n",
        "Triángulo Equilátero: tres lados iguales;\n",
        "Triángulo Isósceles: dos lados iguales;\n",
        "Triángulo Escaleno: tres lados diferentes.\n",
        "'''\n"
      ]
    },
    {
      "cell_type": "code",
      "execution_count": null,
      "metadata": {
        "colab": {
          "base_uri": "https://localhost:8080/"
        },
        "id": "-kNVXj5KdQZT",
        "outputId": "93bd5745-5e1a-450e-897d-a07af2a0859c"
      },
      "outputs": [
        {
          "name": "stdout",
          "output_type": "stream",
          "text": [
            "¿Que combustible desea comprar? (E \"etanol\", D \"diésel\")E\n",
            "¿Cuantos litros de E va a comprar?10\n",
            "El cliente va a pagar 19.6 dolares\n"
          ]
        }
      ],
      "source": [
        "'''\n",
        " Un establecimiento está vendiendo combustibles con descuentos variables. Para el etanol, si la cantidad comprada\n",
        " es de hasta 15 litros, el descuento será del 2% por litro. En caso contrario, será del 4% por litro. Para el diésel,\n",
        " si la cantidad comprada es de hasta 15 litros, el descuento será del 3% por litro. En caso contrario, será del 5% por litro.\n",
        " El precio por litro de diésel es de R USD 2,00 y el precio por litro de etanol es de R USD 1,70. Escribe un programa que lea\n",
        " la cantidad de litros vendidos y el tipo de combustible (E para etanol y D para diésel) y calcule el valor a pagar por el cliente.\n",
        " Ten en cuenta algunas sugerencias:\n",
        "\n",
        "El valor del descuento será el producto del precio por litro, la cantidad de litros y el valor del descuento.\n",
        "El valor a pagar por un cliente será el resultado de la multiplicación del precio por litro por la cantidad de litros menos el\n",
        " valor del descuento resultante del cálculo.\n",
        "'''\n"
      ]
    },
    {
      "cell_type": "code",
      "execution_count": null,
      "metadata": {
        "colab": {
          "base_uri": "https://localhost:8080/"
        },
        "id": "kf7m_6bKiJVL",
        "outputId": "742b926f-4924-4288-ceef-626bfde71eaf"
      },
      "outputs": [
        {
          "name": "stdout",
          "output_type": "stream",
          "text": [
            "Ingrese cantidad de ventas del 2022: 200\n",
            "Ingrese cantidad de ventas del 2023: 300\n",
            "Bonificación para el equipo de ventas\n"
          ]
        }
      ],
      "source": [
        "'''\n",
        "En una empresa de venta de bienes raíces, debes crear un código que analice los datos de ventas anuales\n",
        "para ayudar a la dirección en la toma de decisiones. El código debe recopilar los datos de cantidad de ventas\n",
        "durante los años 2022 y 2023 y calcular la variación porcentual. A partir del valor de la variación, se deben\n",
        "proporcionar las siguientes sugerencias:\n",
        "\n",
        "Para una variación superior al 20%: bonificación para el equipo de ventas.\n",
        "Para una variación entre el 2% y el 20%: pequeña bonificación para el equipo de ventas.\n",
        "Para una variación entre el 2% y el -10%: planificación de políticas de incentivo a las ventas.\n",
        "Para bonificaciones inferiores al -10%: recorte de gastos.\n",
        "'''\n"
      ]
    }
  ],
  "metadata": {
    "colab": {
      "include_colab_link": true,
      "provenance": []
    },
    "kernelspec": {
      "display_name": "Python 3",
      "name": "python3"
    },
    "language_info": {
      "name": "python"
    }
  },
  "nbformat": 4,
  "nbformat_minor": 0
}
