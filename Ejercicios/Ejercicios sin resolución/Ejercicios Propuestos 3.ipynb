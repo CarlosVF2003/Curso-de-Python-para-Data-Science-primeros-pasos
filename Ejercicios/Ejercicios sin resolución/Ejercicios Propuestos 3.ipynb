{
  "cells": [
    {
      "cell_type": "markdown",
      "metadata": {
        "colab_type": "text",
        "id": "view-in-github"
      },
      "source": [
        "<a href=\"https://colab.research.google.com/github/CarlosVF2003/Curso-de-Python-para-Data-Science-primeros-pasos/blob/main/Ejercicios%20Propuestos%203.ipynb\" target=\"_parent\"><img src=\"https://colab.research.google.com/assets/colab-badge.svg\" alt=\"Open In Colab\"/></a>"
      ]
    },
    {
      "cell_type": "markdown",
      "metadata": {
        "id": "E8A-m4Oj_Mp4"
      },
      "source": [
        "# Ejercios Propuestos 3"
      ]
    },
    {
      "cell_type": "markdown",
      "metadata": {
        "id": "RYVYatKZWLix"
      },
      "source": [
        "**Entrenando la programación**\n",
        "\n",
        "1 - Escribe un programa que solicite dos números enteros e imprima todos los números enteros entre ellos.\n",
        "\n",
        "2 - Escribe un programa para calcular cuántos días tomará que la colonia de una bacteria A supere o iguale a la colonia de una bacteria B, basado en tasas de crecimiento del 3% y 1.5%, respectivamente. Supón que la colonia A comienza con 4 elementos y B con 10.\n",
        "\n",
        "3 - Para procesar una cantidad de 15 datos de evaluaciones de usuarios de un servicio de la empresa, necesitamos verificar si las calificaciones son válidas. Por lo tanto, escribe un programa que recibirá calificaciones del 0 al 5 y verificará si son valores válidos. Si se ingresa una calificación superior a 5 o inferior a 0, se repetirá hasta que el usuario ingrese un valor válido.\n",
        "\n",
        "4 - Desarrolla un programa que lea un conjunto indefinido de temperaturas en grados Celsius y calcule su promedio. La lectura debe detenerse al ingresar el valor -273°C.\n",
        "\n",
        "5 - Escribe un programa que calcule el factorial de un número entero proporcionado por el usuario. Recuerda que el factorial de un número entero es el producto de ese número por todos sus antecesores hasta llegar al número 1. Por ejemplo, el factorial de 5 es 5 x 4 x 3 x 2 x 1 = 120."
      ]
    },
    {
      "cell_type": "code",
      "execution_count": null,
      "metadata": {
        "colab": {
          "base_uri": "https://localhost:8080/"
        },
        "id": "NwFvYhd-XLYG",
        "outputId": "8eb6edd3-00c3-44ca-fd77-890e74279623"
      },
      "outputs": [
        {
          "name": "stdout",
          "output_type": "stream",
          "text": [
            "Ingrese un numero: 1\n",
            "Ingrese un numero: 1\n",
            "Los números son iguales.\n"
          ]
        }
      ],
      "source": [
        "'''\n",
        "Escribe un programa que solicite dos números enteros e imprima todos los\n",
        "números enteros entre ellos.\n",
        "'''\n"
      ]
    },
    {
      "cell_type": "code",
      "execution_count": null,
      "metadata": {
        "colab": {
          "base_uri": "https://localhost:8080/"
        },
        "id": "KWZepVNAZGxV",
        "outputId": "a695d59c-66e5-4f4b-a363-0526e980953c"
      },
      "outputs": [
        {
          "name": "stdout",
          "output_type": "stream",
          "text": [
            "La cantidad de días para que la colonia A (25.75) supere o iguale a la colonia B (25.55) es 63\n",
            "La cantidad de días para que la colonia A (25.75) supere o iguale a la colonia B (25.55) es 63\n"
          ]
        }
      ],
      "source": [
        "'''\n",
        "Escribe un programa para calcular cuántos días tomará que la colonia de una\n",
        "bacteria A supere o iguale a la colonia de una bacteria B, basado en tasas de\n",
        "crecimiento del 3% y 1.5%, respectivamente. Supón que la colonia A comienza\n",
        "con 4 elementos y B con 10.\n",
        "'''\n"
      ]
    },
    {
      "cell_type": "code",
      "execution_count": null,
      "metadata": {
        "colab": {
          "base_uri": "https://localhost:8080/"
        },
        "id": "dCXjHWCi4-jZ",
        "outputId": "5bfc8297-5ba5-417f-cc92-4523addc2ec6"
      },
      "outputs": [
        {
          "name": "stdout",
          "output_type": "stream",
          "text": [
            "Ingrese nota: 1\n",
            "Ingrese nota: 1\n",
            "Ingrese nota: 1\n",
            "Ingrese nota: 1\n",
            "Ingrese nota: 1\n",
            "Ingrese nota: 1\n",
            "Ingrese nota: 1\n",
            "Ingrese nota: 1\n",
            "Ingrese nota: 1\n",
            "Ingrese nota: 1\n",
            "Ingrese nota: 1\n",
            "Ingrese nota: 1\n",
            "Ingrese nota: 1\n",
            "Ingrese nota: 1\n",
            "Ingrese nota: 1\n",
            "[1, 1, 1, 1, 1, 1, 1, 1, 1, 1, 1, 1, 1, 1, 1]\n"
          ]
        }
      ],
      "source": [
        "'''\n",
        "Para procesar una cantidad de 15 datos de evaluaciones de usuarios de un servicio de la empresa,\n",
        "necesitamos verificar si las calificaciones son válidas. Por lo tanto, escribe un programa que\n",
        "recibirá calificaciones del 0 al 5 y verificará si son valores válidos. Si se ingresa una\n",
        "calificación superior a 5 o inferior a 0, se repetirá hasta que el usuario ingrese un valor válido.\n",
        "'''\n"
      ]
    },
    {
      "cell_type": "code",
      "execution_count": null,
      "metadata": {
        "colab": {
          "base_uri": "https://localhost:8080/"
        },
        "id": "BSxkZzSK4iab",
        "outputId": "e61aa4d7-fbaa-415d-d8b8-674d037d3a23"
      },
      "outputs": [
        {
          "name": "stdout",
          "output_type": "stream",
          "text": [
            "Ingrese la temperatura en grados Celsius:12\n",
            "Ingrese la temperatura en grados Celsius:45\n",
            "Ingrese la temperatura en grados Celsius:-273\n",
            "La temperatura promedio es: -72.00°C\n"
          ]
        }
      ],
      "source": [
        "'''\n",
        "Desarrolla un programa que lea un conjunto indefinido de temperaturas en grados Celsius\n",
        "y calcule su promedio. La lectura debe detenerse al ingresar el valor -273°C.\n",
        "'''\n"
      ]
    },
    {
      "cell_type": "code",
      "execution_count": null,
      "metadata": {
        "colab": {
          "base_uri": "https://localhost:8080/"
        },
        "id": "FJ2VuvBt9ZuK",
        "outputId": "7982eba2-9ace-43e4-8fbf-4532daa73e8f"
      },
      "outputs": [
        {
          "name": "stdout",
          "output_type": "stream",
          "text": [
            "Ingrese el numero: 5\n",
            "El factorial de 5 es 120.\n"
          ]
        }
      ],
      "source": [
        "'''\n",
        " Escribe un programa que calcule el factorial de un número entero proporcionado por el usuario.\n",
        " Recuerda que el factorial de un número entero es el producto de ese número por todos sus\n",
        " antecesores hasta llegar al número 1. Por ejemplo, el factorial de 5 es 5 x 4 x 3 x 2 x 1 = 120.\n",
        " '''\n"
      ]
    },
    {
      "cell_type": "markdown",
      "metadata": {
        "id": "24QuUdOOXKqn"
      },
      "source": [
        "**Momento de los proyectos**\n",
        "\n",
        "6 - Escribe un programa que genere la tabla de multiplicar de un número entero del 1 al 10, según la elección del usuario. Como ejemplo, para el número 2, la tabla de multiplicar debe mostrarse en el siguiente formato:\n",
        "\n",
        "Tabla de multiplicar del 2:\n",
        "2 x 1 = 2\n",
        "2 x 2 = 4\n",
        "[...]\n",
        "2 x 10 = 20\n",
        "\n",
        "7 - Los números primos tienen diversas aplicaciones en Ciencia de Datos, como en criptografía y seguridad. Un número primo es aquel que es divisible solo por sí mismo y por 1. Por lo tanto, crea un programa que solicite un número entero y determine si es un número primo o no.\n",
        "\n",
        "8 - Vamos a comprender la distribución de edades de los pensionistas de una empresa de seguros. Escribe un programa que lea las edades de una cantidad no informada de clientes y muestre la distribución en los intervalos [0-25], [26-50], [51-75] y [76-100]. La entrada de datos se detendrá al ingresar un número negativo.\n",
        "\n",
        "9 - En una elección para la gerencia de una empresa con 20 empleados, hay cuatro candidatos. Escribe un programa que calcule al ganador de la elección. La votación se realizó de la siguiente manera:\n",
        "\n",
        "Cada empleado votó por uno de los cuatro candidatos (representados por los números 1, 2, 3 y 4).\n",
        "\n",
        "También se contaron los votos nulos (representados por el número 5) y los votos en blanco (representados por el número 6).\n",
        "\n",
        "Al final de la votación, el programa debe mostrar el número total de votos para cada candidato, los votos nulos y los votos en blanco. Además, debe calcular y mostrar el porcentaje de votos nulos con respecto al total de votos y el porcentaje de votos en blanco con respecto al total de votos."
      ]
    },
    {
      "cell_type": "code",
      "execution_count": null,
      "metadata": {
        "colab": {
          "base_uri": "https://localhost:8080/"
        },
        "id": "Iq3RvO9c-fjU",
        "outputId": "8b757d48-9efe-4f4c-fa51-072d0d6db2cc"
      },
      "outputs": [
        {
          "name": "stdout",
          "output_type": "stream",
          "text": [
            "Introdusca el número el cual quiere la tabla de multiplicar5\n",
            "Tabla de multiplicar del 2:\n",
            "5 x 1 = 5\n",
            "5 x 2 = 10\n",
            "5 x 3 = 15\n",
            "5 x 4 = 20\n",
            "5 x 5 = 25\n",
            "5 x 6 = 30\n",
            "5 x 7 = 35\n",
            "5 x 8 = 40\n",
            "5 x 9 = 45\n",
            "5 x 10 = 50\n"
          ]
        }
      ],
      "source": [
        "'''\n",
        "Escribe un programa que genere la tabla de multiplicar de un número entero del 1 al 10,\n",
        "según la elección del usuario. Como ejemplo, para el número 2, la tabla de multiplicar\n",
        "debe mostrarse en el siguiente formato:\n",
        "\n",
        "Tabla de multiplicar del 2: 2 x 1 = 2 2 x 2 = 4 [...] 2 x 10 = 20\n",
        "'''\n"
      ]
    },
    {
      "cell_type": "code",
      "execution_count": null,
      "metadata": {
        "colab": {
          "base_uri": "https://localhost:8080/"
        },
        "id": "9vtrb5Wt_8Kw",
        "outputId": "82c98f44-bd64-4edc-e99a-47aa2f3f4fb0"
      },
      "outputs": [
        {
          "name": "stdout",
          "output_type": "stream",
          "text": [
            "Introdusca el número: 83\n",
            "83 es numero primo\n"
          ]
        }
      ],
      "source": [
        "'''\n",
        "Los números primos tienen diversas aplicaciones en Ciencia de Datos, como en criptografía\n",
        "y seguridad. Un número primo es aquel que es divisible solo por sí mismo y por 1. Por lo tanto,\n",
        "crea un programa que solicite un número entero y determine si es un número primo o no.\n",
        "'''\n"
      ]
    },
    {
      "cell_type": "code",
      "execution_count": null,
      "metadata": {
        "colab": {
          "base_uri": "https://localhost:8080/"
        },
        "id": "qPA1ZmUmBdAX",
        "outputId": "755a05ff-e40a-49fa-8197-07957cea0e19"
      },
      "outputs": [
        {
          "name": "stdout",
          "output_type": "stream",
          "text": [
            "Ingrese la edad:22\n",
            "Ingrese la edad:28\n",
            "Ingrese la edad:60\n",
            "Ingrese la edad:99\n",
            "Ingrese la edad:-1\n",
            "Distribución de edades:\n",
            "[0-25] = 1\n",
            "[26-50] = 1\n",
            "[51-75] = 1\n",
            "[76-100] = 1\n"
          ]
        }
      ],
      "source": [
        "'''\n",
        "Vamos a comprender la distribución de edades de los pensionistas de una empresa de seguros.\n",
        "Escribe un programa que lea las edades de una cantidad no informada de clientes y muestre la\n",
        "distribución en los intervalos [0-25], [26-50], [51-75] y [76-100]. La entrada de datos se\n",
        "detendrá al ingresar un número negativo.\n",
        "'''\n"
      ]
    },
    {
      "cell_type": "code",
      "execution_count": null,
      "metadata": {
        "colab": {
          "base_uri": "https://localhost:8080/"
        },
        "id": "51S9LgS1F_3x",
        "outputId": "c2517eb8-175c-4e46-e897-11a61eed6f28"
      },
      "outputs": [
        {
          "name": "stdout",
          "output_type": "stream",
          "text": [
            "Ingrese el voto 1:1\n",
            "Ingrese el voto 2:2\n",
            "Ingrese el voto 3:3\n",
            "Ingrese el voto 4:4\n",
            "Ingrese el voto 5:5\n",
            "Ingrese el voto 6:6\n",
            "Ingrese el voto 7:1\n",
            "Ingrese el voto 8:2\n",
            "Ingrese el voto 9:3\n",
            "Ingrese el voto 10:4\n",
            "Ingrese el voto 11:5\n",
            "Ingrese el voto 12:6\n",
            "Ingrese el voto 13:1\n",
            "Ingrese el voto 14:2\n",
            "Ingrese el voto 15:3\n",
            "Ingrese el voto 16:4\n",
            "Ingrese el voto 17:5\n",
            "Ingrese el voto 18:6\n",
            "Ingrese el voto 19:1\n",
            "Ingrese el voto 20:2\n",
            "Candidato 1: 0\n",
            "Candidato 2: 4\n",
            "Candidato 3: 3\n",
            "Candidato 4: 3\n",
            "Votos nulo: 3\n",
            "Votos en blanco: 3\n"
          ]
        }
      ],
      "source": [
        "'''\n",
        "En una elección para la gerencia de una empresa con 20 empleados, hay cuatro candidatos.\n",
        "Escribe un programa que calcule al ganador de la elección. La votación se realizó de la\n",
        "siguiente manera:\n",
        "\n",
        "Cada empleado votó por uno de los cuatro candidatos (representados por los números 1, 2, 3 y 4).\n",
        "\n",
        "También se contaron los votos nulos (representados por el número 5) y los votos en blanco\n",
        "(representados por el número 6).\n",
        "\n",
        "Al final de la votación, el programa debe mostrar el número total de votos para cada candidato,\n",
        "los votos nulos y los votos en blanco. Además, debe calcular y mostrar el porcentaje de votos\n",
        "nulos con respecto al total de votos y el porcentaje de votos en blanco con respecto al total de\n",
        "votos.\n",
        "'''\n"
      ]
    }
  ],
  "metadata": {
    "colab": {
      "include_colab_link": true,
      "provenance": []
    },
    "kernelspec": {
      "display_name": "Python 3",
      "name": "python3"
    },
    "language_info": {
      "name": "python"
    }
  },
  "nbformat": 4,
  "nbformat_minor": 0
}
