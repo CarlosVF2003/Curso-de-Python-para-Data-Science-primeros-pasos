{
  "nbformat": 4,
  "nbformat_minor": 0,
  "metadata": {
    "colab": {
      "provenance": [],
      "include_colab_link": true
    },
    "kernelspec": {
      "name": "python3",
      "display_name": "Python 3"
    },
    "language_info": {
      "name": "python"
    }
  },
  "cells": [
    {
      "cell_type": "markdown",
      "metadata": {
        "id": "view-in-github",
        "colab_type": "text"
      },
      "source": [
        "<a href=\"https://colab.research.google.com/github/CarlosVF2003/Curso-de-Python-para-Data-Science-primeros-pasos/blob/main/Ejercicios%20Propuestos%201.ipynb\" target=\"_parent\"><img src=\"https://colab.research.google.com/assets/colab-badge.svg\" alt=\"Open In Colab\"/></a>"
      ]
    },
    {
      "cell_type": "markdown",
      "source": [
        "# Ejercios Propuestos 1\n",
        "\n",
        "\n"
      ],
      "metadata": {
        "id": "MB38zxdkNPZ_"
      }
    },
    {
      "cell_type": "markdown",
      "source": [
        "**Recopilación y muestra de datos**\n",
        "\n",
        "1 - Crea un programa que solicite al usuario que escriba su nombre y luego imprima \"Hola, [nombre].\"\n",
        "\n",
        "2 - Crea un programa que solicite al usuario que escriba su nombre y edad, y luego imprima \"Hola, [nombre], tienes [edad] años.\"\n",
        "\n",
        "3 - Crea un programa que solicite al usuario que escriba su nombre, edad y altura en metros, y luego imprima \"Hola, [nombre], tienes [edad] años y mides [altura] metros.\"\n"
      ],
      "metadata": {
        "id": "JOGGfuCxNXx_"
      }
    },
    {
      "cell_type": "code",
      "execution_count": null,
      "metadata": {
        "colab": {
          "base_uri": "https://localhost:8080/"
        },
        "id": "y0HWtZ18NM-v",
        "outputId": "92f2125c-3cff-4d97-fa76-feff33cf3185"
      },
      "outputs": [
        {
          "output_type": "stream",
          "name": "stdout",
          "text": [
            "Ingrese el nombre de usuario: Carlos\n",
            "Hola Carlos\n"
          ]
        }
      ],
      "source": [
        "'''\n",
        "Crea un programa que solicite al usuario que escriba su nombre y luego imprima \"Hola, [nombre]\"\n",
        "'''\n",
        "nombre = input(\"Ingrese el nombre de usuario: \")\n",
        "\n",
        "print(f'Hola {nombre}')"
      ]
    },
    {
      "cell_type": "code",
      "source": [
        "'''\n",
        "Crea un programa que solicite al usuario que escriba su nombre y edad, y\n",
        "luego imprima \"Hola, [nombre], tienes [edad] años.\"\n",
        "'''\n",
        "nombre = input(\"Ingrese el nombre de usuario: \")\n",
        "edad = input(\"Ingrese la edad del usuario: \")\n",
        "\n",
        "print(f'Hola, {nombre}, tienes {edad} años')"
      ],
      "metadata": {
        "colab": {
          "base_uri": "https://localhost:8080/"
        },
        "id": "E45f1b-BOIus",
        "outputId": "a9cad91a-4521-442b-942e-4a0a2263bedc"
      },
      "execution_count": null,
      "outputs": [
        {
          "output_type": "stream",
          "name": "stdout",
          "text": [
            "Ingrese el nombre de usuario: Carlos\n",
            "Ingrese la edad del usuario: 21\n",
            "Hola, Carlos, tienes 21 años\n"
          ]
        }
      ]
    },
    {
      "cell_type": "code",
      "source": [
        "'''\n",
        "Crea un programa que solicite al usuario que escriba su nombre, edad y\n",
        "altura en metros, y luego imprima \"Hola, [nombre], tienes [edad] años y mides [altura] metros.\"\n",
        "'''\n",
        "nombre = input(\"Ingrese el nombre de usuario: \")\n",
        "edad = input(\"Ingrese la edad del usuario: \")\n",
        "altura = input(\"Ingrese la altura del usuario: \")\n",
        "\n",
        "print(f'Hola, {nombre}, tienes {edad} años y mides {altura} metros')"
      ],
      "metadata": {
        "colab": {
          "base_uri": "https://localhost:8080/"
        },
        "id": "dLHB_v_XOYlF",
        "outputId": "51eb6ac6-1b19-45a9-c48a-1f4a3d42b91b"
      },
      "execution_count": null,
      "outputs": [
        {
          "output_type": "stream",
          "name": "stdout",
          "text": [
            "Ingrese el nombre de usuario: Carlos\n",
            "Ingrese la edad del usuario: 21\n",
            "Ingrese la altura del usuario: 1.69\n",
            "Hola, Carlos, tienes 21 años y mides 1.69 metros\n"
          ]
        }
      ]
    },
    {
      "cell_type": "markdown",
      "source": [
        "**Calculadora con operadores**\n",
        "\n",
        "4 - Crea un programa que solicite dos valores numéricos al usuario y luego imprima la suma de ambos valores.\n",
        "\n",
        "5 - Crea un programa que solicite tres valores numéricos al usuario y luego imprima la suma de los tres valores.\n",
        "\n",
        "6 - Crea un programa que solicite dos valores numéricos al usuario y luego imprima la resta del primero menos el segundo valor.\n",
        "\n",
        "7 - Crea un programa que solicite dos valores numéricos al usuario y luego imprima la multiplicación de los dos valores.\n",
        "\n",
        "8 - Crea un programa que solicite dos valores numéricos, un numerador y un denominador, y realice la división entre los dos valores. Asegúrate de que el valor del denominador no sea igual a 0.\n",
        "\n",
        "9 - Crea un programa que solicite dos valores numéricos, un operador y una potencia, y realice la exponenciación entre estos dos valores.\n",
        "\n",
        "10 - Crea un programa que solicite dos valores numéricos, un numerador y un denominador, y realice la división entera entre los dos valores. Asegúrate de que el valor del denominador no sea igual a 0.\n",
        "\n",
        "11 - Crea un programa que solicite dos valores numéricos, un numerador y un denominador, y devuelva el resto de la división entre los dos valores. Asegúrate de que el valor del denominador no sea igual a 0.\n",
        "\n",
        "12 - Crea un código que solicite las 3 notas de un estudiante e imprima el promedio de las notas.\n",
        "\n",
        "13 - Crea un código que calcule e imprima el promedio ponderado de los números 5, 12, 20 y 15 con pesos respectivamente iguales a 1, 2, 3 y 4.\n"
      ],
      "metadata": {
        "id": "ArYNYOhUNszj"
      }
    },
    {
      "cell_type": "code",
      "source": [
        "'''\n",
        "Crea un programa que solicite dos valores numéricos al usuario y luego\n",
        "imprima la suma de ambos valores.\n",
        "'''\n",
        "num1 = int(input('Ingrese el primer valor numérico: '))\n",
        "num2 = int(input('Ingrese el segundo valor numérico: '))\n",
        "print(f'La suma de los valores es {num1 + num2}')"
      ],
      "metadata": {
        "colab": {
          "base_uri": "https://localhost:8080/"
        },
        "id": "b9Aasx7qNu9g",
        "outputId": "10417e7a-2619-4da3-cc93-852eea5c2092"
      },
      "execution_count": null,
      "outputs": [
        {
          "output_type": "stream",
          "name": "stdout",
          "text": [
            "Ingrese el primer valor numérico: 21\n",
            "Ingrese el segundo valor numérico: 03\n",
            "La suma de los valores es 24\n"
          ]
        }
      ]
    },
    {
      "cell_type": "code",
      "source": [
        "'''\n",
        "Crea un programa que solicite tres valores numéricos al usuario y luego\n",
        "imprima la suma de los tres valores.\n",
        "'''\n",
        "num1 = int(input('Ingrese el primer valor numérico: '))\n",
        "num2 = int(input('Ingrese el segundo valor numérico: '))\n",
        "num3 = int(input('Ingrese el tercer valor numérico: '))\n",
        "\n",
        "print(f'La suma de los valores es {num1 + num2 + num3}')"
      ],
      "metadata": {
        "colab": {
          "base_uri": "https://localhost:8080/"
        },
        "id": "icMOVP34PBYq",
        "outputId": "ee7ea56d-05cc-4138-ae0f-cd1a9642b7f4"
      },
      "execution_count": null,
      "outputs": [
        {
          "output_type": "stream",
          "name": "stdout",
          "text": [
            "Ingrese el primer valor numérico: 22\n",
            "Ingrese el segundo valor numérico: 03\n",
            "Ingrese el tercer valor numérico: 08\n",
            "La suma de los valores es 33\n"
          ]
        }
      ]
    },
    {
      "cell_type": "code",
      "source": [
        "'''\n",
        "Crea un programa que solicite dos valores numéricos al usuario y luego\n",
        "imprima la resta del primero menos el segundo valor.\n",
        "'''\n",
        "num1 = int(input('Ingrese el primer valor numérico: '))\n",
        "num2 = int(input('Ingrese el segundo valor numérico: '))\n",
        "\n",
        "print(f'La resta de los valores es {num1 - num2}')"
      ],
      "metadata": {
        "colab": {
          "base_uri": "https://localhost:8080/"
        },
        "id": "H6h3-sHDPKAm",
        "outputId": "f68ef9d4-1e82-446e-a0a3-c9aa66b151bf"
      },
      "execution_count": null,
      "outputs": [
        {
          "output_type": "stream",
          "name": "stdout",
          "text": [
            "Ingrese el primer valor numérico: 22\n",
            "Ingrese el segundo valor numérico: 03\n",
            "La resta de los valores es 19\n"
          ]
        }
      ]
    },
    {
      "cell_type": "code",
      "source": [
        "'''\n",
        "Crea un programa que solicite dos valores numéricos al usuario y luego\n",
        "imprima la multiplicación de los dos valores.\n",
        "'''\n",
        "num1 = int(input('Ingrese el primer valor numérico: '))\n",
        "num2 = int(input('Ingrese el segundo valor numérico: '))\n",
        "\n",
        "print(f'La multiplicación de los valores es {num1 * num2}')"
      ],
      "metadata": {
        "colab": {
          "base_uri": "https://localhost:8080/"
        },
        "outputId": "1867f0a6-a70b-4a1a-c077-ed74719f2986",
        "id": "zIbQ0CXHPP0e"
      },
      "execution_count": null,
      "outputs": [
        {
          "output_type": "stream",
          "name": "stdout",
          "text": [
            "Ingrese el primer valor numérico: 03\n",
            "Ingrese el segundo valor numérico: 05\n",
            "La multiplicación de los valores es 15\n"
          ]
        }
      ]
    },
    {
      "cell_type": "code",
      "source": [
        "'''\n",
        "Crea un programa que solicite dos valores numéricos, un numerador y un denominador,\n",
        "y realice la división entre los dos valores. Asegúrate de que el valor del\n",
        "denominador no sea igual a 0.\n",
        "'''\n",
        "numerador = int(input('Ingrese el numerador: '))\n",
        "denominador = int(input('Ingrese el denominador: '))\n",
        "\n",
        "while(denominador == 0):\n",
        "    denominador = int(input('Ingrese un denominador diferente de 0: '))\n",
        "\n",
        "print(f'La división de los valores es {(numerador / denominador)}')"
      ],
      "metadata": {
        "colab": {
          "base_uri": "https://localhost:8080/"
        },
        "id": "EWXOaTOOPXFf",
        "outputId": "6b36c14d-2347-4237-e46e-43255a9f23d3"
      },
      "execution_count": null,
      "outputs": [
        {
          "output_type": "stream",
          "name": "stdout",
          "text": [
            "Ingrese el numerador: 15\n",
            "Ingrese el denominador: 3\n",
            "La división de los valores es 5.0\n"
          ]
        }
      ]
    },
    {
      "cell_type": "code",
      "source": [
        "'''\n",
        "Crea un programa que solicite dos valores numéricos, un operador y una potencia,\n",
        "y realice la exponenciación entre estos dos valores.\n",
        "'''\n",
        "operador = int(input('Ingrese el valor del operador: '))\n",
        "potencia = int(input('Ingrese el valor de la potencia: '))\n",
        "\n",
        "print(f'El número {operador} elevado a {potencia} es {operador**potencia}')"
      ],
      "metadata": {
        "colab": {
          "base_uri": "https://localhost:8080/"
        },
        "id": "DN0ATSd4QmRC",
        "outputId": "1d3deb97-0ea6-4338-9ba6-8b0a802cde64"
      },
      "execution_count": null,
      "outputs": [
        {
          "output_type": "stream",
          "name": "stdout",
          "text": [
            "Ingrese el valor del operador: 2\n",
            "Ingrese el valor de la potencia: 5\n",
            "El número 2 elevado a 5 es 32\n"
          ]
        }
      ]
    },
    {
      "cell_type": "code",
      "source": [
        "'''\n",
        "Crea un programa que solicite dos valores numéricos, un numerador y un denominador,\n",
        "y realice la división entera entre los dos valores. Asegúrate de que el valor del\n",
        "denominador no sea igual a 0.\n",
        "'''\n",
        "numerador = int(input('Ingrese el numerador: '))\n",
        "denominador = int(input('Ingrese el denominador: '))\n",
        "\n",
        "while(denominador == 0):\n",
        "    denominador = int(input('Ingrese un denominador diferente de 0: '))\n",
        "\n",
        "print(f'La división de los valores es {numerador // denominador}')"
      ],
      "metadata": {
        "colab": {
          "base_uri": "https://localhost:8080/"
        },
        "id": "Qp1bNsLvRE4Z",
        "outputId": "3d9e51ea-897c-4eab-cd34-74a0dcce033b"
      },
      "execution_count": null,
      "outputs": [
        {
          "output_type": "stream",
          "name": "stdout",
          "text": [
            "Ingrese el numerador: 162\n",
            "Ingrese el denominador: 7\n",
            "La división de los valores es 23\n"
          ]
        }
      ]
    },
    {
      "cell_type": "code",
      "source": [
        "'''\n",
        "Crea un programa que solicite dos valores numéricos, un numerador y un denominador,\n",
        "y devuelva el resto de la división entre los dos valores. Asegúrate de que el valor del\n",
        "denominador no sea igual a 0.\n",
        "'''\n",
        "numerador = int(input('Ingrese el numerador: '))\n",
        "denominador = int(input('Ingrese el denominador: '))\n",
        "\n",
        "while(denominador == 0):\n",
        "    denominador = int(input('Ingrese un denominador diferente de 0: '))\n",
        "\n",
        "print(f'La división de los valores es {numerador % denominador}')"
      ],
      "metadata": {
        "colab": {
          "base_uri": "https://localhost:8080/"
        },
        "id": "K-YzFKfKRLL5",
        "outputId": "e499c4c7-7ae0-40ca-9375-435fe5094247"
      },
      "execution_count": null,
      "outputs": [
        {
          "output_type": "stream",
          "name": "stdout",
          "text": [
            "Ingrese el numerador: 162\n",
            "Ingrese el denominador: 7\n",
            "La división de los valores es 1\n"
          ]
        }
      ]
    },
    {
      "cell_type": "code",
      "source": [
        "'''\n",
        "Crea un código que calcule e imprima el promedio ponderado de los números 5, 12, 20 y 15\n",
        "con pesos respectivamente iguales a 1, 2, 3 y 4.\n",
        "'''\n",
        "nota_1 = float(input('Ingresa la nota 1 del estudiante: '))\n",
        "nota_2 = float(input('Ingresa la nota 2 del estudiante: '))\n",
        "nota_3 = float(input('Ingresa la nota 3 del estudiante: '))\n",
        "\n",
        "promedio_notas = (nota_1 + nota_2 + nota_3)/3\n",
        "\n",
        "print(f'El promedio de notas del estudiante es {promedio_notas}')"
      ],
      "metadata": {
        "colab": {
          "base_uri": "https://localhost:8080/"
        },
        "id": "cxnOcuPNSIqn",
        "outputId": "36fe37c2-5ede-45b6-cdbd-a18e5d9fca3f"
      },
      "execution_count": null,
      "outputs": [
        {
          "output_type": "stream",
          "name": "stdout",
          "text": [
            "Ingresa la nota 1 del estudiante: 18\n",
            "Ingresa la nota 2 del estudiante: 16\n",
            "Ingresa la nota 3 del estudiante: 14\n",
            "El promedio de notas del estudiante es 16.0\n"
          ]
        }
      ]
    },
    {
      "cell_type": "code",
      "source": [
        "'''\n",
        "Crea un código que solicite las 3 notas de un estudiante e imprima el promedio de las notas.\n",
        "'''\n",
        "i = 0\n",
        "suma = 0\n",
        "sum_pesos = 0\n",
        "\n",
        "notas = [5,12,20,15]\n",
        "pesos = [1,2,3,4]\n",
        "\n",
        "cantidad_notas = int(len(notas))\n",
        "\n",
        "while (i < cantidad_notas):\n",
        "    suma += notas[i]*pesos[i]\n",
        "    sum_pesos += pesos[i]\n",
        "    i += 1\n",
        "\n",
        "promedio_ponderado = suma/sum_pesos\n",
        "\n",
        "print(f'El promedio ponderado de las notas es: {promedio_ponderado}')"
      ],
      "metadata": {
        "colab": {
          "base_uri": "https://localhost:8080/"
        },
        "id": "q-eavIbKTB4N",
        "outputId": "cb43aaa2-6dc5-4813-8943-060acdfd5a0c"
      },
      "execution_count": null,
      "outputs": [
        {
          "output_type": "stream",
          "name": "stdout",
          "text": [
            "El promedio ponderado de las notas es: 14.9\n"
          ]
        }
      ]
    },
    {
      "cell_type": "markdown",
      "source": [
        "\n",
        "**Editando textos**\n",
        "\n",
        "14 - Crea una variable llamada \"frase\" y asígnale una cadena de texto de tu elección. Luego, imprime la frase en pantalla.\n",
        "\n",
        "15 - Crea un código que solicite una frase y luego imprima la frase en pantalla.\n",
        "\n",
        "16 - Crea un código que solicite una frase al usuario y luego imprima la misma frase ingresada pero en mayúsculas.\n",
        "\n",
        "17 - Crea un código que solicite una frase al usuario y luego imprima la misma frase ingresada pero en minúsculas.\n",
        "\n",
        "18 - Crea una variable llamada \"frase\" y asígnale una cadena de texto de tu elección. Luego, imprime la frase sin espacios en blanco al principio y al final.\n",
        "\n",
        "19 - Crea un código que solicite una frase al usuario y luego imprima la misma frase sin espacios en blanco al principio y al final.\n",
        "\n",
        "20 - Crea un código que solicite una frase al usuario y luego imprima la misma frase sin espacios en blanco al principio y al final, además de convertirla a minúsculas.\n",
        "\n",
        "21 - Crea un código que solicite una frase al usuario y luego imprima la misma frase con todas las vocales \"e\" reemplazadas por la letra \"f\".\n",
        "\n",
        "22 - Crea un código que solicite una frase al usuario y luego imprima la misma frase con todas las vocales \"a\" reemplazadas por el carácter \"@\".\n",
        "\n",
        "23 - Crea un código que solicite una frase al usuario y luego imprima la misma frase con todas las consonantes \"s\" reemplazadas por el carácter \"$\"."
      ],
      "metadata": {
        "id": "iGN1raQHNudu"
      }
    },
    {
      "cell_type": "code",
      "source": [
        "'''\n",
        "Crea una variable llamada \"frase\" y asígnale una cadena de texto de tu elección.\n",
        "Luego, imprime la frase en pantalla.'\n",
        "'''\n",
        "frase = '¡Hola Python!'\n",
        "print(frase)"
      ],
      "metadata": {
        "colab": {
          "base_uri": "https://localhost:8080/"
        },
        "id": "tP-8tI4NXkjV",
        "outputId": "7d367231-d713-410f-8c98-3cd0e4ce99b5"
      },
      "execution_count": null,
      "outputs": [
        {
          "output_type": "stream",
          "name": "stdout",
          "text": [
            "¡Hola Python!\n"
          ]
        }
      ]
    },
    {
      "cell_type": "code",
      "source": [
        "'''\n",
        "Crea un código que solicite una frase y luego imprima la frase en pantalla.\n",
        "'''\n",
        "frase = input('Ingrese una frase: ')\n",
        "print(frase )"
      ],
      "metadata": {
        "colab": {
          "base_uri": "https://localhost:8080/"
        },
        "id": "4TNPayWchnqw",
        "outputId": "b2b5eb3a-f078-4691-ecb0-dd767aa6ff27"
      },
      "execution_count": null,
      "outputs": [
        {
          "output_type": "stream",
          "name": "stdout",
          "text": [
            "Ingrese una frase: ¡Hola a todos!\n",
            "¡Hola a todos!\n"
          ]
        }
      ]
    },
    {
      "cell_type": "code",
      "source": [
        "'''\n",
        "Crea un código que solicite una frase al usuario y luego imprima la misma\n",
        "frase ingresada pero en mayúsculas.\n",
        "'''\n",
        "frase = input('Ingrese una frase: ').upper()\n",
        "print(frase )"
      ],
      "metadata": {
        "colab": {
          "base_uri": "https://localhost:8080/"
        },
        "id": "dtXXcceKh1Dn",
        "outputId": "2fbbed5a-e61b-4e03-dd10-7eb53511040a"
      },
      "execution_count": null,
      "outputs": [
        {
          "output_type": "stream",
          "name": "stdout",
          "text": [
            "Ingrese una frase: Conviertiendo todo a mayuscula\n",
            "CONVIERTIENDO TODO A MAYUSCULA\n"
          ]
        }
      ]
    },
    {
      "cell_type": "code",
      "source": [
        "'''\n",
        "Crea un código que solicite una frase al usuario y luego imprima la misma\n",
        "frase ingresada pero en minúsculas.\n",
        "'''\n",
        "frase = input('Ingrese una frase: ').lower()\n",
        "print(frase )"
      ],
      "metadata": {
        "colab": {
          "base_uri": "https://localhost:8080/"
        },
        "id": "c30Ph6uXiR27",
        "outputId": "2b717a2b-ac4b-4b63-f6c1-6f797a93e93e"
      },
      "execution_count": null,
      "outputs": [
        {
          "output_type": "stream",
          "name": "stdout",
          "text": [
            "Ingrese una frase: Convirtiendo todo a minuscula\n",
            "convirtiendo todo a minuscula\n"
          ]
        }
      ]
    },
    {
      "cell_type": "code",
      "source": [
        "'''\n",
        "Crea una variable llamada \"frase\" y asígnale una cadena de texto de tu elección.\n",
        "Luego, imprime la frase sin espacios en blanco al principio y al final.\n",
        "'''\n",
        "frase = ' Un gran poder con lleva una gran responsabilidad '\n",
        "print(frase.strip())"
      ],
      "metadata": {
        "colab": {
          "base_uri": "https://localhost:8080/"
        },
        "id": "_l6J9SNUiYW6",
        "outputId": "2a417768-ad71-4f4e-a67e-7a92f2798f65"
      },
      "execution_count": null,
      "outputs": [
        {
          "output_type": "stream",
          "name": "stdout",
          "text": [
            "Un gran poder con lleva una gran responsabilidad\n"
          ]
        }
      ]
    },
    {
      "cell_type": "code",
      "source": [
        "'''\n",
        "Crea un código que solicite una frase al usuario y luego imprima la misma frase\n",
        "sin espacios en blanco al principio y al final.\n",
        "'''\n",
        "frase = input('Ingrese una frase: ').strip()\n",
        "print(frase)"
      ],
      "metadata": {
        "colab": {
          "base_uri": "https://localhost:8080/"
        },
        "id": "wRHU_ZiHi2OU",
        "outputId": "4828c505-f2d2-407d-bf30-fdc20998f0ae"
      },
      "execution_count": null,
      "outputs": [
        {
          "output_type": "stream",
          "name": "stdout",
          "text": [
            "Ingrese una frase:  Sin espacios en el final e inicio                   \n",
            "Sin espacios en el final e inicio\n"
          ]
        }
      ]
    },
    {
      "cell_type": "code",
      "source": [
        "'''\n",
        "Crea un código que solicite una frase al usuario y luego imprima la misma frase\n",
        "sin espacios en blanco al principio y al final, además de convertirla a minúsculas.\n",
        "'''\n",
        "frase = input('Ingrese una frase: ').strip().lower()\n",
        "print(frase)"
      ],
      "metadata": {
        "colab": {
          "base_uri": "https://localhost:8080/"
        },
        "id": "Oj1Sykb1jGr5",
        "outputId": "a45807df-72af-496e-fdfa-344bd6ab4d26"
      },
      "execution_count": null,
      "outputs": [
        {
          "output_type": "stream",
          "name": "stdout",
          "text": [
            "Ingrese una frase:  Sin espacios y con minusculas          \n",
            "sin espacios y con minusculas\n"
          ]
        }
      ]
    },
    {
      "cell_type": "code",
      "source": [
        "'''\n",
        "Crea un código que solicite una frase al usuario y luego imprima la misma frase\n",
        "con todas las vocales \"e\" reemplazadas por la letra \"f\".\n",
        "'''\n",
        "frase = input('Ingrese una frase: ').replace('e','f')\n",
        "'''.replace('E','F')'''\n",
        "print(frase)"
      ],
      "metadata": {
        "colab": {
          "base_uri": "https://localhost:8080/"
        },
        "id": "_1xAvqV-jQ-t",
        "outputId": "592651fc-1dd9-4a50-b027-d14d85afcdc7"
      },
      "execution_count": null,
      "outputs": [
        {
          "output_type": "stream",
          "name": "stdout",
          "text": [
            "Ingrese una frase: Reemplazando la e por la letra f \n",
            "Rffmplazando la f por la lftra f \n"
          ]
        }
      ]
    },
    {
      "cell_type": "code",
      "source": [
        "'''\n",
        "Crea un código que solicite una frase al usuario y luego imprima la misma frase\n",
        "con todas las vocales \"a\" reemplazadas por el carácter \"@\".\n",
        "'''\n",
        "frase = input('Ingrese una frase: ').replace('a',chr(64))\n",
        "'''.replace('A',chr(64))'''\n",
        "print(frase)"
      ],
      "metadata": {
        "colab": {
          "base_uri": "https://localhost:8080/"
        },
        "id": "wXXiqOVyjoYv",
        "outputId": "0825ce91-5fdd-4de9-de1f-53d7b33ded59"
      },
      "execution_count": null,
      "outputs": [
        {
          "output_type": "stream",
          "name": "stdout",
          "text": [
            "Ingrese una frase: Reemplazando la letra a por la arroba\n",
            "Reempl@z@ndo l@ letr@ @ por l@ @rrob@\n"
          ]
        }
      ]
    },
    {
      "cell_type": "code",
      "source": [
        "'''\n",
        "Crea un código que solicite una frase al usuario y luego imprima la misma frase\n",
        "con todas las consonantes \"s\" reemplazadas por el carácter \"$\".\n",
        "'''\n",
        "frase = input('Ingrese una frase: ').replace('s',chr(36))\n",
        "'''.replace('S',chr(36))'''\n",
        "print(frase)"
      ],
      "metadata": {
        "colab": {
          "base_uri": "https://localhost:8080/"
        },
        "id": "DyeLOn1bkQ9L",
        "outputId": "aefcb707-ba1b-46b2-e34f-61ae94e1a826"
      },
      "execution_count": null,
      "outputs": [
        {
          "output_type": "stream",
          "name": "stdout",
          "text": [
            "Ingrese una frase: Reemplazando la consonante s por el signo de dolar\n",
            "Reemplazando la con$onante $ por el $igno de dolar\n"
          ]
        }
      ]
    },
    {
      "cell_type": "markdown",
      "source": [
        "# Ejercios 2"
      ],
      "metadata": {
        "id": "_dcVkqlfrOGf"
      }
    },
    {
      "cell_type": "markdown",
      "source": [
        "**Entrenando la programación**\n",
        "\n",
        "1 - Escribe un programa que pida a la persona usuaria que proporcione dos números y muestre el número más grande.\n",
        "\n",
        "2 - Escribe un programa que solicite el porcentaje de crecimiento de producción de una empresa e informe si hubo un crecimiento (porcentaje positivo) o una disminución (porcentaje negativo).\n",
        "\n",
        "3 - Escribe un programa que determine si una letra proporcionada por la persona usuaria es una vocal o una consonante.\n",
        "\n",
        "4 - Escribe un programa que lea valores promedio de precios de un modelo de automóvil durante 3 años consecutivos y muestre el valor más alto y más bajo entre esos tres años.\n",
        "\n",
        "5 - Escribe un programa que pregunte sobre el precio de tres productos e indique cuál es el producto más barato para comprar.\n",
        "\n",
        "6 - Escribe un programa que lea tres números y los muestre en orden descendente.\n",
        "\n",
        "7 -Escribe un programa que pregunte en qué turno estudia la persona usuaria (\"mañana\", \"tarde\" o \"noche\") y muestre el mensaje \"¡Buenos Días!\", \"¡Buenas Tardes!\", \"¡Buenas Noches!\" o \"Valor Inválido!\", según el caso.\n",
        "\n",
        "8 - Escribe un programa que solicite un número entero a la persona usuaria y determine si es par o impar. Pista: Puedes usar el operador módulo (%).\n",
        "\n",
        "9 - Escribe un programa que pida un número a la persona usuaria y le informe si es entero o decimal."
      ],
      "metadata": {
        "id": "EU49TkC8rPae"
      }
    },
    {
      "cell_type": "code",
      "source": [
        "'''\n",
        "Escribe un programa que pida a la persona usuaria que proporcione dos números y\n",
        "muestre el número más grande.\n",
        "'''\n",
        "\n",
        "a = int(input('Ingrese un número: '))\n",
        "b = int(input('Ingrese un número: '))\n",
        "\n",
        "if a > b :\n",
        "  print(a)\n",
        "else :\n",
        "  print(b)"
      ],
      "metadata": {
        "colab": {
          "base_uri": "https://localhost:8080/"
        },
        "id": "KjTQWbp5rNmc",
        "outputId": "26034fea-ca3f-40cc-8685-2e5cfc9b47f5"
      },
      "execution_count": null,
      "outputs": [
        {
          "output_type": "stream",
          "name": "stdout",
          "text": [
            "Ingrese un número: 2\n",
            "Ingrese un número: 10\n",
            "10\n"
          ]
        }
      ]
    },
    {
      "cell_type": "code",
      "source": [
        "'''\n",
        "Escribe un programa que solicite el porcentaje de crecimiento de producción\n",
        "de una empresa e informe si hubo un crecimiento (porcentaje positivo) o una disminución (porcentaje negativo).\n",
        "'''\n",
        "porcentaje = int(input('¿Cual es el porcentaje de crecimiento de producción?').replace(chr(37),'').strip())\n",
        "\n",
        "if porcentaje > 0 :\n",
        "  print('Hubo crecimiento de producción')\n",
        "else:\n",
        "  print('Hubo disminución de producción')"
      ],
      "metadata": {
        "colab": {
          "base_uri": "https://localhost:8080/"
        },
        "id": "p8SefcnG4ued",
        "outputId": "db2bbb16-ff95-45dc-a7bc-6fc619ab67d9"
      },
      "execution_count": null,
      "outputs": [
        {
          "output_type": "stream",
          "name": "stdout",
          "text": [
            "¿Cual es el porcentaje de crecimiento de producción?5%\n",
            "Hubo crecimiento de producción\n"
          ]
        }
      ]
    },
    {
      "cell_type": "code",
      "source": [
        "'''\n",
        "Escribe un programa que determine si una letra proporcionada por la persona\n",
        "usuaria es una vocal o una consonante.\n",
        "'''\n",
        "vocal = ['a','e','i','o','u']\n",
        "consonantes = ['b','c','d','f','g','h','j','k','l','m','n','p','q','r','s','t','v','w','y','z']\n",
        "\n",
        "letra = input('Ingrese una letra: ')\n",
        "\n",
        "if letra in vocal :\n",
        "  print('Es una vocal')\n",
        "elif letra in consonantes :\n",
        "  print('Es una consonante')\n",
        "else:\n",
        "  print('No es ni vocal ni consonante')"
      ],
      "metadata": {
        "colab": {
          "base_uri": "https://localhost:8080/"
        },
        "id": "DgV6KtPL7Wqe",
        "outputId": "de59a3d8-33ad-4175-c470-1c451c788b5e"
      },
      "execution_count": null,
      "outputs": [
        {
          "output_type": "stream",
          "name": "stdout",
          "text": [
            "Ingrese una letra: #\n",
            "No es ni vocal ni consonante\n"
          ]
        }
      ]
    },
    {
      "cell_type": "code",
      "source": [
        "'''\n",
        "Escribe un programa que lea valores promedio de precios de un modelo de automóvil\n",
        "durante 3 años consecutivos y muestre el valor más alto y más bajo entre esos tres años.\n",
        "'''\n",
        "Precio_2022 = 20000\n",
        "Precio_2023 = 21000\n",
        "Precio_2024 = 22000\n",
        "\n",
        "if Precio_2022 < Precio_2023:\n",
        "    if Precio_2024 < Precio_2023:\n",
        "        if Precio_2022 < Precio_2024:\n",
        "            mayor = Precio_2023\n",
        "            menor = Precio_2022\n",
        "        else:\n",
        "            mayor = Precio_2023\n",
        "            menor = Precio_2024\n",
        "    else:\n",
        "        mayor = Precio_2024\n",
        "        menor = Precio_2022\n",
        "elif Precio_2024 < Precio_2022:\n",
        "    if Precio_2023 < Precio_2024:\n",
        "        mayor = Precio_2022\n",
        "        menor = Precio_2023\n",
        "    else:\n",
        "        mayor = Precio_2022\n",
        "        menor = Precio_2024\n",
        "else:\n",
        "    mayor = Precio_2024\n",
        "    menor = Precio_2023\n",
        "\n",
        "print(f'el valor más alto es {mayor} y el valor más bajo es {menor}')"
      ],
      "metadata": {
        "colab": {
          "base_uri": "https://localhost:8080/"
        },
        "id": "6gXG4SH78Swe",
        "outputId": "a39b5272-1d36-47ef-96fb-62609ea290d9"
      },
      "execution_count": null,
      "outputs": [
        {
          "output_type": "stream",
          "name": "stdout",
          "text": [
            "el valor más alto es 22000 y el valor más bajo es 21000\n"
          ]
        }
      ]
    },
    {
      "cell_type": "code",
      "source": [
        "'''\n",
        "Escribe un programa que pregunte sobre el precio de tres productos e indique cuál\n",
        "es el producto más barato para comprar.\n",
        "'''\n",
        "\n",
        "producto_1 = int(input('Ingresa precio del primer producto: ') )\n",
        "producto_2 = int(input('Ingresa precio del segundo producto: ') )\n",
        "producto_3 = int(input('Ingresa precio del tercer producto: ') )\n",
        "\n",
        "if producto_1 < producto_2:\n",
        "  if producto_1 < producto_3:\n",
        "    a = 'producto_1'\n",
        "    print(f'El producto más barato es {a}')\n",
        "  else:\n",
        "    a = 'producto_3'\n",
        "    print(f'El producto más barato es {a}')\n",
        "else:\n",
        "  if producto_2 < producto_3:\n",
        "    a = 'producto_2'\n",
        "    print(f'El producto más barato es {a}')\n",
        "  else:\n",
        "    a = 'producto_3'\n",
        "    print(f'El producto más barato es {a}')"
      ],
      "metadata": {
        "colab": {
          "base_uri": "https://localhost:8080/"
        },
        "id": "rz3raH_UAnXe",
        "outputId": "1f1bbb43-da1c-45a2-8393-252cd42a2718"
      },
      "execution_count": null,
      "outputs": [
        {
          "output_type": "stream",
          "name": "stdout",
          "text": [
            "Ingresa precio del primer producto: 74\n",
            "Ingresa precio del segundo producto: 199\n",
            "Ingresa precio del tercer producto: 24\n",
            "El producto más barato es producto_3\n"
          ]
        }
      ]
    },
    {
      "cell_type": "code",
      "source": [
        "'''\n",
        "Escribe un programa que lea tres números y los muestre en orden descendente.\n",
        "'''\n",
        "\n",
        "a = 11\n",
        "b = 10\n",
        "c = 7\n",
        "\n",
        "if a < b:\n",
        "  if b < c:\n",
        "    print(f'{a,b,c}')\n",
        "  elif a < c:\n",
        "    print(f'{a,c,b}')\n",
        "  else:\n",
        "    print(f'{c,a,b}')\n",
        "else:\n",
        "  if a < c:\n",
        "    print(f'{b,a,c}')\n",
        "  elif b < c:\n",
        "    print(f'{b,c,a}')\n",
        "  else:\n",
        "    print(f'{c,b,a}')"
      ],
      "metadata": {
        "colab": {
          "base_uri": "https://localhost:8080/"
        },
        "id": "RS7QP2BiJ1Xh",
        "outputId": "a4fdaef3-d587-4210-f2c0-52cfcbf6b61c"
      },
      "execution_count": null,
      "outputs": [
        {
          "output_type": "stream",
          "name": "stdout",
          "text": [
            "(7, 10, 11)\n"
          ]
        }
      ]
    },
    {
      "cell_type": "code",
      "source": [
        "'''\n",
        "Escribe un programa que pregunte en qué turno estudia la persona usuaria\n",
        "(\"mañana\", \"tarde\" o \"noche\") y muestre el mensaje\n",
        "\"¡Buenos Días!\", \"¡Buenas Tardes!\", \"¡Buenas Noches!\" o \"Valor Inválido!\", según el caso.\n",
        "'''\n",
        "\n",
        "horario = input('¿En que turno estudias? (\"mañana\", \"tarde\" o \"noche\"): ')\n",
        "\n",
        "if horario == 'mañana':\n",
        "  print(\"¡Buenos Días!\")\n",
        "elif horario == 'tarde':\n",
        "  print(\"¡Buenas Tardes!\")\n",
        "elif horario == 'noche':\n",
        "  print(\"¡Buenas Noches!\")\n",
        "else:\n",
        "  print('Ingrese un turno valido')"
      ],
      "metadata": {
        "colab": {
          "base_uri": "https://localhost:8080/"
        },
        "id": "iYSwt9YeLD5q",
        "outputId": "ba615e64-ad3e-4bf3-eb92-311e62babfd2"
      },
      "execution_count": null,
      "outputs": [
        {
          "output_type": "stream",
          "name": "stdout",
          "text": [
            "¿En que turno estudias? (\"mañana\", \"tarde\" o \"noche\"): mañana\n",
            "¡Buenos Días!\n"
          ]
        }
      ]
    },
    {
      "cell_type": "code",
      "source": [
        "'''\n",
        "Escribe un programa que solicite un número entero a la persona usuaria y\n",
        "determine si es par o impar. Pista: Puedes usar el operador módulo (%).\n",
        "'''\n",
        "\n",
        "a = int(input('Ingrese un número: '))\n",
        "\n",
        "if a%2 == 1 :\n",
        "  print('El número es impar')\n",
        "else:\n",
        "  print('El número es par')\n"
      ],
      "metadata": {
        "colab": {
          "base_uri": "https://localhost:8080/"
        },
        "id": "ec8X5iuCLszL",
        "outputId": "b62f742d-095d-4f3b-b0de-c3bbf71497cb"
      },
      "execution_count": null,
      "outputs": [
        {
          "output_type": "stream",
          "name": "stdout",
          "text": [
            "Ingrese un número: 88\n",
            "El número es par\n"
          ]
        }
      ]
    },
    {
      "cell_type": "code",
      "source": [
        "'''\n",
        "Escribe un programa que pida un número a la persona usuaria y le informe si es entero o decimal.\n",
        "'''\n",
        "a = float(input('Ingrese un número: '))\n",
        "\n",
        "if a - int(a) == 0 :\n",
        "  print('El número es entero')\n",
        "else:\n",
        "  print('El número es decimal')"
      ],
      "metadata": {
        "colab": {
          "base_uri": "https://localhost:8080/"
        },
        "id": "6o27uyLaUmaK",
        "outputId": "c29ae77e-4b4b-4855-f486-04a90ad435b1"
      },
      "execution_count": null,
      "outputs": [
        {
          "output_type": "stream",
          "name": "stdout",
          "text": [
            "Ingrese un número: 5.0\n",
            "El número es entero\n"
          ]
        }
      ]
    },
    {
      "cell_type": "markdown",
      "source": [
        "**Momento de los proyectos**\n",
        "\n",
        "10 - Un programa debe ser escrito para leer dos números y luego preguntar a la persona usuaria qué operación desea realizar. El resultado de la operación debe incluir información sobre el número, si es par o impar, positivo o negativo, e entero o decimal.\n",
        "\n",
        "11 - Escribe un programa que pida a la persona usuaria tres números que representan los lados de un triángulo. El programa debe informar si los valores pueden utilizarse para formar un triángulo y, en caso afirmativo, si es equilátero, isósceles o escaleno. Ten en cuenta algunas sugerencias:\n",
        "\n",
        "Tres lados forman un triángulo cuando la suma de cualesquiera dos lados es mayor que el tercero;\n",
        "*  Triángulo Equilátero: tres lados iguales;\n",
        "*  Triángulo Isósceles: dos lados iguales;\n",
        "*  Triángulo Escaleno: tres lados diferentes.\n",
        "\n",
        "12 - Un establecimiento está vendiendo combustibles con descuentos variables. Para el etanol, si la cantidad comprada es de hasta 15 litros, el descuento será del 2% por litro. En caso contrario, será del 4% por litro. Para el diésel, si la cantidad comprada es de hasta 15 litros, el descuento será del 3% por litro. En caso contrario, será del 5% por litro. El precio por litro de diésel es de R USD 2,00 y el precio por litro de etanol es de R USD 1,70. Escribe un programa que lea la cantidad de litros vendidos y el tipo de combustible (E para etanol y D para diésel) y calcule el valor a pagar por el cliente. Ten en cuenta algunas sugerencias:\n",
        "\n",
        "*  El valor del descuento será el producto del precio por litro, la cantidad de litros y el valor del descuento.\n",
        "*  El valor a pagar por un cliente será el resultado de la multiplicación del precio por litro por la cantidad de litros menos el valor del descuento resultante del cálculo.\n",
        "\n",
        "13 - En una empresa de venta de bienes raíces, debes crear un código que analice los datos de ventas anuales para ayudar a la dirección en la toma de decisiones. El código debe recopilar los datos de cantidad de ventas durante los años 2022 y 2023 y calcular la variación porcentual. A partir del valor de la variación, se deben proporcionar las siguientes sugerencias:\n",
        "\n",
        "*  Para una variación superior al 20%: bonificación para el equipo de ventas.\n",
        "*  Para una variación entre el 2% y el 20%: pequeña bonificación para el equipo de ventas.\n",
        "*  Para una variación entre el 2% y el -10%: planificación de políticas de incentivo a las ventas.\n",
        "*  Para bonificaciones inferiores al -10%: recorte de gastos."
      ],
      "metadata": {
        "id": "7Rj1vzNfrYsg"
      }
    },
    {
      "cell_type": "code",
      "source": [
        "'''\n",
        "Un programa debe ser escrito para leer dos números y luego preguntar a la persona\n",
        "usuaria qué operación desea realizar. El resultado de la operación debe incluir\n",
        "información sobre el número, si es par o impar, positivo o negativo, e entero o decimal.\n",
        "'''\n",
        "\n",
        "a = float(input('Ingrese el numero: '))\n",
        "b = float(input('Ingrese el numero: '))\n",
        "\n",
        "operación = input('¿Que operación desea realizar? (Suma, Resta, Multiplicación, División, Potenciación)').upper()\n",
        "\n",
        "if operación == 'SUMA':\n",
        "  resultado = a + b\n",
        "  if resultado > 0 :\n",
        "    if resultado%2 == 1:\n",
        "      if resultado - int(resultado) == 0:\n",
        "        print(f'El resultado de la suma es {resultado}, el cual es un numero entero, positivo y impar')\n",
        "      else:\n",
        "        print(f'El resultado de la suma es {resultado}, el cual es un numero decimal, positivo y impar')\n",
        "    else:\n",
        "      if resultado - int(resultado) == 0:\n",
        "        print(f'El resultado de la suma es {resultado}, el cual es un numero entero, positivo y par')\n",
        "      else:\n",
        "        print(f'El resultado de la suma es {resultado}, el cual es un numero decimal, positivo y par')\n",
        "  else:\n",
        "    if resultado%2 == 1:\n",
        "      if resultado - int(resultado) == 0:\n",
        "        print(f'El resultado de la suma es {resultado}, el cual es un numero entero, negativo y impar')\n",
        "      else:\n",
        "        print(f'El resultado de la suma es {resultado}, el cual es un numero decimal, negativo y impar')\n",
        "    else:\n",
        "      if resultado - int(resultado) == 0:\n",
        "        print(f'El resultado de la suma es {resultado}, el cual es un numero entero, negativo y par')\n",
        "      else:\n",
        "        print(f'El resultado de la suma es {resultado}, el cual es un numero decimal, negativo y par')\n",
        "elif operación == 'RESTA':\n",
        "  resultado = a - b\n",
        "  if resultado > 0 :\n",
        "    if resultado%2 == 1:\n",
        "      if resultado - int(resultado) == 0:\n",
        "        print(f'El resultado de la resta es {resultado}, el cual es un numero entero, positivo y impar')\n",
        "      else:\n",
        "        print(f'El resultado de la resta es {resultado}, el cual es un numero decimal, positivo y impar')\n",
        "    else:\n",
        "      if resultado - int(resultado) == 0:\n",
        "        print(f'El resultado de la resta es {resultado}, el cual es un numero entero, positivo y par')\n",
        "      else:\n",
        "        print(f'El resultado de la resta es {resultado}, el cual es un numero decimal, positivo y par')\n",
        "  else:\n",
        "    if resultado%2 == 1:\n",
        "      if resultado - int(resultado) == 0:\n",
        "        print(f'El resultado de la resta es {resultado}, el cual es un numero entero, negativo y impar')\n",
        "      else:\n",
        "        print(f'El resultado de la resta es {resultado}, el cual es un numero decimal, negativo y impar')\n",
        "    else:\n",
        "      if resultado - int(resultado) == 0:\n",
        "        print(f'El resultado de la resta es {resultado}, el cual es un numero entero, negativo y par')\n",
        "      else:\n",
        "        print(f'El resultado de la resta es {resultado}, el cual es un numero decimal, negativo y par')\n",
        "elif operación == 'MULTIPLICACIÓN':\n",
        "  resultado = a * b\n",
        "  if resultado > 0 :\n",
        "    if resultado%2 == 1:\n",
        "      if resultado - int(resultado) == 0:\n",
        "        print(f'El resultado de la multipliación es {resultado}, el cual es un numero entero, positivo y impar')\n",
        "      else:\n",
        "        print(f'El resultado de la multipliación es {resultado}, el cual es un numero decimal, positivo y impar')\n",
        "    else:\n",
        "      if resultado - int(resultado) == 0:\n",
        "        print(f'El resultado de la multipliación es {resultado}, el cual es un numero entero, positivo y par')\n",
        "      else:\n",
        "        print(f'El resultado de la multipliación es {resultado}, el cual es un numero decimal, positivo y par')\n",
        "  else:\n",
        "    if resultado%2 == 1:\n",
        "      if resultado - int(resultado) == 0:\n",
        "        print(f'El resultado de la multipliación es {resultado}, el cual es un numero entero, negativo y impar')\n",
        "      else:\n",
        "        print(f'El resultado de la multipliación es {resultado}, el cual es un numero decimal, negativo y impar')\n",
        "    else:\n",
        "      if resultado - int(resultado) == 0:\n",
        "        print(f'El resultado de la multipliación es {resultado}, el cual es un numero entero, negativo y par')\n",
        "      else:\n",
        "        print(f'El resultado de la multipliación es {resultado}, el cual es un numero decimal, negativo y par')\n",
        "elif operación == 'DIVISIÓN':\n",
        "  resultado = a / b\n",
        "  if resultado > 0 :\n",
        "    if resultado%2 == 1:\n",
        "      if resultado - int(resultado) == 0:\n",
        "        print(f'El resultado de la división es {resultado}, el cual es un numero entero, positivo y impar')\n",
        "      else:\n",
        "        print(f'El resultado de la división es {resultado}, el cual es un numero decimal, positivo y impar')\n",
        "    else:\n",
        "      if resultado - int(resultado) == 0:\n",
        "        print(f'El resultado de la división es {resultado}, el cual es un numero entero, positivo y par')\n",
        "      else:\n",
        "        print(f'El resultado de la división es {resultado}, el cual es un numero decimal, positivo y par')\n",
        "  else:\n",
        "    if resultado%2 == 1:\n",
        "      if resultado - int(resultado) == 0:\n",
        "        print(f'El resultado de la división es {resultado}, el cual es un numero entero, negativo y impar')\n",
        "      else:\n",
        "        print(f'El resultado de la división es {resultado}, el cual es un numero decimal, negativo y impar')\n",
        "    else:\n",
        "      if resultado - int(resultado) == 0:\n",
        "        print(f'El resultado de la división es {resultado}, el cual es un numero entero, negativo y par')\n",
        "      else:\n",
        "        print(f'El resultado de la división es {resultado}, el cual es un numero decimal, negativo y par')\n",
        "elif operación == 'POTENCIACIÓN':\n",
        "  resultado = a ** b\n",
        "  if resultado > 0 :\n",
        "    if resultado%2 == 1:\n",
        "      if resultado - int(resultado) == 0:\n",
        "        print(f'El resultado de la potenciación es {resultado}, el cual es un numero entero, positivo y impar')\n",
        "      else:\n",
        "        print(f'El resultado de la potenciación es {resultado}, el cual es un numero decimal, positivo y impar')\n",
        "    else:\n",
        "      if resultado - int(resultado) == 0:\n",
        "        print(f'El resultado de la potenciación es {resultado}, el cual es un numero entero, positivo y par')\n",
        "      else:\n",
        "        print(f'El resultado de la potenciación es {resultado}, el cual es un numero decimal, positivo y par')\n",
        "  else:\n",
        "    if resultado%2 == 1:\n",
        "      if resultado - int(resultado) == 0:\n",
        "        print(f'El resultado de la potenciación es {resultado}, el cual es un numero entero, negativo y impar')\n",
        "      else:\n",
        "        print(f'El resultado de la potenciación es {resultado}, el cual es un numero decimal, negativo y impar')\n",
        "    else:\n",
        "      if resultado - int(resultado) == 0:\n",
        "        print(f'El resultado de la potenciación es {resultado}, el cual es un numero entero, negativo y par')\n",
        "      else:\n",
        "        print(f'El resultado de la potenciación es {resultado}, el cual es un numero decimal, negativo y par')"
      ],
      "metadata": {
        "colab": {
          "base_uri": "https://localhost:8080/"
        },
        "id": "h_QSWQN0rYYI",
        "outputId": "cd5cc84a-def1-4d20-f367-96bc10e26e03"
      },
      "execution_count": null,
      "outputs": [
        {
          "output_type": "stream",
          "name": "stdout",
          "text": [
            "Ingrese el numero: 5\n",
            "Ingrese el numero: 2\n",
            "¿Que operación desea realizar? (Suma, Resta, Multiplicación, División, Potenciación)potenciación\n",
            "El resultado de la potenciación es 25.0, el cual es un numero entero, positivo y impar\n"
          ]
        }
      ]
    },
    {
      "cell_type": "code",
      "source": [
        "'''\n",
        "Escribe un programa que pida a la persona usuaria tres números que representan los lados de un triángulo.\n",
        "El programa debe informar si los valores pueden utilizarse para formar un triángulo y, en caso afirmativo,\n",
        "si es equilátero, isósceles o escaleno. Ten en cuenta algunas sugerencias:\n",
        "\n",
        "Tres lados forman un triángulo cuando la suma de cualesquiera dos lados es mayor que el tercero;\n",
        "\n",
        "Triángulo Equilátero: tres lados iguales;\n",
        "Triángulo Isósceles: dos lados iguales;\n",
        "Triángulo Escaleno: tres lados diferentes.\n",
        "'''\n",
        "\n",
        "a = float(input('Ingresar lado 1: '))\n",
        "b = float(input('Ingresar lado 2: '))\n",
        "c = float(input('Ingresar lado 3: '))\n",
        "\n",
        "if (a+b > c) and (b+c > a) and (a+c > b):\n",
        "  if (a == b) and (b == c):\n",
        "    print('Se forma un Triangulo Equilatero')\n",
        "  elif (a == b) or (b == c) or (a == c):\n",
        "    print('Se forma un Triangulo Isósceles')\n",
        "  else:\n",
        "    print('Se forma un Triangulo Escaleno')\n",
        "else:\n",
        "  print('No se puede formar un Triangulo')\n",
        "\n"
      ],
      "metadata": {
        "colab": {
          "base_uri": "https://localhost:8080/"
        },
        "id": "rXM-4rmgYx02",
        "outputId": "ccb9f8df-a924-403a-e7fa-4e33e86a0314"
      },
      "execution_count": null,
      "outputs": [
        {
          "output_type": "stream",
          "name": "stdout",
          "text": [
            "Ingresar lado 1: 4\n",
            "Ingresar lado 2: 8\n",
            "Ingresar lado 3: 5\n",
            "Se forma un Triangulo Escaleno\n"
          ]
        }
      ]
    },
    {
      "cell_type": "code",
      "source": [
        "'''\n",
        " Un establecimiento está vendiendo combustibles con descuentos variables. Para el etanol, si la cantidad comprada\n",
        " es de hasta 15 litros, el descuento será del 2% por litro. En caso contrario, será del 4% por litro. Para el diésel,\n",
        " si la cantidad comprada es de hasta 15 litros, el descuento será del 3% por litro. En caso contrario, será del 5% por litro.\n",
        " El precio por litro de diésel es de R USD 2,00 y el precio por litro de etanol es de R USD 1,70. Escribe un programa que lea\n",
        " la cantidad de litros vendidos y el tipo de combustible (E para etanol y D para diésel) y calcule el valor a pagar por el cliente.\n",
        " Ten en cuenta algunas sugerencias:\n",
        "\n",
        "El valor del descuento será el producto del precio por litro, la cantidad de litros y el valor del descuento.\n",
        "El valor a pagar por un cliente será el resultado de la multiplicación del precio por litro por la cantidad de litros menos el\n",
        " valor del descuento resultante del cálculo.\n",
        "'''\n",
        "combustible = input('¿Que combustible desea comprar? (E \"etanol\", D \"diésel\")').upper()\n",
        "cantidad = int(input(f'¿Cuantos litros de {combustible} va a comprar?'))\n",
        "precio_etanol = 2\n",
        "precio_diésel = 1.7\n",
        "\n",
        "if combustible == 'E':\n",
        "  if cantidad <= 15:\n",
        "    total = cantidad*precio_etanol*(1-0.02)\n",
        "  else:\n",
        "    total = cantidad*precio_etanol*(1-0.04)\n",
        "elif combustible == 'D':\n",
        "  if cantidad <= 15:\n",
        "    total = cantidad*precio_diésel*(1-0.03)\n",
        "  else:\n",
        "    total = cantidad*precio_diésel*(1-0.05)\n",
        "\n",
        "print(f'El cliente va a pagar {total} dolares')"
      ],
      "metadata": {
        "colab": {
          "base_uri": "https://localhost:8080/"
        },
        "id": "-kNVXj5KdQZT",
        "outputId": "93bd5745-5e1a-450e-897d-a07af2a0859c"
      },
      "execution_count": null,
      "outputs": [
        {
          "output_type": "stream",
          "name": "stdout",
          "text": [
            "¿Que combustible desea comprar? (E \"etanol\", D \"diésel\")E\n",
            "¿Cuantos litros de E va a comprar?10\n",
            "El cliente va a pagar 19.6 dolares\n"
          ]
        }
      ]
    },
    {
      "cell_type": "code",
      "source": [
        "'''\n",
        "En una empresa de venta de bienes raíces, debes crear un código que analice los datos de ventas anuales\n",
        "para ayudar a la dirección en la toma de decisiones. El código debe recopilar los datos de cantidad de ventas\n",
        "durante los años 2022 y 2023 y calcular la variación porcentual. A partir del valor de la variación, se deben\n",
        "proporcionar las siguientes sugerencias:\n",
        "\n",
        "Para una variación superior al 20%: bonificación para el equipo de ventas.\n",
        "Para una variación entre el 2% y el 20%: pequeña bonificación para el equipo de ventas.\n",
        "Para una variación entre el 2% y el -10%: planificación de políticas de incentivo a las ventas.\n",
        "Para bonificaciones inferiores al -10%: recorte de gastos.\n",
        "'''\n",
        "ventas_2022 = int(input('Ingrese cantidad de ventas del 2022: '))\n",
        "ventas_2023 = int(input('Ingrese cantidad de ventas del 2023: '))\n",
        "variación_porcentual = (ventas_2023/ventas_2022 -1)*100\n",
        "\n",
        "if variación_porcentual > 20:\n",
        "  print('Bonificación para el equipo de ventas')\n",
        "elif 2 <= variación_porcentual <= 20:\n",
        "  print('Pequeña bonificación para el equipo de ventas')\n",
        "elif -10 <= variación_porcentual < 2:\n",
        "  print('Planificación de políticas de incentivo a las ventas')\n",
        "else:\n",
        "  print('Recorte de gastos')\n",
        "\n"
      ],
      "metadata": {
        "colab": {
          "base_uri": "https://localhost:8080/"
        },
        "id": "kf7m_6bKiJVL",
        "outputId": "742b926f-4924-4288-ceef-626bfde71eaf"
      },
      "execution_count": null,
      "outputs": [
        {
          "output_type": "stream",
          "name": "stdout",
          "text": [
            "Ingrese cantidad de ventas del 2022: 200\n",
            "Ingrese cantidad de ventas del 2023: 300\n",
            "Bonificación para el equipo de ventas\n"
          ]
        }
      ]
    },
    {
      "cell_type": "markdown",
      "source": [
        "# Ejercios 3"
      ],
      "metadata": {
        "id": "bqzJ2HTeWe60"
      }
    },
    {
      "cell_type": "markdown",
      "source": [
        "**Entrenando la programación**\n",
        "\n",
        "1 - Escribe un programa que solicite dos números enteros e imprima todos los números enteros entre ellos.\n",
        "\n",
        "2 - Escribe un programa para calcular cuántos días tomará que la colonia de una bacteria A supere o iguale a la colonia de una bacteria B, basado en tasas de crecimiento del 3% y 1.5%, respectivamente. Supón que la colonia A comienza con 4 elementos y B con 10.\n",
        "\n",
        "3 - Para procesar una cantidad de 15 datos de evaluaciones de usuarios de un servicio de la empresa, necesitamos verificar si las calificaciones son válidas. Por lo tanto, escribe un programa que recibirá calificaciones del 0 al 5 y verificará si son valores válidos. Si se ingresa una calificación superior a 5 o inferior a 0, se repetirá hasta que el usuario ingrese un valor válido.\n",
        "\n",
        "4 - Desarrolla un programa que lea un conjunto indefinido de temperaturas en grados Celsius y calcule su promedio. La lectura debe detenerse al ingresar el valor -273°C.\n",
        "\n",
        "5 - Escribe un programa que calcule el factorial de un número entero proporcionado por el usuario. Recuerda que el factorial de un número entero es el producto de ese número por todos sus antecesores hasta llegar al número 1. Por ejemplo, el factorial de 5 es 5 x 4 x 3 x 2 x 1 = 120."
      ],
      "metadata": {
        "id": "RYVYatKZWLix"
      }
    },
    {
      "cell_type": "code",
      "source": [
        "'''\n",
        "Escribe un programa que solicite dos números enteros e imprima todos los\n",
        "números enteros entre ellos.\n",
        "'''\n",
        "\n",
        "a = int(input('Ingrese un numero: '))\n",
        "b = int(input('Ingrese un numero: '))\n",
        "\n",
        "if(a < b):\n",
        "  while(a < b-1):\n",
        "    a += 1\n",
        "    print(a)\n",
        "elif(b < a):\n",
        "  while(b < a-1):\n",
        "    b += 1\n",
        "    print(b)\n",
        "else:\n",
        "  print('Los números son iguales.')"
      ],
      "metadata": {
        "colab": {
          "base_uri": "https://localhost:8080/"
        },
        "id": "NwFvYhd-XLYG",
        "outputId": "8eb6edd3-00c3-44ca-fd77-890e74279623"
      },
      "execution_count": null,
      "outputs": [
        {
          "output_type": "stream",
          "name": "stdout",
          "text": [
            "Ingrese un numero: 1\n",
            "Ingrese un numero: 1\n",
            "Los números son iguales.\n"
          ]
        }
      ]
    },
    {
      "cell_type": "code",
      "source": [
        "'''\n",
        "Escribe un programa para calcular cuántos días tomará que la colonia de una\n",
        "bacteria A supere o iguale a la colonia de una bacteria B, basado en tasas de\n",
        "crecimiento del 3% y 1.5%, respectivamente. Supón que la colonia A comienza\n",
        "con 4 elementos y B con 10.\n",
        "'''\n",
        "\n",
        "A = 4\n",
        "B = 10\n",
        "\n",
        "C_A = 1.03\n",
        "C_B = 1.015\n",
        "\n",
        "i= 0\n",
        "\n",
        "while (A < B):\n",
        "  A = A*C_A\n",
        "  B = B*C_B\n",
        "  i += 1\n",
        "\n",
        "print(f'La cantidad de días para que la colonia A ({A:.2f}) supere o iguale a la colonia B ({B:.2f}) es {i}')"
      ],
      "metadata": {
        "colab": {
          "base_uri": "https://localhost:8080/"
        },
        "id": "KWZepVNAZGxV",
        "outputId": "a695d59c-66e5-4f4b-a363-0526e980953c"
      },
      "execution_count": null,
      "outputs": [
        {
          "output_type": "stream",
          "name": "stdout",
          "text": [
            "La cantidad de días para que la colonia A (25.75) supere o iguale a la colonia B (25.55) es 63\n",
            "La cantidad de días para que la colonia A (25.75) supere o iguale a la colonia B (25.55) es 63\n"
          ]
        }
      ]
    },
    {
      "cell_type": "code",
      "source": [
        "'''\n",
        "Para procesar una cantidad de 15 datos de evaluaciones de usuarios de un servicio de la empresa,\n",
        "necesitamos verificar si las calificaciones son válidas. Por lo tanto, escribe un programa que\n",
        "recibirá calificaciones del 0 al 5 y verificará si son valores válidos. Si se ingresa una\n",
        "calificación superior a 5 o inferior a 0, se repetirá hasta que el usuario ingrese un valor válido.\n",
        "'''\n",
        "\n",
        "i=0\n",
        "rango = [0,1,2,3,4,5]\n",
        "notas =[]\n",
        "\n",
        "while i < 15:\n",
        "  nota = int(input('Ingrese nota: '))\n",
        "  if nota in rango:\n",
        "    notas.append(nota)\n",
        "    i += 1\n",
        "\n",
        "print(notas)\n"
      ],
      "metadata": {
        "colab": {
          "base_uri": "https://localhost:8080/"
        },
        "id": "dCXjHWCi4-jZ",
        "outputId": "5bfc8297-5ba5-417f-cc92-4523addc2ec6"
      },
      "execution_count": null,
      "outputs": [
        {
          "output_type": "stream",
          "name": "stdout",
          "text": [
            "Ingrese nota: 1\n",
            "Ingrese nota: 1\n",
            "Ingrese nota: 1\n",
            "Ingrese nota: 1\n",
            "Ingrese nota: 1\n",
            "Ingrese nota: 1\n",
            "Ingrese nota: 1\n",
            "Ingrese nota: 1\n",
            "Ingrese nota: 1\n",
            "Ingrese nota: 1\n",
            "Ingrese nota: 1\n",
            "Ingrese nota: 1\n",
            "Ingrese nota: 1\n",
            "Ingrese nota: 1\n",
            "Ingrese nota: 1\n",
            "[1, 1, 1, 1, 1, 1, 1, 1, 1, 1, 1, 1, 1, 1, 1]\n"
          ]
        }
      ]
    },
    {
      "cell_type": "code",
      "source": [
        "'''\n",
        "Desarrolla un programa que lea un conjunto indefinido de temperaturas en grados Celsius\n",
        "y calcule su promedio. La lectura debe detenerse al ingresar el valor -273°C.\n",
        "'''\n",
        "\n",
        "temperatura =[]\n",
        "\n",
        "while -273 not in temperatura:\n",
        "  dato = int(input('Ingrese la temperatura en grados Celsius:'))\n",
        "  temperatura.append(dato)\n",
        "\n",
        "i = 0\n",
        "t = len(temperatura)\n",
        "t_promedio = 0\n",
        "\n",
        "while i < t:\n",
        "  t_promedio += temperatura[i]\n",
        "  i += 1\n",
        "\n",
        "t_promedio = t_promedio/t\n",
        "print(f'La temperatura promedio es: {t_promedio:.2f}°C')"
      ],
      "metadata": {
        "colab": {
          "base_uri": "https://localhost:8080/"
        },
        "id": "BSxkZzSK4iab",
        "outputId": "e61aa4d7-fbaa-415d-d8b8-674d037d3a23"
      },
      "execution_count": null,
      "outputs": [
        {
          "output_type": "stream",
          "name": "stdout",
          "text": [
            "Ingrese la temperatura en grados Celsius:12\n",
            "Ingrese la temperatura en grados Celsius:45\n",
            "Ingrese la temperatura en grados Celsius:-273\n",
            "La temperatura promedio es: -72.00°C\n"
          ]
        }
      ]
    },
    {
      "cell_type": "code",
      "source": [
        "'''\n",
        " Escribe un programa que calcule el factorial de un número entero proporcionado por el usuario.\n",
        " Recuerda que el factorial de un número entero es el producto de ese número por todos sus\n",
        " antecesores hasta llegar al número 1. Por ejemplo, el factorial de 5 es 5 x 4 x 3 x 2 x 1 = 120.\n",
        " '''\n",
        "\n",
        "a = int(input('Ingrese el numero: '))\n",
        "\n",
        "i = 0\n",
        "\n",
        "factorial = 1\n",
        "\n",
        "while i < a:\n",
        "  factorial = factorial*(a-i)\n",
        "  i += 1\n",
        "\n",
        "print(f'El factorial de {a} es {factorial}.')"
      ],
      "metadata": {
        "colab": {
          "base_uri": "https://localhost:8080/"
        },
        "id": "FJ2VuvBt9ZuK",
        "outputId": "7982eba2-9ace-43e4-8fbf-4532daa73e8f"
      },
      "execution_count": null,
      "outputs": [
        {
          "output_type": "stream",
          "name": "stdout",
          "text": [
            "Ingrese el numero: 5\n",
            "El factorial de 5 es 120.\n"
          ]
        }
      ]
    },
    {
      "cell_type": "markdown",
      "source": [
        "**Momento de los proyectos**\n",
        "\n",
        "6 - Escribe un programa que genere la tabla de multiplicar de un número entero del 1 al 10, según la elección del usuario. Como ejemplo, para el número 2, la tabla de multiplicar debe mostrarse en el siguiente formato:\n",
        "\n",
        "Tabla de multiplicar del 2:\n",
        "2 x 1 = 2\n",
        "2 x 2 = 4\n",
        "[...]\n",
        "2 x 10 = 20\n",
        "\n",
        "7 - Los números primos tienen diversas aplicaciones en Ciencia de Datos, como en criptografía y seguridad. Un número primo es aquel que es divisible solo por sí mismo y por 1. Por lo tanto, crea un programa que solicite un número entero y determine si es un número primo o no.\n",
        "\n",
        "8 - Vamos a comprender la distribución de edades de los pensionistas de una empresa de seguros. Escribe un programa que lea las edades de una cantidad no informada de clientes y muestre la distribución en los intervalos [0-25], [26-50], [51-75] y [76-100]. La entrada de datos se detendrá al ingresar un número negativo.\n",
        "\n",
        "9 - En una elección para la gerencia de una empresa con 20 empleados, hay cuatro candidatos. Escribe un programa que calcule al ganador de la elección. La votación se realizó de la siguiente manera:\n",
        "\n",
        "Cada empleado votó por uno de los cuatro candidatos (representados por los números 1, 2, 3 y 4).\n",
        "\n",
        "También se contaron los votos nulos (representados por el número 5) y los votos en blanco (representados por el número 6).\n",
        "\n",
        "Al final de la votación, el programa debe mostrar el número total de votos para cada candidato, los votos nulos y los votos en blanco. Además, debe calcular y mostrar el porcentaje de votos nulos con respecto al total de votos y el porcentaje de votos en blanco con respecto al total de votos."
      ],
      "metadata": {
        "id": "24QuUdOOXKqn"
      }
    },
    {
      "cell_type": "code",
      "source": [
        "'''\n",
        "Escribe un programa que genere la tabla de multiplicar de un número entero del 1 al 10,\n",
        "según la elección del usuario. Como ejemplo, para el número 2, la tabla de multiplicar\n",
        "debe mostrarse en el siguiente formato:\n",
        "\n",
        "Tabla de multiplicar del 2: 2 x 1 = 2 2 x 2 = 4 [...] 2 x 10 = 20\n",
        "'''\n",
        "\n",
        "a = int(input('Introdusca el número el cual quiere la tabla de multiplicar: '))\n",
        "\n",
        "i= 1\n",
        "\n",
        "print('Tabla de multiplicar del 2:')\n",
        "while i <= 10:\n",
        "  print(f'{a} x {i} = {a*i}')\n",
        "  i += 1"
      ],
      "metadata": {
        "colab": {
          "base_uri": "https://localhost:8080/"
        },
        "id": "Iq3RvO9c-fjU",
        "outputId": "8b757d48-9efe-4f4c-fa51-072d0d6db2cc"
      },
      "execution_count": null,
      "outputs": [
        {
          "output_type": "stream",
          "name": "stdout",
          "text": [
            "Introdusca el número el cual quiere la tabla de multiplicar5\n",
            "Tabla de multiplicar del 2:\n",
            "5 x 1 = 5\n",
            "5 x 2 = 10\n",
            "5 x 3 = 15\n",
            "5 x 4 = 20\n",
            "5 x 5 = 25\n",
            "5 x 6 = 30\n",
            "5 x 7 = 35\n",
            "5 x 8 = 40\n",
            "5 x 9 = 45\n",
            "5 x 10 = 50\n"
          ]
        }
      ]
    },
    {
      "cell_type": "code",
      "source": [
        "'''\n",
        "Los números primos tienen diversas aplicaciones en Ciencia de Datos, como en criptografía\n",
        "y seguridad. Un número primo es aquel que es divisible solo por sí mismo y por 1. Por lo tanto,\n",
        "crea un programa que solicite un número entero y determine si es un número primo o no.\n",
        "'''\n",
        "\n",
        "a = int(input('Introdusca el número: '))\n",
        "\n",
        "i = 1\n",
        "\n",
        "d = 0\n",
        "\n",
        "while i <= a:\n",
        "  if(a%i == 0):\n",
        "    d += 1\n",
        "  i += 1\n",
        "\n",
        "if d == 2:\n",
        "  print(f'{a} es numero primo')\n",
        "else:\n",
        "    print(f'{a} no es numero primo')"
      ],
      "metadata": {
        "colab": {
          "base_uri": "https://localhost:8080/"
        },
        "id": "9vtrb5Wt_8Kw",
        "outputId": "82c98f44-bd64-4edc-e99a-47aa2f3f4fb0"
      },
      "execution_count": null,
      "outputs": [
        {
          "output_type": "stream",
          "name": "stdout",
          "text": [
            "Introdusca el número: 83\n",
            "83 es numero primo\n"
          ]
        }
      ]
    },
    {
      "cell_type": "code",
      "source": [
        "'''\n",
        "Vamos a comprender la distribución de edades de los pensionistas de una empresa de seguros.\n",
        "Escribe un programa que lea las edades de una cantidad no informada de clientes y muestre la\n",
        "distribución en los intervalos [0-25], [26-50], [51-75] y [76-100]. La entrada de datos se\n",
        "detendrá al ingresar un número negativo.\n",
        "'''\n",
        "a = 0\n",
        "b = 0\n",
        "c = 0\n",
        "d = 0\n",
        "\n",
        "n = 1\n",
        "\n",
        "while n > 0:\n",
        "  n = int(input('Ingrese la edad:'))\n",
        "  if(0 < n <= 25):\n",
        "    a += 1\n",
        "  elif(25 < n <=50):\n",
        "    b += 1\n",
        "  elif(50 < n <=75):\n",
        "    c += 1\n",
        "  elif(75 < n <=100):\n",
        "    d += 1\n",
        "\n",
        "print('Distribución de edades:')\n",
        "print(f'[0-25] = {a}')\n",
        "print(f'[26-50] = {b}')\n",
        "print(f'[51-75] = {c}')\n",
        "print(f'[76-100] = {d}')"
      ],
      "metadata": {
        "colab": {
          "base_uri": "https://localhost:8080/"
        },
        "id": "qPA1ZmUmBdAX",
        "outputId": "755a05ff-e40a-49fa-8197-07957cea0e19"
      },
      "execution_count": null,
      "outputs": [
        {
          "output_type": "stream",
          "name": "stdout",
          "text": [
            "Ingrese la edad:22\n",
            "Ingrese la edad:28\n",
            "Ingrese la edad:60\n",
            "Ingrese la edad:99\n",
            "Ingrese la edad:-1\n",
            "Distribución de edades:\n",
            "[0-25] = 1\n",
            "[26-50] = 1\n",
            "[51-75] = 1\n",
            "[76-100] = 1\n"
          ]
        }
      ]
    },
    {
      "cell_type": "code",
      "source": [
        "'''\n",
        "En una elección para la gerencia de una empresa con 20 empleados, hay cuatro candidatos.\n",
        "Escribe un programa que calcule al ganador de la elección. La votación se realizó de la\n",
        "siguiente manera:\n",
        "\n",
        "Cada empleado votó por uno de los cuatro candidatos (representados por los números 1, 2, 3 y 4).\n",
        "\n",
        "También se contaron los votos nulos (representados por el número 5) y los votos en blanco\n",
        "(representados por el número 6).\n",
        "\n",
        "Al final de la votación, el programa debe mostrar el número total de votos para cada candidato,\n",
        "los votos nulos y los votos en blanco. Además, debe calcular y mostrar el porcentaje de votos\n",
        "nulos con respecto al total de votos y el porcentaje de votos en blanco con respecto al total de\n",
        "votos.\n",
        "'''\n",
        "\n",
        "c_1 = 0\n",
        "c_2 = 0\n",
        "c_3 = 0\n",
        "c_4 = 0\n",
        "n = 0\n",
        "b = 0\n",
        "\n",
        "v = 1\n",
        "d = 0\n",
        "\n",
        "while v <= 20:\n",
        "  d = int(input(f'Ingrese el voto {v}:'))\n",
        "  if(dato==1):\n",
        "    c_1 += 1\n",
        "  elif(d==2):\n",
        "    c_2 += 1\n",
        "  elif(d==3):\n",
        "    c_3 += 1\n",
        "  elif(d==4):\n",
        "    c_4 += 1\n",
        "  elif(d==5):\n",
        "    n += 1\n",
        "  elif(d==6):\n",
        "    b += 1\n",
        "  else:\n",
        "    print('Voto inválido')\n",
        "  v += 1\n",
        "\n",
        "\n",
        "print(f'Candidato 1: {c_1}')\n",
        "print(f'Candidato 2: {c_2}')\n",
        "print(f'Candidato 3: {c_3}')\n",
        "print(f'Candidato 4: {c_4}')\n",
        "print(f'Votos nulo: {n}')\n",
        "print(f'Votos en blanco: {b}')\n",
        "print(f'Porcentaje de votos nulos: {(n / 20 * 100)}')\n",
        "print(f'Porcentaje de votos en blanco: {(b / 20 * 100)}')"
      ],
      "metadata": {
        "colab": {
          "base_uri": "https://localhost:8080/"
        },
        "id": "51S9LgS1F_3x",
        "outputId": "c2517eb8-175c-4e46-e897-11a61eed6f28"
      },
      "execution_count": null,
      "outputs": [
        {
          "output_type": "stream",
          "name": "stdout",
          "text": [
            "Ingrese el voto 1:1\n",
            "Ingrese el voto 2:2\n",
            "Ingrese el voto 3:3\n",
            "Ingrese el voto 4:4\n",
            "Ingrese el voto 5:5\n",
            "Ingrese el voto 6:6\n",
            "Ingrese el voto 7:1\n",
            "Ingrese el voto 8:2\n",
            "Ingrese el voto 9:3\n",
            "Ingrese el voto 10:4\n",
            "Ingrese el voto 11:5\n",
            "Ingrese el voto 12:6\n",
            "Ingrese el voto 13:1\n",
            "Ingrese el voto 14:2\n",
            "Ingrese el voto 15:3\n",
            "Ingrese el voto 16:4\n",
            "Ingrese el voto 17:5\n",
            "Ingrese el voto 18:6\n",
            "Ingrese el voto 19:1\n",
            "Ingrese el voto 20:2\n",
            "Candidato 1: 0\n",
            "Candidato 2: 4\n",
            "Candidato 3: 3\n",
            "Candidato 4: 3\n",
            "Votos nulo: 3\n",
            "Votos en blanco: 3\n"
          ]
        }
      ]
    }
  ]
}